{
 "cells": [
  {
   "cell_type": "code",
   "execution_count": 3,
   "id": "10553092-25ee-4c0d-8c7f-cf44ba6854d1",
   "metadata": {},
   "outputs": [],
   "source": [
    "import pandas as pd\n",
    "import numpy as np\n",
    "import random\n",
    "import os\n",
    "import requests\n",
    "from time import sleep\n",
    "from bs4 import BeautifulSoup\n",
    "from tqdm import tqdm\n",
    "\n",
    "%load_ext autoreload\n",
    "%autoreload 2"
   ]
  },
  {
   "cell_type": "markdown",
   "id": "d1a3d236-6979-4d05-8e5f-f1955a65c2ab",
   "metadata": {
    "tags": []
   },
   "source": [
    "#### Collect the authorid based on the professors' names  in CUHKSZ SDS website and the final form:\n",
    "\n",
    "|authorId|name|\n",
    "|---|---|\n",
    "|$ID_1$|San, Zhang|\n",
    "|$ID_2$|Si, Li|\n",
    "|...|...|\n",
    "|$ID_n$|Wu, Wang|"
   ]
  },
  {
   "cell_type": "code",
   "execution_count": null,
   "id": "6cface48-c41c-4317-a6d5-1d999a124b98",
   "metadata": {},
   "outputs": [],
   "source": [
    "raw_scholar_info = pd.read_csv(\"Raw_Scholar_Info.csv\")\n",
    "raw_scholar_info = raw_scholar_info.values"
   ]
  },
  {
   "cell_type": "markdown",
   "id": "8cdccf23-e3e0-40c7-a0ea-7dccf8b1dd60",
   "metadata": {},
   "source": [
    "#### Use semantic scholar's api to collect the papers' information based on professor's id\n",
    "\n",
    "|paperId|title|abstract|fieldsOfStudy|authors|\n",
    "|---|---|---|---|---|\n",
    "|$ID_1$|title1|abstract1|Mathematics|{'authorId': '$AuthorID_1$', 'name':Zhang San'}|\n",
    "|$ID_2$|title2|abstract2|Economics|{'authorId': '$AuthorID_2$', 'name':LI Si'}|\n",
    "|...|...|...|...|...|\n",
    "|$ID_n$|titlen|abstractn|Computer Science|{'$AuthorID_n$': 'authoridn', 'name':'WANG Wu'}|\n",
    "\n"
   ]
  },
  {
   "cell_type": "code",
   "execution_count": null,
   "id": "fd5dd0dc-ddd7-4a4f-84f6-c547b4ed4b75",
   "metadata": {},
   "outputs": [],
   "source": [
    "max_query_size = 30\n",
    "start_idx = 0\n",
    "end_idx = max_query_size\n",
    "api_author_batch = 'https://api.semanticscholar.org/graph/v1/author/batch'\n",
    "paper_info_list = []\n",
    "\n",
    "for i in tqdm(range(len(raw_scholar_info)//max_query_size + 1)):\n",
    "    id_list = list(map(str, raw_scholar_info[start_idx:end_idx, 0]))\n",
    "    id_json = {\"ids\": id_list}\n",
    "    sleep(3 + random.normalvariate(0,1))\n",
    "    author_paper_collections = requests.post(\n",
    "        api_author_batch,\n",
    "        params={\"fields\": \"papers,papers.paperId,papers.title,papers.authors,papers.fieldsOfStudy,papers.abstract\"},\n",
    "        json=id_json\n",
    "    ).json()\n",
    "\n",
    "    cnt = 0\n",
    "    for collection in author_paper_collections:\n",
    "        authorId = collection[\"authorId\"]\n",
    "        paper_info_list += collection[\"papers\"]\n",
    "    start_idx = end_idx\n",
    "    end_idx = min(len(raw_scholar_info), end_idx+max_query_size)"
   ]
  },
  {
   "cell_type": "code",
   "execution_count": null,
   "id": "9538d277-29a3-49a3-9e8b-ee2d25b3657f",
   "metadata": {},
   "outputs": [],
   "source": [
    "paper_info_df = pd.DataFrame.from_dict(paper_info_list)\n",
    "paper_info_df.to_csv('Raw_Paper_Info.csv', index=None)"
   ]
  },
  {
   "cell_type": "markdown",
   "id": "e594b6f2-31d2-493d-b6d3-7beeeb787f09",
   "metadata": {},
   "source": [
    "#### You can import this csv by clone the code in github and it is saved as 'Raw_Paper_Info.csv' in .../raw/CUHKSZ_AcademicGraph-rawdata_released/"
   ]
  },
  {
   "cell_type": "markdown",
   "id": "d7b3d578-6e8f-4a63-89b1-34e858f14b00",
   "metadata": {},
   "source": [
    "#### -------------------------------------------------------------------------------------------------------------------"
   ]
  },
  {
   "cell_type": "markdown",
   "id": "1b9107af-0adb-4a3e-97da-7b1c1f72ca4a",
   "metadata": {},
   "source": [
    "#### Use semantic scholar's api to collect the papers' citation and reference list and get the intersection part after dropna()\n",
    "|paperId|ref_paperId|\n",
    "|---|---|\n",
    "|$paperID_1$|$refID_1$|\n",
    "|$paperID_2$|$refID_2$|\n",
    "|...|...|\n",
    "|$paperID_n$|$refID_n$|\n",
    "\n"
   ]
  },
  {
   "cell_type": "code",
   "execution_count": null,
   "id": "6224918d-c47d-413b-8953-542ae1233137",
   "metadata": {},
   "outputs": [],
   "source": [
    "paper_info_a= paper_info_df.values"
   ]
  },
  {
   "cell_type": "code",
   "execution_count": null,
   "id": "0dfa05e8-95c1-4dd6-81f4-a73f8796257c",
   "metadata": {},
   "outputs": [],
   "source": [
    "max_query_size = 50\n",
    "start_idx = 0\n",
    "end_idx = max_query_size\n",
    "api_paper_batch = 'https://api.semanticscholar.org/graph/v1/paper/batch'\n",
    "ref_info_a_list = []\n",
    "session = requests.Session()\n",
    "for i in tqdm(range(len(paper_info_a)//max_query_size + 1)):\n",
    "    id_list = list(map(str, paper_info_a[start_idx:end_idx, 0]))\n",
    "    id_json = {\"ids\": id_list}\n",
    "    sleep(10 + random.normalvariate(0,1))\n",
    "    author_paper_collections_a = session.post(\n",
    "        api_paper_batch,\n",
    "        params={'fields': 'references.paperId'},\n",
    "        json=id_json\n",
    "    ).json()\n",
    "    while  (type(author_paper_collections_a)==str) or (type(author_paper_collections_a)==dict and author_paper_collections_a.get(\"message\")):      \n",
    "        print(\"Post Failed!\", author_paper_collections_a)\n",
    "        author_paper_collections_a = requests.post(\n",
    "            api_paper_batch,\n",
    "            params={'fields': 'references.paperId'},\n",
    "            json=id_json\n",
    "        ).json()\n",
    "    for collection in author_paper_collections_a:\n",
    "        paperId = collection[\"paperId\"]\n",
    "        ref_paper_list = collection[\"references\"]\n",
    "        if len(ref_paper_list)>0:\n",
    "            ref_paper_list = list(map(lambda item: {\"paperId\": paperId, \"ref_paperId\":item[\"paperId\"]}, ref_paper_list))\n",
    "            ref_info_a_list += ref_paper_list\n",
    "    start_idx = end_idx\n",
    "    end_idx = min(len(paper_info_a), end_idx+max_query_size)\n"
   ]
  },
  {
   "cell_type": "code",
   "execution_count": null,
   "id": "7e37e971-6f17-4494-938f-766721d8cdcd",
   "metadata": {},
   "outputs": [],
   "source": [
    "ref_info_df = pd.DataFrame.from_dict(ref_info_a_list)"
   ]
  },
  {
   "cell_type": "code",
   "execution_count": null,
   "id": "7fd03548-5876-466a-b308-d22bf7855be6",
   "metadata": {},
   "outputs": [],
   "source": [
    "ref_info_df_full = ref_info_df.dropna()\n",
    "ref_info_df_full =ref_info_df_full.reset_index()\n",
    "ref_info_df_full = ref_info_df_full.drop('index',axis=1)"
   ]
  },
  {
   "cell_type": "code",
   "execution_count": null,
   "id": "e1341fb5-b1d3-4e5d-98d9-3657951f1cf6",
   "metadata": {},
   "outputs": [],
   "source": [
    "a_set = set()\n",
    "b_set = set()\n",
    "fact_list = np.zeros(len(ref_info_df_full))\n",
    "cnt = 0\n",
    "for paperid in paper_info_df.values[:,0]:\n",
    "    a_set.add(paperid)\n",
    "for i, ref_paperId in enumerate(ref_info_df_full.values[:,1]):\n",
    "#     print(i,ref_paperId)\n",
    "    if ref_paperId in a_set:\n",
    "        fact_list[i] = 1\n",
    "        cnt += 1\n",
    "        print(i,ref_paperId)\n",
    "    else:\n",
    "        fact_list[i] = 0\n",
    "\n",
    "ref_info_df_full[\"fact\"] = pd.Series(fact_list, index=ref_info_df_full.index)"
   ]
  },
  {
   "cell_type": "code",
   "execution_count": null,
   "id": "34f2eeeb-e292-4633-8d2e-da55e760212e",
   "metadata": {},
   "outputs": [],
   "source": [
    "ref_info_df_full= ref_info_df_full[ref_info_df_full['fact']==1].drop(['fact'],axis=1)"
   ]
  },
  {
   "cell_type": "code",
   "execution_count": null,
   "id": "3e6a3738-79b0-41e7-8431-81067dbf77c2",
   "metadata": {},
   "outputs": [],
   "source": [
    "ref_info_df_full.to_csv(\"Raw_Citations.csv\", index=None)"
   ]
  },
  {
   "cell_type": "markdown",
   "id": "9092e3cb-5d0b-4d91-8cf5-690ab6d70ef9",
   "metadata": {},
   "source": [
    "#### It is saved as 'Raw_Citations.csv' in .../raw/CUHKSZ_AcademicGraph-rawdata_released/"
   ]
  },
  {
   "cell_type": "markdown",
   "id": "0f0f1391-231b-4f22-8d14-e97b3e1d4ff1",
   "metadata": {},
   "source": [
    "#### -------------------------------------------------------------------------------------------------------------------"
   ]
  },
  {
   "cell_type": "markdown",
   "id": "892508d7-7585-4135-a299-25c29a97f936",
   "metadata": {},
   "source": [
    "#### Use semantic scholar's api to collect the papers' embedding \n",
    "\n",
    "|paperId|0|1|2|...|767|\n",
    "|---|---|---|---|---|---|\n",
    "|$ID_1$|-5.576845169067383|-4.431099891662598|-3.3520641326904297|...|-1.6501665115356443|\n",
    "|$ID_2$|-0.6059739589691162|-1.057750582695007|2.3096306324005127|...|-0.5611065626144409|\n",
    "|...|...|...|...|...|...|\n",
    "|$ID_n$|1.5763059854507446|-0.5848586559295654|2.6198506355285645|...|1.0170499086380005|\n"
   ]
  },
  {
   "cell_type": "code",
   "execution_count": null,
   "id": "8fc857e5-d46b-49a3-9949-6228c3e7ef99",
   "metadata": {},
   "outputs": [],
   "source": [
    "paperId_intersection.to_csv('Raw_Citations.csv')\n",
    "paperId_intersection = paperId_intersection.values"
   ]
  },
  {
   "cell_type": "code",
   "execution_count": null,
   "id": "0afacb3c-c633-4527-aebc-832d6b977e64",
   "metadata": {},
   "outputs": [],
   "source": [
    "paperid_set=set()\n",
    "for paperid in prof_paper_info.values[:,0]:\n",
    "    if paperid  in paperid_set:\n",
    "        1\n",
    "    else:\n",
    "    ##move the two papers which do not have embedding\n",
    "        if paperid =='0ef762d981a57a74666833b92c57d394bc458631' or paperid =='7480bd5c9c538019b53f1a9061e37a5f9be06345':\n",
    "            1\n",
    "        else:\n",
    "            paperid_set.add(paperid)"
   ]
  },
  {
   "cell_type": "code",
   "execution_count": null,
   "id": "8a9330ca-64d4-4752-8689-d7967ea5dfea",
   "metadata": {},
   "outputs": [],
   "source": [
    "paperid_unique = list(paperid_set)\n",
    "# len(paperid_unique)"
   ]
  },
  {
   "cell_type": "code",
   "execution_count": null,
   "id": "b557dd31-cba7-4790-bfb1-a6917c25ae5a",
   "metadata": {},
   "outputs": [],
   "source": [
    "max_query_size = 50\n",
    "start_idx = 400\n",
    "end_idx = max_query_size\n",
    "api_paper_batch = 'https://api.semanticscholar.org/graph/v1/paper/batch'\n",
    "em_paper_a_list = []\n",
    "session = requests.Session()\n",
    "\n",
    "for i in tqdm(range(len(paperid_unique)//max_query_size + 1)):\n",
    "    id_list = list(paperid_unique[start_idx:end_idx])\n",
    "    id_json = {\"ids\": id_list}\n",
    "    sleep(3 + random.normalvariate(0,0.5))\n",
    "    em_paper_a = session.post(\n",
    "        api_paper_batch,\n",
    "        params={\"fields\": \"embedding\"},\n",
    "        json=id_json\n",
    "    ).json()\n",
    "    # if start_idx >=41:\n",
    "    #     break\n",
    "    while  (type(em_paper_a)==str) or (type(em_paper_a)==dict and em_paper_a.get(\"message\")):      \n",
    "        print(\"Post Failed!\", em_paper_a)\n",
    "        em_paper_a = session.post(\n",
    "            api_paper_batch,\n",
    "            params={\"fields\": \"embedding\"},\n",
    "            json=id_json\n",
    "        ).json()\n",
    "    for collection in em_paper_a:\n",
    "        # print(collection)\n",
    "        paperid = collection['paperId']\n",
    "        if collection['embedding'] == None:\n",
    "            print('1')\n",
    "        else:\n",
    "            vec = collection['embedding']['vector']\n",
    "            em_paper_info_dict = {\"paperId\": paperid}\n",
    "\n",
    "            for i, value in enumerate(vec):\n",
    "                em_paper_info_dict[str(i)] = value\n",
    "            em_paper_a_list.append(em_paper_info_dict)\n",
    "        \n",
    "    \n",
    "    # break\n",
    "    \n",
    "    start_idx = end_idx\n",
    "    end_idx = min(len(paperid_unique), end_idx+max_query_size)"
   ]
  },
  {
   "cell_type": "code",
   "execution_count": null,
   "id": "31976ab3-09d9-4ee7-b496-845edc0c6f08",
   "metadata": {},
   "outputs": [],
   "source": [
    "em_df = pd.DataFrame.from_dict(em_paper_a_list)\n",
    "em_df.to_csv('Raw_Paper_Embedding.csv',index=False)"
   ]
  },
  {
   "cell_type": "markdown",
   "id": "94573a40-d6fd-4337-8d7e-767ff3b8cea4",
   "metadata": {},
   "source": [
    "#### It is saved as 'Raw_Paper_Embedding.csv' in .../raw/CUHKSZ_AcademicGraph-rawdata_released/"
   ]
  }
 ],
 "metadata": {
  "kernelspec": {
   "display_name": "Python 3 (ipykernel)",
   "language": "python",
   "name": "python3"
  },
  "language_info": {
   "codemirror_mode": {
    "name": "ipython",
    "version": 3
   },
   "file_extension": ".py",
   "mimetype": "text/x-python",
   "name": "python",
   "nbconvert_exporter": "python",
   "pygments_lexer": "ipython3",
   "version": "3.10.9"
  },
  "widgets": {
   "application/vnd.jupyter.widget-state+json": {
    "state": {},
    "version_major": 2,
    "version_minor": 0
   }
  }
 },
 "nbformat": 4,
 "nbformat_minor": 5
}
