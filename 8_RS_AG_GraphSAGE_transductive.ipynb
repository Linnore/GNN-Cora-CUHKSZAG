{
 "cells": [
  {
   "cell_type": "code",
   "execution_count": 1,
   "id": "da06ae01-7103-4aea-9c0f-4ef08895d38c",
   "metadata": {},
   "outputs": [],
   "source": [
    "\n",
    "import os\n",
    "import torch\n",
    "import numpy as np\n",
    "import pytorch_lightning as pl\n",
    "from torch_geometric.datasets import Planetoid\n",
    "from torch_geometric.data import Data\n",
    "from pytorch_lightning.callbacks.early_stopping import EarlyStopping\n",
    "from lightning.pytorch import loggers as pl_loggers\n",
    "import torch_geometric.transforms as T\n",
    "import torch_geometric.data as geom_data\n",
    "from torch.utils.tensorboard import SummaryWriter\n",
    "\n",
    "%reload_ext autoreload\n",
    "%autoreload 2"
   ]
  },
  {
   "attachments": {},
   "cell_type": "markdown",
   "id": "c9eab6ff-f3ae-4c42-b40c-e0e055f6ac93",
   "metadata": {},
   "source": [
    "#### Configure device"
   ]
  },
  {
   "cell_type": "code",
   "execution_count": 2,
   "id": "18314a44-65d5-4387-a270-7e6888b26e31",
   "metadata": {},
   "outputs": [
    {
     "data": {
      "text/plain": [
       "(device(type='cuda', index=0), 12)"
      ]
     },
     "execution_count": 2,
     "metadata": {},
     "output_type": "execute_result"
    }
   ],
   "source": [
    "device = torch.device(\"cuda:0\" if torch.cuda.is_available() else \"cpu\")\n",
    "if device != \"cpu\":\n",
    "    torch.set_float32_matmul_precision('high')\n",
    "    \n",
    "# device = \"cpu\"\n",
    "# torch.set_float32_matmul_precision(\"high\")\n",
    "\n",
    "num_workers = os.cpu_count()\n",
    "device, num_workers"
   ]
  },
  {
   "attachments": {},
   "cell_type": "markdown",
   "id": "0e643e25-12de-49ba-871d-c3854b42aaf3",
   "metadata": {},
   "source": [
    "### Directory configuration and load data"
   ]
  },
  {
   "cell_type": "code",
   "execution_count": 3,
   "id": "fece835b-1eb7-479c-88df-373a747a064a",
   "metadata": {},
   "outputs": [
    {
     "name": "stdout",
     "output_type": "stream",
     "text": [
      "d:\\GitHub\\GNN-Cora-CUHKSZAG\\dataset\\CUHKSZ_AcademicGraph\\raw\\CUHKSZ_AcademicGraph_Rawdata.zip\n",
      "d:\\GitHub\\GNN-Cora-CUHKSZAG\\dataset\\CUHKSZ_AcademicGraph\\raw\\CUHKSZ_AcademicGraph-rawdata_released\n"
     ]
    },
    {
     "data": {
      "text/plain": [
       "Data(x=[6614, 768], edge_index=[2, 12330], y=[6614], title=[6614], train_mask=[6614], val_mask=[6614], test_mask=[6614])"
      ]
     },
     "execution_count": 3,
     "metadata": {},
     "output_type": "execute_result"
    }
   ],
   "source": [
    "cwd = os.getcwd()\n",
    "tb_logging_dir = os.path.join(cwd, \"lightning_logs\")\n",
    "exp_name = \"AG-GraphSAGE-transductive\"\n",
    "exp_dir = os.path.join(tb_logging_dir, exp_name)\n",
    "dataset_dir = os.path.join(cwd, \"dataset\", \"CUHKSZ_AcademicGraph\")\n",
    "if not os.path.exists(dataset_dir):\n",
    "    os.makedirs(dataset_dir)\n",
    "    \n",
    "from utils.dataset.CUHKSZ_AcademicGraph import CUHKSZ_AcademicGraph\n",
    "AGDataset = CUHKSZ_AcademicGraph(dataset_dir, with_title=True, with_label=True)\n",
    "\n",
    "AGDataset[0]"
   ]
  },
  {
   "attachments": {},
   "cell_type": "markdown",
   "id": "30a30e50",
   "metadata": {},
   "source": [
    "#### Note that if numebr of epoch is large, the kernel will stuck after training! Need to load the saved model mannually!"
   ]
  },
  {
   "cell_type": "code",
   "execution_count": 6,
   "id": "1c127ebe-8511-484f-a994-6c722319bced",
   "metadata": {},
   "outputs": [
    {
     "name": "stderr",
     "output_type": "stream",
     "text": [
      "GPU available: True (cuda), used: True\n",
      "TPU available: False, using: 0 TPU cores\n",
      "IPU available: False, using: 0 IPUs\n",
      "HPU available: False, using: 0 HPUs\n"
     ]
    },
    {
     "name": "stdout",
     "output_type": "stream",
     "text": [
      "Saving checkpoints to D:\\GitHub\\aml-project\\GNN\\zyq\\lightning_logs\\AG-GraphSAGE-transductive\\version_3\\checkpoints\n"
     ]
    },
    {
     "name": "stderr",
     "output_type": "stream",
     "text": [
      "LOCAL_RANK: 0 - CUDA_VISIBLE_DEVICES: [0]\n",
      "\n",
      "  | Name  | Type              | Params\n",
      "--------------------------------------------\n",
      "0 | aggr  | MeanAggregation   | 0     \n",
      "1 | model | Sequential_4d85c0 | 175 K \n",
      "--------------------------------------------\n",
      "175 K     Trainable params\n",
      "0         Non-trainable params\n",
      "175 K     Total params\n",
      "0.703     Total estimated model params size (MB)\n"
     ]
    },
    {
     "name": "stdout",
     "output_type": "stream",
     "text": [
      "Data Processing Done on: cuda:0\n"
     ]
    },
    {
     "data": {
      "application/vnd.jupyter.widget-view+json": {
       "model_id": "",
       "version_major": 2,
       "version_minor": 0
      },
      "text/plain": [
       "Sanity Checking: 0it [00:00, ?it/s]"
      ]
     },
     "metadata": {},
     "output_type": "display_data"
    },
    {
     "name": "stderr",
     "output_type": "stream",
     "text": [
      "D:\\Anaconda\\envs\\torchGNN\\lib\\site-packages\\pytorch_lightning\\trainer\\connectors\\data_connector.py:430: PossibleUserWarning: The dataloader, val_dataloader, does not have many workers which may be a bottleneck. Consider increasing the value of the `num_workers` argument` (try 12 which is the number of cpus on this machine) in the `DataLoader` init to improve performance.\n",
      "  rank_zero_warn(\n",
      "D:\\Anaconda\\envs\\torchGNN\\lib\\site-packages\\pytorch_lightning\\trainer\\connectors\\data_connector.py:430: PossibleUserWarning: The dataloader, train_dataloader, does not have many workers which may be a bottleneck. Consider increasing the value of the `num_workers` argument` (try 12 which is the number of cpus on this machine) in the `DataLoader` init to improve performance.\n",
      "  rank_zero_warn(\n"
     ]
    },
    {
     "data": {
      "application/vnd.jupyter.widget-view+json": {
       "model_id": "8e28d8d7c04f4a39a7127b31670cd8b2",
       "version_major": 2,
       "version_minor": 0
      },
      "text/plain": [
       "Training: 0it [00:00, ?it/s]"
      ]
     },
     "metadata": {},
     "output_type": "display_data"
    },
    {
     "data": {
      "application/vnd.jupyter.widget-view+json": {
       "model_id": "",
       "version_major": 2,
       "version_minor": 0
      },
      "text/plain": [
       "Validation: 0it [00:00, ?it/s]"
      ]
     },
     "metadata": {},
     "output_type": "display_data"
    },
    {
     "data": {
      "application/vnd.jupyter.widget-view+json": {
       "model_id": "",
       "version_major": 2,
       "version_minor": 0
      },
      "text/plain": [
       "Validation: 0it [00:00, ?it/s]"
      ]
     },
     "metadata": {},
     "output_type": "display_data"
    },
    {
     "data": {
      "application/vnd.jupyter.widget-view+json": {
       "model_id": "",
       "version_major": 2,
       "version_minor": 0
      },
      "text/plain": [
       "Validation: 0it [00:00, ?it/s]"
      ]
     },
     "metadata": {},
     "output_type": "display_data"
    },
    {
     "data": {
      "application/vnd.jupyter.widget-view+json": {
       "model_id": "",
       "version_major": 2,
       "version_minor": 0
      },
      "text/plain": [
       "Validation: 0it [00:00, ?it/s]"
      ]
     },
     "metadata": {},
     "output_type": "display_data"
    },
    {
     "data": {
      "application/vnd.jupyter.widget-view+json": {
       "model_id": "",
       "version_major": 2,
       "version_minor": 0
      },
      "text/plain": [
       "Validation: 0it [00:00, ?it/s]"
      ]
     },
     "metadata": {},
     "output_type": "display_data"
    },
    {
     "data": {
      "application/vnd.jupyter.widget-view+json": {
       "model_id": "",
       "version_major": 2,
       "version_minor": 0
      },
      "text/plain": [
       "Validation: 0it [00:00, ?it/s]"
      ]
     },
     "metadata": {},
     "output_type": "display_data"
    },
    {
     "data": {
      "application/vnd.jupyter.widget-view+json": {
       "model_id": "",
       "version_major": 2,
       "version_minor": 0
      },
      "text/plain": [
       "Validation: 0it [00:00, ?it/s]"
      ]
     },
     "metadata": {},
     "output_type": "display_data"
    },
    {
     "data": {
      "application/vnd.jupyter.widget-view+json": {
       "model_id": "",
       "version_major": 2,
       "version_minor": 0
      },
      "text/plain": [
       "Validation: 0it [00:00, ?it/s]"
      ]
     },
     "metadata": {},
     "output_type": "display_data"
    },
    {
     "data": {
      "application/vnd.jupyter.widget-view+json": {
       "model_id": "",
       "version_major": 2,
       "version_minor": 0
      },
      "text/plain": [
       "Validation: 0it [00:00, ?it/s]"
      ]
     },
     "metadata": {},
     "output_type": "display_data"
    },
    {
     "data": {
      "application/vnd.jupyter.widget-view+json": {
       "model_id": "",
       "version_major": 2,
       "version_minor": 0
      },
      "text/plain": [
       "Validation: 0it [00:00, ?it/s]"
      ]
     },
     "metadata": {},
     "output_type": "display_data"
    },
    {
     "data": {
      "application/vnd.jupyter.widget-view+json": {
       "model_id": "",
       "version_major": 2,
       "version_minor": 0
      },
      "text/plain": [
       "Validation: 0it [00:00, ?it/s]"
      ]
     },
     "metadata": {},
     "output_type": "display_data"
    },
    {
     "data": {
      "application/vnd.jupyter.widget-view+json": {
       "model_id": "",
       "version_major": 2,
       "version_minor": 0
      },
      "text/plain": [
       "Validation: 0it [00:00, ?it/s]"
      ]
     },
     "metadata": {},
     "output_type": "display_data"
    },
    {
     "data": {
      "application/vnd.jupyter.widget-view+json": {
       "model_id": "",
       "version_major": 2,
       "version_minor": 0
      },
      "text/plain": [
       "Validation: 0it [00:00, ?it/s]"
      ]
     },
     "metadata": {},
     "output_type": "display_data"
    },
    {
     "data": {
      "application/vnd.jupyter.widget-view+json": {
       "model_id": "",
       "version_major": 2,
       "version_minor": 0
      },
      "text/plain": [
       "Validation: 0it [00:00, ?it/s]"
      ]
     },
     "metadata": {},
     "output_type": "display_data"
    },
    {
     "data": {
      "application/vnd.jupyter.widget-view+json": {
       "model_id": "",
       "version_major": 2,
       "version_minor": 0
      },
      "text/plain": [
       "Validation: 0it [00:00, ?it/s]"
      ]
     },
     "metadata": {},
     "output_type": "display_data"
    },
    {
     "data": {
      "application/vnd.jupyter.widget-view+json": {
       "model_id": "",
       "version_major": 2,
       "version_minor": 0
      },
      "text/plain": [
       "Validation: 0it [00:00, ?it/s]"
      ]
     },
     "metadata": {},
     "output_type": "display_data"
    },
    {
     "data": {
      "application/vnd.jupyter.widget-view+json": {
       "model_id": "",
       "version_major": 2,
       "version_minor": 0
      },
      "text/plain": [
       "Validation: 0it [00:00, ?it/s]"
      ]
     },
     "metadata": {},
     "output_type": "display_data"
    },
    {
     "data": {
      "application/vnd.jupyter.widget-view+json": {
       "model_id": "",
       "version_major": 2,
       "version_minor": 0
      },
      "text/plain": [
       "Validation: 0it [00:00, ?it/s]"
      ]
     },
     "metadata": {},
     "output_type": "display_data"
    },
    {
     "data": {
      "application/vnd.jupyter.widget-view+json": {
       "model_id": "",
       "version_major": 2,
       "version_minor": 0
      },
      "text/plain": [
       "Validation: 0it [00:00, ?it/s]"
      ]
     },
     "metadata": {},
     "output_type": "display_data"
    },
    {
     "data": {
      "application/vnd.jupyter.widget-view+json": {
       "model_id": "",
       "version_major": 2,
       "version_minor": 0
      },
      "text/plain": [
       "Validation: 0it [00:00, ?it/s]"
      ]
     },
     "metadata": {},
     "output_type": "display_data"
    },
    {
     "data": {
      "application/vnd.jupyter.widget-view+json": {
       "model_id": "",
       "version_major": 2,
       "version_minor": 0
      },
      "text/plain": [
       "Validation: 0it [00:00, ?it/s]"
      ]
     },
     "metadata": {},
     "output_type": "display_data"
    },
    {
     "data": {
      "application/vnd.jupyter.widget-view+json": {
       "model_id": "",
       "version_major": 2,
       "version_minor": 0
      },
      "text/plain": [
       "Validation: 0it [00:00, ?it/s]"
      ]
     },
     "metadata": {},
     "output_type": "display_data"
    },
    {
     "data": {
      "application/vnd.jupyter.widget-view+json": {
       "model_id": "",
       "version_major": 2,
       "version_minor": 0
      },
      "text/plain": [
       "Validation: 0it [00:00, ?it/s]"
      ]
     },
     "metadata": {},
     "output_type": "display_data"
    },
    {
     "data": {
      "application/vnd.jupyter.widget-view+json": {
       "model_id": "",
       "version_major": 2,
       "version_minor": 0
      },
      "text/plain": [
       "Validation: 0it [00:00, ?it/s]"
      ]
     },
     "metadata": {},
     "output_type": "display_data"
    },
    {
     "data": {
      "application/vnd.jupyter.widget-view+json": {
       "model_id": "",
       "version_major": 2,
       "version_minor": 0
      },
      "text/plain": [
       "Validation: 0it [00:00, ?it/s]"
      ]
     },
     "metadata": {},
     "output_type": "display_data"
    },
    {
     "data": {
      "application/vnd.jupyter.widget-view+json": {
       "model_id": "",
       "version_major": 2,
       "version_minor": 0
      },
      "text/plain": [
       "Validation: 0it [00:00, ?it/s]"
      ]
     },
     "metadata": {},
     "output_type": "display_data"
    },
    {
     "data": {
      "application/vnd.jupyter.widget-view+json": {
       "model_id": "",
       "version_major": 2,
       "version_minor": 0
      },
      "text/plain": [
       "Validation: 0it [00:00, ?it/s]"
      ]
     },
     "metadata": {},
     "output_type": "display_data"
    },
    {
     "name": "stderr",
     "output_type": "stream",
     "text": [
      "LOCAL_RANK: 0 - CUDA_VISIBLE_DEVICES: [0]\n",
      "D:\\Anaconda\\envs\\torchGNN\\lib\\site-packages\\pytorch_lightning\\trainer\\connectors\\data_connector.py:430: PossibleUserWarning: The dataloader, test_dataloader, does not have many workers which may be a bottleneck. Consider increasing the value of the `num_workers` argument` (try 12 which is the number of cpus on this machine) in the `DataLoader` init to improve performance.\n",
      "  rank_zero_warn(\n"
     ]
    },
    {
     "data": {
      "application/vnd.jupyter.widget-view+json": {
       "model_id": "57a8f2d2f2cd49b3952d806ebc02ca66",
       "version_major": 2,
       "version_minor": 0
      },
      "text/plain": [
       "Testing: 0it [00:00, ?it/s]"
      ]
     },
     "metadata": {},
     "output_type": "display_data"
    },
    {
     "data": {
      "text/html": [
       "<pre style=\"white-space:pre;overflow-x:auto;line-height:normal;font-family:Menlo,'DejaVu Sans Mono',consolas,'Courier New',monospace\">┏━━━━━━━━━━━━━━━━━━━━━━━━━━━┳━━━━━━━━━━━━━━━━━━━━━━━━━━━┓\n",
       "┃<span style=\"font-weight: bold\">        Test metric        </span>┃<span style=\"font-weight: bold\">       DataLoader 0        </span>┃\n",
       "┡━━━━━━━━━━━━━━━━━━━━━━━━━━━╇━━━━━━━━━━━━━━━━━━━━━━━━━━━┩\n",
       "│<span style=\"color: #008080; text-decoration-color: #008080\">         test_acc          </span>│<span style=\"color: #800080; text-decoration-color: #800080\">    0.9868737541849043     </span>│\n",
       "│<span style=\"color: #008080; text-decoration-color: #008080\">         test_loss         </span>│<span style=\"color: #800080; text-decoration-color: #800080\">    0.5499117374420166     </span>│\n",
       "└───────────────────────────┴───────────────────────────┘\n",
       "</pre>\n"
      ],
      "text/plain": [
       "┏━━━━━━━━━━━━━━━━━━━━━━━━━━━┳━━━━━━━━━━━━━━━━━━━━━━━━━━━┓\n",
       "┃\u001b[1m \u001b[0m\u001b[1m       Test metric       \u001b[0m\u001b[1m \u001b[0m┃\u001b[1m \u001b[0m\u001b[1m      DataLoader 0       \u001b[0m\u001b[1m \u001b[0m┃\n",
       "┡━━━━━━━━━━━━━━━━━━━━━━━━━━━╇━━━━━━━━━━━━━━━━━━━━━━━━━━━┩\n",
       "│\u001b[36m \u001b[0m\u001b[36m        test_acc         \u001b[0m\u001b[36m \u001b[0m│\u001b[35m \u001b[0m\u001b[35m   0.9868737541849043    \u001b[0m\u001b[35m \u001b[0m│\n",
       "│\u001b[36m \u001b[0m\u001b[36m        test_loss        \u001b[0m\u001b[36m \u001b[0m│\u001b[35m \u001b[0m\u001b[35m   0.5499117374420166    \u001b[0m\u001b[35m \u001b[0m│\n",
       "└───────────────────────────┴───────────────────────────┘\n"
      ]
     },
     "metadata": {},
     "output_type": "display_data"
    },
    {
     "data": {
      "text/plain": [
       "[{'test_loss': 0.5499117374420166, 'test_acc': 0.9868737541849043}]"
      ]
     },
     "execution_count": 6,
     "metadata": {},
     "output_type": "execute_result"
    }
   ],
   "source": [
    "from utils.model.RS_GraphSAGE import GraphSage\n",
    "\n",
    "dataset = AGDataset\n",
    "\n",
    "early_stop_callback = EarlyStopping(\n",
    "    monitor='val_loss',\n",
    "    min_delta=0.00,\n",
    "    patience=10,\n",
    "    verbose=False,\n",
    "    mode='min'\n",
    ")\n",
    "hparams = {\"aggregator_type\": 'mean',\n",
    "           \"HIDDEN_DIM\": [112, 16],  # size of the embedding\n",
    "           \"BATCH_SIZE\": 64,\n",
    "           \"LEARNING_RATE\": 0.001,\n",
    "           \"NUM_NEIGHBORS\": [10, 10]\n",
    "           }  # The number of neighbors in each order of sampling\n",
    "\n",
    "tb_logger = pl_loggers.TensorBoardLogger(tb_logging_dir, name=exp_name)\n",
    " \n",
    "trainer = pl.Trainer(max_epochs=100,\n",
    "                     callbacks=[early_stop_callback],\n",
    "                     logger=tb_logger,\n",
    "                     log_every_n_steps=1,\n",
    "                     # accelerator=\"cpu\"\n",
    "                    # num_sanity_val_steps = 0\n",
    "                     )\n",
    "\n",
    "version_dir = os.path.join(\n",
    "    exp_dir, \"version_\"+str(trainer.logger.version))\n",
    "writer_acc = SummaryWriter(log_dir=version_dir)\n",
    "writer_loss = SummaryWriter(log_dir=version_dir)\n",
    "\n",
    "checkpoint_dir = os.path.join(version_dir, \"checkpoints\")\n",
    "print(\"Saving checkpoints to\", checkpoint_dir)\n",
    "\n",
    "SAGEmodel = GraphSage(dataset=dataset, input_dim=dataset.num_features, hparams=hparams,\n",
    "                      writer_acc=writer_acc, writer_loss=writer_loss).to(device)\n",
    "SAGEmodel.data_processing_transductive() \n",
    "\n",
    "trainer.fit(SAGEmodel)\n",
    "trainer.test(SAGEmodel)"
   ]
  },
  {
   "attachments": {},
   "cell_type": "markdown",
   "id": "cda08bcf-1091-4a30-86f0-5e899c0de5fb",
   "metadata": {},
   "source": [
    "#### Upload trained model"
   ]
  },
  {
   "cell_type": "code",
   "execution_count": 4,
   "id": "9a51aa6d-67d0-4236-8590-d91ab4e9e1c8",
   "metadata": {},
   "outputs": [
    {
     "name": "stdout",
     "output_type": "stream",
     "text": [
      "Data Processing Done on: cpu\n"
     ]
    }
   ],
   "source": [
    "from utils.model.RS_GraphSAGE import GraphSage\n",
    "hparams = {\"aggregator_type\": 'mean',\n",
    "           \"HIDDEN_DIM\": [112, 16],  # size of the embedding\n",
    "           \"BATCH_SIZE\": 64,\n",
    "           \"LEARNING_RATE\": 0.001,\n",
    "           \"NUM_NEIGHBORS\": [10, 10]\n",
    "           }\n",
    "dataset = AGDataset\n",
    "checkpoint_dir = \"lightning_logs\\\\RS_AG_GraphSAGE_transductive\\\\best\\\\checkpoints\"\n",
    "checkpoint_file = os.path.join(checkpoint_dir, os.listdir(checkpoint_dir)[0])\n",
    "Loaded_model = GraphSage.load_from_checkpoint(checkpoint_file, dataset=dataset, input_dim=dataset.num_features, hparams=hparams)\n",
    "Loaded_model.data_processing_transductive()"
   ]
  },
  {
   "attachments": {},
   "cell_type": "markdown",
   "id": "a31f0e04-5e9f-4b4a-aa4d-802527214952",
   "metadata": {},
   "source": [
    "#### To see the mini-batch's number of negative edges:"
   ]
  },
  {
   "cell_type": "code",
   "execution_count": 7,
   "id": "22c7e451-df6e-4f6c-9610-fd2b921380e5",
   "metadata": {},
   "outputs": [
    {
     "data": {
      "text/plain": [
       "Data(x=[4273, 768], edge_index=[2, 6720], edge_label=[6720], train_mask=[4273], n_id=[4273], e_id=[6720], input_id=[64], batch_size=64)"
      ]
     },
     "execution_count": 7,
     "metadata": {},
     "output_type": "execute_result"
    }
   ],
   "source": [
    "tmpLoader = Loaded_model.train_dataloader()\n",
    "sample = next(iter(tmpLoader))\n",
    "sample"
   ]
  },
  {
   "attachments": {},
   "cell_type": "markdown",
   "id": "e7cd94bf-0d90-41e6-b65d-ed6546d2d301",
   "metadata": {},
   "source": [
    "#### To see the number of training positive edges:"
   ]
  },
  {
   "cell_type": "code",
   "execution_count": 8,
   "id": "f05cbb24-aeb3-4f63-901e-5a662b13186e",
   "metadata": {},
   "outputs": [
    {
     "data": {
      "text/plain": [
       "Data(x=[6614, 768], edge_index=[2, 7397], edge_label=[7397], train_mask=[6614])"
      ]
     },
     "execution_count": 8,
     "metadata": {},
     "output_type": "execute_result"
    }
   ],
   "source": [
    "Loaded_model.pos_data[\"train\"]"
   ]
  },
  {
   "attachments": {},
   "cell_type": "markdown",
   "id": "d9376e07-a533-48a5-94f3-98d661035dd0",
   "metadata": {},
   "source": [
    "#### Recommendation for a given node"
   ]
  },
  {
   "cell_type": "code",
   "execution_count": 6,
   "id": "a8427e88-bc42-4f3c-b27d-b904ffe20a5b",
   "metadata": {},
   "outputs": [
    {
     "name": "stdout",
     "output_type": "stream",
     "text": [
      "Recommendation for node 1370 with title Non-linear matrix completion\n",
      "119 0.998610258102417 R1-PCA: rotational invariant L1-norm principal component analysis for robust subspace factorization\n",
      "2413 0.9978931546211243 Continuum Isomap for manifold learnings\n",
      "5235 0.9978923201560974 Theory of Compressive Sensing via ℓ1-Minimization: a Non-RIP Analysis and Extensions\n",
      "1021 0.9975487589836121 Improved RIP-Based Bounds for Guaranteed Performance of Several Compressed Sensing Algorithms\n",
      "417 0.9975274205207825 Matrix Completion via Sparse Factorization Solved by Accelerated Proximal Alternating Linearized Minimization\n",
      "6150 0.9974560141563416 Exactly Robust Kernel Principal Component Analysis\n",
      "3514 0.9972105622291565 Graph-Laplacian PCA: Closed-Form Solution and Robustness\n",
      "3828 0.9970922470092773 Exact Low-Rank Matrix Completion from Sparsely Corrupted Entries Via Adaptive Outlier Pursuit\n",
      "1620 0.9970524311065674 Isometric Embedding and Continuum ISOMAP\n",
      "5431 0.9966875910758972 Matrix completion by deep matrix factorization\n"
     ]
    }
   ],
   "source": [
    "import torch.nn.functional as F\n",
    "def recommendation_by_transductive_model(A, model):\n",
    "    ## Return recommedation for A in the given graph\n",
    "    neg_graph = model.neg_data[\"all\"]\n",
    "    candidate = torch.zeros(neg_graph.num_edges)\n",
    "\n",
    "    candidate = neg_graph.edge_index[1, (neg_graph.edge_index[0] == A)].cpu()\n",
    "    candidate.sort()\n",
    "    num_candidates = len(candidate) \n",
    "    u = torch.ones(num_candidates, dtype=torch.int) * A\n",
    "    v = torch.Tensor(candidate)\n",
    "    candidate_link = torch.stack((u, v))\n",
    "\n",
    "    embedding = model(model.pos_data[\"all\"].x, model.pos_data[\"all\"].edge_index)\n",
    "\n",
    "    scores = np.zeros(candidate.max()+1) - 1e8\n",
    "    \n",
    "    scores[v] = F.sigmoid((embedding[u] * embedding[v]).sum(dim=1)).detach().numpy()\n",
    "\n",
    "    rank_idx = np.argsort(scores)[::-1]\n",
    "    \n",
    "    pos_graph = model.pos_data[\"all\"]\n",
    "    print(\"Recommendation for node\", A, \"with title\", pos_graph.title[A])\n",
    "    for k in range(10):\n",
    "        print(rank_idx[k], scores[rank_idx[k]], pos_graph.title[rank_idx[k]])\n",
    "        \n",
    "recommendation_by_transductive_model(1370, Loaded_model)"
   ]
  },
  {
   "cell_type": "code",
   "execution_count": 10,
   "id": "84222f24-3b6f-48b3-bf0c-d1b88d4630ad",
   "metadata": {},
   "outputs": [
    {
     "data": {
      "text/plain": [
       "tensor([[   2],\n",
       "        [   7],\n",
       "        [  11],\n",
       "        ...,\n",
       "        [6596],\n",
       "        [6597],\n",
       "        [6613]])"
      ]
     },
     "execution_count": 10,
     "metadata": {},
     "output_type": "execute_result"
    }
   ],
   "source": [
    "Loaded_model.pos_data[\"all\"].test_mask.argwhere()"
   ]
  },
  {
   "cell_type": "code",
   "execution_count": 11,
   "id": "f35a6bfe-be5f-4ec1-807f-8c6bd90d3f20",
   "metadata": {},
   "outputs": [
    {
     "name": "stdout",
     "output_type": "stream",
     "text": [
      "Recommendation for node 7 with title Nonnegative Matrix Factorization and Probabilistic Latent Semantic Indexing: Equivalence Chi-Square Statistic, and a Hybrid Method\n",
      "119 0.9999995231628418 R1-PCA: rotational invariant L1-norm principal component analysis for robust subspace factorization\n",
      "254 0.9999991655349731 Bipartite graph partitioning and data clustering\n",
      "761 0.9999990463256836 Efficient and Robust Feature Selection via Joint ℓ2, 1-Norms Minimization\n",
      "576 0.999998927116394 Multi-class protein fold recognition using support vector machines and neural networks\n",
      "6157 0.9999986886978149 Orthogonal nonnegative matrix t-factorizations for clustering\n",
      "2914 0.9999984502792358 Two-dimensional PCA: a new approach to appearance-based face representation and recognition\n",
      "3879 0.999997615814209 Robust nonnegative matrix factorization using L21-norm\n",
      "824 0.9999967813491821 Convex and Semi-Nonnegative Matrix Factorizations\n",
      "5804 0.9999961853027344 Solving Consensus and Semi-supervised Clustering Problems Using Nonnegative Matrix Factorization\n",
      "2289 0.9999961853027344 Multi-label Linear Discriminant Analysis\n"
     ]
    }
   ],
   "source": [
    "recommendation_by_transductive_model(7, Loaded_model)"
   ]
  },
  {
   "cell_type": "code",
   "execution_count": 9,
   "id": "62538d5c-a36e-44eb-8730-7ebfc732bd00",
   "metadata": {},
   "outputs": [
    {
     "name": "stdout",
     "output_type": "stream",
     "text": [
      "Recommendation for node 1676 with title A Semismooth Newton Stochastic Proximal Point Algorithm with Variance Reduction\n",
      "2499 0.9951659440994263 Approximation Algorithms for Quadratic Programming\n",
      "6256 0.994754433631897 Error Bounds for Quadratic Systems\n",
      "5541 0.9947484135627747 A Proximal Alternating Direction Method of Multiplier for Linearly Constrained Nonconvex Minimization\n",
      "6219 0.9946396946907043 A Unified Convergence Analysis of Block Successive Minimization Methods for Nonsmooth Optimization\n",
      "1983 0.9944781064987183 Comparison of two binaural beamforming approaches for hearing aids\n",
      "2794 0.9942250847816467 On the Convergence Rate of Dual Ascent Methods for Linearly Constrained Convex Minimization\n",
      "1325 0.9940270185470581 Level-set Subdifferential Error Bounds and Linear Convergence of Variable Bregman Proximal Gradient Method\n",
      "6126 0.993911862373352 A block coordinate descent method of multipliers: Convergence analysis and applications\n",
      "1389 0.9931164979934692 Error bounds and convergence analysis of feasible descent methods: a general approach\n",
      "1116 0.9925593137741089 A Robust Gradient Tracking Method for Distributed Optimization over Directed Networks\n"
     ]
    }
   ],
   "source": [
    "recommendation_by_transductive_model(1676, Loaded_model)"
   ]
  }
 ],
 "metadata": {
  "kernelspec": {
   "display_name": "Python 3 (ipykernel)",
   "language": "python",
   "name": "python3"
  },
  "language_info": {
   "codemirror_mode": {
    "name": "ipython",
    "version": 3
   },
   "file_extension": ".py",
   "mimetype": "text/x-python",
   "name": "python",
   "nbconvert_exporter": "python",
   "pygments_lexer": "ipython3",
   "version": "3.10.9"
  },
  "widgets": {
   "application/vnd.jupyter.widget-state+json": {
    "state": {},
    "version_major": 2,
    "version_minor": 0
   }
  }
 },
 "nbformat": 4,
 "nbformat_minor": 5
}
