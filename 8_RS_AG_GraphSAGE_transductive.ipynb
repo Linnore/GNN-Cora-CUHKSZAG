{
 "cells": [
  {
   "cell_type": "code",
   "execution_count": 16,
   "id": "da06ae01-7103-4aea-9c0f-4ef08895d38c",
   "metadata": {},
   "outputs": [],
   "source": [
    "\n",
    "import os\n",
    "import torch\n",
    "import numpy as np\n",
    "import pytorch_lightning as pl\n",
    "from torch_geometric.datasets import Planetoid\n",
    "from torch_geometric.data import Data\n",
    "from pytorch_lightning.callbacks.early_stopping import EarlyStopping\n",
    "from lightning.pytorch import loggers as pl_loggers\n",
    "import torch_geometric.transforms as T\n",
    "import torch_geometric.data as geom_data\n",
    "from torch.utils.tensorboard import SummaryWriter\n",
    "\n",
    "%reload_ext autoreload\n",
    "%autoreload 2"
   ]
  },
  {
   "cell_type": "markdown",
   "id": "c9eab6ff-f3ae-4c42-b40c-e0e055f6ac93",
   "metadata": {},
   "source": [
    "#### Configure device"
   ]
  },
  {
   "cell_type": "code",
   "execution_count": 17,
   "id": "18314a44-65d5-4387-a270-7e6888b26e31",
   "metadata": {},
   "outputs": [
    {
     "data": {
      "text/plain": [
       "(device(type='cuda', index=0), 12)"
      ]
     },
     "execution_count": 17,
     "metadata": {},
     "output_type": "execute_result"
    }
   ],
   "source": [
    "device = torch.device(\"cuda:0\" if torch.cuda.is_available() else \"cpu\")\n",
    "if device != \"cpu\":\n",
    "    torch.set_float32_matmul_precision('high')\n",
    "    \n",
    "# device = \"cpu\"\n",
    "# torch.set_float32_matmul_precision(\"high\")\n",
    "\n",
    "num_workers = os.cpu_count()\n",
    "device, num_workers"
   ]
  },
  {
   "cell_type": "markdown",
   "id": "0e643e25-12de-49ba-871d-c3854b42aaf3",
   "metadata": {},
   "source": [
    "### Directory configuration and load data"
   ]
  },
  {
   "cell_type": "code",
   "execution_count": 18,
   "id": "fece835b-1eb7-479c-88df-373a747a064a",
   "metadata": {},
   "outputs": [
    {
     "name": "stdout",
     "output_type": "stream",
     "text": [
      "D:\\GitHub\\GNN-Cora-CUHKSZAG\\dataset\\CUHKSZ_AcademicGraph\\raw\\CUHKSZ_AcademicGraph_Rawdata.zip\n",
      "D:\\GitHub\\GNN-Cora-CUHKSZAG\\dataset\\CUHKSZ_AcademicGraph\\raw\\CUHKSZ_AcademicGraph-rawdata_released\n"
     ]
    },
    {
     "data": {
      "text/plain": [
       "Data(x=[6614, 768], edge_index=[2, 12330], y=[6614], title=[6614], train_mask=[6614], val_mask=[6614], test_mask=[6614])"
      ]
     },
     "execution_count": 18,
     "metadata": {},
     "output_type": "execute_result"
    }
   ],
   "source": [
    "cwd = os.getcwd()\n",
    "tb_logging_dir = os.path.join(cwd, \"lightning_logs\")\n",
    "exp_name = \"AG-GraphSAGE-transductive\"\n",
    "exp_dir = os.path.join(tb_logging_dir, exp_name)\n",
    "dataset_dir = os.path.join(cwd, \"dataset\", \"CUHKSZ_AcademicGraph\")\n",
    "if not os.path.exists(dataset_dir):\n",
    "    os.makedirs(dataset_dir)\n",
    "    \n",
    "from utils.dataset.CUHKSZ_AcademicGraph import CUHKSZ_AcademicGraph\n",
    "AGDataset = CUHKSZ_AcademicGraph(dataset_dir, with_title=True, with_label=True)\n",
    "\n",
    "AGDataset[0]"
   ]
  },
  {
   "cell_type": "markdown",
   "id": "30a30e50",
   "metadata": {},
   "source": [
    "#### Note that if numebr of epoch is large, the kernel will stuck after training! Need to load the saved model mannually!"
   ]
  },
  {
   "cell_type": "code",
   "execution_count": 19,
   "id": "1c127ebe-8511-484f-a994-6c722319bced",
   "metadata": {},
   "outputs": [
    {
     "name": "stderr",
     "output_type": "stream",
     "text": [
      "GPU available: True (cuda), used: True\n",
      "TPU available: False, using: 0 TPU cores\n",
      "IPU available: False, using: 0 IPUs\n",
      "HPU available: False, using: 0 HPUs\n"
     ]
    },
    {
     "name": "stdout",
     "output_type": "stream",
     "text": [
      "Saving checkpoints to D:\\GitHub\\GNN-Cora-CUHKSZAG\\lightning_logs\\AG-GraphSAGE-transductive\\version_1\\checkpoints\n"
     ]
    },
    {
     "name": "stderr",
     "output_type": "stream",
     "text": [
      "LOCAL_RANK: 0 - CUDA_VISIBLE_DEVICES: [0]\n",
      "\n",
      "  | Name  | Type              | Params\n",
      "--------------------------------------------\n",
      "0 | aggr  | MeanAggregation   | 0     \n",
      "1 | model | Sequential_313bbb | 175 K \n",
      "--------------------------------------------\n",
      "175 K     Trainable params\n",
      "0         Non-trainable params\n",
      "175 K     Total params\n",
      "0.703     Total estimated model params size (MB)\n"
     ]
    },
    {
     "name": "stdout",
     "output_type": "stream",
     "text": [
      "Data Processing Done on: cuda:0\n"
     ]
    },
    {
     "data": {
      "application/vnd.jupyter.widget-view+json": {
       "model_id": "",
       "version_major": 2,
       "version_minor": 0
      },
      "text/plain": [
       "Sanity Checking: 0it [00:00, ?it/s]"
      ]
     },
     "metadata": {},
     "output_type": "display_data"
    },
    {
     "name": "stderr",
     "output_type": "stream",
     "text": [
      "D:\\Anaconda\\envs\\torchGNN\\lib\\site-packages\\pytorch_lightning\\trainer\\connectors\\data_connector.py:430: PossibleUserWarning: The dataloader, val_dataloader, does not have many workers which may be a bottleneck. Consider increasing the value of the `num_workers` argument` (try 12 which is the number of cpus on this machine) in the `DataLoader` init to improve performance.\n",
      "  rank_zero_warn(\n",
      "D:\\Anaconda\\envs\\torchGNN\\lib\\site-packages\\pytorch_lightning\\trainer\\connectors\\data_connector.py:430: PossibleUserWarning: The dataloader, train_dataloader, does not have many workers which may be a bottleneck. Consider increasing the value of the `num_workers` argument` (try 12 which is the number of cpus on this machine) in the `DataLoader` init to improve performance.\n",
      "  rank_zero_warn(\n"
     ]
    },
    {
     "data": {
      "application/vnd.jupyter.widget-view+json": {
       "model_id": "66636ac7fe094bef9b6d599936615611",
       "version_major": 2,
       "version_minor": 0
      },
      "text/plain": [
       "Training: 0it [00:00, ?it/s]"
      ]
     },
     "metadata": {},
     "output_type": "display_data"
    },
    {
     "data": {
      "application/vnd.jupyter.widget-view+json": {
       "model_id": "",
       "version_major": 2,
       "version_minor": 0
      },
      "text/plain": [
       "Validation: 0it [00:00, ?it/s]"
      ]
     },
     "metadata": {},
     "output_type": "display_data"
    },
    {
     "data": {
      "application/vnd.jupyter.widget-view+json": {
       "model_id": "",
       "version_major": 2,
       "version_minor": 0
      },
      "text/plain": [
       "Validation: 0it [00:00, ?it/s]"
      ]
     },
     "metadata": {},
     "output_type": "display_data"
    },
    {
     "data": {
      "application/vnd.jupyter.widget-view+json": {
       "model_id": "",
       "version_major": 2,
       "version_minor": 0
      },
      "text/plain": [
       "Validation: 0it [00:00, ?it/s]"
      ]
     },
     "metadata": {},
     "output_type": "display_data"
    },
    {
     "data": {
      "application/vnd.jupyter.widget-view+json": {
       "model_id": "",
       "version_major": 2,
       "version_minor": 0
      },
      "text/plain": [
       "Validation: 0it [00:00, ?it/s]"
      ]
     },
     "metadata": {},
     "output_type": "display_data"
    },
    {
     "data": {
      "application/vnd.jupyter.widget-view+json": {
       "model_id": "",
       "version_major": 2,
       "version_minor": 0
      },
      "text/plain": [
       "Validation: 0it [00:00, ?it/s]"
      ]
     },
     "metadata": {},
     "output_type": "display_data"
    },
    {
     "data": {
      "application/vnd.jupyter.widget-view+json": {
       "model_id": "",
       "version_major": 2,
       "version_minor": 0
      },
      "text/plain": [
       "Validation: 0it [00:00, ?it/s]"
      ]
     },
     "metadata": {},
     "output_type": "display_data"
    },
    {
     "data": {
      "application/vnd.jupyter.widget-view+json": {
       "model_id": "",
       "version_major": 2,
       "version_minor": 0
      },
      "text/plain": [
       "Validation: 0it [00:00, ?it/s]"
      ]
     },
     "metadata": {},
     "output_type": "display_data"
    },
    {
     "data": {
      "application/vnd.jupyter.widget-view+json": {
       "model_id": "",
       "version_major": 2,
       "version_minor": 0
      },
      "text/plain": [
       "Validation: 0it [00:00, ?it/s]"
      ]
     },
     "metadata": {},
     "output_type": "display_data"
    },
    {
     "data": {
      "application/vnd.jupyter.widget-view+json": {
       "model_id": "",
       "version_major": 2,
       "version_minor": 0
      },
      "text/plain": [
       "Validation: 0it [00:00, ?it/s]"
      ]
     },
     "metadata": {},
     "output_type": "display_data"
    },
    {
     "data": {
      "application/vnd.jupyter.widget-view+json": {
       "model_id": "",
       "version_major": 2,
       "version_minor": 0
      },
      "text/plain": [
       "Validation: 0it [00:00, ?it/s]"
      ]
     },
     "metadata": {},
     "output_type": "display_data"
    },
    {
     "data": {
      "application/vnd.jupyter.widget-view+json": {
       "model_id": "",
       "version_major": 2,
       "version_minor": 0
      },
      "text/plain": [
       "Validation: 0it [00:00, ?it/s]"
      ]
     },
     "metadata": {},
     "output_type": "display_data"
    },
    {
     "data": {
      "application/vnd.jupyter.widget-view+json": {
       "model_id": "",
       "version_major": 2,
       "version_minor": 0
      },
      "text/plain": [
       "Validation: 0it [00:00, ?it/s]"
      ]
     },
     "metadata": {},
     "output_type": "display_data"
    },
    {
     "data": {
      "application/vnd.jupyter.widget-view+json": {
       "model_id": "",
       "version_major": 2,
       "version_minor": 0
      },
      "text/plain": [
       "Validation: 0it [00:00, ?it/s]"
      ]
     },
     "metadata": {},
     "output_type": "display_data"
    },
    {
     "data": {
      "application/vnd.jupyter.widget-view+json": {
       "model_id": "",
       "version_major": 2,
       "version_minor": 0
      },
      "text/plain": [
       "Validation: 0it [00:00, ?it/s]"
      ]
     },
     "metadata": {},
     "output_type": "display_data"
    },
    {
     "data": {
      "application/vnd.jupyter.widget-view+json": {
       "model_id": "",
       "version_major": 2,
       "version_minor": 0
      },
      "text/plain": [
       "Validation: 0it [00:00, ?it/s]"
      ]
     },
     "metadata": {},
     "output_type": "display_data"
    },
    {
     "data": {
      "application/vnd.jupyter.widget-view+json": {
       "model_id": "",
       "version_major": 2,
       "version_minor": 0
      },
      "text/plain": [
       "Validation: 0it [00:00, ?it/s]"
      ]
     },
     "metadata": {},
     "output_type": "display_data"
    },
    {
     "data": {
      "application/vnd.jupyter.widget-view+json": {
       "model_id": "",
       "version_major": 2,
       "version_minor": 0
      },
      "text/plain": [
       "Validation: 0it [00:00, ?it/s]"
      ]
     },
     "metadata": {},
     "output_type": "display_data"
    },
    {
     "data": {
      "application/vnd.jupyter.widget-view+json": {
       "model_id": "",
       "version_major": 2,
       "version_minor": 0
      },
      "text/plain": [
       "Validation: 0it [00:00, ?it/s]"
      ]
     },
     "metadata": {},
     "output_type": "display_data"
    },
    {
     "data": {
      "application/vnd.jupyter.widget-view+json": {
       "model_id": "",
       "version_major": 2,
       "version_minor": 0
      },
      "text/plain": [
       "Validation: 0it [00:00, ?it/s]"
      ]
     },
     "metadata": {},
     "output_type": "display_data"
    },
    {
     "data": {
      "application/vnd.jupyter.widget-view+json": {
       "model_id": "",
       "version_major": 2,
       "version_minor": 0
      },
      "text/plain": [
       "Validation: 0it [00:00, ?it/s]"
      ]
     },
     "metadata": {},
     "output_type": "display_data"
    },
    {
     "data": {
      "application/vnd.jupyter.widget-view+json": {
       "model_id": "",
       "version_major": 2,
       "version_minor": 0
      },
      "text/plain": [
       "Validation: 0it [00:00, ?it/s]"
      ]
     },
     "metadata": {},
     "output_type": "display_data"
    },
    {
     "data": {
      "application/vnd.jupyter.widget-view+json": {
       "model_id": "",
       "version_major": 2,
       "version_minor": 0
      },
      "text/plain": [
       "Validation: 0it [00:00, ?it/s]"
      ]
     },
     "metadata": {},
     "output_type": "display_data"
    },
    {
     "data": {
      "application/vnd.jupyter.widget-view+json": {
       "model_id": "",
       "version_major": 2,
       "version_minor": 0
      },
      "text/plain": [
       "Validation: 0it [00:00, ?it/s]"
      ]
     },
     "metadata": {},
     "output_type": "display_data"
    },
    {
     "data": {
      "application/vnd.jupyter.widget-view+json": {
       "model_id": "",
       "version_major": 2,
       "version_minor": 0
      },
      "text/plain": [
       "Validation: 0it [00:00, ?it/s]"
      ]
     },
     "metadata": {},
     "output_type": "display_data"
    },
    {
     "data": {
      "application/vnd.jupyter.widget-view+json": {
       "model_id": "",
       "version_major": 2,
       "version_minor": 0
      },
      "text/plain": [
       "Validation: 0it [00:00, ?it/s]"
      ]
     },
     "metadata": {},
     "output_type": "display_data"
    },
    {
     "data": {
      "application/vnd.jupyter.widget-view+json": {
       "model_id": "",
       "version_major": 2,
       "version_minor": 0
      },
      "text/plain": [
       "Validation: 0it [00:00, ?it/s]"
      ]
     },
     "metadata": {},
     "output_type": "display_data"
    },
    {
     "data": {
      "application/vnd.jupyter.widget-view+json": {
       "model_id": "",
       "version_major": 2,
       "version_minor": 0
      },
      "text/plain": [
       "Validation: 0it [00:00, ?it/s]"
      ]
     },
     "metadata": {},
     "output_type": "display_data"
    },
    {
     "data": {
      "application/vnd.jupyter.widget-view+json": {
       "model_id": "",
       "version_major": 2,
       "version_minor": 0
      },
      "text/plain": [
       "Validation: 0it [00:00, ?it/s]"
      ]
     },
     "metadata": {},
     "output_type": "display_data"
    },
    {
     "data": {
      "application/vnd.jupyter.widget-view+json": {
       "model_id": "",
       "version_major": 2,
       "version_minor": 0
      },
      "text/plain": [
       "Validation: 0it [00:00, ?it/s]"
      ]
     },
     "metadata": {},
     "output_type": "display_data"
    },
    {
     "data": {
      "application/vnd.jupyter.widget-view+json": {
       "model_id": "",
       "version_major": 2,
       "version_minor": 0
      },
      "text/plain": [
       "Validation: 0it [00:00, ?it/s]"
      ]
     },
     "metadata": {},
     "output_type": "display_data"
    },
    {
     "data": {
      "application/vnd.jupyter.widget-view+json": {
       "model_id": "",
       "version_major": 2,
       "version_minor": 0
      },
      "text/plain": [
       "Validation: 0it [00:00, ?it/s]"
      ]
     },
     "metadata": {},
     "output_type": "display_data"
    },
    {
     "data": {
      "application/vnd.jupyter.widget-view+json": {
       "model_id": "",
       "version_major": 2,
       "version_minor": 0
      },
      "text/plain": [
       "Validation: 0it [00:00, ?it/s]"
      ]
     },
     "metadata": {},
     "output_type": "display_data"
    },
    {
     "data": {
      "application/vnd.jupyter.widget-view+json": {
       "model_id": "",
       "version_major": 2,
       "version_minor": 0
      },
      "text/plain": [
       "Validation: 0it [00:00, ?it/s]"
      ]
     },
     "metadata": {},
     "output_type": "display_data"
    },
    {
     "data": {
      "application/vnd.jupyter.widget-view+json": {
       "model_id": "",
       "version_major": 2,
       "version_minor": 0
      },
      "text/plain": [
       "Validation: 0it [00:00, ?it/s]"
      ]
     },
     "metadata": {},
     "output_type": "display_data"
    },
    {
     "data": {
      "application/vnd.jupyter.widget-view+json": {
       "model_id": "",
       "version_major": 2,
       "version_minor": 0
      },
      "text/plain": [
       "Validation: 0it [00:00, ?it/s]"
      ]
     },
     "metadata": {},
     "output_type": "display_data"
    },
    {
     "data": {
      "application/vnd.jupyter.widget-view+json": {
       "model_id": "",
       "version_major": 2,
       "version_minor": 0
      },
      "text/plain": [
       "Validation: 0it [00:00, ?it/s]"
      ]
     },
     "metadata": {},
     "output_type": "display_data"
    },
    {
     "data": {
      "application/vnd.jupyter.widget-view+json": {
       "model_id": "",
       "version_major": 2,
       "version_minor": 0
      },
      "text/plain": [
       "Validation: 0it [00:00, ?it/s]"
      ]
     },
     "metadata": {},
     "output_type": "display_data"
    },
    {
     "data": {
      "application/vnd.jupyter.widget-view+json": {
       "model_id": "",
       "version_major": 2,
       "version_minor": 0
      },
      "text/plain": [
       "Validation: 0it [00:00, ?it/s]"
      ]
     },
     "metadata": {},
     "output_type": "display_data"
    },
    {
     "name": "stderr",
     "output_type": "stream",
     "text": [
      "LOCAL_RANK: 0 - CUDA_VISIBLE_DEVICES: [0]\n",
      "D:\\Anaconda\\envs\\torchGNN\\lib\\site-packages\\pytorch_lightning\\trainer\\connectors\\data_connector.py:430: PossibleUserWarning: The dataloader, test_dataloader, does not have many workers which may be a bottleneck. Consider increasing the value of the `num_workers` argument` (try 12 which is the number of cpus on this machine) in the `DataLoader` init to improve performance.\n",
      "  rank_zero_warn(\n"
     ]
    },
    {
     "data": {
      "application/vnd.jupyter.widget-view+json": {
       "model_id": "6a2851b9aac14a9ab176c4567a3c5ee1",
       "version_major": 2,
       "version_minor": 0
      },
      "text/plain": [
       "Testing: 0it [00:00, ?it/s]"
      ]
     },
     "metadata": {},
     "output_type": "display_data"
    },
    {
     "data": {
      "text/html": [
       "<pre style=\"white-space:pre;overflow-x:auto;line-height:normal;font-family:Menlo,'DejaVu Sans Mono',consolas,'Courier New',monospace\">┏━━━━━━━━━━━━━━━━━━━━━━━━━━━┳━━━━━━━━━━━━━━━━━━━━━━━━━━━┓\n",
       "┃<span style=\"font-weight: bold\">        Test metric        </span>┃<span style=\"font-weight: bold\">       DataLoader 0        </span>┃\n",
       "┡━━━━━━━━━━━━━━━━━━━━━━━━━━━╇━━━━━━━━━━━━━━━━━━━━━━━━━━━┩\n",
       "│<span style=\"color: #008080; text-decoration-color: #008080\">         test_acc          </span>│<span style=\"color: #800080; text-decoration-color: #800080\">    0.9837986846898991     </span>│\n",
       "│<span style=\"color: #008080; text-decoration-color: #008080\">         test_loss         </span>│<span style=\"color: #800080; text-decoration-color: #800080\">    0.5497453212738037     </span>│\n",
       "└───────────────────────────┴───────────────────────────┘\n",
       "</pre>\n"
      ],
      "text/plain": [
       "┏━━━━━━━━━━━━━━━━━━━━━━━━━━━┳━━━━━━━━━━━━━━━━━━━━━━━━━━━┓\n",
       "┃\u001b[1m \u001b[0m\u001b[1m       Test metric       \u001b[0m\u001b[1m \u001b[0m┃\u001b[1m \u001b[0m\u001b[1m      DataLoader 0       \u001b[0m\u001b[1m \u001b[0m┃\n",
       "┡━━━━━━━━━━━━━━━━━━━━━━━━━━━╇━━━━━━━━━━━━━━━━━━━━━━━━━━━┩\n",
       "│\u001b[36m \u001b[0m\u001b[36m        test_acc         \u001b[0m\u001b[36m \u001b[0m│\u001b[35m \u001b[0m\u001b[35m   0.9837986846898991    \u001b[0m\u001b[35m \u001b[0m│\n",
       "│\u001b[36m \u001b[0m\u001b[36m        test_loss        \u001b[0m\u001b[36m \u001b[0m│\u001b[35m \u001b[0m\u001b[35m   0.5497453212738037    \u001b[0m\u001b[35m \u001b[0m│\n",
       "└───────────────────────────┴───────────────────────────┘\n"
      ]
     },
     "metadata": {},
     "output_type": "display_data"
    },
    {
     "data": {
      "text/plain": [
       "[{'test_loss': 0.5497453212738037, 'test_acc': 0.9837986846898991}]"
      ]
     },
     "execution_count": 19,
     "metadata": {},
     "output_type": "execute_result"
    }
   ],
   "source": [
    "from utils.model.RS_GraphSAGE import GraphSage\n",
    "\n",
    "dataset = AGDataset\n",
    "\n",
    "early_stop_callback = EarlyStopping(\n",
    "    monitor='val_loss',\n",
    "    min_delta=0.00,\n",
    "    patience=10,\n",
    "    verbose=False,\n",
    "    mode='min'\n",
    ")\n",
    "hparams = {\"aggregator_type\": 'mean',\n",
    "           \"HIDDEN_DIM\": [112, 16],  # size of the embedding\n",
    "           \"BATCH_SIZE\": 64,\n",
    "           \"LEARNING_RATE\": 0.001,\n",
    "           \"NUM_NEIGHBORS\": [10, 10]\n",
    "           }  # The number of neighbors in each order of sampling\n",
    "\n",
    "tb_logger = pl_loggers.TensorBoardLogger(tb_logging_dir, name=exp_name)\n",
    " \n",
    "trainer = pl.Trainer(max_epochs=100,\n",
    "                     callbacks=[early_stop_callback],\n",
    "                     logger=tb_logger,\n",
    "                     log_every_n_steps=1,\n",
    "                     # accelerator=\"cpu\"\n",
    "                    # num_sanity_val_steps = 0\n",
    "                     )\n",
    "\n",
    "version_dir = os.path.join(\n",
    "    exp_dir, \"version_\"+str(trainer.logger.version))\n",
    "writer_acc = SummaryWriter(log_dir=version_dir)\n",
    "writer_loss = SummaryWriter(log_dir=version_dir)\n",
    "\n",
    "checkpoint_dir = os.path.join(version_dir, \"checkpoints\")\n",
    "print(\"Saving checkpoints to\", checkpoint_dir)\n",
    "\n",
    "SAGEmodel = GraphSage(dataset=dataset, input_dim=dataset.num_features, hparams=hparams,\n",
    "                      writer_acc=writer_acc, writer_loss=writer_loss).to(device)\n",
    "SAGEmodel.data_processing_transductive() \n",
    "\n",
    "trainer.fit(SAGEmodel)\n",
    "trainer.test(SAGEmodel)"
   ]
  },
  {
   "cell_type": "markdown",
   "id": "cda08bcf-1091-4a30-86f0-5e899c0de5fb",
   "metadata": {},
   "source": [
    "#### Upload trained model"
   ]
  },
  {
   "cell_type": "code",
   "execution_count": 4,
   "id": "9a51aa6d-67d0-4236-8590-d91ab4e9e1c8",
   "metadata": {},
   "outputs": [
    {
     "name": "stdout",
     "output_type": "stream",
     "text": [
      "Data Processing Done on: cpu\n"
     ]
    }
   ],
   "source": [
    "from utils.model.RS_GraphSAGE import GraphSage\n",
    "hparams = {\"aggregator_type\": 'mean',\n",
    "           \"HIDDEN_DIM\": [112, 16],  # size of the embedding\n",
    "           \"BATCH_SIZE\": 64,\n",
    "           \"LEARNING_RATE\": 0.001,\n",
    "           \"NUM_NEIGHBORS\": [10, 10]\n",
    "           }\n",
    "dataset = AGDataset\n",
    "checkpoint_dir = \"lightning_logs\\\\RS_AG_GraphSAGE_transductive\\\\best\\\\checkpoints\"\n",
    "checkpoint_file = os.path.join(checkpoint_dir, os.listdir(checkpoint_dir)[0])\n",
    "Loaded_model = GraphSage.load_from_checkpoint(checkpoint_file, dataset=dataset, input_dim=dataset.num_features, hparams=hparams)\n",
    "Loaded_model.data_processing_transductive()"
   ]
  },
  {
   "cell_type": "code",
   "execution_count": 25,
   "id": "cb9e3851-8256-4747-87ab-335b79a06e11",
   "metadata": {},
   "outputs": [],
   "source": [
    "Loaded_model = SAGEmodel"
   ]
  },
  {
   "cell_type": "markdown",
   "id": "a31f0e04-5e9f-4b4a-aa4d-802527214952",
   "metadata": {},
   "source": [
    "#### To see the mini-batch's number of negative edges:"
   ]
  },
  {
   "cell_type": "code",
   "execution_count": 7,
   "id": "22c7e451-df6e-4f6c-9610-fd2b921380e5",
   "metadata": {},
   "outputs": [
    {
     "data": {
      "text/plain": [
       "Data(x=[4277, 768], edge_index=[2, 6750], edge_label=[6750], train_mask=[4277], n_id=[4277], e_id=[6750], input_id=[64], batch_size=64)"
      ]
     },
     "execution_count": 7,
     "metadata": {},
     "output_type": "execute_result"
    }
   ],
   "source": [
    "tmpLoader = Loaded_model.train_dataloader()\n",
    "sample = next(iter(tmpLoader))\n",
    "sample"
   ]
  },
  {
   "cell_type": "markdown",
   "id": "e7cd94bf-0d90-41e6-b65d-ed6546d2d301",
   "metadata": {},
   "source": [
    "#### To see the number of training positive edges:"
   ]
  },
  {
   "cell_type": "code",
   "execution_count": 8,
   "id": "f05cbb24-aeb3-4f63-901e-5a662b13186e",
   "metadata": {},
   "outputs": [
    {
     "data": {
      "text/plain": [
       "Data(x=[6614, 768], edge_index=[2, 7397], edge_label=[7397], train_mask=[6614])"
      ]
     },
     "execution_count": 8,
     "metadata": {},
     "output_type": "execute_result"
    }
   ],
   "source": [
    "Loaded_model.pos_data[\"train\"]"
   ]
  },
  {
   "cell_type": "markdown",
   "id": "d9376e07-a533-48a5-94f3-98d661035dd0",
   "metadata": {},
   "source": [
    "#### Recommendation for a given node"
   ]
  },
  {
   "cell_type": "code",
   "execution_count": 26,
   "id": "a8427e88-bc42-4f3c-b27d-b904ffe20a5b",
   "metadata": {},
   "outputs": [
    {
     "name": "stdout",
     "output_type": "stream",
     "text": [
      "Recommendation for node 1370 with title Non-linear matrix completion\n",
      "119 0.9976344108581543 R1-PCA: rotational invariant L1-norm principal component analysis for robust subspace factorization\n",
      "417 0.9962921142578125 Matrix Completion via Sparse Factorization Solved by Accelerated Proximal Alternating Linearized Minimization\n",
      "907 0.9961626529693604 Principal manifolds and nonlinear dimensionality reduction via tangent space alignment\n",
      "761 0.9953721165657043 Efficient and Robust Feature Selection via Joint ℓ2, 1-Norms Minimization\n",
      "2215 0.9948280453681946 Robust Non-Linear Matrix Factorization for Dictionary Learning, Denoising, and Clustering\n",
      "824 0.9944800138473511 Convex and Semi-Nonnegative Matrix Factorizations\n",
      "2741 0.9936521053314209 Polynomial Matrix Completion for Missing Data Imputation and Transductive Learning\n",
      "3879 0.9924148917198181 Robust nonnegative matrix factorization using L21-norm\n",
      "2267 0.9922853708267212 Online High Rank Matrix Completion\n",
      "5595 0.9917367100715637 Robust tensor factorization using R1 norm\n"
     ]
    }
   ],
   "source": [
    "import torch.nn.functional as F\n",
    "def recommendation_by_transductive_model(A, model):\n",
    "    ## Return recommedation for A in the given graph\n",
    "    neg_graph = model.neg_data[\"all\"]\n",
    "    candidate = torch.zeros(neg_graph.num_edges)\n",
    "\n",
    "    candidate = neg_graph.edge_index[1, (neg_graph.edge_index[0] == A)].cpu()\n",
    "    candidate.sort()\n",
    "    num_candidates = len(candidate) \n",
    "    u = torch.ones(num_candidates, dtype=torch.int) * A\n",
    "    v = torch.Tensor(candidate)\n",
    "    candidate_link = torch.stack((u, v))\n",
    "\n",
    "    embedding = model(model.pos_data[\"train\"].x.cpu(), model.pos_data[\"train\"].edge_index.cpu())\n",
    "\n",
    "    scores = np.zeros(candidate.max()+1) - 1e8\n",
    "    \n",
    "    scores[v] = F.sigmoid((embedding[u] * embedding[v]).sum(dim=1)).detach().numpy()\n",
    "\n",
    "    rank_idx = np.argsort(scores)[::-1]\n",
    "    \n",
    "    pos_graph = model.pos_data[\"all\"]\n",
    "    print(\"Recommendation for node\", A, \"with title\", pos_graph.title[A])\n",
    "    for k in range(10):\n",
    "        print(rank_idx[k], scores[rank_idx[k]], pos_graph.title[rank_idx[k]])\n",
    "        \n",
    "recommendation_by_transductive_model(1370, Loaded_model)"
   ]
  },
  {
   "cell_type": "code",
   "execution_count": 10,
   "id": "84222f24-3b6f-48b3-bf0c-d1b88d4630ad",
   "metadata": {},
   "outputs": [
    {
     "data": {
      "text/plain": [
       "tensor([[   2],\n",
       "        [   7],\n",
       "        [  11],\n",
       "        ...,\n",
       "        [6596],\n",
       "        [6597],\n",
       "        [6613]])"
      ]
     },
     "execution_count": 10,
     "metadata": {},
     "output_type": "execute_result"
    }
   ],
   "source": [
    "Loaded_model.pos_data[\"all\"].test_mask.argwhere()"
   ]
  },
  {
   "cell_type": "code",
   "execution_count": 23,
   "id": "f35a6bfe-be5f-4ec1-807f-8c6bd90d3f20",
   "metadata": {},
   "outputs": [
    {
     "name": "stdout",
     "output_type": "stream",
     "text": [
      "Recommendation for node 1370 with title Non-linear matrix completion\n",
      "119 0.9976344108581543 R1-PCA: rotational invariant L1-norm principal component analysis for robust subspace factorization\n",
      "417 0.9962921142578125 Matrix Completion via Sparse Factorization Solved by Accelerated Proximal Alternating Linearized Minimization\n",
      "907 0.9961626529693604 Principal manifolds and nonlinear dimensionality reduction via tangent space alignment\n",
      "761 0.9953721165657043 Efficient and Robust Feature Selection via Joint ℓ2, 1-Norms Minimization\n",
      "2215 0.9948280453681946 Robust Non-Linear Matrix Factorization for Dictionary Learning, Denoising, and Clustering\n",
      "824 0.9944800138473511 Convex and Semi-Nonnegative Matrix Factorizations\n",
      "2741 0.9936521053314209 Polynomial Matrix Completion for Missing Data Imputation and Transductive Learning\n",
      "3879 0.9924148917198181 Robust nonnegative matrix factorization using L21-norm\n",
      "2267 0.9922853708267212 Online High Rank Matrix Completion\n",
      "5595 0.9917367100715637 Robust tensor factorization using R1 norm\n"
     ]
    }
   ],
   "source": [
    "recommendation_by_transductive_model(1370, SAGEmodel)"
   ]
  },
  {
   "cell_type": "code",
   "execution_count": 24,
   "id": "62538d5c-a36e-44eb-8730-7ebfc732bd00",
   "metadata": {},
   "outputs": [
    {
     "name": "stdout",
     "output_type": "stream",
     "text": [
      "Recommendation for node 1676 with title A Semismooth Newton Stochastic Proximal Point Algorithm with Variance Reduction\n",
      "5541 0.9937726855278015 A Proximal Alternating Direction Method of Multiplier for Linearly Constrained Nonconvex Minimization\n",
      "125 0.9928070306777954 Error bounds for analytic systems and their applications\n",
      "586 0.9912087917327881 An analytic center cutting plane method for pseudomonotone variational inequalities\n",
      "1389 0.9911084175109863 Error bounds and convergence analysis of feasible descent methods: a general approach\n",
      "814 0.9910992980003357 Complexity Analysis of an Interior Cutting Plane Method for Convex Feasibility Problems\n",
      "179 0.9910261034965515 Push–Pull Gradient Methods for Distributed Optimization in Networks\n",
      "6356 0.9905016422271729 On the convergence of the coordinate descent method for convex differentiable minimization\n",
      "4406 0.9901732206344604 Mathematical Programs with Equilibrium Constraints\n",
      "5419 0.9899898767471313 On the Superlinear and Quadratic Convergence of Primal-Dual Interior Point Linear Programming Algorithms\n",
      "6603 0.9888007640838623 Error Bound and Convergence Analysis of Matrix Splitting Algorithms for the Affine Variational Inequality Problem\n"
     ]
    }
   ],
   "source": [
    "recommendation_by_transductive_model(1676,  SAGEmodel)"
   ]
  },
  {
   "cell_type": "code",
   "execution_count": null,
   "id": "094781f1-cb69-4560-b104-f0732bec419a",
   "metadata": {},
   "outputs": [],
   "source": []
  }
 ],
 "metadata": {
  "kernelspec": {
   "display_name": "Python 3 (ipykernel)",
   "language": "python",
   "name": "python3"
  },
  "language_info": {
   "codemirror_mode": {
    "name": "ipython",
    "version": 3
   },
   "file_extension": ".py",
   "mimetype": "text/x-python",
   "name": "python",
   "nbconvert_exporter": "python",
   "pygments_lexer": "ipython3",
   "version": "3.10.9"
  },
  "widgets": {
   "application/vnd.jupyter.widget-state+json": {
    "state": {
     "00118f9cc8a1422087d4adb291ba1f4b": {
      "model_module": "@jupyter-widgets/controls",
      "model_module_version": "2.0.0",
      "model_name": "HTMLStyleModel",
      "state": {
       "description_width": "",
       "font_size": null,
       "text_color": null
      }
     },
     "00779da2adf7496188f1ab3927362591": {
      "model_module": "@jupyter-widgets/controls",
      "model_module_version": "2.0.0",
      "model_name": "ProgressStyleModel",
      "state": {
       "description_width": ""
      }
     },
     "00ee9e6cb1684d91b218fd2c0ece09bd": {
      "model_module": "@jupyter-widgets/base",
      "model_module_version": "2.0.0",
      "model_name": "LayoutModel",
      "state": {
       "display": "inline-flex",
       "flex_flow": "row wrap",
       "visibility": "hidden",
       "width": "100%"
      }
     },
     "015d62f6aa374fdeb6f35307be3a6f09": {
      "model_module": "@jupyter-widgets/controls",
      "model_module_version": "2.0.0",
      "model_name": "HTMLModel",
      "state": {
       "layout": "IPY_MODEL_ef3b2ac28f564c858ce49af5d10e25af",
       "style": "IPY_MODEL_943d52afbcf44d42b2d4c622bcf77a08",
       "value": " 62/62 [00:01&lt;00:00, 41.23it/s]"
      }
     },
     "01b7d33954ff434cb2473313d43c19e6": {
      "model_module": "@jupyter-widgets/base",
      "model_module_version": "2.0.0",
      "model_name": "LayoutModel",
      "state": {
       "display": "inline-flex",
       "flex_flow": "row wrap",
       "visibility": "hidden",
       "width": "100%"
      }
     },
     "01e296958c944a4b8c06173bb43a8a8a": {
      "model_module": "@jupyter-widgets/base",
      "model_module_version": "2.0.0",
      "model_name": "LayoutModel",
      "state": {
       "display": "inline-flex",
       "flex_flow": "row wrap",
       "visibility": "hidden",
       "width": "100%"
      }
     },
     "02481064a181438a84d780922527d832": {
      "model_module": "@jupyter-widgets/base",
      "model_module_version": "2.0.0",
      "model_name": "LayoutModel",
      "state": {}
     },
     "02528c3b42414403be63bb8100898968": {
      "model_module": "@jupyter-widgets/controls",
      "model_module_version": "2.0.0",
      "model_name": "ProgressStyleModel",
      "state": {
       "description_width": ""
      }
     },
     "026c9a32f49d4d49a7362db851cce84b": {
      "model_module": "@jupyter-widgets/controls",
      "model_module_version": "2.0.0",
      "model_name": "HTMLModel",
      "state": {
       "layout": "IPY_MODEL_8b7139e2718a48cca7644a0ab7d96005",
       "style": "IPY_MODEL_2b9805fef86b401ebe57733959fa56ec",
       "value": " 62/62 [00:01&lt;00:00, 33.03it/s]"
      }
     },
     "02910b88898e42839a2ff54c936986ee": {
      "model_module": "@jupyter-widgets/controls",
      "model_module_version": "2.0.0",
      "model_name": "ProgressStyleModel",
      "state": {
       "description_width": ""
      }
     },
     "0372d9184a9f443bb145099dc348fec7": {
      "model_module": "@jupyter-widgets/base",
      "model_module_version": "2.0.0",
      "model_name": "LayoutModel",
      "state": {}
     },
     "03820630543e4a80a608a5f9a8c0a9ee": {
      "model_module": "@jupyter-widgets/base",
      "model_module_version": "2.0.0",
      "model_name": "LayoutModel",
      "state": {}
     },
     "03921079b3854b29a4f3f6efe3db031c": {
      "model_module": "@jupyter-widgets/controls",
      "model_module_version": "2.0.0",
      "model_name": "HTMLModel",
      "state": {
       "layout": "IPY_MODEL_fa43898fa4234fd792361e4cee9ef5fa",
       "style": "IPY_MODEL_e656e28728464ae8896d767c94defc9e",
       "value": " 62/62 [00:01&lt;00:00, 32.59it/s]"
      }
     },
     "0419a1ac60474f32b8772225c2f31573": {
      "model_module": "@jupyter-widgets/controls",
      "model_module_version": "2.0.0",
      "model_name": "HTMLModel",
      "state": {
       "layout": "IPY_MODEL_3f132ed9aca345a8ad00735abd745165",
       "style": "IPY_MODEL_774c8ed3a77a4d82a2f87b896c167a48",
       "value": " 62/62 [00:01&lt;00:00, 31.82it/s]"
      }
     },
     "042839e7febf4f8ba8e30f7be4202d9e": {
      "model_module": "@jupyter-widgets/controls",
      "model_module_version": "2.0.0",
      "model_name": "FloatProgressModel",
      "state": {
       "layout": "IPY_MODEL_5b25194049af43828eabb982492703b2",
       "max": 62,
       "style": "IPY_MODEL_65a945caa70a41e2a2c56d680b5c443e",
       "value": 62
      }
     },
     "045c5025d5fc45dfb4531a6762a71de8": {
      "model_module": "@jupyter-widgets/controls",
      "model_module_version": "2.0.0",
      "model_name": "HTMLModel",
      "state": {
       "layout": "IPY_MODEL_9317015554fc4ee89cb0711ca7ce805a",
       "style": "IPY_MODEL_38250083915b4a36ae5f8c126f5b1105",
       "value": "Validation DataLoader 0: 100%"
      }
     },
     "04707beff85440f88bb5fc6837e24a90": {
      "model_module": "@jupyter-widgets/controls",
      "model_module_version": "2.0.0",
      "model_name": "HTMLModel",
      "state": {
       "layout": "IPY_MODEL_a312ff9f202e4a368e3cd4fa0b8f63f3",
       "style": "IPY_MODEL_2fbe8cbc66a3410488f0ffef9e67d9e7",
       "value": "Epoch 37: 100%"
      }
     },
     "0495be577f7247678ddb9734c64b118d": {
      "model_module": "@jupyter-widgets/controls",
      "model_module_version": "2.0.0",
      "model_name": "HTMLModel",
      "state": {
       "layout": "IPY_MODEL_b6da2762aaef41218ae9dcb8a58b7a6f",
       "style": "IPY_MODEL_6303885937a1458bb12c73c0eafafb89",
       "value": "Validation DataLoader 0: 100%"
      }
     },
     "0499a26978ba43fe89efd09cf4a556d0": {
      "model_module": "@jupyter-widgets/controls",
      "model_module_version": "2.0.0",
      "model_name": "ProgressStyleModel",
      "state": {
       "description_width": ""
      }
     },
     "04fb97ad9bdf46b39f0d5bf3c90a9cae": {
      "model_module": "@jupyter-widgets/base",
      "model_module_version": "2.0.0",
      "model_name": "LayoutModel",
      "state": {
       "display": "inline-flex",
       "flex_flow": "row wrap",
       "visibility": "hidden",
       "width": "100%"
      }
     },
     "04fd3686156f4dbcbeaa6e5285d36a9a": {
      "model_module": "@jupyter-widgets/controls",
      "model_module_version": "2.0.0",
      "model_name": "HTMLStyleModel",
      "state": {
       "description_width": "",
       "font_size": null,
       "text_color": null
      }
     },
     "0532b2059a7f45209f3d29aa3db1953c": {
      "model_module": "@jupyter-widgets/controls",
      "model_module_version": "2.0.0",
      "model_name": "HTMLModel",
      "state": {
       "layout": "IPY_MODEL_21ef4db8d59842adb988fcefeb471268",
       "style": "IPY_MODEL_6fb0b80945814dff8cb367a607cf4974",
       "value": "Validation DataLoader 0: 100%"
      }
     },
     "05c297420300471eadf277fd90ef1da9": {
      "model_module": "@jupyter-widgets/controls",
      "model_module_version": "2.0.0",
      "model_name": "FloatProgressModel",
      "state": {
       "layout": "IPY_MODEL_107005ffe3ab4f18974e36b3abe9d25c",
       "max": 62,
       "style": "IPY_MODEL_83c3e1226eb146fcbbfdf9fad991fefd",
       "value": 62
      }
     },
     "065e6448bda2467d8565be76aaaa5b7f": {
      "model_module": "@jupyter-widgets/controls",
      "model_module_version": "2.0.0",
      "model_name": "ProgressStyleModel",
      "state": {
       "description_width": ""
      }
     },
     "067efed69f3b4a32ba0adc37423d6d63": {
      "model_module": "@jupyter-widgets/controls",
      "model_module_version": "2.0.0",
      "model_name": "HTMLStyleModel",
      "state": {
       "description_width": "",
       "font_size": null,
       "text_color": null
      }
     },
     "0682be9d3d3e49b5b88447f1944730cd": {
      "model_module": "@jupyter-widgets/controls",
      "model_module_version": "2.0.0",
      "model_name": "HTMLModel",
      "state": {
       "layout": "IPY_MODEL_6bb08584e7dc4b86a7afdaf941050fb7",
       "style": "IPY_MODEL_d5dd5badda9a4345987bee1cecb46801",
       "value": "Testing DataLoader 0: 100%"
      }
     },
     "06d8a873904f4fd2aea07df8648364b9": {
      "model_module": "@jupyter-widgets/base",
      "model_module_version": "2.0.0",
      "model_name": "LayoutModel",
      "state": {
       "display": "inline-flex",
       "flex_flow": "row wrap",
       "visibility": "hidden",
       "width": "100%"
      }
     },
     "06eb9bcaa5ab4498b2463fcdc5ecc5fb": {
      "model_module": "@jupyter-widgets/base",
      "model_module_version": "2.0.0",
      "model_name": "LayoutModel",
      "state": {
       "display": "inline-flex",
       "flex_flow": "row wrap",
       "visibility": "hidden",
       "width": "100%"
      }
     },
     "0745c82ca76e400391e7d2d5fad3553f": {
      "model_module": "@jupyter-widgets/base",
      "model_module_version": "2.0.0",
      "model_name": "LayoutModel",
      "state": {
       "flex": "2"
      }
     },
     "0843c53902da4e37a5e4cabc4dbe7a78": {
      "model_module": "@jupyter-widgets/controls",
      "model_module_version": "2.0.0",
      "model_name": "HTMLStyleModel",
      "state": {
       "description_width": "",
       "font_size": null,
       "text_color": null
      }
     },
     "087836781b524e9ba79f6065065f66f3": {
      "model_module": "@jupyter-widgets/controls",
      "model_module_version": "2.0.0",
      "model_name": "HTMLStyleModel",
      "state": {
       "description_width": "",
       "font_size": null,
       "text_color": null
      }
     },
     "08942275bf1d4f88805d2285ebd942cc": {
      "model_module": "@jupyter-widgets/controls",
      "model_module_version": "2.0.0",
      "model_name": "FloatProgressModel",
      "state": {
       "layout": "IPY_MODEL_e7d40ceeeaec4b499cfdb54a82d32771",
       "max": 62,
       "style": "IPY_MODEL_6c59606a70d6461193428584f31c5395",
       "value": 62
      }
     },
     "0895d64f1bc341feaa88215d416353c8": {
      "model_module": "@jupyter-widgets/controls",
      "model_module_version": "2.0.0",
      "model_name": "FloatProgressModel",
      "state": {
       "layout": "IPY_MODEL_ce007262f0524b3ab0b2f8886bc0a27d",
       "max": 62,
       "style": "IPY_MODEL_84ec8328ada549d1953adf1bf9618cc5",
       "value": 62
      }
     },
     "095c1754595e4775ad5857e45b8412a9": {
      "model_module": "@jupyter-widgets/controls",
      "model_module_version": "2.0.0",
      "model_name": "HTMLModel",
      "state": {
       "layout": "IPY_MODEL_d6f4a6a230a04cafba962ce927c610ba",
       "style": "IPY_MODEL_40b0d2de5481421eaf414cbd8bfa3918",
       "value": "Validation DataLoader 0: 100%"
      }
     },
     "09cc43b003184a809732a7aec5d7a4f0": {
      "model_module": "@jupyter-widgets/controls",
      "model_module_version": "2.0.0",
      "model_name": "HTMLModel",
      "state": {
       "layout": "IPY_MODEL_22cd6e60eabb40aea18032482c9cf815",
       "style": "IPY_MODEL_79f330d735c9438facd36c560212604d",
       "value": " 62/62 [00:01&lt;00:00, 32.93it/s]"
      }
     },
     "09f0a9bb7afe441cb54c7b4d384baa47": {
      "model_module": "@jupyter-widgets/controls",
      "model_module_version": "2.0.0",
      "model_name": "ProgressStyleModel",
      "state": {
       "description_width": ""
      }
     },
     "0a148eafa67643fbb094f0dca5adcb66": {
      "model_module": "@jupyter-widgets/base",
      "model_module_version": "2.0.0",
      "model_name": "LayoutModel",
      "state": {
       "flex": "2"
      }
     },
     "0a7ce20f9fda4721bebe0c945d24d986": {
      "model_module": "@jupyter-widgets/controls",
      "model_module_version": "2.0.0",
      "model_name": "FloatProgressModel",
      "state": {
       "layout": "IPY_MODEL_8d4b5f7d849b4ac0aa84d59ca822df73",
       "max": 62,
       "style": "IPY_MODEL_23b121aa524648768dbf3ccd1572c0dc",
       "value": 62
      }
     },
     "0ae3b6e0e5624b05b364e8364fc1415d": {
      "model_module": "@jupyter-widgets/controls",
      "model_module_version": "2.0.0",
      "model_name": "FloatProgressModel",
      "state": {
       "layout": "IPY_MODEL_e4d7e4e518aa43b488dec2c8811a3146",
       "max": 62,
       "style": "IPY_MODEL_aa82d3fba5b94d48ad24f9f84c2f8482",
       "value": 62
      }
     },
     "0b548089fcea43d2899e7b106018b656": {
      "model_module": "@jupyter-widgets/controls",
      "model_module_version": "2.0.0",
      "model_name": "HTMLStyleModel",
      "state": {
       "description_width": "",
       "font_size": null,
       "text_color": null
      }
     },
     "0be56e8e289f4cb3ba096ed94434b91f": {
      "model_module": "@jupyter-widgets/controls",
      "model_module_version": "2.0.0",
      "model_name": "HTMLStyleModel",
      "state": {
       "description_width": "",
       "font_size": null,
       "text_color": null
      }
     },
     "0bed464cf713497e89e6ad1d25500ade": {
      "model_module": "@jupyter-widgets/base",
      "model_module_version": "2.0.0",
      "model_name": "LayoutModel",
      "state": {
       "flex": "2"
      }
     },
     "0c0612305c43453eaa13eeb5e2863293": {
      "model_module": "@jupyter-widgets/base",
      "model_module_version": "2.0.0",
      "model_name": "LayoutModel",
      "state": {
       "flex": "2"
      }
     },
     "0c4d89df9d074176aa12aa84283cf4b6": {
      "model_module": "@jupyter-widgets/base",
      "model_module_version": "2.0.0",
      "model_name": "LayoutModel",
      "state": {
       "flex": "2"
      }
     },
     "0c67ab0329a34ee28401e2df95af9700": {
      "model_module": "@jupyter-widgets/base",
      "model_module_version": "2.0.0",
      "model_name": "LayoutModel",
      "state": {
       "flex": "2"
      }
     },
     "0ca906c0ea9948779f83fea776f21162": {
      "model_module": "@jupyter-widgets/base",
      "model_module_version": "2.0.0",
      "model_name": "LayoutModel",
      "state": {
       "display": "inline-flex",
       "flex_flow": "row wrap",
       "visibility": "hidden",
       "width": "100%"
      }
     },
     "0cd53f40acc14363ae4a12c308569a08": {
      "model_module": "@jupyter-widgets/base",
      "model_module_version": "2.0.0",
      "model_name": "LayoutModel",
      "state": {
       "flex": "2"
      }
     },
     "0d1971182b1a4cf59803c523ded4239d": {
      "model_module": "@jupyter-widgets/controls",
      "model_module_version": "2.0.0",
      "model_name": "ProgressStyleModel",
      "state": {
       "description_width": ""
      }
     },
     "0d4cff7b62a84b5da664a88f697e12e0": {
      "model_module": "@jupyter-widgets/base",
      "model_module_version": "2.0.0",
      "model_name": "LayoutModel",
      "state": {}
     },
     "0d5dc6a639b24249ae6d027d0253d11d": {
      "model_module": "@jupyter-widgets/controls",
      "model_module_version": "2.0.0",
      "model_name": "ProgressStyleModel",
      "state": {
       "description_width": ""
      }
     },
     "0dfe5af391d54a58a64c0546093533c1": {
      "model_module": "@jupyter-widgets/controls",
      "model_module_version": "2.0.0",
      "model_name": "HTMLStyleModel",
      "state": {
       "description_width": "",
       "font_size": null,
       "text_color": null
      }
     },
     "0e32259eabf74f2985f1f1267f1ad5d4": {
      "model_module": "@jupyter-widgets/base",
      "model_module_version": "2.0.0",
      "model_name": "LayoutModel",
      "state": {}
     },
     "0ea7b60938f949819a12849d95a0ec09": {
      "model_module": "@jupyter-widgets/controls",
      "model_module_version": "2.0.0",
      "model_name": "HTMLModel",
      "state": {
       "layout": "IPY_MODEL_bca3b8699b49479fbc3bab4f552428f1",
       "style": "IPY_MODEL_aa9d2f23faa34438b4b5fc07f91f36b9",
       "value": "Validation DataLoader 0: 100%"
      }
     },
     "0f11130d8f9a4ad3b7fdfdb693411a14": {
      "model_module": "@jupyter-widgets/controls",
      "model_module_version": "2.0.0",
      "model_name": "HTMLStyleModel",
      "state": {
       "description_width": "",
       "font_size": null,
       "text_color": null
      }
     },
     "0f90eb00171f48889a2fb0e43434b6db": {
      "model_module": "@jupyter-widgets/controls",
      "model_module_version": "2.0.0",
      "model_name": "HTMLModel",
      "state": {
       "layout": "IPY_MODEL_0372d9184a9f443bb145099dc348fec7",
       "style": "IPY_MODEL_a5ba7e20c4da4ccaa1abdc7ac2289480",
       "value": " 62/62 [00:01&lt;00:00, 32.27it/s]"
      }
     },
     "107005ffe3ab4f18974e36b3abe9d25c": {
      "model_module": "@jupyter-widgets/base",
      "model_module_version": "2.0.0",
      "model_name": "LayoutModel",
      "state": {
       "flex": "2"
      }
     },
     "1071ba6f69d44baebd2a53130e863c07": {
      "model_module": "@jupyter-widgets/base",
      "model_module_version": "2.0.0",
      "model_name": "LayoutModel",
      "state": {
       "flex": "2"
      }
     },
     "10dcb6cd0bf44999955b9c9104322664": {
      "model_module": "@jupyter-widgets/controls",
      "model_module_version": "2.0.0",
      "model_name": "HTMLStyleModel",
      "state": {
       "description_width": "",
       "font_size": null,
       "text_color": null
      }
     },
     "10dff4cee9644050b5016a619438c49e": {
      "model_module": "@jupyter-widgets/controls",
      "model_module_version": "2.0.0",
      "model_name": "FloatProgressModel",
      "state": {
       "layout": "IPY_MODEL_64d545d4fbbd477d92ba744b76e94127",
       "max": 62,
       "style": "IPY_MODEL_0d5dc6a639b24249ae6d027d0253d11d",
       "value": 62
      }
     },
     "10eb8c3eec624968a4e43c37f330be50": {
      "model_module": "@jupyter-widgets/base",
      "model_module_version": "2.0.0",
      "model_name": "LayoutModel",
      "state": {}
     },
     "1129299bc5d2454f8dcac353ca774569": {
      "model_module": "@jupyter-widgets/controls",
      "model_module_version": "2.0.0",
      "model_name": "HTMLModel",
      "state": {
       "layout": "IPY_MODEL_a9ea8295cfe14a2e980f6a0fca76eb44",
       "style": "IPY_MODEL_61278c31a48e4e75b10503046aad00e0",
       "value": "Validation DataLoader 0: 100%"
      }
     },
     "1163d6fae734417eb66bfdcf38b35603": {
      "model_module": "@jupyter-widgets/controls",
      "model_module_version": "2.0.0",
      "model_name": "HTMLStyleModel",
      "state": {
       "description_width": "",
       "font_size": null,
       "text_color": null
      }
     },
     "1188f6192ed74215bf91e4894e699804": {
      "model_module": "@jupyter-widgets/controls",
      "model_module_version": "2.0.0",
      "model_name": "HTMLModel",
      "state": {
       "layout": "IPY_MODEL_10eb8c3eec624968a4e43c37f330be50",
       "style": "IPY_MODEL_c95bb0bc47214b10b086163a6777dc40",
       "value": " 62/62 [00:01&lt;00:00, 31.72it/s]"
      }
     },
     "11be6c2e2b1c4629a9521f2c245bfbab": {
      "model_module": "@jupyter-widgets/base",
      "model_module_version": "2.0.0",
      "model_name": "LayoutModel",
      "state": {
       "display": "inline-flex",
       "flex_flow": "row wrap",
       "visibility": "hidden",
       "width": "100%"
      }
     },
     "12bf1a6f3fcd4c34a4110d0f0c39b2a6": {
      "model_module": "@jupyter-widgets/controls",
      "model_module_version": "2.0.0",
      "model_name": "HTMLStyleModel",
      "state": {
       "description_width": "",
       "font_size": null,
       "text_color": null
      }
     },
     "1322a367c5af4081a940c8e8c24c8753": {
      "model_module": "@jupyter-widgets/base",
      "model_module_version": "2.0.0",
      "model_name": "LayoutModel",
      "state": {
       "flex": "2"
      }
     },
     "13a4c1215dfe4f2bb0395cbcf67de1b6": {
      "model_module": "@jupyter-widgets/base",
      "model_module_version": "2.0.0",
      "model_name": "LayoutModel",
      "state": {
       "display": "inline-flex",
       "flex_flow": "row wrap",
       "visibility": "hidden",
       "width": "100%"
      }
     },
     "1431685a736f4e279718279f4eaf0c95": {
      "model_module": "@jupyter-widgets/controls",
      "model_module_version": "2.0.0",
      "model_name": "ProgressStyleModel",
      "state": {
       "description_width": ""
      }
     },
     "144631d792d9465dabf1a3c3e082a16c": {
      "model_module": "@jupyter-widgets/controls",
      "model_module_version": "2.0.0",
      "model_name": "ProgressStyleModel",
      "state": {
       "description_width": ""
      }
     },
     "146db0108c404b49be773e6c746896a0": {
      "model_module": "@jupyter-widgets/base",
      "model_module_version": "2.0.0",
      "model_name": "LayoutModel",
      "state": {
       "flex": "2"
      }
     },
     "1470b0a9767548c989864bb9ed60bd8e": {
      "model_module": "@jupyter-widgets/controls",
      "model_module_version": "2.0.0",
      "model_name": "HTMLModel",
      "state": {
       "layout": "IPY_MODEL_95823c5f248746cd9f5613b62a3ea34f",
       "style": "IPY_MODEL_cd7721a642a5438297d0897059aaa6be",
       "value": "Validation DataLoader 0: 100%"
      }
     },
     "1493a049908645178eff88ab6557e42a": {
      "model_module": "@jupyter-widgets/base",
      "model_module_version": "2.0.0",
      "model_name": "LayoutModel",
      "state": {
       "display": "inline-flex",
       "flex_flow": "row wrap",
       "visibility": "hidden",
       "width": "100%"
      }
     },
     "1541a7b70b7144d8a46cd82a24ea6ead": {
      "model_module": "@jupyter-widgets/controls",
      "model_module_version": "2.0.0",
      "model_name": "HTMLStyleModel",
      "state": {
       "description_width": "",
       "font_size": null,
       "text_color": null
      }
     },
     "157fc4e06aa144b798c90e3f61e017a7": {
      "model_module": "@jupyter-widgets/controls",
      "model_module_version": "2.0.0",
      "model_name": "HTMLModel",
      "state": {
       "layout": "IPY_MODEL_cb444ab710134de99865aced0f155fc6",
       "style": "IPY_MODEL_fab44ee489234b828c4c86c749902cf5",
       "value": " 62/62 [00:01&lt;00:00, 32.64it/s]"
      }
     },
     "15b974def1204097b7564e41c54ae542": {
      "model_module": "@jupyter-widgets/controls",
      "model_module_version": "2.0.0",
      "model_name": "HTMLModel",
      "state": {
       "layout": "IPY_MODEL_2b3b88606cb14dd79a3d66b9273661e1",
       "style": "IPY_MODEL_fd698b2cad134f05b88c79874f7cb073",
       "value": "Validation DataLoader 0: 100%"
      }
     },
     "1622867c39ea4b589184c735dc89c9f0": {
      "model_module": "@jupyter-widgets/base",
      "model_module_version": "2.0.0",
      "model_name": "LayoutModel",
      "state": {
       "display": "inline-flex",
       "flex_flow": "row wrap",
       "width": "100%"
      }
     },
     "1649f7a574df4dbbbf24f3b02a6f90ea": {
      "model_module": "@jupyter-widgets/base",
      "model_module_version": "2.0.0",
      "model_name": "LayoutModel",
      "state": {
       "flex": "2"
      }
     },
     "16a22b87f2094e2aa45b304e4d8188aa": {
      "model_module": "@jupyter-widgets/base",
      "model_module_version": "2.0.0",
      "model_name": "LayoutModel",
      "state": {
       "flex": "2"
      }
     },
     "16b85d30f27148d0aebc97eb454f1529": {
      "model_module": "@jupyter-widgets/base",
      "model_module_version": "2.0.0",
      "model_name": "LayoutModel",
      "state": {
       "display": "inline-flex",
       "flex_flow": "row wrap",
       "visibility": "hidden",
       "width": "100%"
      }
     },
     "17240b95fd4040d58b8871ab1f331dd2": {
      "model_module": "@jupyter-widgets/base",
      "model_module_version": "2.0.0",
      "model_name": "LayoutModel",
      "state": {
       "display": "inline-flex",
       "flex_flow": "row wrap",
       "visibility": "hidden",
       "width": "100%"
      }
     },
     "1755b42e9c00423daa6ba1409f5c4b46": {
      "model_module": "@jupyter-widgets/controls",
      "model_module_version": "2.0.0",
      "model_name": "HTMLModel",
      "state": {
       "layout": "IPY_MODEL_b7e3cf176fb849b1874cca91e88e608d",
       "style": "IPY_MODEL_2c51a63eb7494bc18cf5e9c35a66ab18",
       "value": "Validation DataLoader 0: 100%"
      }
     },
     "17cd6058ff3b4ad38475e087ed3cadda": {
      "model_module": "@jupyter-widgets/base",
      "model_module_version": "2.0.0",
      "model_name": "LayoutModel",
      "state": {}
     },
     "1809557b334f4e8686a8d1ece1047dcb": {
      "model_module": "@jupyter-widgets/controls",
      "model_module_version": "2.0.0",
      "model_name": "HTMLModel",
      "state": {
       "layout": "IPY_MODEL_48363043d00c4832be72f2a08e43c462",
       "style": "IPY_MODEL_087836781b524e9ba79f6065065f66f3",
       "value": " 62/62 [00:04&lt;00:00, 13.78it/s, v_num=0, train_acc=0.995, val_acc=0.983]"
      }
     },
     "1838f772b7d64e0db3b903d1c07a55e0": {
      "model_module": "@jupyter-widgets/base",
      "model_module_version": "2.0.0",
      "model_name": "LayoutModel",
      "state": {
       "display": "inline-flex",
       "flex_flow": "row wrap",
       "visibility": "hidden",
       "width": "100%"
      }
     },
     "1889908c27b84383a4fea0cd994df37d": {
      "model_module": "@jupyter-widgets/base",
      "model_module_version": "2.0.0",
      "model_name": "LayoutModel",
      "state": {
       "display": "inline-flex",
       "flex_flow": "row wrap",
       "visibility": "hidden",
       "width": "100%"
      }
     },
     "189b0794e0e343f6a9745c1d948898d8": {
      "model_module": "@jupyter-widgets/base",
      "model_module_version": "2.0.0",
      "model_name": "LayoutModel",
      "state": {
       "display": "inline-flex",
       "flex_flow": "row wrap",
       "visibility": "hidden",
       "width": "100%"
      }
     },
     "18daa4e825e4402b9db749a80d432a3b": {
      "model_module": "@jupyter-widgets/controls",
      "model_module_version": "2.0.0",
      "model_name": "HTMLStyleModel",
      "state": {
       "description_width": "",
       "font_size": null,
       "text_color": null
      }
     },
     "1a71e75136f646808239c794bcf6da01": {
      "model_module": "@jupyter-widgets/base",
      "model_module_version": "2.0.0",
      "model_name": "LayoutModel",
      "state": {
       "display": "inline-flex",
       "flex_flow": "row wrap",
       "visibility": "hidden",
       "width": "100%"
      }
     },
     "1a7ce89a61484a9ead549dc0cffe9f59": {
      "model_module": "@jupyter-widgets/controls",
      "model_module_version": "2.0.0",
      "model_name": "HTMLStyleModel",
      "state": {
       "description_width": "",
       "font_size": null,
       "text_color": null
      }
     },
     "1a82e30e497842a8a0e830ac4dce9fb6": {
      "model_module": "@jupyter-widgets/controls",
      "model_module_version": "2.0.0",
      "model_name": "HTMLModel",
      "state": {
       "layout": "IPY_MODEL_381f01ca189b49adbec8a4119b3d90d9",
       "style": "IPY_MODEL_b366de0072aa44cc9f95cbed0f7f62d3",
       "value": "Validation DataLoader 0: 100%"
      }
     },
     "1a893d00f7d54be0add3d702c3975dd6": {
      "model_module": "@jupyter-widgets/base",
      "model_module_version": "2.0.0",
      "model_name": "LayoutModel",
      "state": {}
     },
     "1abf62cdc1104e9dbf2b2b15dccdee31": {
      "model_module": "@jupyter-widgets/controls",
      "model_module_version": "2.0.0",
      "model_name": "FloatProgressModel",
      "state": {
       "layout": "IPY_MODEL_ceaedbe3daa540c4ad2c323f6e2a15cb",
       "max": 62,
       "style": "IPY_MODEL_268bb4b409a54b669df0d0a094aa80e4",
       "value": 62
      }
     },
     "1aea585c1c8744be864c52225df39751": {
      "model_module": "@jupyter-widgets/base",
      "model_module_version": "2.0.0",
      "model_name": "LayoutModel",
      "state": {}
     },
     "1b1586a74f444f54be90b37c3d47e5f9": {
      "model_module": "@jupyter-widgets/controls",
      "model_module_version": "2.0.0",
      "model_name": "HTMLModel",
      "state": {
       "layout": "IPY_MODEL_a120669edc234b7daaa26e015e0e7ed6",
       "style": "IPY_MODEL_376a66e2652b402684498bba8b0b75bc",
       "value": " 62/62 [00:02&lt;00:00, 29.74it/s]"
      }
     },
     "1b1c7fb988604e4a864bdaf87550027f": {
      "model_module": "@jupyter-widgets/controls",
      "model_module_version": "2.0.0",
      "model_name": "ProgressStyleModel",
      "state": {
       "description_width": ""
      }
     },
     "1b9016a5434647f98b9c0405b5699195": {
      "model_module": "@jupyter-widgets/base",
      "model_module_version": "2.0.0",
      "model_name": "LayoutModel",
      "state": {}
     },
     "1c2d4b5e346048b48fe0b47808063e0b": {
      "model_module": "@jupyter-widgets/base",
      "model_module_version": "2.0.0",
      "model_name": "LayoutModel",
      "state": {
       "display": "inline-flex",
       "flex_flow": "row wrap",
       "visibility": "hidden",
       "width": "100%"
      }
     },
     "1c62fcef44254e2990cebc72825c0372": {
      "model_module": "@jupyter-widgets/base",
      "model_module_version": "2.0.0",
      "model_name": "LayoutModel",
      "state": {}
     },
     "1ca1f9e9c4914cca958d2e20952b4eb7": {
      "model_module": "@jupyter-widgets/controls",
      "model_module_version": "2.0.0",
      "model_name": "HTMLStyleModel",
      "state": {
       "description_width": "",
       "font_size": null,
       "text_color": null
      }
     },
     "1cc3ec7e17194992bc3f8fb431006a71": {
      "model_module": "@jupyter-widgets/controls",
      "model_module_version": "2.0.0",
      "model_name": "ProgressStyleModel",
      "state": {
       "description_width": ""
      }
     },
     "1cd8a9c1e0b44a4abbf7a8db458f2e2f": {
      "model_module": "@jupyter-widgets/controls",
      "model_module_version": "2.0.0",
      "model_name": "HTMLModel",
      "state": {
       "layout": "IPY_MODEL_3903539a5a0b4e38b0dbb87c4b437c4f",
       "style": "IPY_MODEL_9284249243204676a7f6640a84ad3027",
       "value": " 62/62 [00:01&lt;00:00, 34.06it/s]"
      }
     },
     "1d2779ce1e5e4669a0f74ef9e50b56c6": {
      "model_module": "@jupyter-widgets/controls",
      "model_module_version": "2.0.0",
      "model_name": "HTMLStyleModel",
      "state": {
       "description_width": "",
       "font_size": null,
       "text_color": null
      }
     },
     "1d9fc866afef4c3daf0fec85f578e9b7": {
      "model_module": "@jupyter-widgets/controls",
      "model_module_version": "2.0.0",
      "model_name": "HTMLStyleModel",
      "state": {
       "description_width": "",
       "font_size": null,
       "text_color": null
      }
     },
     "1e1635b053b1441e90599056ed4c8517": {
      "model_module": "@jupyter-widgets/controls",
      "model_module_version": "2.0.0",
      "model_name": "HTMLModel",
      "state": {
       "layout": "IPY_MODEL_5c9d8c2e6abc4b079c6dc6d9fe52722d",
       "style": "IPY_MODEL_e355d2e167c04e98897c5eed376b6d20",
       "value": " 62/62 [00:01&lt;00:00, 32.51it/s]"
      }
     },
     "1ea34d0b59ff456b86f1985ada4e8f97": {
      "model_module": "@jupyter-widgets/controls",
      "model_module_version": "2.0.0",
      "model_name": "HTMLModel",
      "state": {
       "layout": "IPY_MODEL_c3df3cfdcfc246398fa2f20ba41987d5",
       "style": "IPY_MODEL_4ee471e066fe433887a21e49277333c5",
       "value": " 62/62 [00:01&lt;00:00, 32.42it/s]"
      }
     },
     "1f6ba4f3413643eca04606a62f3ffa32": {
      "model_module": "@jupyter-widgets/controls",
      "model_module_version": "2.0.0",
      "model_name": "HTMLModel",
      "state": {
       "layout": "IPY_MODEL_1aea585c1c8744be864c52225df39751",
       "style": "IPY_MODEL_d9ec0eb0c988437db2b7ce1944c4c7fe",
       "value": "Validation DataLoader 0: 100%"
      }
     },
     "1fd53c755ef442f8a9a708ea7d0d2f94": {
      "model_module": "@jupyter-widgets/base",
      "model_module_version": "2.0.0",
      "model_name": "LayoutModel",
      "state": {}
     },
     "1fe804afd15d4f4ba01002a68784e6bc": {
      "model_module": "@jupyter-widgets/base",
      "model_module_version": "2.0.0",
      "model_name": "LayoutModel",
      "state": {}
     },
     "20269e7db3f44c91b99252c4658a6df5": {
      "model_module": "@jupyter-widgets/base",
      "model_module_version": "2.0.0",
      "model_name": "LayoutModel",
      "state": {
       "flex": "2"
      }
     },
     "204bab6cc16a497b96e42398c533c693": {
      "model_module": "@jupyter-widgets/base",
      "model_module_version": "2.0.0",
      "model_name": "LayoutModel",
      "state": {}
     },
     "216cd80aff2a4da883cf0768195f0d7a": {
      "model_module": "@jupyter-widgets/controls",
      "model_module_version": "2.0.0",
      "model_name": "HTMLModel",
      "state": {
       "layout": "IPY_MODEL_dcd8ca19d6cd49f0a94386cdc6a1a262",
       "style": "IPY_MODEL_c79120e19a23446fbe80d6393b78a928",
       "value": " 62/62 [00:01&lt;00:00, 32.38it/s]"
      }
     },
     "2170f0eae9b242019546e15ac7ab18d5": {
      "model_module": "@jupyter-widgets/controls",
      "model_module_version": "2.0.0",
      "model_name": "HTMLModel",
      "state": {
       "layout": "IPY_MODEL_685947e03a044556badeec084dc6c2e9",
       "style": "IPY_MODEL_47ac9defa77a4e04afffe1250a8e01fb",
       "value": " 62/62 [00:01&lt;00:00, 32.65it/s]"
      }
     },
     "21ef4db8d59842adb988fcefeb471268": {
      "model_module": "@jupyter-widgets/base",
      "model_module_version": "2.0.0",
      "model_name": "LayoutModel",
      "state": {}
     },
     "22184029ff434a43b5154eead568f79c": {
      "model_module": "@jupyter-widgets/controls",
      "model_module_version": "2.0.0",
      "model_name": "ProgressStyleModel",
      "state": {
       "description_width": ""
      }
     },
     "2221dfed99c74a3fbdfad4836c477e93": {
      "model_module": "@jupyter-widgets/controls",
      "model_module_version": "2.0.0",
      "model_name": "ProgressStyleModel",
      "state": {
       "description_width": ""
      }
     },
     "22cd6e60eabb40aea18032482c9cf815": {
      "model_module": "@jupyter-widgets/base",
      "model_module_version": "2.0.0",
      "model_name": "LayoutModel",
      "state": {}
     },
     "236416bda35f4b0bafc6c8bea8d7d95d": {
      "model_module": "@jupyter-widgets/base",
      "model_module_version": "2.0.0",
      "model_name": "LayoutModel",
      "state": {
       "flex": "2"
      }
     },
     "23ab3df42d2c4fa19238267facb2c15b": {
      "model_module": "@jupyter-widgets/controls",
      "model_module_version": "2.0.0",
      "model_name": "HTMLModel",
      "state": {
       "layout": "IPY_MODEL_a5377ec2be094a67af534989d0f9561d",
       "style": "IPY_MODEL_8344c6b83a05401cb08b777e206c944f",
       "value": "Validation DataLoader 0: 100%"
      }
     },
     "23b121aa524648768dbf3ccd1572c0dc": {
      "model_module": "@jupyter-widgets/controls",
      "model_module_version": "2.0.0",
      "model_name": "ProgressStyleModel",
      "state": {
       "description_width": ""
      }
     },
     "23c76ec5a79c492581b89b20968fd7f3": {
      "model_module": "@jupyter-widgets/controls",
      "model_module_version": "2.0.0",
      "model_name": "HTMLModel",
      "state": {
       "layout": "IPY_MODEL_1b9016a5434647f98b9c0405b5699195",
       "style": "IPY_MODEL_2615889919ff4c6ba414392a5172f5e8",
       "value": " 62/62 [00:01&lt;00:00, 32.53it/s]"
      }
     },
     "23d38ccc4a7e4e0884787f1a59875043": {
      "model_module": "@jupyter-widgets/base",
      "model_module_version": "2.0.0",
      "model_name": "LayoutModel",
      "state": {
       "flex": "2"
      }
     },
     "2476a6ea71ed4eec8a9c5ef95d66bce2": {
      "model_module": "@jupyter-widgets/base",
      "model_module_version": "2.0.0",
      "model_name": "LayoutModel",
      "state": {
       "flex": "2"
      }
     },
     "24aa18f45f6a4153a21d517af8945a85": {
      "model_module": "@jupyter-widgets/controls",
      "model_module_version": "2.0.0",
      "model_name": "FloatProgressModel",
      "state": {
       "layout": "IPY_MODEL_c82c0be1ad21463f8e84cdc437326b05",
       "max": 62,
       "style": "IPY_MODEL_283d379c4ab341aeaa1b8e5be7f3d830",
       "value": 62
      }
     },
     "25e9e056031b4db2aa7d62a2b99ad0b9": {
      "model_module": "@jupyter-widgets/controls",
      "model_module_version": "2.0.0",
      "model_name": "HTMLStyleModel",
      "state": {
       "description_width": "",
       "font_size": null,
       "text_color": null
      }
     },
     "2615889919ff4c6ba414392a5172f5e8": {
      "model_module": "@jupyter-widgets/controls",
      "model_module_version": "2.0.0",
      "model_name": "HTMLStyleModel",
      "state": {
       "description_width": "",
       "font_size": null,
       "text_color": null
      }
     },
     "2617d46915df4db49930530b7e7ddfc4": {
      "model_module": "@jupyter-widgets/base",
      "model_module_version": "2.0.0",
      "model_name": "LayoutModel",
      "state": {
       "flex": "2"
      }
     },
     "262136c62b0848a48c1b5a310e5e15a9": {
      "model_module": "@jupyter-widgets/controls",
      "model_module_version": "2.0.0",
      "model_name": "HTMLStyleModel",
      "state": {
       "description_width": "",
       "font_size": null,
       "text_color": null
      }
     },
     "262c4760fa9449c78033eb7acc5c2a7d": {
      "model_module": "@jupyter-widgets/base",
      "model_module_version": "2.0.0",
      "model_name": "LayoutModel",
      "state": {
       "flex": "2"
      }
     },
     "267bfad665934f6f9735e15928c15733": {
      "model_module": "@jupyter-widgets/controls",
      "model_module_version": "2.0.0",
      "model_name": "HTMLStyleModel",
      "state": {
       "description_width": "",
       "font_size": null,
       "text_color": null
      }
     },
     "268bb4b409a54b669df0d0a094aa80e4": {
      "model_module": "@jupyter-widgets/controls",
      "model_module_version": "2.0.0",
      "model_name": "ProgressStyleModel",
      "state": {
       "description_width": ""
      }
     },
     "27015696377b4562a35ed8dbd4898b20": {
      "model_module": "@jupyter-widgets/base",
      "model_module_version": "2.0.0",
      "model_name": "LayoutModel",
      "state": {
       "flex": "2"
      }
     },
     "27c412a128d84796b11ee9c2a27104f9": {
      "model_module": "@jupyter-widgets/base",
      "model_module_version": "2.0.0",
      "model_name": "LayoutModel",
      "state": {
       "display": "inline-flex",
       "flex_flow": "row wrap",
       "visibility": "hidden",
       "width": "100%"
      }
     },
     "281dca1be1364392b2b4b5760b37878a": {
      "model_module": "@jupyter-widgets/controls",
      "model_module_version": "2.0.0",
      "model_name": "ProgressStyleModel",
      "state": {
       "description_width": ""
      }
     },
     "283be6fe175842119daa76683c58f3f4": {
      "model_module": "@jupyter-widgets/controls",
      "model_module_version": "2.0.0",
      "model_name": "FloatProgressModel",
      "state": {
       "layout": "IPY_MODEL_c6159724cada4a3ca7bb4744ad7809ac",
       "max": 62,
       "style": "IPY_MODEL_64606123862a40f7b76b081426decba2",
       "value": 62
      }
     },
     "283d379c4ab341aeaa1b8e5be7f3d830": {
      "model_module": "@jupyter-widgets/controls",
      "model_module_version": "2.0.0",
      "model_name": "ProgressStyleModel",
      "state": {
       "description_width": ""
      }
     },
     "28dd275ca71744e59eb3762ecbb0e807": {
      "model_module": "@jupyter-widgets/controls",
      "model_module_version": "2.0.0",
      "model_name": "HTMLStyleModel",
      "state": {
       "description_width": "",
       "font_size": null,
       "text_color": null
      }
     },
     "29410fd612334d7cbad0fa2217c6f12c": {
      "model_module": "@jupyter-widgets/controls",
      "model_module_version": "2.0.0",
      "model_name": "FloatProgressModel",
      "state": {
       "layout": "IPY_MODEL_430bd7777c924e05b298e65556cfdd6b",
       "max": 62,
       "style": "IPY_MODEL_d914dd6e5b8f488ca7a63656010ff727",
       "value": 62
      }
     },
     "29b43afbb208409c9c910054d2d328c9": {
      "model_module": "@jupyter-widgets/controls",
      "model_module_version": "2.0.0",
      "model_name": "ProgressStyleModel",
      "state": {
       "description_width": ""
      }
     },
     "2a16aab91e7d497ba322773df0227329": {
      "model_module": "@jupyter-widgets/controls",
      "model_module_version": "2.0.0",
      "model_name": "HTMLModel",
      "state": {
       "layout": "IPY_MODEL_53d59149e1a24d66aaa2815b715f6ad5",
       "style": "IPY_MODEL_dec81a32fff44662a6df8549176521ad",
       "value": "Validation DataLoader 0: 100%"
      }
     },
     "2a30004689054dd09ebf402df97ccb43": {
      "model_module": "@jupyter-widgets/controls",
      "model_module_version": "2.0.0",
      "model_name": "HTMLStyleModel",
      "state": {
       "description_width": "",
       "font_size": null,
       "text_color": null
      }
     },
     "2a68a867c4624c34b2d7887ccac91c49": {
      "model_module": "@jupyter-widgets/controls",
      "model_module_version": "2.0.0",
      "model_name": "HTMLModel",
      "state": {
       "layout": "IPY_MODEL_79ae6dd3d9c740adaac8f1146a22c726",
       "style": "IPY_MODEL_89923ea0bd2b45a9b40f0b04333046db",
       "value": "Validation DataLoader 0: 100%"
      }
     },
     "2b1b93d4aacf4af483b5a35285422c3a": {
      "model_module": "@jupyter-widgets/base",
      "model_module_version": "2.0.0",
      "model_name": "LayoutModel",
      "state": {}
     },
     "2b3b88606cb14dd79a3d66b9273661e1": {
      "model_module": "@jupyter-widgets/base",
      "model_module_version": "2.0.0",
      "model_name": "LayoutModel",
      "state": {}
     },
     "2b7923f938b54c09bc7e60ac6bba5939": {
      "model_module": "@jupyter-widgets/base",
      "model_module_version": "2.0.0",
      "model_name": "LayoutModel",
      "state": {
       "flex": "2"
      }
     },
     "2b9805fef86b401ebe57733959fa56ec": {
      "model_module": "@jupyter-widgets/controls",
      "model_module_version": "2.0.0",
      "model_name": "HTMLStyleModel",
      "state": {
       "description_width": "",
       "font_size": null,
       "text_color": null
      }
     },
     "2bd87fd262e449cc9ad3c75830c4bb95": {
      "model_module": "@jupyter-widgets/controls",
      "model_module_version": "2.0.0",
      "model_name": "HTMLModel",
      "state": {
       "layout": "IPY_MODEL_8c36b18b74374a9da519de6d18a7f36a",
       "style": "IPY_MODEL_759e91348b45455a92f1cdb543d94ba1",
       "value": " 62/62 [00:02&lt;00:00, 30.66it/s]"
      }
     },
     "2c51a63eb7494bc18cf5e9c35a66ab18": {
      "model_module": "@jupyter-widgets/controls",
      "model_module_version": "2.0.0",
      "model_name": "HTMLStyleModel",
      "state": {
       "description_width": "",
       "font_size": null,
       "text_color": null
      }
     },
     "2cb999086a43476bbf29414fb987d4db": {
      "model_module": "@jupyter-widgets/controls",
      "model_module_version": "2.0.0",
      "model_name": "HTMLStyleModel",
      "state": {
       "description_width": "",
       "font_size": null,
       "text_color": null
      }
     },
     "2d5179c668e3454caad795bc9ecc88b8": {
      "model_module": "@jupyter-widgets/base",
      "model_module_version": "2.0.0",
      "model_name": "LayoutModel",
      "state": {
       "flex": "2"
      }
     },
     "2d66d5c17a6d40a48049180e8dc2aa5a": {
      "model_module": "@jupyter-widgets/base",
      "model_module_version": "2.0.0",
      "model_name": "LayoutModel",
      "state": {}
     },
     "2da65651f9b24297a42ac801b97501a5": {
      "model_module": "@jupyter-widgets/controls",
      "model_module_version": "2.0.0",
      "model_name": "HTMLModel",
      "state": {
       "layout": "IPY_MODEL_671da97fced94f7da02e18ac45dea9b5",
       "style": "IPY_MODEL_c01fb28cf4b44a2ba7a20d9e55ab5aae",
       "value": "Validation DataLoader 0: 100%"
      }
     },
     "2e12e4c284994f33ab7d4a8fce2e1127": {
      "model_module": "@jupyter-widgets/controls",
      "model_module_version": "2.0.0",
      "model_name": "FloatProgressModel",
      "state": {
       "layout": "IPY_MODEL_589e2c2d27324f4295d6ff1565c2a48d",
       "max": 62,
       "style": "IPY_MODEL_d3d3664214f84ff8bced7ce004ad0b19",
       "value": 62
      }
     },
     "2ed0dad7009048a8bdb475a2ba7b5e02": {
      "model_module": "@jupyter-widgets/controls",
      "model_module_version": "2.0.0",
      "model_name": "HTMLModel",
      "state": {
       "layout": "IPY_MODEL_d948c2065dfd47998117fde451448242",
       "style": "IPY_MODEL_bf16956aba104f91a77a77ea19cfd7f3",
       "value": " 62/62 [00:01&lt;00:00, 32.92it/s]"
      }
     },
     "2ed3326dfc1a4402aa78d7689fc13345": {
      "model_module": "@jupyter-widgets/base",
      "model_module_version": "2.0.0",
      "model_name": "LayoutModel",
      "state": {}
     },
     "2eece8717117455394efa2fba7713e86": {
      "model_module": "@jupyter-widgets/base",
      "model_module_version": "2.0.0",
      "model_name": "LayoutModel",
      "state": {
       "display": "inline-flex",
       "flex_flow": "row wrap",
       "visibility": "hidden",
       "width": "100%"
      }
     },
     "2f6d8c262c2c45b1bc8f86f810618ddf": {
      "model_module": "@jupyter-widgets/base",
      "model_module_version": "2.0.0",
      "model_name": "LayoutModel",
      "state": {}
     },
     "2f9c66d8111f40b5b87ff41815280c6f": {
      "model_module": "@jupyter-widgets/base",
      "model_module_version": "2.0.0",
      "model_name": "LayoutModel",
      "state": {}
     },
     "2fb9e58e8ed844d0ba5dd244be722c5f": {
      "model_module": "@jupyter-widgets/base",
      "model_module_version": "2.0.0",
      "model_name": "LayoutModel",
      "state": {
       "flex": "2"
      }
     },
     "2fbe8cbc66a3410488f0ffef9e67d9e7": {
      "model_module": "@jupyter-widgets/controls",
      "model_module_version": "2.0.0",
      "model_name": "HTMLStyleModel",
      "state": {
       "description_width": "",
       "font_size": null,
       "text_color": null
      }
     },
     "305a43f121d2427e860fc9695fe20f86": {
      "model_module": "@jupyter-widgets/controls",
      "model_module_version": "2.0.0",
      "model_name": "FloatProgressModel",
      "state": {
       "layout": "IPY_MODEL_3db1af3f044841c5b6674f80285d2244",
       "max": 62,
       "style": "IPY_MODEL_7ca83d1a2e4746a0bd67478ea9d15e27",
       "value": 62
      }
     },
     "306bfbff89614bc490910f98eb788eae": {
      "model_module": "@jupyter-widgets/controls",
      "model_module_version": "2.0.0",
      "model_name": "HTMLStyleModel",
      "state": {
       "description_width": "",
       "font_size": null,
       "text_color": null
      }
     },
     "3126d2c16f814a12988ec875faf41bb3": {
      "model_module": "@jupyter-widgets/controls",
      "model_module_version": "2.0.0",
      "model_name": "HTMLStyleModel",
      "state": {
       "description_width": "",
       "font_size": null,
       "text_color": null
      }
     },
     "313a109abf094271bb32ff445f874e83": {
      "model_module": "@jupyter-widgets/controls",
      "model_module_version": "2.0.0",
      "model_name": "HTMLStyleModel",
      "state": {
       "description_width": "",
       "font_size": null,
       "text_color": null
      }
     },
     "3172a72f72b4476e9e2f77633a251bd1": {
      "model_module": "@jupyter-widgets/controls",
      "model_module_version": "2.0.0",
      "model_name": "FloatProgressModel",
      "state": {
       "layout": "IPY_MODEL_ef3c37d540014cd181ab0728645ae901",
       "max": 62,
       "style": "IPY_MODEL_3e9345082e704b9da11f7c5c1be64344",
       "value": 62
      }
     },
     "3193df6717794d22bfe61dfd957ef84c": {
      "model_module": "@jupyter-widgets/controls",
      "model_module_version": "2.0.0",
      "model_name": "HTMLStyleModel",
      "state": {
       "description_width": "",
       "font_size": null,
       "text_color": null
      }
     },
     "31a27820b47a4f2c93f7c9ff84ab7e52": {
      "model_module": "@jupyter-widgets/controls",
      "model_module_version": "2.0.0",
      "model_name": "ProgressStyleModel",
      "state": {
       "description_width": ""
      }
     },
     "321e41fff35a4866b426304211995f5d": {
      "model_module": "@jupyter-widgets/controls",
      "model_module_version": "2.0.0",
      "model_name": "ProgressStyleModel",
      "state": {
       "description_width": ""
      }
     },
     "3327456c9b2741a39199a40d6ba6e109": {
      "model_module": "@jupyter-widgets/controls",
      "model_module_version": "2.0.0",
      "model_name": "HTMLModel",
      "state": {
       "layout": "IPY_MODEL_5458d6bea17e4c8d9453bbdbd4a95af2",
       "style": "IPY_MODEL_9e503f6ac80a4acb9c953d04cdc39b3b",
       "value": "Validation DataLoader 0: 100%"
      }
     },
     "3383bf6768d042679f6fcd41d4395be4": {
      "model_module": "@jupyter-widgets/base",
      "model_module_version": "2.0.0",
      "model_name": "LayoutModel",
      "state": {}
     },
     "33b53d11d9d94a2390c276614504a743": {
      "model_module": "@jupyter-widgets/base",
      "model_module_version": "2.0.0",
      "model_name": "LayoutModel",
      "state": {}
     },
     "33caedec089b4ef18c902d7c74965d6e": {
      "model_module": "@jupyter-widgets/controls",
      "model_module_version": "2.0.0",
      "model_name": "HTMLModel",
      "state": {
       "layout": "IPY_MODEL_e1d655d5eb154671a91f30f71fc82685",
       "style": "IPY_MODEL_7829fc634a744e9d904759012ceaa221",
       "value": " 62/62 [00:01&lt;00:00, 32.19it/s]"
      }
     },
     "344f5ed947f944d0a7721b0aafa804e8": {
      "model_module": "@jupyter-widgets/controls",
      "model_module_version": "2.0.0",
      "model_name": "ProgressStyleModel",
      "state": {
       "description_width": ""
      }
     },
     "3463a0a03ef641ef9f0e98db5909994a": {
      "model_module": "@jupyter-widgets/controls",
      "model_module_version": "2.0.0",
      "model_name": "FloatProgressModel",
      "state": {
       "layout": "IPY_MODEL_8c03d1817e184f8b9c122a741481f1a5",
       "max": 62,
       "style": "IPY_MODEL_ef3f3d619bfe41be9f4493c93909b287",
       "value": 62
      }
     },
     "34e81a78f01a4599bfe7e52ac8c72edf": {
      "model_module": "@jupyter-widgets/controls",
      "model_module_version": "2.0.0",
      "model_name": "HTMLModel",
      "state": {
       "layout": "IPY_MODEL_b1727c23ed03487cacfd3e798add276b",
       "style": "IPY_MODEL_bcf53fae0d4241798f50b60e6e2f0348",
       "value": "Validation DataLoader 0: 100%"
      }
     },
     "3585b17532cd488888d3e01d59ca513f": {
      "model_module": "@jupyter-widgets/base",
      "model_module_version": "2.0.0",
      "model_name": "LayoutModel",
      "state": {}
     },
     "35eb83b54b20491e8f4758448bccb5b0": {
      "model_module": "@jupyter-widgets/controls",
      "model_module_version": "2.0.0",
      "model_name": "HTMLStyleModel",
      "state": {
       "description_width": "",
       "font_size": null,
       "text_color": null
      }
     },
     "35f1b8d99a8b40b0b6377a0aa3c19cfc": {
      "model_module": "@jupyter-widgets/base",
      "model_module_version": "2.0.0",
      "model_name": "LayoutModel",
      "state": {
       "display": "inline-flex",
       "flex_flow": "row wrap",
       "visibility": "hidden",
       "width": "100%"
      }
     },
     "360c44a295df4d0587331b1e1e3d9ef4": {
      "model_module": "@jupyter-widgets/controls",
      "model_module_version": "2.0.0",
      "model_name": "HTMLModel",
      "state": {
       "layout": "IPY_MODEL_4c0933bc97e3417295b11e6773fa972f",
       "style": "IPY_MODEL_1541a7b70b7144d8a46cd82a24ea6ead",
       "value": " 62/62 [00:01&lt;00:00, 32.40it/s]"
      }
     },
     "3627d3de308943c6899c8888cf3386ba": {
      "model_module": "@jupyter-widgets/base",
      "model_module_version": "2.0.0",
      "model_name": "LayoutModel",
      "state": {}
     },
     "36ab52dcc23241df992f331eeebbc772": {
      "model_module": "@jupyter-widgets/controls",
      "model_module_version": "2.0.0",
      "model_name": "HTMLStyleModel",
      "state": {
       "description_width": "",
       "font_size": null,
       "text_color": null
      }
     },
     "36ab69e82e514dcbaf42b85d36b65b90": {
      "model_module": "@jupyter-widgets/base",
      "model_module_version": "2.0.0",
      "model_name": "LayoutModel",
      "state": {}
     },
     "36e2a35e9baa4223b6a29972684daf70": {
      "model_module": "@jupyter-widgets/controls",
      "model_module_version": "2.0.0",
      "model_name": "HTMLStyleModel",
      "state": {
       "description_width": "",
       "font_size": null,
       "text_color": null
      }
     },
     "3725a960134d498b99e125882bdd78a4": {
      "model_module": "@jupyter-widgets/controls",
      "model_module_version": "2.0.0",
      "model_name": "HTMLModel",
      "state": {
       "layout": "IPY_MODEL_6629716ee32c410e9173d2cb6c45b704",
       "style": "IPY_MODEL_1163d6fae734417eb66bfdcf38b35603",
       "value": "Sanity Checking DataLoader 0: 100%"
      }
     },
     "376a66e2652b402684498bba8b0b75bc": {
      "model_module": "@jupyter-widgets/controls",
      "model_module_version": "2.0.0",
      "model_name": "HTMLStyleModel",
      "state": {
       "description_width": "",
       "font_size": null,
       "text_color": null
      }
     },
     "37b6ee2fe3bb407dae3e7d1a88586f26": {
      "model_module": "@jupyter-widgets/controls",
      "model_module_version": "2.0.0",
      "model_name": "FloatProgressModel",
      "state": {
       "layout": "IPY_MODEL_3ca4c0d6845441f685200842041749f5",
       "max": 62,
       "style": "IPY_MODEL_6d8ada201a044e0d8871e4adc1c6618e",
       "value": 62
      }
     },
     "381f01ca189b49adbec8a4119b3d90d9": {
      "model_module": "@jupyter-widgets/base",
      "model_module_version": "2.0.0",
      "model_name": "LayoutModel",
      "state": {}
     },
     "38250083915b4a36ae5f8c126f5b1105": {
      "model_module": "@jupyter-widgets/controls",
      "model_module_version": "2.0.0",
      "model_name": "HTMLStyleModel",
      "state": {
       "description_width": "",
       "font_size": null,
       "text_color": null
      }
     },
     "387b0474ce0a43cc855b2dd59147e4a6": {
      "model_module": "@jupyter-widgets/base",
      "model_module_version": "2.0.0",
      "model_name": "LayoutModel",
      "state": {
       "display": "inline-flex",
       "flex_flow": "row wrap",
       "visibility": "hidden",
       "width": "100%"
      }
     },
     "38a70924ba6e4c1199ae5bde66cb3e64": {
      "model_module": "@jupyter-widgets/base",
      "model_module_version": "2.0.0",
      "model_name": "LayoutModel",
      "state": {}
     },
     "3903539a5a0b4e38b0dbb87c4b437c4f": {
      "model_module": "@jupyter-widgets/base",
      "model_module_version": "2.0.0",
      "model_name": "LayoutModel",
      "state": {}
     },
     "394885e8ac314ee8820b2080478419af": {
      "model_module": "@jupyter-widgets/base",
      "model_module_version": "2.0.0",
      "model_name": "LayoutModel",
      "state": {
       "flex": "2"
      }
     },
     "39b8453a2a374f69b058b9e60249837a": {
      "model_module": "@jupyter-widgets/controls",
      "model_module_version": "2.0.0",
      "model_name": "ProgressStyleModel",
      "state": {
       "description_width": ""
      }
     },
     "39fed02d22f74ebbb848a5974d390229": {
      "model_module": "@jupyter-widgets/controls",
      "model_module_version": "2.0.0",
      "model_name": "HTMLStyleModel",
      "state": {
       "description_width": "",
       "font_size": null,
       "text_color": null
      }
     },
     "3abf9186f2f24e19a4f02dae3fe1a22d": {
      "model_module": "@jupyter-widgets/controls",
      "model_module_version": "2.0.0",
      "model_name": "FloatProgressModel",
      "state": {
       "layout": "IPY_MODEL_f100cbea301442d294caefefd6e52c3e",
       "max": 62,
       "style": "IPY_MODEL_0d1971182b1a4cf59803c523ded4239d",
       "value": 62
      }
     },
     "3ac5b71b08e342c0afcc6618197970c9": {
      "model_module": "@jupyter-widgets/controls",
      "model_module_version": "2.0.0",
      "model_name": "HTMLModel",
      "state": {
       "layout": "IPY_MODEL_fe6d64b7c50e440cba7d2d22e6072ee1",
       "style": "IPY_MODEL_64363af7c9994beeaf94930458a9ce52",
       "value": "Validation DataLoader 0: 100%"
      }
     },
     "3b30fbf5c7bf485b9de9dc73f4797007": {
      "model_module": "@jupyter-widgets/base",
      "model_module_version": "2.0.0",
      "model_name": "LayoutModel",
      "state": {}
     },
     "3b74edaf17f941b6a8de36a76df50607": {
      "model_module": "@jupyter-widgets/base",
      "model_module_version": "2.0.0",
      "model_name": "LayoutModel",
      "state": {}
     },
     "3b957e6c49794b17b5cda37e9cd15748": {
      "model_module": "@jupyter-widgets/base",
      "model_module_version": "2.0.0",
      "model_name": "LayoutModel",
      "state": {}
     },
     "3bd6e74f1d6841c79eab74deda2a9e2b": {
      "model_module": "@jupyter-widgets/controls",
      "model_module_version": "2.0.0",
      "model_name": "ProgressStyleModel",
      "state": {
       "description_width": ""
      }
     },
     "3ca4c0d6845441f685200842041749f5": {
      "model_module": "@jupyter-widgets/base",
      "model_module_version": "2.0.0",
      "model_name": "LayoutModel",
      "state": {
       "flex": "2"
      }
     },
     "3d3f9fae26994966b01506bc4e5c6466": {
      "model_module": "@jupyter-widgets/controls",
      "model_module_version": "2.0.0",
      "model_name": "ProgressStyleModel",
      "state": {
       "description_width": ""
      }
     },
     "3db1af3f044841c5b6674f80285d2244": {
      "model_module": "@jupyter-widgets/base",
      "model_module_version": "2.0.0",
      "model_name": "LayoutModel",
      "state": {
       "flex": "2"
      }
     },
     "3e56756213e44ddfa8b5c7074be3a20f": {
      "model_module": "@jupyter-widgets/base",
      "model_module_version": "2.0.0",
      "model_name": "LayoutModel",
      "state": {}
     },
     "3e62e831458e483fa6ff2c0927a04c43": {
      "model_module": "@jupyter-widgets/controls",
      "model_module_version": "2.0.0",
      "model_name": "HTMLStyleModel",
      "state": {
       "description_width": "",
       "font_size": null,
       "text_color": null
      }
     },
     "3e8ed715ff924bcb9226839c10a5b99e": {
      "model_module": "@jupyter-widgets/base",
      "model_module_version": "2.0.0",
      "model_name": "LayoutModel",
      "state": {
       "display": "inline-flex",
       "flex_flow": "row wrap",
       "visibility": "hidden",
       "width": "100%"
      }
     },
     "3e9345082e704b9da11f7c5c1be64344": {
      "model_module": "@jupyter-widgets/controls",
      "model_module_version": "2.0.0",
      "model_name": "ProgressStyleModel",
      "state": {
       "description_width": ""
      }
     },
     "3ee30013d56b4bf48b24dde193c3ddd0": {
      "model_module": "@jupyter-widgets/controls",
      "model_module_version": "2.0.0",
      "model_name": "HTMLModel",
      "state": {
       "layout": "IPY_MODEL_b082722bc5e74adba4178258ec138ef1",
       "style": "IPY_MODEL_e383eea3747b43aea52c602d700c12b4",
       "value": "Validation DataLoader 0: 100%"
      }
     },
     "3f12fa6041a54967baa811abf0cb340b": {
      "model_module": "@jupyter-widgets/controls",
      "model_module_version": "2.0.0",
      "model_name": "HTMLModel",
      "state": {
       "layout": "IPY_MODEL_90ef36b462b74ee7b50804a709e400b4",
       "style": "IPY_MODEL_2cb999086a43476bbf29414fb987d4db",
       "value": "Validation DataLoader 0: 100%"
      }
     },
     "3f132ed9aca345a8ad00735abd745165": {
      "model_module": "@jupyter-widgets/base",
      "model_module_version": "2.0.0",
      "model_name": "LayoutModel",
      "state": {}
     },
     "3f3a74a1333b4d90aaa361c47c4a08ec": {
      "model_module": "@jupyter-widgets/base",
      "model_module_version": "2.0.0",
      "model_name": "LayoutModel",
      "state": {
       "flex": "2"
      }
     },
     "3f4fa25ad6164f819b1abe515446c5c8": {
      "model_module": "@jupyter-widgets/controls",
      "model_module_version": "2.0.0",
      "model_name": "ProgressStyleModel",
      "state": {
       "description_width": ""
      }
     },
     "3fb90a00b836475aa4bf76bb3fbad292": {
      "model_module": "@jupyter-widgets/controls",
      "model_module_version": "2.0.0",
      "model_name": "FloatProgressModel",
      "state": {
       "layout": "IPY_MODEL_dc261c7383ba43a98274b59488dd8894",
       "max": 62,
       "style": "IPY_MODEL_4fde54ecea854a3eb0d306e12733b425",
       "value": 62
      }
     },
     "3fd7ae7ef5ca42d0be87ea4e31842f86": {
      "model_module": "@jupyter-widgets/controls",
      "model_module_version": "2.0.0",
      "model_name": "FloatProgressModel",
      "state": {
       "layout": "IPY_MODEL_ba69d48cedbc49618c2fe9947c6ff309",
       "max": 62,
       "style": "IPY_MODEL_22184029ff434a43b5154eead568f79c",
       "value": 62
      }
     },
     "402e311c8fd043529ee133908f3e6439": {
      "model_module": "@jupyter-widgets/controls",
      "model_module_version": "2.0.0",
      "model_name": "FloatProgressModel",
      "state": {
       "layout": "IPY_MODEL_630f4f7ebfad4227be603e482b337cdb",
       "max": 62,
       "style": "IPY_MODEL_d7352b8467ff4b01ae516c7dc2654908",
       "value": 62
      }
     },
     "40b0d2de5481421eaf414cbd8bfa3918": {
      "model_module": "@jupyter-widgets/controls",
      "model_module_version": "2.0.0",
      "model_name": "HTMLStyleModel",
      "state": {
       "description_width": "",
       "font_size": null,
       "text_color": null
      }
     },
     "411fd83cb25644738095c7b505e3ae48": {
      "model_module": "@jupyter-widgets/base",
      "model_module_version": "2.0.0",
      "model_name": "LayoutModel",
      "state": {
       "display": "inline-flex",
       "flex_flow": "row wrap",
       "visibility": "hidden",
       "width": "100%"
      }
     },
     "41903d1b0e3346118bc37a43c57e1212": {
      "model_module": "@jupyter-widgets/controls",
      "model_module_version": "2.0.0",
      "model_name": "ProgressStyleModel",
      "state": {
       "description_width": ""
      }
     },
     "42f53e30a2e44d058007add33f273e62": {
      "model_module": "@jupyter-widgets/controls",
      "model_module_version": "2.0.0",
      "model_name": "ProgressStyleModel",
      "state": {
       "description_width": ""
      }
     },
     "430bd7777c924e05b298e65556cfdd6b": {
      "model_module": "@jupyter-widgets/base",
      "model_module_version": "2.0.0",
      "model_name": "LayoutModel",
      "state": {
       "flex": "2"
      }
     },
     "43a5b9ffde3f41158993e8ee6b859559": {
      "model_module": "@jupyter-widgets/controls",
      "model_module_version": "2.0.0",
      "model_name": "HTMLStyleModel",
      "state": {
       "description_width": "",
       "font_size": null,
       "text_color": null
      }
     },
     "43c2804291eb442ba02712d68f9700c9": {
      "model_module": "@jupyter-widgets/base",
      "model_module_version": "2.0.0",
      "model_name": "LayoutModel",
      "state": {}
     },
     "44fb0dcd9ada429bb5105204ddda437a": {
      "model_module": "@jupyter-widgets/base",
      "model_module_version": "2.0.0",
      "model_name": "LayoutModel",
      "state": {}
     },
     "45062ecadfdb4d29b601104d6c524eaf": {
      "model_module": "@jupyter-widgets/base",
      "model_module_version": "2.0.0",
      "model_name": "LayoutModel",
      "state": {
       "display": "inline-flex",
       "flex_flow": "row wrap",
       "visibility": "hidden",
       "width": "100%"
      }
     },
     "450e96bd26ec4e879c6f1544c261191b": {
      "model_module": "@jupyter-widgets/controls",
      "model_module_version": "2.0.0",
      "model_name": "HTMLModel",
      "state": {
       "layout": "IPY_MODEL_0d4cff7b62a84b5da664a88f697e12e0",
       "style": "IPY_MODEL_72f64969b86449319ceda24dd5fce2d7",
       "value": " 62/62 [00:01&lt;00:00, 32.76it/s]"
      }
     },
     "452a78e8f7d64a1db21d0ca2a092ffc7": {
      "model_module": "@jupyter-widgets/controls",
      "model_module_version": "2.0.0",
      "model_name": "FloatProgressModel",
      "state": {
       "layout": "IPY_MODEL_23d38ccc4a7e4e0884787f1a59875043",
       "max": 62,
       "style": "IPY_MODEL_3f4fa25ad6164f819b1abe515446c5c8",
       "value": 62
      }
     },
     "4583c3e5d82a4ffca11f12b8208a3622": {
      "model_module": "@jupyter-widgets/base",
      "model_module_version": "2.0.0",
      "model_name": "LayoutModel",
      "state": {
       "flex": "2"
      }
     },
     "466ba69ce08d4fdb8d1e979c0ab0a245": {
      "model_module": "@jupyter-widgets/controls",
      "model_module_version": "2.0.0",
      "model_name": "HTMLModel",
      "state": {
       "layout": "IPY_MODEL_1fd53c755ef442f8a9a708ea7d0d2f94",
       "style": "IPY_MODEL_87f74f52891d4c6299cd129c74d91e3d",
       "value": " 62/62 [00:01&lt;00:00, 33.33it/s]"
      }
     },
     "47ac9defa77a4e04afffe1250a8e01fb": {
      "model_module": "@jupyter-widgets/controls",
      "model_module_version": "2.0.0",
      "model_name": "HTMLStyleModel",
      "state": {
       "description_width": "",
       "font_size": null,
       "text_color": null
      }
     },
     "47d7f7310b5b4e68b12d8ae07eb52b72": {
      "model_module": "@jupyter-widgets/controls",
      "model_module_version": "2.0.0",
      "model_name": "FloatProgressModel",
      "state": {
       "layout": "IPY_MODEL_e7af9b84269f4c6294ba67a1e2914145",
       "max": 62,
       "style": "IPY_MODEL_6676df431a3c4637a8259b9ef95ce512",
       "value": 62
      }
     },
     "48363043d00c4832be72f2a08e43c462": {
      "model_module": "@jupyter-widgets/base",
      "model_module_version": "2.0.0",
      "model_name": "LayoutModel",
      "state": {}
     },
     "4881fb512e234852a651265bdf3e5009": {
      "model_module": "@jupyter-widgets/controls",
      "model_module_version": "2.0.0",
      "model_name": "HTMLStyleModel",
      "state": {
       "description_width": "",
       "font_size": null,
       "text_color": null
      }
     },
     "48ed0f1e97cd4c5ca30c2284d834902b": {
      "model_module": "@jupyter-widgets/base",
      "model_module_version": "2.0.0",
      "model_name": "LayoutModel",
      "state": {}
     },
     "4938a6f5bfe049e5b6986bd191f91de5": {
      "model_module": "@jupyter-widgets/controls",
      "model_module_version": "2.0.0",
      "model_name": "ProgressStyleModel",
      "state": {
       "description_width": ""
      }
     },
     "49f3a7edffc34219a4eae3a4113cb5e4": {
      "model_module": "@jupyter-widgets/controls",
      "model_module_version": "2.0.0",
      "model_name": "HTMLStyleModel",
      "state": {
       "description_width": "",
       "font_size": null,
       "text_color": null
      }
     },
     "4aab6316815f46f3b488df21311d8cc1": {
      "model_module": "@jupyter-widgets/controls",
      "model_module_version": "2.0.0",
      "model_name": "HTMLModel",
      "state": {
       "layout": "IPY_MODEL_03820630543e4a80a608a5f9a8c0a9ee",
       "style": "IPY_MODEL_800e5750c4354349a51abcf4d7036288",
       "value": "Validation DataLoader 0: 100%"
      }
     },
     "4c0933bc97e3417295b11e6773fa972f": {
      "model_module": "@jupyter-widgets/base",
      "model_module_version": "2.0.0",
      "model_name": "LayoutModel",
      "state": {}
     },
     "4c1a48c814a144b4b94157ca1bb6be07": {
      "model_module": "@jupyter-widgets/controls",
      "model_module_version": "2.0.0",
      "model_name": "FloatProgressModel",
      "state": {
       "layout": "IPY_MODEL_2617d46915df4db49930530b7e7ddfc4",
       "max": 62,
       "style": "IPY_MODEL_b058aa7f9bcb49ef89861800ce2aeb66",
       "value": 62
      }
     },
     "4c8fe34474454614adbe2fd2d70331c1": {
      "model_module": "@jupyter-widgets/controls",
      "model_module_version": "2.0.0",
      "model_name": "ProgressStyleModel",
      "state": {
       "description_width": ""
      }
     },
     "4cc9f1d7c2f1472e8133ba647c514334": {
      "model_module": "@jupyter-widgets/controls",
      "model_module_version": "2.0.0",
      "model_name": "HTMLModel",
      "state": {
       "layout": "IPY_MODEL_7f45741143f64fdca21186c244fa9bb6",
       "style": "IPY_MODEL_660d9338492640c3be69b1e33c31e36b",
       "value": "Validation DataLoader 0: 100%"
      }
     },
     "4d1272d1030e4e39a8833d71a5fa1858": {
      "model_module": "@jupyter-widgets/controls",
      "model_module_version": "2.0.0",
      "model_name": "FloatProgressModel",
      "state": {
       "layout": "IPY_MODEL_8d996816cbad43d198f56858877bff16",
       "max": 62,
       "style": "IPY_MODEL_ca2367b07f5643258c2bca58d2e3859f",
       "value": 62
      }
     },
     "4d2a7956671c4fb0acbc726626be7b3c": {
      "model_module": "@jupyter-widgets/base",
      "model_module_version": "2.0.0",
      "model_name": "LayoutModel",
      "state": {}
     },
     "4d8977f5de93463db86a4d93d08f5d29": {
      "model_module": "@jupyter-widgets/base",
      "model_module_version": "2.0.0",
      "model_name": "LayoutModel",
      "state": {
       "display": "inline-flex",
       "flex_flow": "row wrap",
       "visibility": "hidden",
       "width": "100%"
      }
     },
     "4da5a280ca264094a17393baec48028e": {
      "model_module": "@jupyter-widgets/controls",
      "model_module_version": "2.0.0",
      "model_name": "HTMLStyleModel",
      "state": {
       "description_width": "",
       "font_size": null,
       "text_color": null
      }
     },
     "4e0f75a6ba004e33aca22d136dd48396": {
      "model_module": "@jupyter-widgets/controls",
      "model_module_version": "2.0.0",
      "model_name": "HTMLModel",
      "state": {
       "layout": "IPY_MODEL_33b53d11d9d94a2390c276614504a743",
       "style": "IPY_MODEL_b25ab4755b2846dc94368e7985663589",
       "value": "Validation DataLoader 0: 100%"
      }
     },
     "4e3fa78c79aa4ecda4ba73b59287dcf5": {
      "model_module": "@jupyter-widgets/controls",
      "model_module_version": "2.0.0",
      "model_name": "HTMLStyleModel",
      "state": {
       "description_width": "",
       "font_size": null,
       "text_color": null
      }
     },
     "4e5f2fdbd74d4c7aa192bbe04b2be7e8": {
      "model_module": "@jupyter-widgets/base",
      "model_module_version": "2.0.0",
      "model_name": "LayoutModel",
      "state": {
       "flex": "2"
      }
     },
     "4e8cd541dfb74fcbba46da4be2532954": {
      "model_module": "@jupyter-widgets/controls",
      "model_module_version": "2.0.0",
      "model_name": "HTMLStyleModel",
      "state": {
       "description_width": "",
       "font_size": null,
       "text_color": null
      }
     },
     "4ee471e066fe433887a21e49277333c5": {
      "model_module": "@jupyter-widgets/controls",
      "model_module_version": "2.0.0",
      "model_name": "HTMLStyleModel",
      "state": {
       "description_width": "",
       "font_size": null,
       "text_color": null
      }
     },
     "4f5492bb8ebb4ec7beac746122617129": {
      "model_module": "@jupyter-widgets/base",
      "model_module_version": "2.0.0",
      "model_name": "LayoutModel",
      "state": {}
     },
     "4fde54ecea854a3eb0d306e12733b425": {
      "model_module": "@jupyter-widgets/controls",
      "model_module_version": "2.0.0",
      "model_name": "ProgressStyleModel",
      "state": {
       "description_width": ""
      }
     },
     "4fe974f00a564361b19d2ae0da19bba9": {
      "model_module": "@jupyter-widgets/base",
      "model_module_version": "2.0.0",
      "model_name": "LayoutModel",
      "state": {
       "display": "inline-flex",
       "flex_flow": "row wrap",
       "visibility": "hidden",
       "width": "100%"
      }
     },
     "500daec733444e9b9b8de80a36e0dbe5": {
      "model_module": "@jupyter-widgets/controls",
      "model_module_version": "2.0.0",
      "model_name": "HTMLModel",
      "state": {
       "layout": "IPY_MODEL_6c298f99a1b94189a312d9195a27debd",
       "style": "IPY_MODEL_cb6f6432b61f48889972648162e7f5d7",
       "value": "Validation DataLoader 0: 100%"
      }
     },
     "5032a332c6a64fc89c57acd91fc0fe6c": {
      "model_module": "@jupyter-widgets/base",
      "model_module_version": "2.0.0",
      "model_name": "LayoutModel",
      "state": {
       "display": "inline-flex",
       "flex_flow": "row wrap",
       "visibility": "hidden",
       "width": "100%"
      }
     },
     "5204847e9efb42488a3f579756fbe728": {
      "model_module": "@jupyter-widgets/controls",
      "model_module_version": "2.0.0",
      "model_name": "HTMLModel",
      "state": {
       "layout": "IPY_MODEL_6af20c17f9a94209bfbde0cc6f5acee2",
       "style": "IPY_MODEL_6c76ee8428224a44bc6bad56c7c9eda0",
       "value": " 62/62 [00:01&lt;00:00, 33.09it/s]"
      }
     },
     "526b2454469a44019c46e14b28e44097": {
      "model_module": "@jupyter-widgets/controls",
      "model_module_version": "2.0.0",
      "model_name": "ProgressStyleModel",
      "state": {
       "description_width": ""
      }
     },
     "5294f338e39f43d583e0ed6945efb7db": {
      "model_module": "@jupyter-widgets/base",
      "model_module_version": "2.0.0",
      "model_name": "LayoutModel",
      "state": {
       "flex": "2"
      }
     },
     "52d42122777d4f2193c1383be56ebacc": {
      "model_module": "@jupyter-widgets/controls",
      "model_module_version": "2.0.0",
      "model_name": "FloatProgressModel",
      "state": {
       "layout": "IPY_MODEL_dfd293c0773640b0ab21cad3a4b9c859",
       "max": 62,
       "style": "IPY_MODEL_a0564f7fb89a4294ae920105a171b006",
       "value": 62
      }
     },
     "52d90a0b39d140a7b29a58a99053e843": {
      "model_module": "@jupyter-widgets/base",
      "model_module_version": "2.0.0",
      "model_name": "LayoutModel",
      "state": {}
     },
     "53d59149e1a24d66aaa2815b715f6ad5": {
      "model_module": "@jupyter-widgets/base",
      "model_module_version": "2.0.0",
      "model_name": "LayoutModel",
      "state": {}
     },
     "5458d6bea17e4c8d9453bbdbd4a95af2": {
      "model_module": "@jupyter-widgets/base",
      "model_module_version": "2.0.0",
      "model_name": "LayoutModel",
      "state": {}
     },
     "54b5967a0cd148639158b4d2ffdd495c": {
      "model_module": "@jupyter-widgets/controls",
      "model_module_version": "2.0.0",
      "model_name": "HTMLStyleModel",
      "state": {
       "description_width": "",
       "font_size": null,
       "text_color": null
      }
     },
     "550bd5f8b894461daf3c3137e4c03482": {
      "model_module": "@jupyter-widgets/base",
      "model_module_version": "2.0.0",
      "model_name": "LayoutModel",
      "state": {}
     },
     "561d75360e54442e8ba4694af0a3b2af": {
      "model_module": "@jupyter-widgets/controls",
      "model_module_version": "2.0.0",
      "model_name": "FloatProgressModel",
      "state": {
       "layout": "IPY_MODEL_2d5179c668e3454caad795bc9ecc88b8",
       "max": 62,
       "style": "IPY_MODEL_6d22f78814a34241af1c19d9a0c25695",
       "value": 62
      }
     },
     "56727f89e23843c6be7d37a666dffd64": {
      "model_module": "@jupyter-widgets/controls",
      "model_module_version": "2.0.0",
      "model_name": "HTMLStyleModel",
      "state": {
       "description_width": "",
       "font_size": null,
       "text_color": null
      }
     },
     "5679125382c54e8f8555ac8c564eb00e": {
      "model_module": "@jupyter-widgets/controls",
      "model_module_version": "2.0.0",
      "model_name": "HTMLModel",
      "state": {
       "layout": "IPY_MODEL_862885cab47c4e4690f7fba81cfd7996",
       "style": "IPY_MODEL_9f54aa2d6a3c44c483d69c9ac9253171",
       "value": "Validation DataLoader 0: 100%"
      }
     },
     "56db86db62f643b6a4ede1b1511ebde2": {
      "model_module": "@jupyter-widgets/controls",
      "model_module_version": "2.0.0",
      "model_name": "HTMLModel",
      "state": {
       "layout": "IPY_MODEL_65b500465f5a497e9d7482a0bb1aafd0",
       "style": "IPY_MODEL_262136c62b0848a48c1b5a310e5e15a9",
       "value": " 62/62 [00:01&lt;00:00, 32.97it/s]"
      }
     },
     "56e0bc3f52e54e8394eff7d8a23f01b1": {
      "model_module": "@jupyter-widgets/base",
      "model_module_version": "2.0.0",
      "model_name": "LayoutModel",
      "state": {
       "flex": "2"
      }
     },
     "570751ca66d5436693b5c363bf1d365c": {
      "model_module": "@jupyter-widgets/controls",
      "model_module_version": "2.0.0",
      "model_name": "HTMLStyleModel",
      "state": {
       "description_width": "",
       "font_size": null,
       "text_color": null
      }
     },
     "57707b4e8a404c81a55789f9b862e6a1": {
      "model_module": "@jupyter-widgets/controls",
      "model_module_version": "2.0.0",
      "model_name": "HTMLModel",
      "state": {
       "layout": "IPY_MODEL_44fb0dcd9ada429bb5105204ddda437a",
       "style": "IPY_MODEL_c0235eb6482540f4a231a7cfee7e736e",
       "value": "Validation DataLoader 0: 100%"
      }
     },
     "578e1950a97f40a78d11b34839ab9cc3": {
      "model_module": "@jupyter-widgets/controls",
      "model_module_version": "2.0.0",
      "model_name": "HTMLModel",
      "state": {
       "layout": "IPY_MODEL_7a92998f3869477b8bf015961755d741",
       "style": "IPY_MODEL_97b7a57471db4d8faade4019bbb2c2cd",
       "value": " 62/62 [00:01&lt;00:00, 32.17it/s]"
      }
     },
     "5824995771364aad8715956233d73054": {
      "model_module": "@jupyter-widgets/controls",
      "model_module_version": "2.0.0",
      "model_name": "HTMLStyleModel",
      "state": {
       "description_width": "",
       "font_size": null,
       "text_color": null
      }
     },
     "586675bee9b749db9a75d97bc44f1c32": {
      "model_module": "@jupyter-widgets/base",
      "model_module_version": "2.0.0",
      "model_name": "LayoutModel",
      "state": {
       "display": "inline-flex",
       "flex_flow": "row wrap",
       "visibility": "hidden",
       "width": "100%"
      }
     },
     "58679883744840cebab6ab8ccc360f5c": {
      "model_module": "@jupyter-widgets/base",
      "model_module_version": "2.0.0",
      "model_name": "LayoutModel",
      "state": {}
     },
     "588b4b38720b4c4097dff68a0695d925": {
      "model_module": "@jupyter-widgets/controls",
      "model_module_version": "2.0.0",
      "model_name": "HTMLModel",
      "state": {
       "layout": "IPY_MODEL_204bab6cc16a497b96e42398c533c693",
       "style": "IPY_MODEL_a1a3fd53594143d78bfefbb60a7f3767",
       "value": " 2/2 [00:01&lt;00:00,  1.16it/s]"
      }
     },
     "589e2c2d27324f4295d6ff1565c2a48d": {
      "model_module": "@jupyter-widgets/base",
      "model_module_version": "2.0.0",
      "model_name": "LayoutModel",
      "state": {
       "flex": "2"
      }
     },
     "59fc7c83b744432c91e117d16621c7c1": {
      "model_module": "@jupyter-widgets/base",
      "model_module_version": "2.0.0",
      "model_name": "LayoutModel",
      "state": {
       "flex": "2"
      }
     },
     "5a2a2d649d764dc9ae41f82aa2fc7b15": {
      "model_module": "@jupyter-widgets/controls",
      "model_module_version": "2.0.0",
      "model_name": "ProgressStyleModel",
      "state": {
       "description_width": ""
      }
     },
     "5a619c2a52334d3195bc6c60ad03f1f1": {
      "model_module": "@jupyter-widgets/controls",
      "model_module_version": "2.0.0",
      "model_name": "HTMLModel",
      "state": {
       "layout": "IPY_MODEL_95a2a24b412f44f8870a090adff9ef30",
       "style": "IPY_MODEL_25e9e056031b4db2aa7d62a2b99ad0b9",
       "value": "Validation DataLoader 0: 100%"
      }
     },
     "5a6945f592fb4e7d8b9dc423c3f2f739": {
      "model_module": "@jupyter-widgets/controls",
      "model_module_version": "2.0.0",
      "model_name": "FloatProgressModel",
      "state": {
       "layout": "IPY_MODEL_86e802af2cc34764ba99e84e6763e736",
       "max": 62,
       "style": "IPY_MODEL_31a27820b47a4f2c93f7c9ff84ab7e52",
       "value": 62
      }
     },
     "5aceeebe2a2c4c29a2db3c689f9bb649": {
      "model_module": "@jupyter-widgets/controls",
      "model_module_version": "2.0.0",
      "model_name": "FloatProgressModel",
      "state": {
       "layout": "IPY_MODEL_bd7b692734254b73bfd07977c0a214b7",
       "max": 62,
       "style": "IPY_MODEL_09f0a9bb7afe441cb54c7b4d384baa47",
       "value": 62
      }
     },
     "5b0ab55e12174ccd8b11a0e4f368809c": {
      "model_module": "@jupyter-widgets/controls",
      "model_module_version": "2.0.0",
      "model_name": "ProgressStyleModel",
      "state": {
       "description_width": ""
      }
     },
     "5b25194049af43828eabb982492703b2": {
      "model_module": "@jupyter-widgets/base",
      "model_module_version": "2.0.0",
      "model_name": "LayoutModel",
      "state": {
       "flex": "2"
      }
     },
     "5b3c8d9d21a9465f82829db711f603dd": {
      "model_module": "@jupyter-widgets/controls",
      "model_module_version": "2.0.0",
      "model_name": "HTMLModel",
      "state": {
       "layout": "IPY_MODEL_a85de6c5656f4c18a78daf5c55d9a6e6",
       "style": "IPY_MODEL_00118f9cc8a1422087d4adb291ba1f4b",
       "value": " 62/62 [00:01&lt;00:00, 32.86it/s]"
      }
     },
     "5b46d0bffdd04fd691e17cb281b2afd5": {
      "model_module": "@jupyter-widgets/controls",
      "model_module_version": "2.0.0",
      "model_name": "HTMLModel",
      "state": {
       "layout": "IPY_MODEL_745e5a4aac83421789c692cc2c0f5fc8",
       "style": "IPY_MODEL_3126d2c16f814a12988ec875faf41bb3",
       "value": " 62/62 [00:01&lt;00:00, 32.60it/s]"
      }
     },
     "5baf5e52fe3d4993a1c112a782b3a8e2": {
      "model_module": "@jupyter-widgets/base",
      "model_module_version": "2.0.0",
      "model_name": "LayoutModel",
      "state": {
       "display": "inline-flex",
       "flex_flow": "row wrap",
       "visibility": "hidden",
       "width": "100%"
      }
     },
     "5bc911aebefe4f60b6a4a20854a2215f": {
      "model_module": "@jupyter-widgets/controls",
      "model_module_version": "2.0.0",
      "model_name": "FloatProgressModel",
      "state": {
       "layout": "IPY_MODEL_bb55ee23048f45828df863121c3e918b",
       "max": 2,
       "style": "IPY_MODEL_cbeaad275905457da52faac8eb49d3d9",
       "value": 2
      }
     },
     "5c9d8c2e6abc4b079c6dc6d9fe52722d": {
      "model_module": "@jupyter-widgets/base",
      "model_module_version": "2.0.0",
      "model_name": "LayoutModel",
      "state": {}
     },
     "5ca3036c64c9414e92fa9738fc4a26a7": {
      "model_module": "@jupyter-widgets/base",
      "model_module_version": "2.0.0",
      "model_name": "LayoutModel",
      "state": {
       "flex": "2"
      }
     },
     "5d20be1b39d8448082b7e8c3baf77bc4": {
      "model_module": "@jupyter-widgets/controls",
      "model_module_version": "2.0.0",
      "model_name": "HTMLModel",
      "state": {
       "layout": "IPY_MODEL_f271b68a82314143a97ae7bd07991b69",
       "style": "IPY_MODEL_9ecf96a5bac743c49a5ade3373a6140c",
       "value": " 62/62 [00:01&lt;00:00, 32.72it/s]"
      }
     },
     "5d29c7043fdf4e978238dbd3c89de01d": {
      "model_module": "@jupyter-widgets/controls",
      "model_module_version": "2.0.0",
      "model_name": "FloatProgressModel",
      "state": {
       "layout": "IPY_MODEL_16a22b87f2094e2aa45b304e4d8188aa",
       "max": 62,
       "style": "IPY_MODEL_29b43afbb208409c9c910054d2d328c9",
       "value": 62
      }
     },
     "5dffc2fd255340c2b13e11cf9fc50e11": {
      "model_module": "@jupyter-widgets/controls",
      "model_module_version": "2.0.0",
      "model_name": "HTMLModel",
      "state": {
       "layout": "IPY_MODEL_bd2e2c24b5bf40aeab76ea1964d34d2a",
       "style": "IPY_MODEL_3193df6717794d22bfe61dfd957ef84c",
       "value": " 62/62 [00:01&lt;00:00, 33.09it/s]"
      }
     },
     "5ef8d47a94f0455ca83fd08b6086f835": {
      "model_module": "@jupyter-widgets/controls",
      "model_module_version": "2.0.0",
      "model_name": "HTMLModel",
      "state": {
       "layout": "IPY_MODEL_b081b43b7ec6491c8564eae8e60b69ff",
       "style": "IPY_MODEL_ba5ee7fe0c974e61aa08b172c7967f8c",
       "value": "Validation DataLoader 0: 100%"
      }
     },
     "5f04ab13d1ad4bb192eca83577b2063f": {
      "model_module": "@jupyter-widgets/base",
      "model_module_version": "2.0.0",
      "model_name": "LayoutModel",
      "state": {}
     },
     "5fa1acd49a9c40aaaba06bc4f0c063fc": {
      "model_module": "@jupyter-widgets/controls",
      "model_module_version": "2.0.0",
      "model_name": "HTMLStyleModel",
      "state": {
       "description_width": "",
       "font_size": null,
       "text_color": null
      }
     },
     "60a8bc1442c04f639a8cf235e8b0194b": {
      "model_module": "@jupyter-widgets/controls",
      "model_module_version": "2.0.0",
      "model_name": "HTMLStyleModel",
      "state": {
       "description_width": "",
       "font_size": null,
       "text_color": null
      }
     },
     "60c2ea3a45334badb9ec945e9eac233d": {
      "model_module": "@jupyter-widgets/controls",
      "model_module_version": "2.0.0",
      "model_name": "FloatProgressModel",
      "state": {
       "layout": "IPY_MODEL_ae46f841d4a641af93fb6cb0a5541419",
       "max": 62,
       "style": "IPY_MODEL_97826a994b054b20b6668fed62749961",
       "value": 62
      }
     },
     "60df1fc6eb684110a42a443c9e9cb6f5": {
      "model_module": "@jupyter-widgets/controls",
      "model_module_version": "2.0.0",
      "model_name": "HTMLModel",
      "state": {
       "layout": "IPY_MODEL_ed710ffd558d42819e3d4ff2bb152126",
       "style": "IPY_MODEL_b0e1221a63694d89b2e58f8ef3e2a257",
       "value": "Validation DataLoader 0: 100%"
      }
     },
     "61010b8815c34e2fa289dd3ada834b89": {
      "model_module": "@jupyter-widgets/base",
      "model_module_version": "2.0.0",
      "model_name": "LayoutModel",
      "state": {
       "display": "inline-flex",
       "flex_flow": "row wrap",
       "visibility": "hidden",
       "width": "100%"
      }
     },
     "61278c31a48e4e75b10503046aad00e0": {
      "model_module": "@jupyter-widgets/controls",
      "model_module_version": "2.0.0",
      "model_name": "HTMLStyleModel",
      "state": {
       "description_width": "",
       "font_size": null,
       "text_color": null
      }
     },
     "616fdc284b30482ab34b3d0881dc922a": {
      "model_module": "@jupyter-widgets/controls",
      "model_module_version": "2.0.0",
      "model_name": "HTMLModel",
      "state": {
       "layout": "IPY_MODEL_6dd68e2c884f46eba43d3e2df796d481",
       "style": "IPY_MODEL_4e3fa78c79aa4ecda4ba73b59287dcf5",
       "value": "Epoch 38: 100%"
      }
     },
     "61af9fe017c541fca0c3fbc03248103a": {
      "model_module": "@jupyter-widgets/controls",
      "model_module_version": "2.0.0",
      "model_name": "FloatProgressModel",
      "state": {
       "layout": "IPY_MODEL_146db0108c404b49be773e6c746896a0",
       "max": 62,
       "style": "IPY_MODEL_8abbe722465c40399094041adfa046c3",
       "value": 62
      }
     },
     "61b89738ffac4a5384b74cd6b04ea52a": {
      "model_module": "@jupyter-widgets/base",
      "model_module_version": "2.0.0",
      "model_name": "LayoutModel",
      "state": {
       "display": "inline-flex",
       "flex_flow": "row wrap",
       "visibility": "hidden",
       "width": "100%"
      }
     },
     "61d1ca0c74874ba79e84a7a56dbfbbba": {
      "model_module": "@jupyter-widgets/controls",
      "model_module_version": "2.0.0",
      "model_name": "HTMLModel",
      "state": {
       "layout": "IPY_MODEL_2f6d8c262c2c45b1bc8f86f810618ddf",
       "style": "IPY_MODEL_0dfe5af391d54a58a64c0546093533c1",
       "value": " 62/62 [00:01&lt;00:00, 33.06it/s]"
      }
     },
     "62050daf304f4245868ab59f58c36c81": {
      "model_module": "@jupyter-widgets/base",
      "model_module_version": "2.0.0",
      "model_name": "LayoutModel",
      "state": {
       "display": "inline-flex",
       "flex_flow": "row wrap",
       "visibility": "hidden",
       "width": "100%"
      }
     },
     "62569f5650a34ffabfc067b57a2fdfee": {
      "model_module": "@jupyter-widgets/controls",
      "model_module_version": "2.0.0",
      "model_name": "HTMLStyleModel",
      "state": {
       "description_width": "",
       "font_size": null,
       "text_color": null
      }
     },
     "62779794cc9140579f478b67d2b9f71e": {
      "model_module": "@jupyter-widgets/controls",
      "model_module_version": "2.0.0",
      "model_name": "HTMLStyleModel",
      "state": {
       "description_width": "",
       "font_size": null,
       "text_color": null
      }
     },
     "6296842afb3a402db6bec24286acbf6f": {
      "model_module": "@jupyter-widgets/controls",
      "model_module_version": "2.0.0",
      "model_name": "HTMLModel",
      "state": {
       "layout": "IPY_MODEL_17cd6058ff3b4ad38475e087ed3cadda",
       "style": "IPY_MODEL_9d1994b4fae64b3c91489c8ae94b3c1d",
       "value": "Validation DataLoader 0: 100%"
      }
     },
     "62b466924a5e408397c5ee5661fc61a4": {
      "model_module": "@jupyter-widgets/base",
      "model_module_version": "2.0.0",
      "model_name": "LayoutModel",
      "state": {
       "display": "inline-flex",
       "flex_flow": "row wrap",
       "visibility": "hidden",
       "width": "100%"
      }
     },
     "62cf041bc1ad4f8299089fdd6ae9147e": {
      "model_module": "@jupyter-widgets/base",
      "model_module_version": "2.0.0",
      "model_name": "LayoutModel",
      "state": {
       "display": "inline-flex",
       "flex_flow": "row wrap",
       "visibility": "hidden",
       "width": "100%"
      }
     },
     "62ecf495dc01409ca26652d8e0b4701b": {
      "model_module": "@jupyter-widgets/base",
      "model_module_version": "2.0.0",
      "model_name": "LayoutModel",
      "state": {
       "display": "inline-flex",
       "flex_flow": "row wrap",
       "visibility": "hidden",
       "width": "100%"
      }
     },
     "6303885937a1458bb12c73c0eafafb89": {
      "model_module": "@jupyter-widgets/controls",
      "model_module_version": "2.0.0",
      "model_name": "HTMLStyleModel",
      "state": {
       "description_width": "",
       "font_size": null,
       "text_color": null
      }
     },
     "630f4f7ebfad4227be603e482b337cdb": {
      "model_module": "@jupyter-widgets/base",
      "model_module_version": "2.0.0",
      "model_name": "LayoutModel",
      "state": {
       "flex": "2"
      }
     },
     "6322ec3757f546f7b2509860aa38245d": {
      "model_module": "@jupyter-widgets/controls",
      "model_module_version": "2.0.0",
      "model_name": "FloatProgressModel",
      "state": {
       "layout": "IPY_MODEL_711f3c942b014fad8ba5e67c41d83afb",
       "max": 62,
       "style": "IPY_MODEL_526b2454469a44019c46e14b28e44097",
       "value": 62
      }
     },
     "634155263dc0480d98753331761a4750": {
      "model_module": "@jupyter-widgets/base",
      "model_module_version": "2.0.0",
      "model_name": "LayoutModel",
      "state": {
       "display": "inline-flex",
       "flex_flow": "row wrap",
       "visibility": "hidden",
       "width": "100%"
      }
     },
     "64363af7c9994beeaf94930458a9ce52": {
      "model_module": "@jupyter-widgets/controls",
      "model_module_version": "2.0.0",
      "model_name": "HTMLStyleModel",
      "state": {
       "description_width": "",
       "font_size": null,
       "text_color": null
      }
     },
     "64606123862a40f7b76b081426decba2": {
      "model_module": "@jupyter-widgets/controls",
      "model_module_version": "2.0.0",
      "model_name": "ProgressStyleModel",
      "state": {
       "description_width": ""
      }
     },
     "64d545d4fbbd477d92ba744b76e94127": {
      "model_module": "@jupyter-widgets/base",
      "model_module_version": "2.0.0",
      "model_name": "LayoutModel",
      "state": {
       "flex": "2"
      }
     },
     "64e2f65c0ede44e483a51ef8a26f99fb": {
      "model_module": "@jupyter-widgets/controls",
      "model_module_version": "2.0.0",
      "model_name": "HTMLModel",
      "state": {
       "layout": "IPY_MODEL_3b30fbf5c7bf485b9de9dc73f4797007",
       "style": "IPY_MODEL_6ab3e3382be54bc3b95455834a95404e",
       "value": " 62/62 [00:01&lt;00:00, 31.45it/s]"
      }
     },
     "652e18a7fe4a4b2cb3eebc58210e82f4": {
      "model_module": "@jupyter-widgets/controls",
      "model_module_version": "2.0.0",
      "model_name": "HTMLModel",
      "state": {
       "layout": "IPY_MODEL_550bd5f8b894461daf3c3137e4c03482",
       "style": "IPY_MODEL_28dd275ca71744e59eb3762ecbb0e807",
       "value": " 62/62 [00:01&lt;00:00, 40.76it/s]"
      }
     },
     "65a945caa70a41e2a2c56d680b5c443e": {
      "model_module": "@jupyter-widgets/controls",
      "model_module_version": "2.0.0",
      "model_name": "ProgressStyleModel",
      "state": {
       "description_width": ""
      }
     },
     "65b500465f5a497e9d7482a0bb1aafd0": {
      "model_module": "@jupyter-widgets/base",
      "model_module_version": "2.0.0",
      "model_name": "LayoutModel",
      "state": {}
     },
     "660d9338492640c3be69b1e33c31e36b": {
      "model_module": "@jupyter-widgets/controls",
      "model_module_version": "2.0.0",
      "model_name": "HTMLStyleModel",
      "state": {
       "description_width": "",
       "font_size": null,
       "text_color": null
      }
     },
     "6629716ee32c410e9173d2cb6c45b704": {
      "model_module": "@jupyter-widgets/base",
      "model_module_version": "2.0.0",
      "model_name": "LayoutModel",
      "state": {}
     },
     "66636ac7fe094bef9b6d599936615611": {
      "model_module": "@jupyter-widgets/controls",
      "model_module_version": "2.0.0",
      "model_name": "HBoxModel",
      "state": {
       "children": [
        "IPY_MODEL_04707beff85440f88bb5fc6837e24a90",
        "IPY_MODEL_ff8ebe08eec64f3ab6c0e0ea80b5d2fe",
        "IPY_MODEL_da184766acaf4308b9d23c17ea69a626"
       ],
       "layout": "IPY_MODEL_72511d43e6974f0694109e8485baf1b6"
      }
     },
     "6676df431a3c4637a8259b9ef95ce512": {
      "model_module": "@jupyter-widgets/controls",
      "model_module_version": "2.0.0",
      "model_name": "ProgressStyleModel",
      "state": {
       "description_width": ""
      }
     },
     "66b32f2cb9624659987dcf79602b4f2b": {
      "model_module": "@jupyter-widgets/base",
      "model_module_version": "2.0.0",
      "model_name": "LayoutModel",
      "state": {}
     },
     "671da97fced94f7da02e18ac45dea9b5": {
      "model_module": "@jupyter-widgets/base",
      "model_module_version": "2.0.0",
      "model_name": "LayoutModel",
      "state": {}
     },
     "67a288e756494a75ad5a62d2fcdaead3": {
      "model_module": "@jupyter-widgets/controls",
      "model_module_version": "2.0.0",
      "model_name": "HTMLStyleModel",
      "state": {
       "description_width": "",
       "font_size": null,
       "text_color": null
      }
     },
     "67ba1bf8b1ea47cea94935c41420a55e": {
      "model_module": "@jupyter-widgets/controls",
      "model_module_version": "2.0.0",
      "model_name": "HTMLModel",
      "state": {
       "layout": "IPY_MODEL_b023aa68a97845e694e6c3fa2af03525",
       "style": "IPY_MODEL_313a109abf094271bb32ff445f874e83",
       "value": " 62/62 [00:01&lt;00:00, 32.63it/s]"
      }
     },
     "67c5fccec28e4c86a6a7f3bea954ac7f": {
      "model_module": "@jupyter-widgets/base",
      "model_module_version": "2.0.0",
      "model_name": "LayoutModel",
      "state": {}
     },
     "685947e03a044556badeec084dc6c2e9": {
      "model_module": "@jupyter-widgets/base",
      "model_module_version": "2.0.0",
      "model_name": "LayoutModel",
      "state": {}
     },
     "68bb030f20ce4207bbb0fb202d088f3b": {
      "model_module": "@jupyter-widgets/base",
      "model_module_version": "2.0.0",
      "model_name": "LayoutModel",
      "state": {}
     },
     "68f622af8e0a469894f4668d0894e6eb": {
      "model_module": "@jupyter-widgets/controls",
      "model_module_version": "2.0.0",
      "model_name": "HTMLModel",
      "state": {
       "layout": "IPY_MODEL_aef56db6ad344946b26c6deaa7b9be65",
       "style": "IPY_MODEL_a3fadc01a0a046ba9aa23d99439b8b8e",
       "value": " 62/62 [00:01&lt;00:00, 32.71it/s]"
      }
     },
     "6936334f63c143bc82d635ce29568ebe": {
      "model_module": "@jupyter-widgets/controls",
      "model_module_version": "2.0.0",
      "model_name": "HBoxModel",
      "state": {
       "children": [
        "IPY_MODEL_616fdc284b30482ab34b3d0881dc922a",
        "IPY_MODEL_f0b6468b511840bfae19ab8aedf0c9a9",
        "IPY_MODEL_1809557b334f4e8686a8d1ece1047dcb"
       ],
       "layout": "IPY_MODEL_6bf2225ee67d4c6f8e65d940d07bffa6"
      }
     },
     "69762ad51b9c47a9ab516e4533428d42": {
      "model_module": "@jupyter-widgets/controls",
      "model_module_version": "2.0.0",
      "model_name": "HTMLModel",
      "state": {
       "layout": "IPY_MODEL_68bb030f20ce4207bbb0fb202d088f3b",
       "style": "IPY_MODEL_12bf1a6f3fcd4c34a4110d0f0c39b2a6",
       "value": "Validation DataLoader 0: 100%"
      }
     },
     "6a14ccc6e0ae4538aecf1271de0dcd62": {
      "model_module": "@jupyter-widgets/base",
      "model_module_version": "2.0.0",
      "model_name": "LayoutModel",
      "state": {}
     },
     "6a2851b9aac14a9ab176c4567a3c5ee1": {
      "model_module": "@jupyter-widgets/controls",
      "model_module_version": "2.0.0",
      "model_name": "HBoxModel",
      "state": {
       "children": [
        "IPY_MODEL_8834435bff964cf3829dda27b8dd1e10",
        "IPY_MODEL_989fbba3acb04b4690645530bca1c42d",
        "IPY_MODEL_b2ca734a50de42d6a06fcb6342f747b1"
       ],
       "layout": "IPY_MODEL_1622867c39ea4b589184c735dc89c9f0"
      }
     },
     "6a861b3f8ad54bf8960845fe38fb9f84": {
      "model_module": "@jupyter-widgets/base",
      "model_module_version": "2.0.0",
      "model_name": "LayoutModel",
      "state": {
       "display": "inline-flex",
       "flex_flow": "row wrap",
       "visibility": "hidden",
       "width": "100%"
      }
     },
     "6ab3e3382be54bc3b95455834a95404e": {
      "model_module": "@jupyter-widgets/controls",
      "model_module_version": "2.0.0",
      "model_name": "HTMLStyleModel",
      "state": {
       "description_width": "",
       "font_size": null,
       "text_color": null
      }
     },
     "6af20c17f9a94209bfbde0cc6f5acee2": {
      "model_module": "@jupyter-widgets/base",
      "model_module_version": "2.0.0",
      "model_name": "LayoutModel",
      "state": {}
     },
     "6b0954ec211040b3a738125fadacc88d": {
      "model_module": "@jupyter-widgets/base",
      "model_module_version": "2.0.0",
      "model_name": "LayoutModel",
      "state": {
       "display": "inline-flex",
       "flex_flow": "row wrap",
       "visibility": "hidden",
       "width": "100%"
      }
     },
     "6bb08584e7dc4b86a7afdaf941050fb7": {
      "model_module": "@jupyter-widgets/base",
      "model_module_version": "2.0.0",
      "model_name": "LayoutModel",
      "state": {}
     },
     "6bf2225ee67d4c6f8e65d940d07bffa6": {
      "model_module": "@jupyter-widgets/base",
      "model_module_version": "2.0.0",
      "model_name": "LayoutModel",
      "state": {
       "display": "inline-flex",
       "flex_flow": "row wrap",
       "width": "100%"
      }
     },
     "6c1fc85b74ab412f98cd9ddb15f56058": {
      "model_module": "@jupyter-widgets/base",
      "model_module_version": "2.0.0",
      "model_name": "LayoutModel",
      "state": {}
     },
     "6c298f99a1b94189a312d9195a27debd": {
      "model_module": "@jupyter-widgets/base",
      "model_module_version": "2.0.0",
      "model_name": "LayoutModel",
      "state": {}
     },
     "6c4e508b11a04b6385b4fd2c42e907fd": {
      "model_module": "@jupyter-widgets/controls",
      "model_module_version": "2.0.0",
      "model_name": "FloatProgressModel",
      "state": {
       "layout": "IPY_MODEL_b4f00c1bd9144cfe967c7feda66104dc",
       "max": 62,
       "style": "IPY_MODEL_065e6448bda2467d8565be76aaaa5b7f",
       "value": 62
      }
     },
     "6c59606a70d6461193428584f31c5395": {
      "model_module": "@jupyter-widgets/controls",
      "model_module_version": "2.0.0",
      "model_name": "ProgressStyleModel",
      "state": {
       "description_width": ""
      }
     },
     "6c76ee8428224a44bc6bad56c7c9eda0": {
      "model_module": "@jupyter-widgets/controls",
      "model_module_version": "2.0.0",
      "model_name": "HTMLStyleModel",
      "state": {
       "description_width": "",
       "font_size": null,
       "text_color": null
      }
     },
     "6cc1d10b7eb3471993e4466ba42a7cdb": {
      "model_module": "@jupyter-widgets/base",
      "model_module_version": "2.0.0",
      "model_name": "LayoutModel",
      "state": {
       "flex": "2"
      }
     },
     "6d22f78814a34241af1c19d9a0c25695": {
      "model_module": "@jupyter-widgets/controls",
      "model_module_version": "2.0.0",
      "model_name": "ProgressStyleModel",
      "state": {
       "description_width": ""
      }
     },
     "6d79b27a89fa4ef8bc4534c3bfab6109": {
      "model_module": "@jupyter-widgets/controls",
      "model_module_version": "2.0.0",
      "model_name": "ProgressStyleModel",
      "state": {
       "description_width": ""
      }
     },
     "6d8ada201a044e0d8871e4adc1c6618e": {
      "model_module": "@jupyter-widgets/controls",
      "model_module_version": "2.0.0",
      "model_name": "ProgressStyleModel",
      "state": {
       "description_width": ""
      }
     },
     "6d92100e59bd4883a9493ee63873faf1": {
      "model_module": "@jupyter-widgets/controls",
      "model_module_version": "2.0.0",
      "model_name": "FloatProgressModel",
      "state": {
       "layout": "IPY_MODEL_ce84ded8bdcc46499ccd74f910631956",
       "max": 62,
       "style": "IPY_MODEL_39b8453a2a374f69b058b9e60249837a",
       "value": 62
      }
     },
     "6dd68e2c884f46eba43d3e2df796d481": {
      "model_module": "@jupyter-widgets/base",
      "model_module_version": "2.0.0",
      "model_name": "LayoutModel",
      "state": {}
     },
     "6e02d5f0086a4e64a7667c3a7544d04b": {
      "model_module": "@jupyter-widgets/controls",
      "model_module_version": "2.0.0",
      "model_name": "HTMLModel",
      "state": {
       "layout": "IPY_MODEL_9ebfc6ac20d84a90a9699a78e35cb0ff",
       "style": "IPY_MODEL_cd1a404781fd4f149bc6124e6f0703bb",
       "value": "Validation DataLoader 0: 100%"
      }
     },
     "6ec765868c6540058ba25667a920d586": {
      "model_module": "@jupyter-widgets/controls",
      "model_module_version": "2.0.0",
      "model_name": "HTMLModel",
      "state": {
       "layout": "IPY_MODEL_66b32f2cb9624659987dcf79602b4f2b",
       "style": "IPY_MODEL_bcade8e9d0c94d08acc7188fb753727c",
       "value": " 62/62 [00:01&lt;00:00, 32.74it/s]"
      }
     },
     "6fb0b80945814dff8cb367a607cf4974": {
      "model_module": "@jupyter-widgets/controls",
      "model_module_version": "2.0.0",
      "model_name": "HTMLStyleModel",
      "state": {
       "description_width": "",
       "font_size": null,
       "text_color": null
      }
     },
     "706b09fc8d314b6899ba34bf7b0977c2": {
      "model_module": "@jupyter-widgets/base",
      "model_module_version": "2.0.0",
      "model_name": "LayoutModel",
      "state": {}
     },
     "70baa4218edc4afb84dc7f4d20300121": {
      "model_module": "@jupyter-widgets/base",
      "model_module_version": "2.0.0",
      "model_name": "LayoutModel",
      "state": {
       "flex": "2"
      }
     },
     "711f3c942b014fad8ba5e67c41d83afb": {
      "model_module": "@jupyter-widgets/base",
      "model_module_version": "2.0.0",
      "model_name": "LayoutModel",
      "state": {
       "flex": "2"
      }
     },
     "71223c0e0c254a5dab96ee7b075f1841": {
      "model_module": "@jupyter-widgets/base",
      "model_module_version": "2.0.0",
      "model_name": "LayoutModel",
      "state": {}
     },
     "717e11b7d0f84cd7a3be6fec8a599c70": {
      "model_module": "@jupyter-widgets/controls",
      "model_module_version": "2.0.0",
      "model_name": "HTMLModel",
      "state": {
       "layout": "IPY_MODEL_d755c3fa6248405fa5f3e056bca7b190",
       "style": "IPY_MODEL_570751ca66d5436693b5c363bf1d365c",
       "value": "Validation DataLoader 0: 100%"
      }
     },
     "7195f0a5a52548478e97162efdaad5d1": {
      "model_module": "@jupyter-widgets/controls",
      "model_module_version": "2.0.0",
      "model_name": "FloatProgressModel",
      "state": {
       "layout": "IPY_MODEL_8fe9faed944f43499629a487f171821a",
       "max": 62,
       "style": "IPY_MODEL_42f53e30a2e44d058007add33f273e62",
       "value": 62
      }
     },
     "71e34360dd864c5fa8592d5deba29dc4": {
      "model_module": "@jupyter-widgets/controls",
      "model_module_version": "2.0.0",
      "model_name": "FloatProgressModel",
      "state": {
       "layout": "IPY_MODEL_2b7923f938b54c09bc7e60ac6bba5939",
       "max": 62,
       "style": "IPY_MODEL_281dca1be1364392b2b4b5760b37878a",
       "value": 62
      }
     },
     "722101bba35746e98a56363290c4aec5": {
      "model_module": "@jupyter-widgets/controls",
      "model_module_version": "2.0.0",
      "model_name": "HTMLStyleModel",
      "state": {
       "description_width": "",
       "font_size": null,
       "text_color": null
      }
     },
     "72315cce2d9d451aa0534edc46ec6cab": {
      "model_module": "@jupyter-widgets/controls",
      "model_module_version": "2.0.0",
      "model_name": "HTMLStyleModel",
      "state": {
       "description_width": "",
       "font_size": null,
       "text_color": null
      }
     },
     "7247259ab20e4037ac711bc354460110": {
      "model_module": "@jupyter-widgets/controls",
      "model_module_version": "2.0.0",
      "model_name": "ProgressStyleModel",
      "state": {
       "description_width": ""
      }
     },
     "72511d43e6974f0694109e8485baf1b6": {
      "model_module": "@jupyter-widgets/base",
      "model_module_version": "2.0.0",
      "model_name": "LayoutModel",
      "state": {
       "display": "inline-flex",
       "flex_flow": "row wrap",
       "width": "100%"
      }
     },
     "7253f44d37fd4f6d9a66a9e93ab116b8": {
      "model_module": "@jupyter-widgets/base",
      "model_module_version": "2.0.0",
      "model_name": "LayoutModel",
      "state": {}
     },
     "72a140ef8751436697b64b74f3a8f1fa": {
      "model_module": "@jupyter-widgets/controls",
      "model_module_version": "2.0.0",
      "model_name": "HTMLModel",
      "state": {
       "layout": "IPY_MODEL_2f9c66d8111f40b5b87ff41815280c6f",
       "style": "IPY_MODEL_836b2fa3653745a0a3fcf4a534c86768",
       "value": " 62/62 [00:01&lt;00:00, 32.64it/s]"
      }
     },
     "72dcc7a0af8645cb8a59050e00bd7073": {
      "model_module": "@jupyter-widgets/controls",
      "model_module_version": "2.0.0",
      "model_name": "HTMLModel",
      "state": {
       "layout": "IPY_MODEL_1a893d00f7d54be0add3d702c3975dd6",
       "style": "IPY_MODEL_3e62e831458e483fa6ff2c0927a04c43",
       "value": " 62/62 [00:01&lt;00:00, 32.54it/s]"
      }
     },
     "72f64969b86449319ceda24dd5fce2d7": {
      "model_module": "@jupyter-widgets/controls",
      "model_module_version": "2.0.0",
      "model_name": "HTMLStyleModel",
      "state": {
       "description_width": "",
       "font_size": null,
       "text_color": null
      }
     },
     "731a2a3188324250b7edf4373fd13aa8": {
      "model_module": "@jupyter-widgets/base",
      "model_module_version": "2.0.0",
      "model_name": "LayoutModel",
      "state": {
       "display": "inline-flex",
       "flex_flow": "row wrap",
       "visibility": "hidden",
       "width": "100%"
      }
     },
     "745e5a4aac83421789c692cc2c0f5fc8": {
      "model_module": "@jupyter-widgets/base",
      "model_module_version": "2.0.0",
      "model_name": "LayoutModel",
      "state": {}
     },
     "759e91348b45455a92f1cdb543d94ba1": {
      "model_module": "@jupyter-widgets/controls",
      "model_module_version": "2.0.0",
      "model_name": "HTMLStyleModel",
      "state": {
       "description_width": "",
       "font_size": null,
       "text_color": null
      }
     },
     "7611019133784c9d8beff3c41693e53c": {
      "model_module": "@jupyter-widgets/controls",
      "model_module_version": "2.0.0",
      "model_name": "FloatProgressModel",
      "state": {
       "bar_style": "success",
       "layout": "IPY_MODEL_4583c3e5d82a4ffca11f12b8208a3622",
       "max": 62,
       "style": "IPY_MODEL_f046ef06978b43f6adb65add8cf34fdd",
       "value": 62
      }
     },
     "761ea4708bb845258a7242e7e0d9354d": {
      "model_module": "@jupyter-widgets/base",
      "model_module_version": "2.0.0",
      "model_name": "LayoutModel",
      "state": {}
     },
     "766a7d73cc2d47a9967f978ef3d71d78": {
      "model_module": "@jupyter-widgets/controls",
      "model_module_version": "2.0.0",
      "model_name": "HTMLStyleModel",
      "state": {
       "description_width": "",
       "font_size": null,
       "text_color": null
      }
     },
     "772af66f81274bddb333eba1c7672807": {
      "model_module": "@jupyter-widgets/controls",
      "model_module_version": "2.0.0",
      "model_name": "ProgressStyleModel",
      "state": {
       "description_width": ""
      }
     },
     "774c8ed3a77a4d82a2f87b896c167a48": {
      "model_module": "@jupyter-widgets/controls",
      "model_module_version": "2.0.0",
      "model_name": "HTMLStyleModel",
      "state": {
       "description_width": "",
       "font_size": null,
       "text_color": null
      }
     },
     "7769494be6c141d6b289d3225ff01c84": {
      "model_module": "@jupyter-widgets/controls",
      "model_module_version": "2.0.0",
      "model_name": "HTMLModel",
      "state": {
       "layout": "IPY_MODEL_e101d085404941db85c21809d05262e9",
       "style": "IPY_MODEL_8a445aef2ac84a179ba5357795c89901",
       "value": "Validation DataLoader 0: 100%"
      }
     },
     "77b0ac0f26624a50ab22bde80705f31e": {
      "model_module": "@jupyter-widgets/base",
      "model_module_version": "2.0.0",
      "model_name": "LayoutModel",
      "state": {}
     },
     "7829fc634a744e9d904759012ceaa221": {
      "model_module": "@jupyter-widgets/controls",
      "model_module_version": "2.0.0",
      "model_name": "HTMLStyleModel",
      "state": {
       "description_width": "",
       "font_size": null,
       "text_color": null
      }
     },
     "796ecd37a6e34964bd4662a33cec1a3c": {
      "model_module": "@jupyter-widgets/base",
      "model_module_version": "2.0.0",
      "model_name": "LayoutModel",
      "state": {
       "display": "inline-flex",
       "flex_flow": "row wrap",
       "visibility": "hidden",
       "width": "100%"
      }
     },
     "79ae6dd3d9c740adaac8f1146a22c726": {
      "model_module": "@jupyter-widgets/base",
      "model_module_version": "2.0.0",
      "model_name": "LayoutModel",
      "state": {}
     },
     "79c72c01897d47c2843bcb8c37593a34": {
      "model_module": "@jupyter-widgets/base",
      "model_module_version": "2.0.0",
      "model_name": "LayoutModel",
      "state": {
       "display": "inline-flex",
       "flex_flow": "row wrap",
       "visibility": "hidden",
       "width": "100%"
      }
     },
     "79f330d735c9438facd36c560212604d": {
      "model_module": "@jupyter-widgets/controls",
      "model_module_version": "2.0.0",
      "model_name": "HTMLStyleModel",
      "state": {
       "description_width": "",
       "font_size": null,
       "text_color": null
      }
     },
     "7a3cb949d3394013a2d0f71469199615": {
      "model_module": "@jupyter-widgets/base",
      "model_module_version": "2.0.0",
      "model_name": "LayoutModel",
      "state": {}
     },
     "7a92998f3869477b8bf015961755d741": {
      "model_module": "@jupyter-widgets/base",
      "model_module_version": "2.0.0",
      "model_name": "LayoutModel",
      "state": {}
     },
     "7abe263c83e443e9abd8e1cb2163fa37": {
      "model_module": "@jupyter-widgets/base",
      "model_module_version": "2.0.0",
      "model_name": "LayoutModel",
      "state": {
       "display": "inline-flex",
       "flex_flow": "row wrap",
       "visibility": "hidden",
       "width": "100%"
      }
     },
     "7bbbbc8a637d443699bf8f572a2fe1fc": {
      "model_module": "@jupyter-widgets/base",
      "model_module_version": "2.0.0",
      "model_name": "LayoutModel",
      "state": {}
     },
     "7be555080e7d4529a5be537cc37bfed1": {
      "model_module": "@jupyter-widgets/base",
      "model_module_version": "2.0.0",
      "model_name": "LayoutModel",
      "state": {
       "flex": "2"
      }
     },
     "7c25c89d11304aec961691fc64a791a2": {
      "model_module": "@jupyter-widgets/controls",
      "model_module_version": "2.0.0",
      "model_name": "HTMLModel",
      "state": {
       "layout": "IPY_MODEL_b7d0743a05e4471a93631e62b04b4a6f",
       "style": "IPY_MODEL_9d96075b44cc4121a786d33b0b66fff5",
       "value": "Validation DataLoader 0: 100%"
      }
     },
     "7c5dcdfeb0944963aece88b0b2c5f0be": {
      "model_module": "@jupyter-widgets/base",
      "model_module_version": "2.0.0",
      "model_name": "LayoutModel",
      "state": {
       "display": "inline-flex",
       "flex_flow": "row wrap",
       "visibility": "hidden",
       "width": "100%"
      }
     },
     "7c618d37cba54fd1bf08bf7e1dde8745": {
      "model_module": "@jupyter-widgets/base",
      "model_module_version": "2.0.0",
      "model_name": "LayoutModel",
      "state": {
       "display": "inline-flex",
       "flex_flow": "row wrap",
       "visibility": "hidden",
       "width": "100%"
      }
     },
     "7c70cece019f45a4b22cfccc22a183cf": {
      "model_module": "@jupyter-widgets/controls",
      "model_module_version": "2.0.0",
      "model_name": "HTMLModel",
      "state": {
       "layout": "IPY_MODEL_2b1b93d4aacf4af483b5a35285422c3a",
       "style": "IPY_MODEL_d9b713963dbf46c7aae700052bae3f23",
       "value": "Validation DataLoader 0: 100%"
      }
     },
     "7ca28d748c704369a0a39b480ecada81": {
      "model_module": "@jupyter-widgets/controls",
      "model_module_version": "2.0.0",
      "model_name": "HTMLStyleModel",
      "state": {
       "description_width": "",
       "font_size": null,
       "text_color": null
      }
     },
     "7ca83d1a2e4746a0bd67478ea9d15e27": {
      "model_module": "@jupyter-widgets/controls",
      "model_module_version": "2.0.0",
      "model_name": "ProgressStyleModel",
      "state": {
       "description_width": ""
      }
     },
     "7df40b6d3d814ad581f75fae94a22541": {
      "model_module": "@jupyter-widgets/controls",
      "model_module_version": "2.0.0",
      "model_name": "HTMLStyleModel",
      "state": {
       "description_width": "",
       "font_size": null,
       "text_color": null
      }
     },
     "7e5353e9700045eab9da7c215841fb75": {
      "model_module": "@jupyter-widgets/controls",
      "model_module_version": "2.0.0",
      "model_name": "HTMLModel",
      "state": {
       "layout": "IPY_MODEL_7fa39147fa14489288378db419cc22bc",
       "style": "IPY_MODEL_eb633201357949bbb908dfa72c4cbad3",
       "value": " 62/62 [00:01&lt;00:00, 31.96it/s]"
      }
     },
     "7e704a791848472690c203b03bc294fc": {
      "model_module": "@jupyter-widgets/base",
      "model_module_version": "2.0.0",
      "model_name": "LayoutModel",
      "state": {}
     },
     "7f124095bf6049f4a113f4c8780f5bdd": {
      "model_module": "@jupyter-widgets/controls",
      "model_module_version": "2.0.0",
      "model_name": "FloatProgressModel",
      "state": {
       "layout": "IPY_MODEL_20269e7db3f44c91b99252c4658a6df5",
       "max": 62,
       "style": "IPY_MODEL_6d79b27a89fa4ef8bc4534c3bfab6109",
       "value": 62
      }
     },
     "7f1765b52ac2494a8a4caa9393202d2f": {
      "model_module": "@jupyter-widgets/base",
      "model_module_version": "2.0.0",
      "model_name": "LayoutModel",
      "state": {}
     },
     "7f3d9522868d42eb9e6f23f7cc8d548b": {
      "model_module": "@jupyter-widgets/base",
      "model_module_version": "2.0.0",
      "model_name": "LayoutModel",
      "state": {}
     },
     "7f45741143f64fdca21186c244fa9bb6": {
      "model_module": "@jupyter-widgets/base",
      "model_module_version": "2.0.0",
      "model_name": "LayoutModel",
      "state": {}
     },
     "7f591f590a2f434da22cf8a81f8e7853": {
      "model_module": "@jupyter-widgets/base",
      "model_module_version": "2.0.0",
      "model_name": "LayoutModel",
      "state": {
       "flex": "2"
      }
     },
     "7fa39147fa14489288378db419cc22bc": {
      "model_module": "@jupyter-widgets/base",
      "model_module_version": "2.0.0",
      "model_name": "LayoutModel",
      "state": {}
     },
     "800e5750c4354349a51abcf4d7036288": {
      "model_module": "@jupyter-widgets/controls",
      "model_module_version": "2.0.0",
      "model_name": "HTMLStyleModel",
      "state": {
       "description_width": "",
       "font_size": null,
       "text_color": null
      }
     },
     "80dd7bd9faf74dfca24c553af550a846": {
      "model_module": "@jupyter-widgets/controls",
      "model_module_version": "2.0.0",
      "model_name": "HTMLModel",
      "state": {
       "layout": "IPY_MODEL_cab9a720cac44969a7b8f00497d1b879",
       "style": "IPY_MODEL_d150d958aac14ca38e7ae1da41a3a6cc",
       "value": " 62/62 [00:01&lt;00:00, 32.76it/s]"
      }
     },
     "81236ebc2caa4cb3990b170c280ff43f": {
      "model_module": "@jupyter-widgets/base",
      "model_module_version": "2.0.0",
      "model_name": "LayoutModel",
      "state": {}
     },
     "8141acbcbfcd4f06a7f4aebb1bbdaa88": {
      "model_module": "@jupyter-widgets/controls",
      "model_module_version": "2.0.0",
      "model_name": "HTMLModel",
      "state": {
       "layout": "IPY_MODEL_fda8b3b0835f446fa6aa4bc079d38204",
       "style": "IPY_MODEL_1ca1f9e9c4914cca958d2e20952b4eb7",
       "value": "Validation DataLoader 0: 100%"
      }
     },
     "8181033e89fa45c4adbe68d41aa351c7": {
      "model_module": "@jupyter-widgets/controls",
      "model_module_version": "2.0.0",
      "model_name": "FloatProgressModel",
      "state": {
       "layout": "IPY_MODEL_7be555080e7d4529a5be537cc37bfed1",
       "max": 62,
       "style": "IPY_MODEL_0499a26978ba43fe89efd09cf4a556d0",
       "value": 62
      }
     },
     "820c6b53430146bfa84f4eb3e85722e6": {
      "model_module": "@jupyter-widgets/controls",
      "model_module_version": "2.0.0",
      "model_name": "HTMLModel",
      "state": {
       "layout": "IPY_MODEL_7f3d9522868d42eb9e6f23f7cc8d548b",
       "style": "IPY_MODEL_0b548089fcea43d2899e7b106018b656",
       "value": " 62/62 [00:01&lt;00:00, 32.76it/s]"
      }
     },
     "824eedf3224c4db696937f62d6fd754b": {
      "model_module": "@jupyter-widgets/base",
      "model_module_version": "2.0.0",
      "model_name": "LayoutModel",
      "state": {}
     },
     "8337ad0c5cd945589c4119ccadc32166": {
      "model_module": "@jupyter-widgets/base",
      "model_module_version": "2.0.0",
      "model_name": "LayoutModel",
      "state": {
       "display": "inline-flex",
       "flex_flow": "row wrap",
       "visibility": "hidden",
       "width": "100%"
      }
     },
     "8344c6b83a05401cb08b777e206c944f": {
      "model_module": "@jupyter-widgets/controls",
      "model_module_version": "2.0.0",
      "model_name": "HTMLStyleModel",
      "state": {
       "description_width": "",
       "font_size": null,
       "text_color": null
      }
     },
     "836b2fa3653745a0a3fcf4a534c86768": {
      "model_module": "@jupyter-widgets/controls",
      "model_module_version": "2.0.0",
      "model_name": "HTMLStyleModel",
      "state": {
       "description_width": "",
       "font_size": null,
       "text_color": null
      }
     },
     "8393ddb5ec7448b99c304c5da6954114": {
      "model_module": "@jupyter-widgets/controls",
      "model_module_version": "2.0.0",
      "model_name": "HTMLStyleModel",
      "state": {
       "description_width": "",
       "font_size": null,
       "text_color": null
      }
     },
     "83acae48a4cd485390500e18954b97ac": {
      "model_module": "@jupyter-widgets/controls",
      "model_module_version": "2.0.0",
      "model_name": "HTMLModel",
      "state": {
       "layout": "IPY_MODEL_ea6744d8932344728cb663fe83bc975e",
       "style": "IPY_MODEL_bf5036bd575942a985bca7786bb2e70f",
       "value": "Validation DataLoader 0: 100%"
      }
     },
     "83c3e1226eb146fcbbfdf9fad991fefd": {
      "model_module": "@jupyter-widgets/controls",
      "model_module_version": "2.0.0",
      "model_name": "ProgressStyleModel",
      "state": {
       "description_width": ""
      }
     },
     "84070c96b2f64f37a5080a0bd7ee1eb3": {
      "model_module": "@jupyter-widgets/base",
      "model_module_version": "2.0.0",
      "model_name": "LayoutModel",
      "state": {
       "display": "inline-flex",
       "flex_flow": "row wrap",
       "visibility": "hidden",
       "width": "100%"
      }
     },
     "841109990883488f9cdae5bb3d8bc90a": {
      "model_module": "@jupyter-widgets/controls",
      "model_module_version": "2.0.0",
      "model_name": "HTMLModel",
      "state": {
       "layout": "IPY_MODEL_ccb58c05b4b54836ac1bbc6f97d7eb30",
       "style": "IPY_MODEL_a2419e9c08414950ab1c952222466f1e",
       "value": " 62/62 [00:01&lt;00:00, 39.80it/s]"
      }
     },
     "84ec8328ada549d1953adf1bf9618cc5": {
      "model_module": "@jupyter-widgets/controls",
      "model_module_version": "2.0.0",
      "model_name": "ProgressStyleModel",
      "state": {
       "description_width": ""
      }
     },
     "85516bac95084bae8756f8e1b114084b": {
      "model_module": "@jupyter-widgets/base",
      "model_module_version": "2.0.0",
      "model_name": "LayoutModel",
      "state": {
       "display": "inline-flex",
       "flex_flow": "row wrap",
       "visibility": "hidden",
       "width": "100%"
      }
     },
     "85af5d92e5914374a116acff8425c219": {
      "model_module": "@jupyter-widgets/controls",
      "model_module_version": "2.0.0",
      "model_name": "HTMLModel",
      "state": {
       "layout": "IPY_MODEL_a70261262bd446edb9bafaf661480c9e",
       "style": "IPY_MODEL_5fa1acd49a9c40aaaba06bc4f0c063fc",
       "value": "Validation DataLoader 0: 100%"
      }
     },
     "85b977fbda5948ceac5118a1015f12dc": {
      "model_module": "@jupyter-widgets/controls",
      "model_module_version": "2.0.0",
      "model_name": "HTMLModel",
      "state": {
       "layout": "IPY_MODEL_3585b17532cd488888d3e01d59ca513f",
       "style": "IPY_MODEL_7ca28d748c704369a0a39b480ecada81",
       "value": " 62/62 [00:01&lt;00:00, 32.31it/s]"
      }
     },
     "85d18b295b1747ed9d64727781a4901d": {
      "model_module": "@jupyter-widgets/controls",
      "model_module_version": "2.0.0",
      "model_name": "FloatProgressModel",
      "state": {
       "layout": "IPY_MODEL_e3577cfe674a48ed8ade506da8472961",
       "max": 62,
       "style": "IPY_MODEL_a318c50996c1403cb5b8085db8c75708",
       "value": 62
      }
     },
     "862885cab47c4e4690f7fba81cfd7996": {
      "model_module": "@jupyter-widgets/base",
      "model_module_version": "2.0.0",
      "model_name": "LayoutModel",
      "state": {}
     },
     "86659f4cb610471c91814d272fc6c06f": {
      "model_module": "@jupyter-widgets/base",
      "model_module_version": "2.0.0",
      "model_name": "LayoutModel",
      "state": {
       "display": "inline-flex",
       "flex_flow": "row wrap",
       "visibility": "hidden",
       "width": "100%"
      }
     },
     "869b4a3bda5e4419aede4273bae51052": {
      "model_module": "@jupyter-widgets/controls",
      "model_module_version": "2.0.0",
      "model_name": "HTMLModel",
      "state": {
       "layout": "IPY_MODEL_8e0848a158624a2ab96a7204575d54d8",
       "style": "IPY_MODEL_caecbd40a7124d0c8e6d8bf4a31c3b25",
       "value": "Validation DataLoader 0: 100%"
      }
     },
     "86bda37f527940d28ddd82e1ce46958b": {
      "model_module": "@jupyter-widgets/controls",
      "model_module_version": "2.0.0",
      "model_name": "HTMLModel",
      "state": {
       "layout": "IPY_MODEL_991854cf53264e0fae2a5dfbbd02d71f",
       "style": "IPY_MODEL_5824995771364aad8715956233d73054",
       "value": " 62/62 [00:01&lt;00:00, 32.10it/s]"
      }
     },
     "86c15f8447cf4af09632c0d4734a1c8f": {
      "model_module": "@jupyter-widgets/controls",
      "model_module_version": "2.0.0",
      "model_name": "HTMLModel",
      "state": {
       "layout": "IPY_MODEL_949880151dc14535b7099ea7949cc04b",
       "style": "IPY_MODEL_cea36b5f3aa04c94abc0935f5d5b4cd4",
       "value": " 62/62 [00:01&lt;00:00, 32.80it/s]"
      }
     },
     "86e802af2cc34764ba99e84e6763e736": {
      "model_module": "@jupyter-widgets/base",
      "model_module_version": "2.0.0",
      "model_name": "LayoutModel",
      "state": {
       "flex": "2"
      }
     },
     "87b287baa2164ed9b15e64714f98702a": {
      "model_module": "@jupyter-widgets/controls",
      "model_module_version": "2.0.0",
      "model_name": "FloatProgressModel",
      "state": {
       "layout": "IPY_MODEL_0c0612305c43453eaa13eeb5e2863293",
       "max": 62,
       "style": "IPY_MODEL_4c8fe34474454614adbe2fd2d70331c1",
       "value": 62
      }
     },
     "87cfacb708cb48bbbc86dd77337d2d5c": {
      "model_module": "@jupyter-widgets/controls",
      "model_module_version": "2.0.0",
      "model_name": "FloatProgressModel",
      "state": {
       "layout": "IPY_MODEL_ffdda2bba47f4dfb82afbfb5b2d11399",
       "max": 62,
       "style": "IPY_MODEL_4938a6f5bfe049e5b6986bd191f91de5",
       "value": 62
      }
     },
     "87f74f52891d4c6299cd129c74d91e3d": {
      "model_module": "@jupyter-widgets/controls",
      "model_module_version": "2.0.0",
      "model_name": "HTMLStyleModel",
      "state": {
       "description_width": "",
       "font_size": null,
       "text_color": null
      }
     },
     "8834435bff964cf3829dda27b8dd1e10": {
      "model_module": "@jupyter-widgets/controls",
      "model_module_version": "2.0.0",
      "model_name": "HTMLModel",
      "state": {
       "layout": "IPY_MODEL_c6f9f4f8459642918925a29773ad3def",
       "style": "IPY_MODEL_8df2768811d94ffd804baaca70c6301d",
       "value": "Testing DataLoader 0: 100%"
      }
     },
     "884ab54837694b399d2283de5296cabe": {
      "model_module": "@jupyter-widgets/controls",
      "model_module_version": "2.0.0",
      "model_name": "HTMLModel",
      "state": {
       "layout": "IPY_MODEL_e4da1eee6e6c4738a51b4c47a97c5a41",
       "style": "IPY_MODEL_cb7ca8c2d0954a2597afdbcc080cc2d7",
       "value": " 62/62 [00:01&lt;00:00, 32.76it/s]"
      }
     },
     "8912ab8d6332475d86c03afcdf251c23": {
      "model_module": "@jupyter-widgets/controls",
      "model_module_version": "2.0.0",
      "model_name": "FloatProgressModel",
      "state": {
       "layout": "IPY_MODEL_3f3a74a1333b4d90aaa361c47c4a08ec",
       "max": 62,
       "style": "IPY_MODEL_1b1c7fb988604e4a864bdaf87550027f",
       "value": 62
      }
     },
     "89419c58f6084aecb8929043168d2ea4": {
      "model_module": "@jupyter-widgets/controls",
      "model_module_version": "2.0.0",
      "model_name": "ProgressStyleModel",
      "state": {
       "description_width": ""
      }
     },
     "89923ea0bd2b45a9b40f0b04333046db": {
      "model_module": "@jupyter-widgets/controls",
      "model_module_version": "2.0.0",
      "model_name": "HTMLStyleModel",
      "state": {
       "description_width": "",
       "font_size": null,
       "text_color": null
      }
     },
     "8a3efbed58004b99985c0ecfcf0df20c": {
      "model_module": "@jupyter-widgets/controls",
      "model_module_version": "2.0.0",
      "model_name": "HTMLModel",
      "state": {
       "layout": "IPY_MODEL_48ed0f1e97cd4c5ca30c2284d834902b",
       "style": "IPY_MODEL_60a8bc1442c04f639a8cf235e8b0194b",
       "value": "Validation DataLoader 0: 100%"
      }
     },
     "8a445aef2ac84a179ba5357795c89901": {
      "model_module": "@jupyter-widgets/controls",
      "model_module_version": "2.0.0",
      "model_name": "HTMLStyleModel",
      "state": {
       "description_width": "",
       "font_size": null,
       "text_color": null
      }
     },
     "8a55235cd6db49209290a01dbcc001d4": {
      "model_module": "@jupyter-widgets/controls",
      "model_module_version": "2.0.0",
      "model_name": "HTMLModel",
      "state": {
       "layout": "IPY_MODEL_bfa32149e5e64121906d93fcd66fb2f4",
       "style": "IPY_MODEL_0be56e8e289f4cb3ba096ed94434b91f",
       "value": "Validation DataLoader 0: 100%"
      }
     },
     "8a699206e4f24fe69af346fecbbef577": {
      "model_module": "@jupyter-widgets/controls",
      "model_module_version": "2.0.0",
      "model_name": "HBoxModel",
      "state": {
       "children": [
        "IPY_MODEL_0682be9d3d3e49b5b88447f1944730cd",
        "IPY_MODEL_7611019133784c9d8beff3c41693e53c",
        "IPY_MODEL_2bd87fd262e449cc9ad3c75830c4bb95"
       ],
       "layout": "IPY_MODEL_c5dd7877f14148e08e8e0e206176c7df"
      }
     },
     "8abbe722465c40399094041adfa046c3": {
      "model_module": "@jupyter-widgets/controls",
      "model_module_version": "2.0.0",
      "model_name": "ProgressStyleModel",
      "state": {
       "description_width": ""
      }
     },
     "8b7139e2718a48cca7644a0ab7d96005": {
      "model_module": "@jupyter-widgets/base",
      "model_module_version": "2.0.0",
      "model_name": "LayoutModel",
      "state": {}
     },
     "8bf9e20d72054596bf20eb9cda286b75": {
      "model_module": "@jupyter-widgets/controls",
      "model_module_version": "2.0.0",
      "model_name": "HTMLStyleModel",
      "state": {
       "description_width": "",
       "font_size": null,
       "text_color": null
      }
     },
     "8c03d1817e184f8b9c122a741481f1a5": {
      "model_module": "@jupyter-widgets/base",
      "model_module_version": "2.0.0",
      "model_name": "LayoutModel",
      "state": {
       "flex": "2"
      }
     },
     "8c36b18b74374a9da519de6d18a7f36a": {
      "model_module": "@jupyter-widgets/base",
      "model_module_version": "2.0.0",
      "model_name": "LayoutModel",
      "state": {}
     },
     "8d4b5f7d849b4ac0aa84d59ca822df73": {
      "model_module": "@jupyter-widgets/base",
      "model_module_version": "2.0.0",
      "model_name": "LayoutModel",
      "state": {
       "flex": "2"
      }
     },
     "8d996816cbad43d198f56858877bff16": {
      "model_module": "@jupyter-widgets/base",
      "model_module_version": "2.0.0",
      "model_name": "LayoutModel",
      "state": {
       "flex": "2"
      }
     },
     "8df2768811d94ffd804baaca70c6301d": {
      "model_module": "@jupyter-widgets/controls",
      "model_module_version": "2.0.0",
      "model_name": "HTMLStyleModel",
      "state": {
       "description_width": "",
       "font_size": null,
       "text_color": null
      }
     },
     "8df76f9177864a838217e20754058fc7": {
      "model_module": "@jupyter-widgets/controls",
      "model_module_version": "2.0.0",
      "model_name": "ProgressStyleModel",
      "state": {
       "description_width": ""
      }
     },
     "8e0848a158624a2ab96a7204575d54d8": {
      "model_module": "@jupyter-widgets/base",
      "model_module_version": "2.0.0",
      "model_name": "LayoutModel",
      "state": {}
     },
     "8e0c5d8186bb44628b2d34218220a633": {
      "model_module": "@jupyter-widgets/controls",
      "model_module_version": "2.0.0",
      "model_name": "HTMLStyleModel",
      "state": {
       "description_width": "",
       "font_size": null,
       "text_color": null
      }
     },
     "8e1f74c6684f41af883eabf1c5ea2eab": {
      "model_module": "@jupyter-widgets/controls",
      "model_module_version": "2.0.0",
      "model_name": "HTMLModel",
      "state": {
       "layout": "IPY_MODEL_43c2804291eb442ba02712d68f9700c9",
       "style": "IPY_MODEL_4da5a280ca264094a17393baec48028e",
       "value": " 62/62 [00:01&lt;00:00, 32.36it/s]"
      }
     },
     "8ed818b8070d4e899283e924c6119a06": {
      "model_module": "@jupyter-widgets/controls",
      "model_module_version": "2.0.0",
      "model_name": "HTMLModel",
      "state": {
       "layout": "IPY_MODEL_bd7b36f08e054276886abbef039462b9",
       "style": "IPY_MODEL_67a288e756494a75ad5a62d2fcdaead3",
       "value": "Validation DataLoader 0: 100%"
      }
     },
     "8f1878c512fb4c8a8fb7246ebf59eda6": {
      "model_module": "@jupyter-widgets/controls",
      "model_module_version": "2.0.0",
      "model_name": "FloatProgressModel",
      "state": {
       "layout": "IPY_MODEL_27015696377b4562a35ed8dbd4898b20",
       "max": 62,
       "style": "IPY_MODEL_a5afc95855874c75b6584ec6e79a6057",
       "value": 62
      }
     },
     "8f3c5439f68b4d15ad387571f92bd7d8": {
      "model_module": "@jupyter-widgets/base",
      "model_module_version": "2.0.0",
      "model_name": "LayoutModel",
      "state": {}
     },
     "8f6fe247db604fea92d531467e1389a7": {
      "model_module": "@jupyter-widgets/base",
      "model_module_version": "2.0.0",
      "model_name": "LayoutModel",
      "state": {
       "display": "inline-flex",
       "flex_flow": "row wrap",
       "visibility": "hidden",
       "width": "100%"
      }
     },
     "8f8e94b87fce4d5587fdb94fdcd57b7d": {
      "model_module": "@jupyter-widgets/base",
      "model_module_version": "2.0.0",
      "model_name": "LayoutModel",
      "state": {
       "display": "inline-flex",
       "flex_flow": "row wrap",
       "visibility": "hidden",
       "width": "100%"
      }
     },
     "8fe9faed944f43499629a487f171821a": {
      "model_module": "@jupyter-widgets/base",
      "model_module_version": "2.0.0",
      "model_name": "LayoutModel",
      "state": {
       "flex": "2"
      }
     },
     "9052ee3901fc41218804a413c825a1ca": {
      "model_module": "@jupyter-widgets/controls",
      "model_module_version": "2.0.0",
      "model_name": "HTMLStyleModel",
      "state": {
       "description_width": "",
       "font_size": null,
       "text_color": null
      }
     },
     "90ef36b462b74ee7b50804a709e400b4": {
      "model_module": "@jupyter-widgets/base",
      "model_module_version": "2.0.0",
      "model_name": "LayoutModel",
      "state": {}
     },
     "9123e6bc40d249ff82bba2d7977b4705": {
      "model_module": "@jupyter-widgets/controls",
      "model_module_version": "2.0.0",
      "model_name": "HTMLModel",
      "state": {
       "layout": "IPY_MODEL_2d66d5c17a6d40a48049180e8dc2aa5a",
       "style": "IPY_MODEL_f3d83d5f68974aa6bb824fed7f465c71",
       "value": "Validation DataLoader 0: 100%"
      }
     },
     "92346aa3d084418882edbe0626783706": {
      "model_module": "@jupyter-widgets/base",
      "model_module_version": "2.0.0",
      "model_name": "LayoutModel",
      "state": {
       "display": "inline-flex",
       "flex_flow": "row wrap",
       "visibility": "hidden",
       "width": "100%"
      }
     },
     "9284249243204676a7f6640a84ad3027": {
      "model_module": "@jupyter-widgets/controls",
      "model_module_version": "2.0.0",
      "model_name": "HTMLStyleModel",
      "state": {
       "description_width": "",
       "font_size": null,
       "text_color": null
      }
     },
     "9317015554fc4ee89cb0711ca7ce805a": {
      "model_module": "@jupyter-widgets/base",
      "model_module_version": "2.0.0",
      "model_name": "LayoutModel",
      "state": {}
     },
     "937c309258a04f8cbd441d1d87a2c88b": {
      "model_module": "@jupyter-widgets/controls",
      "model_module_version": "2.0.0",
      "model_name": "HTMLStyleModel",
      "state": {
       "description_width": "",
       "font_size": null,
       "text_color": null
      }
     },
     "93d5a41e4aec4778bbd5b5e362fb3aa7": {
      "model_module": "@jupyter-widgets/controls",
      "model_module_version": "2.0.0",
      "model_name": "HTMLModel",
      "state": {
       "layout": "IPY_MODEL_3e56756213e44ddfa8b5c7074be3a20f",
       "style": "IPY_MODEL_937c309258a04f8cbd441d1d87a2c88b",
       "value": " 62/62 [00:01&lt;00:00, 32.46it/s]"
      }
     },
     "943d52afbcf44d42b2d4c622bcf77a08": {
      "model_module": "@jupyter-widgets/controls",
      "model_module_version": "2.0.0",
      "model_name": "HTMLStyleModel",
      "state": {
       "description_width": "",
       "font_size": null,
       "text_color": null
      }
     },
     "9444921b0ce342e18551c507754da47e": {
      "model_module": "@jupyter-widgets/base",
      "model_module_version": "2.0.0",
      "model_name": "LayoutModel",
      "state": {}
     },
     "949880151dc14535b7099ea7949cc04b": {
      "model_module": "@jupyter-widgets/base",
      "model_module_version": "2.0.0",
      "model_name": "LayoutModel",
      "state": {}
     },
     "951abb74ff9f4ee1ae0cd91461047e1c": {
      "model_module": "@jupyter-widgets/base",
      "model_module_version": "2.0.0",
      "model_name": "LayoutModel",
      "state": {}
     },
     "954456278cdd470f892f3923cd1be599": {
      "model_module": "@jupyter-widgets/controls",
      "model_module_version": "2.0.0",
      "model_name": "FloatProgressModel",
      "state": {
       "layout": "IPY_MODEL_1322a367c5af4081a940c8e8c24c8753",
       "max": 62,
       "style": "IPY_MODEL_e5911a8a547f408f9798c1fce68faf71",
       "value": 62
      }
     },
     "95823c5f248746cd9f5613b62a3ea34f": {
      "model_module": "@jupyter-widgets/base",
      "model_module_version": "2.0.0",
      "model_name": "LayoutModel",
      "state": {}
     },
     "95a2a24b412f44f8870a090adff9ef30": {
      "model_module": "@jupyter-widgets/base",
      "model_module_version": "2.0.0",
      "model_name": "LayoutModel",
      "state": {}
     },
     "95a3a0a2bc0e4d3d95e055e228c67a96": {
      "model_module": "@jupyter-widgets/controls",
      "model_module_version": "2.0.0",
      "model_name": "HTMLStyleModel",
      "state": {
       "description_width": "",
       "font_size": null,
       "text_color": null
      }
     },
     "95b46f89a8194840ab97585b65590144": {
      "model_module": "@jupyter-widgets/controls",
      "model_module_version": "2.0.0",
      "model_name": "HTMLStyleModel",
      "state": {
       "description_width": "",
       "font_size": null,
       "text_color": null
      }
     },
     "95bf9087bb644790a73dd951e2a39191": {
      "model_module": "@jupyter-widgets/base",
      "model_module_version": "2.0.0",
      "model_name": "LayoutModel",
      "state": {
       "display": "inline-flex",
       "flex_flow": "row wrap",
       "visibility": "hidden",
       "width": "100%"
      }
     },
     "95e9784ee28a42efad4398b91c6ad160": {
      "model_module": "@jupyter-widgets/base",
      "model_module_version": "2.0.0",
      "model_name": "LayoutModel",
      "state": {}
     },
     "95f9a324cb2a409cb12312ebf38712a9": {
      "model_module": "@jupyter-widgets/controls",
      "model_module_version": "2.0.0",
      "model_name": "HTMLModel",
      "state": {
       "layout": "IPY_MODEL_706b09fc8d314b6899ba34bf7b0977c2",
       "style": "IPY_MODEL_35eb83b54b20491e8f4758448bccb5b0",
       "value": "Validation DataLoader 0: 100%"
      }
     },
     "960c3c7111be4c5886a8d5a84fbf9515": {
      "model_module": "@jupyter-widgets/controls",
      "model_module_version": "2.0.0",
      "model_name": "FloatProgressModel",
      "state": {
       "layout": "IPY_MODEL_fa50890afa944a0b8676164632c9e51f",
       "max": 62,
       "style": "IPY_MODEL_fb47ff2713574b368466ae66de95f2d2",
       "value": 62
      }
     },
     "96e0c540ac064a078f7d4a12548ebe2c": {
      "model_module": "@jupyter-widgets/controls",
      "model_module_version": "2.0.0",
      "model_name": "HTMLModel",
      "state": {
       "layout": "IPY_MODEL_cfcf060d51d54161b8cea7408947993c",
       "style": "IPY_MODEL_7df40b6d3d814ad581f75fae94a22541",
       "value": " 62/62 [00:01&lt;00:00, 32.45it/s]"
      }
     },
     "97826a994b054b20b6668fed62749961": {
      "model_module": "@jupyter-widgets/controls",
      "model_module_version": "2.0.0",
      "model_name": "ProgressStyleModel",
      "state": {
       "description_width": ""
      }
     },
     "978a4621513243d7915b61be61d557e9": {
      "model_module": "@jupyter-widgets/base",
      "model_module_version": "2.0.0",
      "model_name": "LayoutModel",
      "state": {
       "flex": "2"
      }
     },
     "97b7a57471db4d8faade4019bbb2c2cd": {
      "model_module": "@jupyter-widgets/controls",
      "model_module_version": "2.0.0",
      "model_name": "HTMLStyleModel",
      "state": {
       "description_width": "",
       "font_size": null,
       "text_color": null
      }
     },
     "97ecced6d259460ab379c7b9d3bcbcec": {
      "model_module": "@jupyter-widgets/base",
      "model_module_version": "2.0.0",
      "model_name": "LayoutModel",
      "state": {}
     },
     "987bb21593cb4892a2509957e761ac07": {
      "model_module": "@jupyter-widgets/controls",
      "model_module_version": "2.0.0",
      "model_name": "HTMLModel",
      "state": {
       "layout": "IPY_MODEL_3627d3de308943c6899c8888cf3386ba",
       "style": "IPY_MODEL_04fd3686156f4dbcbeaa6e5285d36a9a",
       "value": " 62/62 [00:01&lt;00:00, 32.44it/s]"
      }
     },
     "989fbba3acb04b4690645530bca1c42d": {
      "model_module": "@jupyter-widgets/controls",
      "model_module_version": "2.0.0",
      "model_name": "FloatProgressModel",
      "state": {
       "bar_style": "success",
       "layout": "IPY_MODEL_ec6b5c7a929742c4b9c202c04e817a44",
       "max": 62,
       "style": "IPY_MODEL_9aae2be0886c4625a5b5a03c4f84e4ae",
       "value": 62
      }
     },
     "98a2a2798d99430e9a59b4a395cd55c0": {
      "model_module": "@jupyter-widgets/controls",
      "model_module_version": "2.0.0",
      "model_name": "HTMLModel",
      "state": {
       "layout": "IPY_MODEL_8f3c5439f68b4d15ad387571f92bd7d8",
       "style": "IPY_MODEL_9e89287c13b246549fff3e7336ea44f3",
       "value": "Validation DataLoader 0: 100%"
      }
     },
     "991854cf53264e0fae2a5dfbbd02d71f": {
      "model_module": "@jupyter-widgets/base",
      "model_module_version": "2.0.0",
      "model_name": "LayoutModel",
      "state": {}
     },
     "992901f969eb4dabbe397e93bf7424d2": {
      "model_module": "@jupyter-widgets/base",
      "model_module_version": "2.0.0",
      "model_name": "LayoutModel",
      "state": {
       "flex": "2"
      }
     },
     "99a3be222b4e45dc9af8ff049a4ec079": {
      "model_module": "@jupyter-widgets/controls",
      "model_module_version": "2.0.0",
      "model_name": "FloatProgressModel",
      "state": {
       "layout": "IPY_MODEL_5ca3036c64c9414e92fa9738fc4a26a7",
       "max": 62,
       "style": "IPY_MODEL_2221dfed99c74a3fbdfad4836c477e93",
       "value": 62
      }
     },
     "9aae2be0886c4625a5b5a03c4f84e4ae": {
      "model_module": "@jupyter-widgets/controls",
      "model_module_version": "2.0.0",
      "model_name": "ProgressStyleModel",
      "state": {
       "description_width": ""
      }
     },
     "9b32c235e42d46a6968e1ce129d727f4": {
      "model_module": "@jupyter-widgets/base",
      "model_module_version": "2.0.0",
      "model_name": "LayoutModel",
      "state": {}
     },
     "9bf76f809a6949e09ca80e67449a27f5": {
      "model_module": "@jupyter-widgets/controls",
      "model_module_version": "2.0.0",
      "model_name": "HTMLModel",
      "state": {
       "layout": "IPY_MODEL_7f1765b52ac2494a8a4caa9393202d2f",
       "style": "IPY_MODEL_ed0ce3bbecc6419b83b74e752adc5c72",
       "value": "Validation DataLoader 0: 100%"
      }
     },
     "9c82c8fb38f34f59b8a67f305feb0bd9": {
      "model_module": "@jupyter-widgets/base",
      "model_module_version": "2.0.0",
      "model_name": "LayoutModel",
      "state": {}
     },
     "9cd8d4c4a9334a0b80e2a1f5b4eb4dc1": {
      "model_module": "@jupyter-widgets/controls",
      "model_module_version": "2.0.0",
      "model_name": "HTMLModel",
      "state": {
       "layout": "IPY_MODEL_d21a5c1fd6ea4070bf5f3c31573972af",
       "style": "IPY_MODEL_18daa4e825e4402b9db749a80d432a3b",
       "value": " 62/62 [00:01&lt;00:00, 31.77it/s]"
      }
     },
     "9d1994b4fae64b3c91489c8ae94b3c1d": {
      "model_module": "@jupyter-widgets/controls",
      "model_module_version": "2.0.0",
      "model_name": "HTMLStyleModel",
      "state": {
       "description_width": "",
       "font_size": null,
       "text_color": null
      }
     },
     "9d1adb0b1b82415fb11f4a415af7d1b9": {
      "model_module": "@jupyter-widgets/controls",
      "model_module_version": "2.0.0",
      "model_name": "FloatProgressModel",
      "state": {
       "layout": "IPY_MODEL_0c67ab0329a34ee28401e2df95af9700",
       "max": 62,
       "style": "IPY_MODEL_c95cc70f5eb149f182d83e6df06c63b4",
       "value": 62
      }
     },
     "9d50bf5950a848eda1628f57c87032ba": {
      "model_module": "@jupyter-widgets/controls",
      "model_module_version": "2.0.0",
      "model_name": "HTMLModel",
      "state": {
       "layout": "IPY_MODEL_7e704a791848472690c203b03bc294fc",
       "style": "IPY_MODEL_49f3a7edffc34219a4eae3a4113cb5e4",
       "value": " 62/62 [00:01&lt;00:00, 37.78it/s]"
      }
     },
     "9d5cc625d1c74107a3bec670d298c6c3": {
      "model_module": "@jupyter-widgets/base",
      "model_module_version": "2.0.0",
      "model_name": "LayoutModel",
      "state": {
       "display": "inline-flex",
       "flex_flow": "row wrap",
       "visibility": "hidden",
       "width": "100%"
      }
     },
     "9d96075b44cc4121a786d33b0b66fff5": {
      "model_module": "@jupyter-widgets/controls",
      "model_module_version": "2.0.0",
      "model_name": "HTMLStyleModel",
      "state": {
       "description_width": "",
       "font_size": null,
       "text_color": null
      }
     },
     "9dc482b21bf048b4b6ee8cd35edbaa64": {
      "model_module": "@jupyter-widgets/controls",
      "model_module_version": "2.0.0",
      "model_name": "HTMLStyleModel",
      "state": {
       "description_width": "",
       "font_size": null,
       "text_color": null
      }
     },
     "9de725a56fe74db08f8b459081f30f28": {
      "model_module": "@jupyter-widgets/controls",
      "model_module_version": "2.0.0",
      "model_name": "HTMLModel",
      "state": {
       "layout": "IPY_MODEL_95e9784ee28a42efad4398b91c6ad160",
       "style": "IPY_MODEL_abccf3b861324d1ab54af3b0852a6cd2",
       "value": "Validation DataLoader 0: 100%"
      }
     },
     "9e503f6ac80a4acb9c953d04cdc39b3b": {
      "model_module": "@jupyter-widgets/controls",
      "model_module_version": "2.0.0",
      "model_name": "HTMLStyleModel",
      "state": {
       "description_width": "",
       "font_size": null,
       "text_color": null
      }
     },
     "9e89287c13b246549fff3e7336ea44f3": {
      "model_module": "@jupyter-widgets/controls",
      "model_module_version": "2.0.0",
      "model_name": "HTMLStyleModel",
      "state": {
       "description_width": "",
       "font_size": null,
       "text_color": null
      }
     },
     "9ebfc6ac20d84a90a9699a78e35cb0ff": {
      "model_module": "@jupyter-widgets/base",
      "model_module_version": "2.0.0",
      "model_name": "LayoutModel",
      "state": {}
     },
     "9ecf96a5bac743c49a5ade3373a6140c": {
      "model_module": "@jupyter-widgets/controls",
      "model_module_version": "2.0.0",
      "model_name": "HTMLStyleModel",
      "state": {
       "description_width": "",
       "font_size": null,
       "text_color": null
      }
     },
     "9f42dfad7e0b4b34945e8006dbf6bab6": {
      "model_module": "@jupyter-widgets/base",
      "model_module_version": "2.0.0",
      "model_name": "LayoutModel",
      "state": {}
     },
     "9f54aa2d6a3c44c483d69c9ac9253171": {
      "model_module": "@jupyter-widgets/controls",
      "model_module_version": "2.0.0",
      "model_name": "HTMLStyleModel",
      "state": {
       "description_width": "",
       "font_size": null,
       "text_color": null
      }
     },
     "9fc56585d57c46448f42d8e6d02d0fac": {
      "model_module": "@jupyter-widgets/base",
      "model_module_version": "2.0.0",
      "model_name": "LayoutModel",
      "state": {}
     },
     "a01bdd2f984247d59b3f1e06e81d66ec": {
      "model_module": "@jupyter-widgets/base",
      "model_module_version": "2.0.0",
      "model_name": "LayoutModel",
      "state": {}
     },
     "a0564f7fb89a4294ae920105a171b006": {
      "model_module": "@jupyter-widgets/controls",
      "model_module_version": "2.0.0",
      "model_name": "ProgressStyleModel",
      "state": {
       "description_width": ""
      }
     },
     "a083d2d89fe342a38f93ae982f0646d3": {
      "model_module": "@jupyter-widgets/controls",
      "model_module_version": "2.0.0",
      "model_name": "HTMLModel",
      "state": {
       "layout": "IPY_MODEL_67c5fccec28e4c86a6a7f3bea954ac7f",
       "style": "IPY_MODEL_bd445a8ccc9f4cd1bf941428d7bc35c5",
       "value": " 62/62 [00:01&lt;00:00, 32.74it/s]"
      }
     },
     "a0f89c426ced46798ea4738623477e8d": {
      "model_module": "@jupyter-widgets/base",
      "model_module_version": "2.0.0",
      "model_name": "LayoutModel",
      "state": {
       "display": "inline-flex",
       "flex_flow": "row wrap",
       "visibility": "hidden",
       "width": "100%"
      }
     },
     "a0fce3492ee040f382ffe4fb3ea895c8": {
      "model_module": "@jupyter-widgets/controls",
      "model_module_version": "2.0.0",
      "model_name": "HTMLModel",
      "state": {
       "layout": "IPY_MODEL_81236ebc2caa4cb3990b170c280ff43f",
       "style": "IPY_MODEL_1a7ce89a61484a9ead549dc0cffe9f59",
       "value": "Validation DataLoader 0: 100%"
      }
     },
     "a120669edc234b7daaa26e015e0e7ed6": {
      "model_module": "@jupyter-widgets/base",
      "model_module_version": "2.0.0",
      "model_name": "LayoutModel",
      "state": {}
     },
     "a1a3fd53594143d78bfefbb60a7f3767": {
      "model_module": "@jupyter-widgets/controls",
      "model_module_version": "2.0.0",
      "model_name": "HTMLStyleModel",
      "state": {
       "description_width": "",
       "font_size": null,
       "text_color": null
      }
     },
     "a1c3f504850f49368c4e4fbf84a47422": {
      "model_module": "@jupyter-widgets/base",
      "model_module_version": "2.0.0",
      "model_name": "LayoutModel",
      "state": {}
     },
     "a1e3d389e4024914a3783d4372a95107": {
      "model_module": "@jupyter-widgets/controls",
      "model_module_version": "2.0.0",
      "model_name": "HTMLModel",
      "state": {
       "layout": "IPY_MODEL_6a14ccc6e0ae4538aecf1271de0dcd62",
       "style": "IPY_MODEL_d9da72e748814402accb2b8b881902f1",
       "value": " 62/62 [00:01&lt;00:00, 33.37it/s]"
      }
     },
     "a202f3287ef54fa898e451d3db0ee3b0": {
      "model_module": "@jupyter-widgets/controls",
      "model_module_version": "2.0.0",
      "model_name": "HTMLStyleModel",
      "state": {
       "description_width": "",
       "font_size": null,
       "text_color": null
      }
     },
     "a2419e9c08414950ab1c952222466f1e": {
      "model_module": "@jupyter-widgets/controls",
      "model_module_version": "2.0.0",
      "model_name": "HTMLStyleModel",
      "state": {
       "description_width": "",
       "font_size": null,
       "text_color": null
      }
     },
     "a2af5a396aa54715a4781d4d8c62a636": {
      "model_module": "@jupyter-widgets/controls",
      "model_module_version": "2.0.0",
      "model_name": "FloatProgressModel",
      "state": {
       "layout": "IPY_MODEL_1649f7a574df4dbbbf24f3b02a6f90ea",
       "max": 62,
       "style": "IPY_MODEL_3d3f9fae26994966b01506bc4e5c6466",
       "value": 62
      }
     },
     "a312ff9f202e4a368e3cd4fa0b8f63f3": {
      "model_module": "@jupyter-widgets/base",
      "model_module_version": "2.0.0",
      "model_name": "LayoutModel",
      "state": {}
     },
     "a318c50996c1403cb5b8085db8c75708": {
      "model_module": "@jupyter-widgets/controls",
      "model_module_version": "2.0.0",
      "model_name": "ProgressStyleModel",
      "state": {
       "description_width": ""
      }
     },
     "a33a5570155b4d558a596ae63936e4e0": {
      "model_module": "@jupyter-widgets/controls",
      "model_module_version": "2.0.0",
      "model_name": "ProgressStyleModel",
      "state": {
       "description_width": ""
      }
     },
     "a39eb235d1544ab9ab74a38c2fd14181": {
      "model_module": "@jupyter-widgets/base",
      "model_module_version": "2.0.0",
      "model_name": "LayoutModel",
      "state": {}
     },
     "a3f7fdd2e27348d4906d1767d9bce6e6": {
      "model_module": "@jupyter-widgets/controls",
      "model_module_version": "2.0.0",
      "model_name": "FloatProgressModel",
      "state": {
       "layout": "IPY_MODEL_0cd53f40acc14363ae4a12c308569a08",
       "max": 62,
       "style": "IPY_MODEL_00779da2adf7496188f1ab3927362591",
       "value": 62
      }
     },
     "a3fadc01a0a046ba9aa23d99439b8b8e": {
      "model_module": "@jupyter-widgets/controls",
      "model_module_version": "2.0.0",
      "model_name": "HTMLStyleModel",
      "state": {
       "description_width": "",
       "font_size": null,
       "text_color": null
      }
     },
     "a461b4fba4684f60a2b8ec43c7c684b8": {
      "model_module": "@jupyter-widgets/controls",
      "model_module_version": "2.0.0",
      "model_name": "HTMLModel",
      "state": {
       "layout": "IPY_MODEL_d3298e888682425586b8a3f355c05cd4",
       "style": "IPY_MODEL_ee8d9ad787aa49ae8b2babd39f39672a",
       "value": " 62/62 [00:01&lt;00:00, 32.54it/s]"
      }
     },
     "a47cf022253b46cf9072e320b1b3daf5": {
      "model_module": "@jupyter-widgets/controls",
      "model_module_version": "2.0.0",
      "model_name": "FloatProgressModel",
      "state": {
       "layout": "IPY_MODEL_d7cdc646996344aebd68d91a55c96aaa",
       "max": 62,
       "style": "IPY_MODEL_c72255337d16433a93cba7e7a0d0829c",
       "value": 62
      }
     },
     "a4d5dfe2112542879208c6e3d95e76c6": {
      "model_module": "@jupyter-widgets/controls",
      "model_module_version": "2.0.0",
      "model_name": "HTMLModel",
      "state": {
       "layout": "IPY_MODEL_7bbbbc8a637d443699bf8f572a2fe1fc",
       "style": "IPY_MODEL_b364d3f11de740f6a1e8f448c87ff35d",
       "value": "Validation DataLoader 0: 100%"
      }
     },
     "a5377ec2be094a67af534989d0f9561d": {
      "model_module": "@jupyter-widgets/base",
      "model_module_version": "2.0.0",
      "model_name": "LayoutModel",
      "state": {}
     },
     "a575e4680c704d37a6ca15db5c6e2f77": {
      "model_module": "@jupyter-widgets/base",
      "model_module_version": "2.0.0",
      "model_name": "LayoutModel",
      "state": {}
     },
     "a5afc95855874c75b6584ec6e79a6057": {
      "model_module": "@jupyter-widgets/controls",
      "model_module_version": "2.0.0",
      "model_name": "ProgressStyleModel",
      "state": {
       "description_width": ""
      }
     },
     "a5ba7e20c4da4ccaa1abdc7ac2289480": {
      "model_module": "@jupyter-widgets/controls",
      "model_module_version": "2.0.0",
      "model_name": "HTMLStyleModel",
      "state": {
       "description_width": "",
       "font_size": null,
       "text_color": null
      }
     },
     "a70261262bd446edb9bafaf661480c9e": {
      "model_module": "@jupyter-widgets/base",
      "model_module_version": "2.0.0",
      "model_name": "LayoutModel",
      "state": {}
     },
     "a76486b37d38486c8f0a725f33c0a071": {
      "model_module": "@jupyter-widgets/controls",
      "model_module_version": "2.0.0",
      "model_name": "HTMLModel",
      "state": {
       "layout": "IPY_MODEL_951abb74ff9f4ee1ae0cd91461047e1c",
       "style": "IPY_MODEL_62779794cc9140579f478b67d2b9f71e",
       "value": " 62/62 [00:01&lt;00:00, 32.68it/s]"
      }
     },
     "a85de6c5656f4c18a78daf5c55d9a6e6": {
      "model_module": "@jupyter-widgets/base",
      "model_module_version": "2.0.0",
      "model_name": "LayoutModel",
      "state": {}
     },
     "a868ba91be4e456abb50849fedff693c": {
      "model_module": "@jupyter-widgets/controls",
      "model_module_version": "2.0.0",
      "model_name": "ProgressStyleModel",
      "state": {
       "description_width": ""
      }
     },
     "a91e8195fb1443d695948510e8d20db1": {
      "model_module": "@jupyter-widgets/controls",
      "model_module_version": "2.0.0",
      "model_name": "FloatProgressModel",
      "state": {
       "layout": "IPY_MODEL_262c4760fa9449c78033eb7acc5c2a7d",
       "max": 62,
       "style": "IPY_MODEL_1cc3ec7e17194992bc3f8fb431006a71",
       "value": 62
      }
     },
     "a9c0e086139a4c70b60b7565f80db930": {
      "model_module": "@jupyter-widgets/controls",
      "model_module_version": "2.0.0",
      "model_name": "HTMLModel",
      "state": {
       "layout": "IPY_MODEL_d31bfcb256e242f6affc9c4246733259",
       "style": "IPY_MODEL_766a7d73cc2d47a9967f978ef3d71d78",
       "value": "Validation DataLoader 0: 100%"
      }
     },
     "a9c95bf6929a4763bebb3fb048c32136": {
      "model_module": "@jupyter-widgets/base",
      "model_module_version": "2.0.0",
      "model_name": "LayoutModel",
      "state": {
       "display": "inline-flex",
       "flex_flow": "row wrap",
       "visibility": "hidden",
       "width": "100%"
      }
     },
     "a9ea8295cfe14a2e980f6a0fca76eb44": {
      "model_module": "@jupyter-widgets/base",
      "model_module_version": "2.0.0",
      "model_name": "LayoutModel",
      "state": {}
     },
     "aa4570bdb71244aebcd41495a087e6c0": {
      "model_module": "@jupyter-widgets/controls",
      "model_module_version": "2.0.0",
      "model_name": "FloatProgressModel",
      "state": {
       "layout": "IPY_MODEL_b935341afd4249549e95a82cc3e30894",
       "max": 62,
       "style": "IPY_MODEL_321e41fff35a4866b426304211995f5d",
       "value": 62
      }
     },
     "aa660e2ddd1648548d6a8b2658dce5c5": {
      "model_module": "@jupyter-widgets/controls",
      "model_module_version": "2.0.0",
      "model_name": "HTMLModel",
      "state": {
       "layout": "IPY_MODEL_97ecced6d259460ab379c7b9d3bcbcec",
       "style": "IPY_MODEL_0843c53902da4e37a5e4cabc4dbe7a78",
       "value": "Validation DataLoader 0: 100%"
      }
     },
     "aa82d3fba5b94d48ad24f9f84c2f8482": {
      "model_module": "@jupyter-widgets/controls",
      "model_module_version": "2.0.0",
      "model_name": "ProgressStyleModel",
      "state": {
       "description_width": ""
      }
     },
     "aa9d2f23faa34438b4b5fc07f91f36b9": {
      "model_module": "@jupyter-widgets/controls",
      "model_module_version": "2.0.0",
      "model_name": "HTMLStyleModel",
      "state": {
       "description_width": "",
       "font_size": null,
       "text_color": null
      }
     },
     "ab320d70f1374c69925499157d7c2a41": {
      "model_module": "@jupyter-widgets/controls",
      "model_module_version": "2.0.0",
      "model_name": "HTMLStyleModel",
      "state": {
       "description_width": "",
       "font_size": null,
       "text_color": null
      }
     },
     "ab834ecadef148718e994f0bf1c1218a": {
      "model_module": "@jupyter-widgets/controls",
      "model_module_version": "2.0.0",
      "model_name": "FloatProgressModel",
      "state": {
       "layout": "IPY_MODEL_2476a6ea71ed4eec8a9c5ef95d66bce2",
       "max": 62,
       "style": "IPY_MODEL_3bd6e74f1d6841c79eab74deda2a9e2b",
       "value": 62
      }
     },
     "abccf3b861324d1ab54af3b0852a6cd2": {
      "model_module": "@jupyter-widgets/controls",
      "model_module_version": "2.0.0",
      "model_name": "HTMLStyleModel",
      "state": {
       "description_width": "",
       "font_size": null,
       "text_color": null
      }
     },
     "ac06cfa965744a188a90013b842c66fd": {
      "model_module": "@jupyter-widgets/controls",
      "model_module_version": "2.0.0",
      "model_name": "HTMLModel",
      "state": {
       "layout": "IPY_MODEL_9444921b0ce342e18551c507754da47e",
       "style": "IPY_MODEL_d4c0e959fb4b44d48ebc21e9593b0943",
       "value": "Validation DataLoader 0: 100%"
      }
     },
     "ac1756c1a67243ba8f2f8b43e1fe15e4": {
      "model_module": "@jupyter-widgets/controls",
      "model_module_version": "2.0.0",
      "model_name": "HTMLModel",
      "state": {
       "layout": "IPY_MODEL_ada0f5ea2f074d5eb6daa37f93c3324f",
       "style": "IPY_MODEL_56727f89e23843c6be7d37a666dffd64",
       "value": " 62/62 [00:01&lt;00:00, 32.21it/s]"
      }
     },
     "acba4f588a3741cab5416e278f42e3fe": {
      "model_module": "@jupyter-widgets/controls",
      "model_module_version": "2.0.0",
      "model_name": "HTMLStyleModel",
      "state": {
       "description_width": "",
       "font_size": null,
       "text_color": null
      }
     },
     "acedaa2cb3804db0b996e370a3caacac": {
      "model_module": "@jupyter-widgets/base",
      "model_module_version": "2.0.0",
      "model_name": "LayoutModel",
      "state": {
       "display": "inline-flex",
       "flex_flow": "row wrap",
       "visibility": "hidden",
       "width": "100%"
      }
     },
     "ad9ef0c17fc94330b1fe79313e837ba6": {
      "model_module": "@jupyter-widgets/controls",
      "model_module_version": "2.0.0",
      "model_name": "HTMLModel",
      "state": {
       "layout": "IPY_MODEL_3b957e6c49794b17b5cda37e9cd15748",
       "style": "IPY_MODEL_95a3a0a2bc0e4d3d95e055e228c67a96",
       "value": " 62/62 [00:01&lt;00:00, 32.50it/s]"
      }
     },
     "ada0f5ea2f074d5eb6daa37f93c3324f": {
      "model_module": "@jupyter-widgets/base",
      "model_module_version": "2.0.0",
      "model_name": "LayoutModel",
      "state": {}
     },
     "adc5943f89d740c59d1ed9dd262c5b64": {
      "model_module": "@jupyter-widgets/controls",
      "model_module_version": "2.0.0",
      "model_name": "ProgressStyleModel",
      "state": {
       "description_width": ""
      }
     },
     "adec0a96d6944f979671f6b6fbc46d96": {
      "model_module": "@jupyter-widgets/controls",
      "model_module_version": "2.0.0",
      "model_name": "HTMLModel",
      "state": {
       "layout": "IPY_MODEL_9b32c235e42d46a6968e1ce129d727f4",
       "style": "IPY_MODEL_f10811ed8fef440181279f6953c37100",
       "value": " 62/62 [00:01&lt;00:00, 32.56it/s]"
      }
     },
     "ae46f841d4a641af93fb6cb0a5541419": {
      "model_module": "@jupyter-widgets/base",
      "model_module_version": "2.0.0",
      "model_name": "LayoutModel",
      "state": {
       "flex": "2"
      }
     },
     "aef56db6ad344946b26c6deaa7b9be65": {
      "model_module": "@jupyter-widgets/base",
      "model_module_version": "2.0.0",
      "model_name": "LayoutModel",
      "state": {}
     },
     "af718b1a9c644b59ad6c961c29661679": {
      "model_module": "@jupyter-widgets/controls",
      "model_module_version": "2.0.0",
      "model_name": "ProgressStyleModel",
      "state": {
       "description_width": ""
      }
     },
     "af8f5f81d3624d2ea634b5591b2115f1": {
      "model_module": "@jupyter-widgets/controls",
      "model_module_version": "2.0.0",
      "model_name": "HTMLModel",
      "state": {
       "layout": "IPY_MODEL_bdc083aa893f40c3be0bbd27841a5b8b",
       "style": "IPY_MODEL_1d9fc866afef4c3daf0fec85f578e9b7",
       "value": "Validation DataLoader 0: 100%"
      }
     },
     "b005aa42c5b241598445a7724daf5024": {
      "model_module": "@jupyter-widgets/base",
      "model_module_version": "2.0.0",
      "model_name": "LayoutModel",
      "state": {
       "display": "inline-flex",
       "flex_flow": "row wrap",
       "visibility": "hidden",
       "width": "100%"
      }
     },
     "b023aa68a97845e694e6c3fa2af03525": {
      "model_module": "@jupyter-widgets/base",
      "model_module_version": "2.0.0",
      "model_name": "LayoutModel",
      "state": {}
     },
     "b058aa7f9bcb49ef89861800ce2aeb66": {
      "model_module": "@jupyter-widgets/controls",
      "model_module_version": "2.0.0",
      "model_name": "ProgressStyleModel",
      "state": {
       "description_width": ""
      }
     },
     "b07d789cd64b460eb8568a8a7638b640": {
      "model_module": "@jupyter-widgets/controls",
      "model_module_version": "2.0.0",
      "model_name": "ProgressStyleModel",
      "state": {
       "description_width": ""
      }
     },
     "b081b43b7ec6491c8564eae8e60b69ff": {
      "model_module": "@jupyter-widgets/base",
      "model_module_version": "2.0.0",
      "model_name": "LayoutModel",
      "state": {}
     },
     "b082722bc5e74adba4178258ec138ef1": {
      "model_module": "@jupyter-widgets/base",
      "model_module_version": "2.0.0",
      "model_name": "LayoutModel",
      "state": {}
     },
     "b0e1221a63694d89b2e58f8ef3e2a257": {
      "model_module": "@jupyter-widgets/controls",
      "model_module_version": "2.0.0",
      "model_name": "HTMLStyleModel",
      "state": {
       "description_width": "",
       "font_size": null,
       "text_color": null
      }
     },
     "b12dcfc2395e41739156f99bc9f26f37": {
      "model_module": "@jupyter-widgets/base",
      "model_module_version": "2.0.0",
      "model_name": "LayoutModel",
      "state": {
       "flex": "2"
      }
     },
     "b15f6616e28b44d3908cfeaddb7b7c3f": {
      "model_module": "@jupyter-widgets/base",
      "model_module_version": "2.0.0",
      "model_name": "LayoutModel",
      "state": {}
     },
     "b1727c23ed03487cacfd3e798add276b": {
      "model_module": "@jupyter-widgets/base",
      "model_module_version": "2.0.0",
      "model_name": "LayoutModel",
      "state": {}
     },
     "b18e0b072dbf458392cb754a08dab805": {
      "model_module": "@jupyter-widgets/controls",
      "model_module_version": "2.0.0",
      "model_name": "ProgressStyleModel",
      "state": {
       "description_width": ""
      }
     },
     "b1cb87c1374146af8134d0ae4dad4ab3": {
      "model_module": "@jupyter-widgets/controls",
      "model_module_version": "2.0.0",
      "model_name": "HTMLStyleModel",
      "state": {
       "description_width": "",
       "font_size": null,
       "text_color": null
      }
     },
     "b25ab4755b2846dc94368e7985663589": {
      "model_module": "@jupyter-widgets/controls",
      "model_module_version": "2.0.0",
      "model_name": "HTMLStyleModel",
      "state": {
       "description_width": "",
       "font_size": null,
       "text_color": null
      }
     },
     "b2ca734a50de42d6a06fcb6342f747b1": {
      "model_module": "@jupyter-widgets/controls",
      "model_module_version": "2.0.0",
      "model_name": "HTMLModel",
      "state": {
       "layout": "IPY_MODEL_a1c3f504850f49368c4e4fbf84a47422",
       "style": "IPY_MODEL_f9bb2cbe3cc04ed2b4ae4888e527b115",
       "value": " 62/62 [00:01&lt;00:00, 31.84it/s]"
      }
     },
     "b31f7a17334241b9afe9e0b47afb914b": {
      "model_module": "@jupyter-widgets/controls",
      "model_module_version": "2.0.0",
      "model_name": "ProgressStyleModel",
      "state": {
       "description_width": ""
      }
     },
     "b364d3f11de740f6a1e8f448c87ff35d": {
      "model_module": "@jupyter-widgets/controls",
      "model_module_version": "2.0.0",
      "model_name": "HTMLStyleModel",
      "state": {
       "description_width": "",
       "font_size": null,
       "text_color": null
      }
     },
     "b366de0072aa44cc9f95cbed0f7f62d3": {
      "model_module": "@jupyter-widgets/controls",
      "model_module_version": "2.0.0",
      "model_name": "HTMLStyleModel",
      "state": {
       "description_width": "",
       "font_size": null,
       "text_color": null
      }
     },
     "b495704ea93449f6a1ae82404b63782d": {
      "model_module": "@jupyter-widgets/controls",
      "model_module_version": "2.0.0",
      "model_name": "HTMLModel",
      "state": {
       "layout": "IPY_MODEL_7253f44d37fd4f6d9a66a9e93ab116b8",
       "style": "IPY_MODEL_e437b4f4d60a43f7aafb0e4d244ea244",
       "value": " 62/62 [00:01&lt;00:00, 32.66it/s]"
      }
     },
     "b4e544b437e24e058f0e9180834b821e": {
      "model_module": "@jupyter-widgets/controls",
      "model_module_version": "2.0.0",
      "model_name": "HTMLModel",
      "state": {
       "layout": "IPY_MODEL_f588d718291f4b05bb36b1a5e8f73df9",
       "style": "IPY_MODEL_c96b76733bab4b348b34e092682f12d7",
       "value": " 62/62 [00:01&lt;00:00, 32.27it/s]"
      }
     },
     "b4f00c1bd9144cfe967c7feda66104dc": {
      "model_module": "@jupyter-widgets/base",
      "model_module_version": "2.0.0",
      "model_name": "LayoutModel",
      "state": {
       "flex": "2"
      }
     },
     "b535d4f6f66546319b7bd05f65361492": {
      "model_module": "@jupyter-widgets/controls",
      "model_module_version": "2.0.0",
      "model_name": "HTMLModel",
      "state": {
       "layout": "IPY_MODEL_f2a6cca13828477db36cb5a5b4ab2322",
       "style": "IPY_MODEL_72315cce2d9d451aa0534edc46ec6cab",
       "value": "Validation DataLoader 0: 100%"
      }
     },
     "b57133e1f9c64fdc868034928e66e04a": {
      "model_module": "@jupyter-widgets/base",
      "model_module_version": "2.0.0",
      "model_name": "LayoutModel",
      "state": {}
     },
     "b5adf216d37349b09a37f4fa146beb4b": {
      "model_module": "@jupyter-widgets/controls",
      "model_module_version": "2.0.0",
      "model_name": "HTMLModel",
      "state": {
       "layout": "IPY_MODEL_52d90a0b39d140a7b29a58a99053e843",
       "style": "IPY_MODEL_d90fe04e90854c248d7e879df5127df9",
       "value": "Validation DataLoader 0: 100%"
      }
     },
     "b6b6a846353d4cd995dce214763cde22": {
      "model_module": "@jupyter-widgets/base",
      "model_module_version": "2.0.0",
      "model_name": "LayoutModel",
      "state": {}
     },
     "b6da2762aaef41218ae9dcb8a58b7a6f": {
      "model_module": "@jupyter-widgets/base",
      "model_module_version": "2.0.0",
      "model_name": "LayoutModel",
      "state": {}
     },
     "b706947b3ca94b289a7d055d690dfeb4": {
      "model_module": "@jupyter-widgets/base",
      "model_module_version": "2.0.0",
      "model_name": "LayoutModel",
      "state": {
       "display": "inline-flex",
       "flex_flow": "row wrap",
       "visibility": "hidden",
       "width": "100%"
      }
     },
     "b7c9853de55b4544ae235d22dbf40f31": {
      "model_module": "@jupyter-widgets/controls",
      "model_module_version": "2.0.0",
      "model_name": "HTMLModel",
      "state": {
       "layout": "IPY_MODEL_761ea4708bb845258a7242e7e0d9354d",
       "style": "IPY_MODEL_8e0c5d8186bb44628b2d34218220a633",
       "value": " 62/62 [00:01&lt;00:00, 32.34it/s]"
      }
     },
     "b7d0743a05e4471a93631e62b04b4a6f": {
      "model_module": "@jupyter-widgets/base",
      "model_module_version": "2.0.0",
      "model_name": "LayoutModel",
      "state": {}
     },
     "b7e3cf176fb849b1874cca91e88e608d": {
      "model_module": "@jupyter-widgets/base",
      "model_module_version": "2.0.0",
      "model_name": "LayoutModel",
      "state": {}
     },
     "b80f3fa99f764224baf4f517fba1024f": {
      "model_module": "@jupyter-widgets/base",
      "model_module_version": "2.0.0",
      "model_name": "LayoutModel",
      "state": {}
     },
     "b8a07dab02d2453f9fcbbd49979ad68b": {
      "model_module": "@jupyter-widgets/base",
      "model_module_version": "2.0.0",
      "model_name": "LayoutModel",
      "state": {
       "flex": "2"
      }
     },
     "b935341afd4249549e95a82cc3e30894": {
      "model_module": "@jupyter-widgets/base",
      "model_module_version": "2.0.0",
      "model_name": "LayoutModel",
      "state": {
       "flex": "2"
      }
     },
     "b96d7aa6acd14f54ac4abebb562de4cd": {
      "model_module": "@jupyter-widgets/controls",
      "model_module_version": "2.0.0",
      "model_name": "HTMLModel",
      "state": {
       "layout": "IPY_MODEL_3b74edaf17f941b6a8de36a76df50607",
       "style": "IPY_MODEL_bced1b65a5b445d8a29385b08864d704",
       "value": "Validation DataLoader 0: 100%"
      }
     },
     "b984602db71440adb17cc8970f5a24be": {
      "model_module": "@jupyter-widgets/controls",
      "model_module_version": "2.0.0",
      "model_name": "HTMLStyleModel",
      "state": {
       "description_width": "",
       "font_size": null,
       "text_color": null
      }
     },
     "b9e75fa7baff4a00baf64ba032ba9e23": {
      "model_module": "@jupyter-widgets/controls",
      "model_module_version": "2.0.0",
      "model_name": "HTMLModel",
      "state": {
       "layout": "IPY_MODEL_3383bf6768d042679f6fcd41d4395be4",
       "style": "IPY_MODEL_95b46f89a8194840ab97585b65590144",
       "value": " 62/62 [00:01&lt;00:00, 32.40it/s]"
      }
     },
     "ba29892a437d480f88e509329348ee4f": {
      "model_module": "@jupyter-widgets/base",
      "model_module_version": "2.0.0",
      "model_name": "LayoutModel",
      "state": {
       "display": "inline-flex",
       "flex_flow": "row wrap",
       "visibility": "hidden",
       "width": "100%"
      }
     },
     "ba5ee7fe0c974e61aa08b172c7967f8c": {
      "model_module": "@jupyter-widgets/controls",
      "model_module_version": "2.0.0",
      "model_name": "HTMLStyleModel",
      "state": {
       "description_width": "",
       "font_size": null,
       "text_color": null
      }
     },
     "ba69d48cedbc49618c2fe9947c6ff309": {
      "model_module": "@jupyter-widgets/base",
      "model_module_version": "2.0.0",
      "model_name": "LayoutModel",
      "state": {
       "flex": "2"
      }
     },
     "bb377403a2434e4f917d65e4df9602f1": {
      "model_module": "@jupyter-widgets/base",
      "model_module_version": "2.0.0",
      "model_name": "LayoutModel",
      "state": {
       "flex": "2"
      }
     },
     "bb55ee23048f45828df863121c3e918b": {
      "model_module": "@jupyter-widgets/base",
      "model_module_version": "2.0.0",
      "model_name": "LayoutModel",
      "state": {
       "flex": "2"
      }
     },
     "bbf961f2fb214e2b906e4ff1de9cf89c": {
      "model_module": "@jupyter-widgets/controls",
      "model_module_version": "2.0.0",
      "model_name": "FloatProgressModel",
      "state": {
       "layout": "IPY_MODEL_d69fd654b4614e298de4c37f3ae49729",
       "max": 62,
       "style": "IPY_MODEL_dd36afb0972e42b7b8506714aa85597a",
       "value": 62
      }
     },
     "bc92901e185741cf9d73b4a7e39aeb88": {
      "model_module": "@jupyter-widgets/base",
      "model_module_version": "2.0.0",
      "model_name": "LayoutModel",
      "state": {}
     },
     "bca3b8699b49479fbc3bab4f552428f1": {
      "model_module": "@jupyter-widgets/base",
      "model_module_version": "2.0.0",
      "model_name": "LayoutModel",
      "state": {}
     },
     "bcade8e9d0c94d08acc7188fb753727c": {
      "model_module": "@jupyter-widgets/controls",
      "model_module_version": "2.0.0",
      "model_name": "HTMLStyleModel",
      "state": {
       "description_width": "",
       "font_size": null,
       "text_color": null
      }
     },
     "bced1b65a5b445d8a29385b08864d704": {
      "model_module": "@jupyter-widgets/controls",
      "model_module_version": "2.0.0",
      "model_name": "HTMLStyleModel",
      "state": {
       "description_width": "",
       "font_size": null,
       "text_color": null
      }
     },
     "bcf007026c654520b36621dc0c47ac97": {
      "model_module": "@jupyter-widgets/base",
      "model_module_version": "2.0.0",
      "model_name": "LayoutModel",
      "state": {
       "display": "inline-flex",
       "flex_flow": "row wrap",
       "visibility": "hidden",
       "width": "100%"
      }
     },
     "bcf53fae0d4241798f50b60e6e2f0348": {
      "model_module": "@jupyter-widgets/controls",
      "model_module_version": "2.0.0",
      "model_name": "HTMLStyleModel",
      "state": {
       "description_width": "",
       "font_size": null,
       "text_color": null
      }
     },
     "bd2e2c24b5bf40aeab76ea1964d34d2a": {
      "model_module": "@jupyter-widgets/base",
      "model_module_version": "2.0.0",
      "model_name": "LayoutModel",
      "state": {}
     },
     "bd445a8ccc9f4cd1bf941428d7bc35c5": {
      "model_module": "@jupyter-widgets/controls",
      "model_module_version": "2.0.0",
      "model_name": "HTMLStyleModel",
      "state": {
       "description_width": "",
       "font_size": null,
       "text_color": null
      }
     },
     "bd7b36f08e054276886abbef039462b9": {
      "model_module": "@jupyter-widgets/base",
      "model_module_version": "2.0.0",
      "model_name": "LayoutModel",
      "state": {}
     },
     "bd7b692734254b73bfd07977c0a214b7": {
      "model_module": "@jupyter-widgets/base",
      "model_module_version": "2.0.0",
      "model_name": "LayoutModel",
      "state": {
       "flex": "2"
      }
     },
     "bd9789cd3b664ed28451f1bc1537d197": {
      "model_module": "@jupyter-widgets/base",
      "model_module_version": "2.0.0",
      "model_name": "LayoutModel",
      "state": {
       "display": "inline-flex",
       "flex_flow": "row wrap",
       "visibility": "hidden",
       "width": "100%"
      }
     },
     "bdc083aa893f40c3be0bbd27841a5b8b": {
      "model_module": "@jupyter-widgets/base",
      "model_module_version": "2.0.0",
      "model_name": "LayoutModel",
      "state": {}
     },
     "bea953c7eb844f40ad39cc3680c78208": {
      "model_module": "@jupyter-widgets/base",
      "model_module_version": "2.0.0",
      "model_name": "LayoutModel",
      "state": {
       "display": "inline-flex",
       "flex_flow": "row wrap",
       "visibility": "hidden",
       "width": "100%"
      }
     },
     "bf16956aba104f91a77a77ea19cfd7f3": {
      "model_module": "@jupyter-widgets/controls",
      "model_module_version": "2.0.0",
      "model_name": "HTMLStyleModel",
      "state": {
       "description_width": "",
       "font_size": null,
       "text_color": null
      }
     },
     "bf25591a6bbb4b0a8070ef2af4f00bf9": {
      "model_module": "@jupyter-widgets/base",
      "model_module_version": "2.0.0",
      "model_name": "LayoutModel",
      "state": {}
     },
     "bf5036bd575942a985bca7786bb2e70f": {
      "model_module": "@jupyter-widgets/controls",
      "model_module_version": "2.0.0",
      "model_name": "HTMLStyleModel",
      "state": {
       "description_width": "",
       "font_size": null,
       "text_color": null
      }
     },
     "bf73165bec7a45968f260ec0ab990da2": {
      "model_module": "@jupyter-widgets/base",
      "model_module_version": "2.0.0",
      "model_name": "LayoutModel",
      "state": {}
     },
     "bf888f92850e4fc39704d0b287326e5a": {
      "model_module": "@jupyter-widgets/base",
      "model_module_version": "2.0.0",
      "model_name": "LayoutModel",
      "state": {}
     },
     "bfa32149e5e64121906d93fcd66fb2f4": {
      "model_module": "@jupyter-widgets/base",
      "model_module_version": "2.0.0",
      "model_name": "LayoutModel",
      "state": {}
     },
     "bfb1fd0d680245988fe60a1a1fbba575": {
      "model_module": "@jupyter-widgets/controls",
      "model_module_version": "2.0.0",
      "model_name": "HTMLModel",
      "state": {
       "layout": "IPY_MODEL_a575e4680c704d37a6ca15db5c6e2f77",
       "style": "IPY_MODEL_f06decb67eed44648a600a9b3af5c59d",
       "value": " 2/2 [00:00&lt;00:00, 44.22it/s]"
      }
     },
     "c01fb28cf4b44a2ba7a20d9e55ab5aae": {
      "model_module": "@jupyter-widgets/controls",
      "model_module_version": "2.0.0",
      "model_name": "HTMLStyleModel",
      "state": {
       "description_width": "",
       "font_size": null,
       "text_color": null
      }
     },
     "c0235eb6482540f4a231a7cfee7e736e": {
      "model_module": "@jupyter-widgets/controls",
      "model_module_version": "2.0.0",
      "model_name": "HTMLStyleModel",
      "state": {
       "description_width": "",
       "font_size": null,
       "text_color": null
      }
     },
     "c052244a3605423db91a3172eb05948d": {
      "model_module": "@jupyter-widgets/controls",
      "model_module_version": "2.0.0",
      "model_name": "HTMLModel",
      "state": {
       "layout": "IPY_MODEL_9fc56585d57c46448f42d8e6d02d0fac",
       "style": "IPY_MODEL_a202f3287ef54fa898e451d3db0ee3b0",
       "value": "Validation DataLoader 0: 100%"
      }
     },
     "c0d8957fb1c145079c6ce43da7cf9ef3": {
      "model_module": "@jupyter-widgets/controls",
      "model_module_version": "2.0.0",
      "model_name": "FloatProgressModel",
      "state": {
       "layout": "IPY_MODEL_c8e4500fd11d440cb1b39c7fb06b11c1",
       "max": 62,
       "style": "IPY_MODEL_7247259ab20e4037ac711bc354460110",
       "value": 62
      }
     },
     "c2ef691101724bf7835978a38beca221": {
      "model_module": "@jupyter-widgets/base",
      "model_module_version": "2.0.0",
      "model_name": "LayoutModel",
      "state": {}
     },
     "c36da323f4a14563880b02a9329cd86c": {
      "model_module": "@jupyter-widgets/controls",
      "model_module_version": "2.0.0",
      "model_name": "FloatProgressModel",
      "state": {
       "layout": "IPY_MODEL_faa53bc43aee47b287e6273e6aa98d69",
       "max": 2,
       "style": "IPY_MODEL_af718b1a9c644b59ad6c961c29661679",
       "value": 2
      }
     },
     "c3bd91784d4a43ad8a0631a7cbd41a26": {
      "model_module": "@jupyter-widgets/base",
      "model_module_version": "2.0.0",
      "model_name": "LayoutModel",
      "state": {
       "display": "inline-flex",
       "flex_flow": "row wrap",
       "visibility": "hidden",
       "width": "100%"
      }
     },
     "c3ce2f1509b44474bec840ca1ae54160": {
      "model_module": "@jupyter-widgets/controls",
      "model_module_version": "2.0.0",
      "model_name": "HTMLModel",
      "state": {
       "layout": "IPY_MODEL_d2fda6beafb3458faf0db2215cce9aa8",
       "style": "IPY_MODEL_306bfbff89614bc490910f98eb788eae",
       "value": "Validation DataLoader 0: 100%"
      }
     },
     "c3df3cfdcfc246398fa2f20ba41987d5": {
      "model_module": "@jupyter-widgets/base",
      "model_module_version": "2.0.0",
      "model_name": "LayoutModel",
      "state": {}
     },
     "c3eee3afe8ff46e09bf0c7213c57a438": {
      "model_module": "@jupyter-widgets/controls",
      "model_module_version": "2.0.0",
      "model_name": "ProgressStyleModel",
      "state": {
       "description_width": ""
      }
     },
     "c4027d0c0b5146f1889101ef84dfd2af": {
      "model_module": "@jupyter-widgets/controls",
      "model_module_version": "2.0.0",
      "model_name": "HTMLModel",
      "state": {
       "layout": "IPY_MODEL_bf73165bec7a45968f260ec0ab990da2",
       "style": "IPY_MODEL_2a30004689054dd09ebf402df97ccb43",
       "value": "Validation DataLoader 0: 100%"
      }
     },
     "c4d553eb829b45e082683d8f8e4c71e1": {
      "model_module": "@jupyter-widgets/controls",
      "model_module_version": "2.0.0",
      "model_name": "HTMLModel",
      "state": {
       "layout": "IPY_MODEL_e76ac1a541314e498a34f2a3fbafc455",
       "style": "IPY_MODEL_daa30f8e638a4ad3b60bc4b569b0566d",
       "value": "Validation DataLoader 0: 100%"
      }
     },
     "c4dd06c9dea246de9e0de1048c61ff6c": {
      "model_module": "@jupyter-widgets/controls",
      "model_module_version": "2.0.0",
      "model_name": "HTMLModel",
      "state": {
       "layout": "IPY_MODEL_ecce6d4bafd04179bfd4ae2de5471903",
       "style": "IPY_MODEL_d24be2a00d3a4889b8f58b34f762bdfa",
       "value": " 62/62 [00:01&lt;00:00, 32.46it/s]"
      }
     },
     "c5dd7877f14148e08e8e0e206176c7df": {
      "model_module": "@jupyter-widgets/base",
      "model_module_version": "2.0.0",
      "model_name": "LayoutModel",
      "state": {
       "display": "inline-flex",
       "flex_flow": "row wrap",
       "width": "100%"
      }
     },
     "c6159724cada4a3ca7bb4744ad7809ac": {
      "model_module": "@jupyter-widgets/base",
      "model_module_version": "2.0.0",
      "model_name": "LayoutModel",
      "state": {
       "flex": "2"
      }
     },
     "c644bed4ef9049d8ab2db656ebed20c0": {
      "model_module": "@jupyter-widgets/controls",
      "model_module_version": "2.0.0",
      "model_name": "FloatProgressModel",
      "state": {
       "layout": "IPY_MODEL_fcaa17f72f504e808e1aba3814bba8f2",
       "max": 62,
       "style": "IPY_MODEL_b18e0b072dbf458392cb754a08dab805",
       "value": 62
      }
     },
     "c6f9f4f8459642918925a29773ad3def": {
      "model_module": "@jupyter-widgets/base",
      "model_module_version": "2.0.0",
      "model_name": "LayoutModel",
      "state": {}
     },
     "c72255337d16433a93cba7e7a0d0829c": {
      "model_module": "@jupyter-widgets/controls",
      "model_module_version": "2.0.0",
      "model_name": "ProgressStyleModel",
      "state": {
       "description_width": ""
      }
     },
     "c79120e19a23446fbe80d6393b78a928": {
      "model_module": "@jupyter-widgets/controls",
      "model_module_version": "2.0.0",
      "model_name": "HTMLStyleModel",
      "state": {
       "description_width": "",
       "font_size": null,
       "text_color": null
      }
     },
     "c7c25a58ca0f48318e2cc22edb528ea9": {
      "model_module": "@jupyter-widgets/controls",
      "model_module_version": "2.0.0",
      "model_name": "HTMLStyleModel",
      "state": {
       "description_width": "",
       "font_size": null,
       "text_color": null
      }
     },
     "c82c0be1ad21463f8e84cdc437326b05": {
      "model_module": "@jupyter-widgets/base",
      "model_module_version": "2.0.0",
      "model_name": "LayoutModel",
      "state": {
       "flex": "2"
      }
     },
     "c8a98296ea924c02b45741448c97669c": {
      "model_module": "@jupyter-widgets/controls",
      "model_module_version": "2.0.0",
      "model_name": "HTMLModel",
      "state": {
       "layout": "IPY_MODEL_b57133e1f9c64fdc868034928e66e04a",
       "style": "IPY_MODEL_ff9f5f03036845d991208f8e31c483cb",
       "value": "Sanity Checking DataLoader 0: 100%"
      }
     },
     "c8e4500fd11d440cb1b39c7fb06b11c1": {
      "model_module": "@jupyter-widgets/base",
      "model_module_version": "2.0.0",
      "model_name": "LayoutModel",
      "state": {
       "flex": "2"
      }
     },
     "c95bb0bc47214b10b086163a6777dc40": {
      "model_module": "@jupyter-widgets/controls",
      "model_module_version": "2.0.0",
      "model_name": "HTMLStyleModel",
      "state": {
       "description_width": "",
       "font_size": null,
       "text_color": null
      }
     },
     "c95cc70f5eb149f182d83e6df06c63b4": {
      "model_module": "@jupyter-widgets/controls",
      "model_module_version": "2.0.0",
      "model_name": "ProgressStyleModel",
      "state": {
       "description_width": ""
      }
     },
     "c95e9f9d01684e3cb8477030ba4ba71b": {
      "model_module": "@jupyter-widgets/controls",
      "model_module_version": "2.0.0",
      "model_name": "HTMLModel",
      "state": {
       "layout": "IPY_MODEL_fdfe1988abba4bf8a9b5fcb9f3cafb42",
       "style": "IPY_MODEL_4881fb512e234852a651265bdf3e5009",
       "value": " 62/62 [00:01&lt;00:00, 33.23it/s]"
      }
     },
     "c9674b81ae3d41ffa0087bc912928543": {
      "model_module": "@jupyter-widgets/controls",
      "model_module_version": "2.0.0",
      "model_name": "HTMLModel",
      "state": {
       "layout": "IPY_MODEL_71223c0e0c254a5dab96ee7b075f1841",
       "style": "IPY_MODEL_62569f5650a34ffabfc067b57a2fdfee",
       "value": "Validation DataLoader 0: 100%"
      }
     },
     "c96b76733bab4b348b34e092682f12d7": {
      "model_module": "@jupyter-widgets/controls",
      "model_module_version": "2.0.0",
      "model_name": "HTMLStyleModel",
      "state": {
       "description_width": "",
       "font_size": null,
       "text_color": null
      }
     },
     "ca142a8aafc342329ced9ec7871029e7": {
      "model_module": "@jupyter-widgets/controls",
      "model_module_version": "2.0.0",
      "model_name": "HTMLModel",
      "state": {
       "layout": "IPY_MODEL_7a3cb949d3394013a2d0f71469199615",
       "style": "IPY_MODEL_b984602db71440adb17cc8970f5a24be",
       "value": " 62/62 [00:01&lt;00:00, 31.89it/s]"
      }
     },
     "ca2367b07f5643258c2bca58d2e3859f": {
      "model_module": "@jupyter-widgets/controls",
      "model_module_version": "2.0.0",
      "model_name": "ProgressStyleModel",
      "state": {
       "description_width": ""
      }
     },
     "cab9a720cac44969a7b8f00497d1b879": {
      "model_module": "@jupyter-widgets/base",
      "model_module_version": "2.0.0",
      "model_name": "LayoutModel",
      "state": {}
     },
     "cabdbd2fb8ee45838fbf10b8b0c5770c": {
      "model_module": "@jupyter-widgets/controls",
      "model_module_version": "2.0.0",
      "model_name": "FloatProgressModel",
      "state": {
       "layout": "IPY_MODEL_bb377403a2434e4f917d65e4df9602f1",
       "max": 62,
       "style": "IPY_MODEL_eddf1ed5235b4c3fa14b9eac69a82449",
       "value": 62
      }
     },
     "caecbd40a7124d0c8e6d8bf4a31c3b25": {
      "model_module": "@jupyter-widgets/controls",
      "model_module_version": "2.0.0",
      "model_name": "HTMLStyleModel",
      "state": {
       "description_width": "",
       "font_size": null,
       "text_color": null
      }
     },
     "cafaf34fec8f4891b959866fb9c2e881": {
      "model_module": "@jupyter-widgets/base",
      "model_module_version": "2.0.0",
      "model_name": "LayoutModel",
      "state": {}
     },
     "cb444ab710134de99865aced0f155fc6": {
      "model_module": "@jupyter-widgets/base",
      "model_module_version": "2.0.0",
      "model_name": "LayoutModel",
      "state": {}
     },
     "cb6f6432b61f48889972648162e7f5d7": {
      "model_module": "@jupyter-widgets/controls",
      "model_module_version": "2.0.0",
      "model_name": "HTMLStyleModel",
      "state": {
       "description_width": "",
       "font_size": null,
       "text_color": null
      }
     },
     "cb7ca8c2d0954a2597afdbcc080cc2d7": {
      "model_module": "@jupyter-widgets/controls",
      "model_module_version": "2.0.0",
      "model_name": "HTMLStyleModel",
      "state": {
       "description_width": "",
       "font_size": null,
       "text_color": null
      }
     },
     "cbeaad275905457da52faac8eb49d3d9": {
      "model_module": "@jupyter-widgets/controls",
      "model_module_version": "2.0.0",
      "model_name": "ProgressStyleModel",
      "state": {
       "description_width": ""
      }
     },
     "ccb58c05b4b54836ac1bbc6f97d7eb30": {
      "model_module": "@jupyter-widgets/base",
      "model_module_version": "2.0.0",
      "model_name": "LayoutModel",
      "state": {}
     },
     "cd1a404781fd4f149bc6124e6f0703bb": {
      "model_module": "@jupyter-widgets/controls",
      "model_module_version": "2.0.0",
      "model_name": "HTMLStyleModel",
      "state": {
       "description_width": "",
       "font_size": null,
       "text_color": null
      }
     },
     "cd7721a642a5438297d0897059aaa6be": {
      "model_module": "@jupyter-widgets/controls",
      "model_module_version": "2.0.0",
      "model_name": "HTMLStyleModel",
      "state": {
       "description_width": "",
       "font_size": null,
       "text_color": null
      }
     },
     "ce007262f0524b3ab0b2f8886bc0a27d": {
      "model_module": "@jupyter-widgets/base",
      "model_module_version": "2.0.0",
      "model_name": "LayoutModel",
      "state": {
       "flex": "2"
      }
     },
     "ce84ded8bdcc46499ccd74f910631956": {
      "model_module": "@jupyter-widgets/base",
      "model_module_version": "2.0.0",
      "model_name": "LayoutModel",
      "state": {
       "flex": "2"
      }
     },
     "cea36b5f3aa04c94abc0935f5d5b4cd4": {
      "model_module": "@jupyter-widgets/controls",
      "model_module_version": "2.0.0",
      "model_name": "HTMLStyleModel",
      "state": {
       "description_width": "",
       "font_size": null,
       "text_color": null
      }
     },
     "ceaedbe3daa540c4ad2c323f6e2a15cb": {
      "model_module": "@jupyter-widgets/base",
      "model_module_version": "2.0.0",
      "model_name": "LayoutModel",
      "state": {
       "flex": "2"
      }
     },
     "cfcf060d51d54161b8cea7408947993c": {
      "model_module": "@jupyter-widgets/base",
      "model_module_version": "2.0.0",
      "model_name": "LayoutModel",
      "state": {}
     },
     "d0b145b5bb40466cb0372f13edccf441": {
      "model_module": "@jupyter-widgets/controls",
      "model_module_version": "2.0.0",
      "model_name": "HTMLModel",
      "state": {
       "layout": "IPY_MODEL_6c1fc85b74ab412f98cd9ddb15f56058",
       "style": "IPY_MODEL_1d2779ce1e5e4669a0f74ef9e50b56c6",
       "value": "Validation DataLoader 0: 100%"
      }
     },
     "d150d958aac14ca38e7ae1da41a3a6cc": {
      "model_module": "@jupyter-widgets/controls",
      "model_module_version": "2.0.0",
      "model_name": "HTMLStyleModel",
      "state": {
       "description_width": "",
       "font_size": null,
       "text_color": null
      }
     },
     "d21a5c1fd6ea4070bf5f3c31573972af": {
      "model_module": "@jupyter-widgets/base",
      "model_module_version": "2.0.0",
      "model_name": "LayoutModel",
      "state": {}
     },
     "d24be2a00d3a4889b8f58b34f762bdfa": {
      "model_module": "@jupyter-widgets/controls",
      "model_module_version": "2.0.0",
      "model_name": "HTMLStyleModel",
      "state": {
       "description_width": "",
       "font_size": null,
       "text_color": null
      }
     },
     "d268b1dee53345f3857d85d0601d40d4": {
      "model_module": "@jupyter-widgets/controls",
      "model_module_version": "2.0.0",
      "model_name": "ProgressStyleModel",
      "state": {
       "description_width": ""
      }
     },
     "d2fda6beafb3458faf0db2215cce9aa8": {
      "model_module": "@jupyter-widgets/base",
      "model_module_version": "2.0.0",
      "model_name": "LayoutModel",
      "state": {}
     },
     "d31bfcb256e242f6affc9c4246733259": {
      "model_module": "@jupyter-widgets/base",
      "model_module_version": "2.0.0",
      "model_name": "LayoutModel",
      "state": {}
     },
     "d3298e888682425586b8a3f355c05cd4": {
      "model_module": "@jupyter-widgets/base",
      "model_module_version": "2.0.0",
      "model_name": "LayoutModel",
      "state": {}
     },
     "d3cbc52e4edf4770b66e0924281de91f": {
      "model_module": "@jupyter-widgets/controls",
      "model_module_version": "2.0.0",
      "model_name": "HTMLModel",
      "state": {
       "layout": "IPY_MODEL_bc92901e185741cf9d73b4a7e39aeb88",
       "style": "IPY_MODEL_9dc482b21bf048b4b6ee8cd35edbaa64",
       "value": " 62/62 [00:01&lt;00:00, 32.81it/s]"
      }
     },
     "d3d3664214f84ff8bced7ce004ad0b19": {
      "model_module": "@jupyter-widgets/controls",
      "model_module_version": "2.0.0",
      "model_name": "ProgressStyleModel",
      "state": {
       "description_width": ""
      }
     },
     "d4aefc5502b14aceb8909fc426da0d41": {
      "model_module": "@jupyter-widgets/controls",
      "model_module_version": "2.0.0",
      "model_name": "FloatProgressModel",
      "state": {
       "layout": "IPY_MODEL_70baa4218edc4afb84dc7f4d20300121",
       "max": 62,
       "style": "IPY_MODEL_8df76f9177864a838217e20754058fc7",
       "value": 62
      }
     },
     "d4c0e959fb4b44d48ebc21e9593b0943": {
      "model_module": "@jupyter-widgets/controls",
      "model_module_version": "2.0.0",
      "model_name": "HTMLStyleModel",
      "state": {
       "description_width": "",
       "font_size": null,
       "text_color": null
      }
     },
     "d4c0fd44583b42e5bb60dc9c105edb0a": {
      "model_module": "@jupyter-widgets/controls",
      "model_module_version": "2.0.0",
      "model_name": "FloatProgressModel",
      "state": {
       "layout": "IPY_MODEL_b8a07dab02d2453f9fcbbd49979ad68b",
       "max": 62,
       "style": "IPY_MODEL_772af66f81274bddb333eba1c7672807",
       "value": 62
      }
     },
     "d5420c5085e3448b917e1c57d49ef100": {
      "model_module": "@jupyter-widgets/controls",
      "model_module_version": "2.0.0",
      "model_name": "HTMLStyleModel",
      "state": {
       "description_width": "",
       "font_size": null,
       "text_color": null
      }
     },
     "d5d483a64a184a9fbc4e9cebf89e4704": {
      "model_module": "@jupyter-widgets/controls",
      "model_module_version": "2.0.0",
      "model_name": "HTMLModel",
      "state": {
       "layout": "IPY_MODEL_5f04ab13d1ad4bb192eca83577b2063f",
       "style": "IPY_MODEL_43a5b9ffde3f41158993e8ee6b859559",
       "value": " 62/62 [00:01&lt;00:00, 32.67it/s]"
      }
     },
     "d5dd5badda9a4345987bee1cecb46801": {
      "model_module": "@jupyter-widgets/controls",
      "model_module_version": "2.0.0",
      "model_name": "HTMLStyleModel",
      "state": {
       "description_width": "",
       "font_size": null,
       "text_color": null
      }
     },
     "d69fd654b4614e298de4c37f3ae49729": {
      "model_module": "@jupyter-widgets/base",
      "model_module_version": "2.0.0",
      "model_name": "LayoutModel",
      "state": {
       "flex": "2"
      }
     },
     "d6f4a6a230a04cafba962ce927c610ba": {
      "model_module": "@jupyter-widgets/base",
      "model_module_version": "2.0.0",
      "model_name": "LayoutModel",
      "state": {}
     },
     "d7352b8467ff4b01ae516c7dc2654908": {
      "model_module": "@jupyter-widgets/controls",
      "model_module_version": "2.0.0",
      "model_name": "ProgressStyleModel",
      "state": {
       "description_width": ""
      }
     },
     "d737966d17c44ccead3a59768d4b17be": {
      "model_module": "@jupyter-widgets/base",
      "model_module_version": "2.0.0",
      "model_name": "LayoutModel",
      "state": {
       "flex": "2"
      }
     },
     "d755c3fa6248405fa5f3e056bca7b190": {
      "model_module": "@jupyter-widgets/base",
      "model_module_version": "2.0.0",
      "model_name": "LayoutModel",
      "state": {}
     },
     "d7cdc646996344aebd68d91a55c96aaa": {
      "model_module": "@jupyter-widgets/base",
      "model_module_version": "2.0.0",
      "model_name": "LayoutModel",
      "state": {
       "flex": "2"
      }
     },
     "d7f8f979d86444fb86a4d5d69afef31a": {
      "model_module": "@jupyter-widgets/base",
      "model_module_version": "2.0.0",
      "model_name": "LayoutModel",
      "state": {}
     },
     "d82879e875fb46939759b4f2cbdde48a": {
      "model_module": "@jupyter-widgets/controls",
      "model_module_version": "2.0.0",
      "model_name": "HTMLModel",
      "state": {
       "layout": "IPY_MODEL_9f42dfad7e0b4b34945e8006dbf6bab6",
       "style": "IPY_MODEL_ab320d70f1374c69925499157d7c2a41",
       "value": " 62/62 [00:01&lt;00:00, 32.77it/s]"
      }
     },
     "d8463a6c116e41eeaa1dd55f0e35bbba": {
      "model_module": "@jupyter-widgets/controls",
      "model_module_version": "2.0.0",
      "model_name": "HTMLModel",
      "state": {
       "layout": "IPY_MODEL_9c82c8fb38f34f59b8a67f305feb0bd9",
       "style": "IPY_MODEL_10dcb6cd0bf44999955b9c9104322664",
       "value": "Validation DataLoader 0: 100%"
      }
     },
     "d854884dd2af41fcb8ecd6c0d3116f15": {
      "model_module": "@jupyter-widgets/base",
      "model_module_version": "2.0.0",
      "model_name": "LayoutModel",
      "state": {}
     },
     "d8ed7dbd121b4db683ff850fb2da9fbf": {
      "model_module": "@jupyter-widgets/controls",
      "model_module_version": "2.0.0",
      "model_name": "HTMLStyleModel",
      "state": {
       "description_width": "",
       "font_size": null,
       "text_color": null
      }
     },
     "d90fe04e90854c248d7e879df5127df9": {
      "model_module": "@jupyter-widgets/controls",
      "model_module_version": "2.0.0",
      "model_name": "HTMLStyleModel",
      "state": {
       "description_width": "",
       "font_size": null,
       "text_color": null
      }
     },
     "d914dd6e5b8f488ca7a63656010ff727": {
      "model_module": "@jupyter-widgets/controls",
      "model_module_version": "2.0.0",
      "model_name": "ProgressStyleModel",
      "state": {
       "description_width": ""
      }
     },
     "d948c2065dfd47998117fde451448242": {
      "model_module": "@jupyter-widgets/base",
      "model_module_version": "2.0.0",
      "model_name": "LayoutModel",
      "state": {}
     },
     "d95bb33bbc554a51b76016ced8184a49": {
      "model_module": "@jupyter-widgets/controls",
      "model_module_version": "2.0.0",
      "model_name": "FloatProgressModel",
      "state": {
       "layout": "IPY_MODEL_6cc1d10b7eb3471993e4466ba42a7cdb",
       "max": 62,
       "style": "IPY_MODEL_02910b88898e42839a2ff54c936986ee",
       "value": 62
      }
     },
     "d960cc3f182f4efcbdeac4a6fa0f50f3": {
      "model_module": "@jupyter-widgets/base",
      "model_module_version": "2.0.0",
      "model_name": "LayoutModel",
      "state": {
       "display": "inline-flex",
       "flex_flow": "row wrap",
       "visibility": "hidden",
       "width": "100%"
      }
     },
     "d9b713963dbf46c7aae700052bae3f23": {
      "model_module": "@jupyter-widgets/controls",
      "model_module_version": "2.0.0",
      "model_name": "HTMLStyleModel",
      "state": {
       "description_width": "",
       "font_size": null,
       "text_color": null
      }
     },
     "d9da72e748814402accb2b8b881902f1": {
      "model_module": "@jupyter-widgets/controls",
      "model_module_version": "2.0.0",
      "model_name": "HTMLStyleModel",
      "state": {
       "description_width": "",
       "font_size": null,
       "text_color": null
      }
     },
     "d9ec0eb0c988437db2b7ce1944c4c7fe": {
      "model_module": "@jupyter-widgets/controls",
      "model_module_version": "2.0.0",
      "model_name": "HTMLStyleModel",
      "state": {
       "description_width": "",
       "font_size": null,
       "text_color": null
      }
     },
     "da01bb792e04419b902405cc89083be0": {
      "model_module": "@jupyter-widgets/base",
      "model_module_version": "2.0.0",
      "model_name": "LayoutModel",
      "state": {}
     },
     "da184766acaf4308b9d23c17ea69a626": {
      "model_module": "@jupyter-widgets/controls",
      "model_module_version": "2.0.0",
      "model_name": "HTMLModel",
      "state": {
       "layout": "IPY_MODEL_1fe804afd15d4f4ba01002a68784e6bc",
       "style": "IPY_MODEL_e60197f4e9cb4902999eb39422f58ccc",
       "value": " 62/62 [00:04&lt;00:00, 13.64it/s, v_num=1, train_acc=0.995, val_acc=0.986]"
      }
     },
     "da8bd84e687048b3afd3e6976e46a266": {
      "model_module": "@jupyter-widgets/controls",
      "model_module_version": "2.0.0",
      "model_name": "HTMLStyleModel",
      "state": {
       "description_width": "",
       "font_size": null,
       "text_color": null
      }
     },
     "daa30f8e638a4ad3b60bc4b569b0566d": {
      "model_module": "@jupyter-widgets/controls",
      "model_module_version": "2.0.0",
      "model_name": "HTMLStyleModel",
      "state": {
       "description_width": "",
       "font_size": null,
       "text_color": null
      }
     },
     "daeca756419c4203b5e538fd9d66bb6f": {
      "model_module": "@jupyter-widgets/controls",
      "model_module_version": "2.0.0",
      "model_name": "HTMLModel",
      "state": {
       "layout": "IPY_MODEL_a39eb235d1544ab9ab74a38c2fd14181",
       "style": "IPY_MODEL_0f11130d8f9a4ad3b7fdfdb693411a14",
       "value": "Validation DataLoader 0: 100%"
      }
     },
     "db0300785650427a96eeac43a4190fee": {
      "model_module": "@jupyter-widgets/base",
      "model_module_version": "2.0.0",
      "model_name": "LayoutModel",
      "state": {
       "display": "inline-flex",
       "flex_flow": "row wrap",
       "visibility": "hidden",
       "width": "100%"
      }
     },
     "db1e7b900f4e423f821f10d8f0ab4aa0": {
      "model_module": "@jupyter-widgets/controls",
      "model_module_version": "2.0.0",
      "model_name": "HTMLStyleModel",
      "state": {
       "description_width": "",
       "font_size": null,
       "text_color": null
      }
     },
     "dbf66ce4383b4420bcf867623d58ba77": {
      "model_module": "@jupyter-widgets/controls",
      "model_module_version": "2.0.0",
      "model_name": "HTMLModel",
      "state": {
       "layout": "IPY_MODEL_b6b6a846353d4cd995dce214763cde22",
       "style": "IPY_MODEL_c7c25a58ca0f48318e2cc22edb528ea9",
       "value": "Validation DataLoader 0: 100%"
      }
     },
     "dc0a586fdd61420cbb670424215a7540": {
      "model_module": "@jupyter-widgets/controls",
      "model_module_version": "2.0.0",
      "model_name": "FloatProgressModel",
      "state": {
       "layout": "IPY_MODEL_7f591f590a2f434da22cf8a81f8e7853",
       "max": 62,
       "style": "IPY_MODEL_b07d789cd64b460eb8568a8a7638b640",
       "value": 62
      }
     },
     "dc261c7383ba43a98274b59488dd8894": {
      "model_module": "@jupyter-widgets/base",
      "model_module_version": "2.0.0",
      "model_name": "LayoutModel",
      "state": {
       "flex": "2"
      }
     },
     "dc437877d7e54196826f82ae856fed2f": {
      "model_module": "@jupyter-widgets/controls",
      "model_module_version": "2.0.0",
      "model_name": "FloatProgressModel",
      "state": {
       "layout": "IPY_MODEL_5294f338e39f43d583e0ed6945efb7db",
       "max": 62,
       "style": "IPY_MODEL_a868ba91be4e456abb50849fedff693c",
       "value": 62
      }
     },
     "dc84f2752c974caab4c2bc8ede749f3e": {
      "model_module": "@jupyter-widgets/controls",
      "model_module_version": "2.0.0",
      "model_name": "HTMLModel",
      "state": {
       "layout": "IPY_MODEL_ede90769a71046f89c566cc17bcf6c0a",
       "style": "IPY_MODEL_722101bba35746e98a56363290c4aec5",
       "value": "Validation DataLoader 0: 100%"
      }
     },
     "dcd8ca19d6cd49f0a94386cdc6a1a262": {
      "model_module": "@jupyter-widgets/base",
      "model_module_version": "2.0.0",
      "model_name": "LayoutModel",
      "state": {}
     },
     "dd36afb0972e42b7b8506714aa85597a": {
      "model_module": "@jupyter-widgets/controls",
      "model_module_version": "2.0.0",
      "model_name": "ProgressStyleModel",
      "state": {
       "description_width": ""
      }
     },
     "dd3edeabff8c400ab831cdd299e5c1e7": {
      "model_module": "@jupyter-widgets/controls",
      "model_module_version": "2.0.0",
      "model_name": "ProgressStyleModel",
      "state": {
       "description_width": ""
      }
     },
     "ddcfe2d9be7347c1914d218335a3b9ca": {
      "model_module": "@jupyter-widgets/controls",
      "model_module_version": "2.0.0",
      "model_name": "FloatProgressModel",
      "state": {
       "layout": "IPY_MODEL_0745c82ca76e400391e7d2d5fad3553f",
       "max": 62,
       "style": "IPY_MODEL_a33a5570155b4d558a596ae63936e4e0",
       "value": 62
      }
     },
     "de37a6ca7b534af6974f2504b8bd1780": {
      "model_module": "@jupyter-widgets/controls",
      "model_module_version": "2.0.0",
      "model_name": "FloatProgressModel",
      "state": {
       "layout": "IPY_MODEL_f6ff7a343e504ddb960c346c249d6915",
       "max": 62,
       "style": "IPY_MODEL_344f5ed947f944d0a7721b0aafa804e8",
       "value": 62
      }
     },
     "dec81a32fff44662a6df8549176521ad": {
      "model_module": "@jupyter-widgets/controls",
      "model_module_version": "2.0.0",
      "model_name": "HTMLStyleModel",
      "state": {
       "description_width": "",
       "font_size": null,
       "text_color": null
      }
     },
     "dfd293c0773640b0ab21cad3a4b9c859": {
      "model_module": "@jupyter-widgets/base",
      "model_module_version": "2.0.0",
      "model_name": "LayoutModel",
      "state": {
       "flex": "2"
      }
     },
     "e02d20cd5830464b90f9e7c2287f9ffe": {
      "model_module": "@jupyter-widgets/controls",
      "model_module_version": "2.0.0",
      "model_name": "HTMLStyleModel",
      "state": {
       "description_width": "",
       "font_size": null,
       "text_color": null
      }
     },
     "e101d085404941db85c21809d05262e9": {
      "model_module": "@jupyter-widgets/base",
      "model_module_version": "2.0.0",
      "model_name": "LayoutModel",
      "state": {}
     },
     "e11c2149afca4bc58846c8a09cd7b927": {
      "model_module": "@jupyter-widgets/controls",
      "model_module_version": "2.0.0",
      "model_name": "HTMLModel",
      "state": {
       "layout": "IPY_MODEL_d854884dd2af41fcb8ecd6c0d3116f15",
       "style": "IPY_MODEL_4e8cd541dfb74fcbba46da4be2532954",
       "value": "Validation DataLoader 0: 100%"
      }
     },
     "e13340fe371d45cab733561d7d89a5d5": {
      "model_module": "@jupyter-widgets/controls",
      "model_module_version": "2.0.0",
      "model_name": "FloatProgressModel",
      "state": {
       "layout": "IPY_MODEL_978a4621513243d7915b61be61d557e9",
       "max": 62,
       "style": "IPY_MODEL_89419c58f6084aecb8929043168d2ea4",
       "value": 62
      }
     },
     "e1d655d5eb154671a91f30f71fc82685": {
      "model_module": "@jupyter-widgets/base",
      "model_module_version": "2.0.0",
      "model_name": "LayoutModel",
      "state": {}
     },
     "e251fe17373c43298457a3f760bd8685": {
      "model_module": "@jupyter-widgets/controls",
      "model_module_version": "2.0.0",
      "model_name": "ProgressStyleModel",
      "state": {
       "description_width": ""
      }
     },
     "e27a457b8a544359b60b0389f648ea4b": {
      "model_module": "@jupyter-widgets/base",
      "model_module_version": "2.0.0",
      "model_name": "LayoutModel",
      "state": {
       "display": "inline-flex",
       "flex_flow": "row wrap",
       "visibility": "hidden",
       "width": "100%"
      }
     },
     "e355d2e167c04e98897c5eed376b6d20": {
      "model_module": "@jupyter-widgets/controls",
      "model_module_version": "2.0.0",
      "model_name": "HTMLStyleModel",
      "state": {
       "description_width": "",
       "font_size": null,
       "text_color": null
      }
     },
     "e3577cfe674a48ed8ade506da8472961": {
      "model_module": "@jupyter-widgets/base",
      "model_module_version": "2.0.0",
      "model_name": "LayoutModel",
      "state": {
       "flex": "2"
      }
     },
     "e383eea3747b43aea52c602d700c12b4": {
      "model_module": "@jupyter-widgets/controls",
      "model_module_version": "2.0.0",
      "model_name": "HTMLStyleModel",
      "state": {
       "description_width": "",
       "font_size": null,
       "text_color": null
      }
     },
     "e398c867ad63406b9e87928d6d4c63b3": {
      "model_module": "@jupyter-widgets/controls",
      "model_module_version": "2.0.0",
      "model_name": "HTMLModel",
      "state": {
       "layout": "IPY_MODEL_bf25591a6bbb4b0a8070ef2af4f00bf9",
       "style": "IPY_MODEL_ef12c36b763b4c4893de91925498259d",
       "value": "Validation DataLoader 0: 100%"
      }
     },
     "e3e1ab048b1443c7b51314e6d79dffcc": {
      "model_module": "@jupyter-widgets/controls",
      "model_module_version": "2.0.0",
      "model_name": "HTMLModel",
      "state": {
       "layout": "IPY_MODEL_77b0ac0f26624a50ab22bde80705f31e",
       "style": "IPY_MODEL_e7474b9bda07497db50ab6040f00b9d2",
       "value": " 62/62 [00:02&lt;00:00, 30.55it/s]"
      }
     },
     "e4367f19d18148899c0ce1e6a1aad065": {
      "model_module": "@jupyter-widgets/base",
      "model_module_version": "2.0.0",
      "model_name": "LayoutModel",
      "state": {
       "display": "inline-flex",
       "flex_flow": "row wrap",
       "visibility": "hidden",
       "width": "100%"
      }
     },
     "e437b4f4d60a43f7aafb0e4d244ea244": {
      "model_module": "@jupyter-widgets/controls",
      "model_module_version": "2.0.0",
      "model_name": "HTMLStyleModel",
      "state": {
       "description_width": "",
       "font_size": null,
       "text_color": null
      }
     },
     "e4a7b017d9014b328227467b8336f81a": {
      "model_module": "@jupyter-widgets/controls",
      "model_module_version": "2.0.0",
      "model_name": "HTMLStyleModel",
      "state": {
       "description_width": "",
       "font_size": null,
       "text_color": null
      }
     },
     "e4d7e4e518aa43b488dec2c8811a3146": {
      "model_module": "@jupyter-widgets/base",
      "model_module_version": "2.0.0",
      "model_name": "LayoutModel",
      "state": {
       "flex": "2"
      }
     },
     "e4da1eee6e6c4738a51b4c47a97c5a41": {
      "model_module": "@jupyter-widgets/base",
      "model_module_version": "2.0.0",
      "model_name": "LayoutModel",
      "state": {}
     },
     "e5149bd3196f43ef9b6170144aa2e710": {
      "model_module": "@jupyter-widgets/controls",
      "model_module_version": "2.0.0",
      "model_name": "HTMLModel",
      "state": {
       "layout": "IPY_MODEL_c2ef691101724bf7835978a38beca221",
       "style": "IPY_MODEL_54b5967a0cd148639158b4d2ffdd495c",
       "value": "Validation DataLoader 0: 100%"
      }
     },
     "e5670e37502049dd8eb351445172c67a": {
      "model_module": "@jupyter-widgets/controls",
      "model_module_version": "2.0.0",
      "model_name": "HTMLModel",
      "state": {
       "layout": "IPY_MODEL_4f5492bb8ebb4ec7beac746122617129",
       "style": "IPY_MODEL_edc4953f746348bbad2bffc5be264452",
       "value": " 62/62 [00:01&lt;00:00, 31.99it/s]"
      }
     },
     "e5911a8a547f408f9798c1fce68faf71": {
      "model_module": "@jupyter-widgets/controls",
      "model_module_version": "2.0.0",
      "model_name": "ProgressStyleModel",
      "state": {
       "description_width": ""
      }
     },
     "e5f82ce72e53476d86f5bdbe8e8a9c7c": {
      "model_module": "@jupyter-widgets/controls",
      "model_module_version": "2.0.0",
      "model_name": "HTMLModel",
      "state": {
       "layout": "IPY_MODEL_1c62fcef44254e2990cebc72825c0372",
       "style": "IPY_MODEL_36e2a35e9baa4223b6a29972684daf70",
       "value": " 62/62 [00:02&lt;00:00, 29.94it/s]"
      }
     },
     "e6015dd2779740f3a978ce7be732300f": {
      "model_module": "@jupyter-widgets/controls",
      "model_module_version": "2.0.0",
      "model_name": "HTMLModel",
      "state": {
       "layout": "IPY_MODEL_a01bdd2f984247d59b3f1e06e81d66ec",
       "style": "IPY_MODEL_b1cb87c1374146af8134d0ae4dad4ab3",
       "value": " 62/62 [00:01&lt;00:00, 32.33it/s]"
      }
     },
     "e60197f4e9cb4902999eb39422f58ccc": {
      "model_module": "@jupyter-widgets/controls",
      "model_module_version": "2.0.0",
      "model_name": "HTMLStyleModel",
      "state": {
       "description_width": "",
       "font_size": null,
       "text_color": null
      }
     },
     "e656e28728464ae8896d767c94defc9e": {
      "model_module": "@jupyter-widgets/controls",
      "model_module_version": "2.0.0",
      "model_name": "HTMLStyleModel",
      "state": {
       "description_width": "",
       "font_size": null,
       "text_color": null
      }
     },
     "e65fa4c77a1a46bb9e457c121f4d3622": {
      "model_module": "@jupyter-widgets/controls",
      "model_module_version": "2.0.0",
      "model_name": "FloatProgressModel",
      "state": {
       "layout": "IPY_MODEL_0a148eafa67643fbb094f0dca5adcb66",
       "max": 62,
       "style": "IPY_MODEL_dd3edeabff8c400ab831cdd299e5c1e7",
       "value": 62
      }
     },
     "e6e5c83d125f4a758e0ff3be5cc19472": {
      "model_module": "@jupyter-widgets/base",
      "model_module_version": "2.0.0",
      "model_name": "LayoutModel",
      "state": {
       "display": "inline-flex",
       "flex_flow": "row wrap",
       "visibility": "hidden",
       "width": "100%"
      }
     },
     "e6fb97cfba1342818fc0ac8b4675ae62": {
      "model_module": "@jupyter-widgets/controls",
      "model_module_version": "2.0.0",
      "model_name": "ProgressStyleModel",
      "state": {
       "description_width": ""
      }
     },
     "e7474b9bda07497db50ab6040f00b9d2": {
      "model_module": "@jupyter-widgets/controls",
      "model_module_version": "2.0.0",
      "model_name": "HTMLStyleModel",
      "state": {
       "description_width": "",
       "font_size": null,
       "text_color": null
      }
     },
     "e76ac1a541314e498a34f2a3fbafc455": {
      "model_module": "@jupyter-widgets/base",
      "model_module_version": "2.0.0",
      "model_name": "LayoutModel",
      "state": {}
     },
     "e7a1160d8c3c4ba29ea59d14390d52a1": {
      "model_module": "@jupyter-widgets/base",
      "model_module_version": "2.0.0",
      "model_name": "LayoutModel",
      "state": {
       "flex": "2"
      }
     },
     "e7af9b84269f4c6294ba67a1e2914145": {
      "model_module": "@jupyter-widgets/base",
      "model_module_version": "2.0.0",
      "model_name": "LayoutModel",
      "state": {
       "flex": "2"
      }
     },
     "e7d40ceeeaec4b499cfdb54a82d32771": {
      "model_module": "@jupyter-widgets/base",
      "model_module_version": "2.0.0",
      "model_name": "LayoutModel",
      "state": {
       "flex": "2"
      }
     },
     "e8120b70bc6f4ab8a9ab05065215e8ab": {
      "model_module": "@jupyter-widgets/controls",
      "model_module_version": "2.0.0",
      "model_name": "FloatProgressModel",
      "state": {
       "layout": "IPY_MODEL_59fc7c83b744432c91e117d16621c7c1",
       "max": 62,
       "style": "IPY_MODEL_5b0ab55e12174ccd8b11a0e4f368809c",
       "value": 62
      }
     },
     "e818dd2ae1e8491cb98d615169fffcaa": {
      "model_module": "@jupyter-widgets/controls",
      "model_module_version": "2.0.0",
      "model_name": "HTMLModel",
      "state": {
       "layout": "IPY_MODEL_cafaf34fec8f4891b959866fb9c2e881",
       "style": "IPY_MODEL_d8ed7dbd121b4db683ff850fb2da9fbf",
       "value": " 62/62 [00:01&lt;00:00, 32.37it/s]"
      }
     },
     "ea6744d8932344728cb663fe83bc975e": {
      "model_module": "@jupyter-widgets/base",
      "model_module_version": "2.0.0",
      "model_name": "LayoutModel",
      "state": {}
     },
     "eb633201357949bbb908dfa72c4cbad3": {
      "model_module": "@jupyter-widgets/controls",
      "model_module_version": "2.0.0",
      "model_name": "HTMLStyleModel",
      "state": {
       "description_width": "",
       "font_size": null,
       "text_color": null
      }
     },
     "ebd6c7fae301462b9b960a0315ec811e": {
      "model_module": "@jupyter-widgets/controls",
      "model_module_version": "2.0.0",
      "model_name": "HTMLModel",
      "state": {
       "layout": "IPY_MODEL_36ab69e82e514dcbaf42b85d36b65b90",
       "style": "IPY_MODEL_db1e7b900f4e423f821f10d8f0ab4aa0",
       "value": " 62/62 [00:01&lt;00:00, 36.85it/s]"
      }
     },
     "ebf4b361918347d5b5d8feaaba53377d": {
      "model_module": "@jupyter-widgets/controls",
      "model_module_version": "2.0.0",
      "model_name": "HTMLModel",
      "state": {
       "layout": "IPY_MODEL_02481064a181438a84d780922527d832",
       "style": "IPY_MODEL_067efed69f3b4a32ba0adc37423d6d63",
       "value": " 62/62 [00:01&lt;00:00, 32.79it/s]"
      }
     },
     "ec17e3c8264143d1a9e5a83e3adeb5ef": {
      "model_module": "@jupyter-widgets/base",
      "model_module_version": "2.0.0",
      "model_name": "LayoutModel",
      "state": {
       "display": "inline-flex",
       "flex_flow": "row wrap",
       "visibility": "hidden",
       "width": "100%"
      }
     },
     "ec533513d1274a4ab7869f3b94ba9b5e": {
      "model_module": "@jupyter-widgets/controls",
      "model_module_version": "2.0.0",
      "model_name": "FloatProgressModel",
      "state": {
       "layout": "IPY_MODEL_0c4d89df9d074176aa12aa84283cf4b6",
       "max": 62,
       "style": "IPY_MODEL_144631d792d9465dabf1a3c3e082a16c",
       "value": 62
      }
     },
     "ec6b5c7a929742c4b9c202c04e817a44": {
      "model_module": "@jupyter-widgets/base",
      "model_module_version": "2.0.0",
      "model_name": "LayoutModel",
      "state": {
       "flex": "2"
      }
     },
     "ecce6d4bafd04179bfd4ae2de5471903": {
      "model_module": "@jupyter-widgets/base",
      "model_module_version": "2.0.0",
      "model_name": "LayoutModel",
      "state": {}
     },
     "ed02234abcea4921a9dffe3f2b587a53": {
      "model_module": "@jupyter-widgets/base",
      "model_module_version": "2.0.0",
      "model_name": "LayoutModel",
      "state": {
       "display": "inline-flex",
       "flex_flow": "row wrap",
       "visibility": "hidden",
       "width": "100%"
      }
     },
     "ed0ce3bbecc6419b83b74e752adc5c72": {
      "model_module": "@jupyter-widgets/controls",
      "model_module_version": "2.0.0",
      "model_name": "HTMLStyleModel",
      "state": {
       "description_width": "",
       "font_size": null,
       "text_color": null
      }
     },
     "ed710ffd558d42819e3d4ff2bb152126": {
      "model_module": "@jupyter-widgets/base",
      "model_module_version": "2.0.0",
      "model_name": "LayoutModel",
      "state": {}
     },
     "edc4953f746348bbad2bffc5be264452": {
      "model_module": "@jupyter-widgets/controls",
      "model_module_version": "2.0.0",
      "model_name": "HTMLStyleModel",
      "state": {
       "description_width": "",
       "font_size": null,
       "text_color": null
      }
     },
     "edcae15fe987443cafdd6d4c5f740879": {
      "model_module": "@jupyter-widgets/controls",
      "model_module_version": "2.0.0",
      "model_name": "HTMLModel",
      "state": {
       "layout": "IPY_MODEL_b80f3fa99f764224baf4f517fba1024f",
       "style": "IPY_MODEL_d5420c5085e3448b917e1c57d49ef100",
       "value": " 62/62 [00:01&lt;00:00, 32.21it/s]"
      }
     },
     "eddf1ed5235b4c3fa14b9eac69a82449": {
      "model_module": "@jupyter-widgets/controls",
      "model_module_version": "2.0.0",
      "model_name": "ProgressStyleModel",
      "state": {
       "description_width": ""
      }
     },
     "ede90769a71046f89c566cc17bcf6c0a": {
      "model_module": "@jupyter-widgets/base",
      "model_module_version": "2.0.0",
      "model_name": "LayoutModel",
      "state": {}
     },
     "edea2d70f48745849b799e6bc9f60110": {
      "model_module": "@jupyter-widgets/base",
      "model_module_version": "2.0.0",
      "model_name": "LayoutModel",
      "state": {
       "display": "inline-flex",
       "flex_flow": "row wrap",
       "visibility": "hidden",
       "width": "100%"
      }
     },
     "ee3b41703ce54efc9618902d8b136a25": {
      "model_module": "@jupyter-widgets/controls",
      "model_module_version": "2.0.0",
      "model_name": "HTMLModel",
      "state": {
       "layout": "IPY_MODEL_da01bb792e04419b902405cc89083be0",
       "style": "IPY_MODEL_e02d20cd5830464b90f9e7c2287f9ffe",
       "value": "Validation DataLoader 0: 100%"
      }
     },
     "ee8d9ad787aa49ae8b2babd39f39672a": {
      "model_module": "@jupyter-widgets/controls",
      "model_module_version": "2.0.0",
      "model_name": "HTMLStyleModel",
      "state": {
       "description_width": "",
       "font_size": null,
       "text_color": null
      }
     },
     "ee9cf156967f4d3a9e236961c16dcebd": {
      "model_module": "@jupyter-widgets/base",
      "model_module_version": "2.0.0",
      "model_name": "LayoutModel",
      "state": {
       "display": "inline-flex",
       "flex_flow": "row wrap",
       "visibility": "hidden",
       "width": "100%"
      }
     },
     "ef12c36b763b4c4893de91925498259d": {
      "model_module": "@jupyter-widgets/controls",
      "model_module_version": "2.0.0",
      "model_name": "HTMLStyleModel",
      "state": {
       "description_width": "",
       "font_size": null,
       "text_color": null
      }
     },
     "ef3b2ac28f564c858ce49af5d10e25af": {
      "model_module": "@jupyter-widgets/base",
      "model_module_version": "2.0.0",
      "model_name": "LayoutModel",
      "state": {}
     },
     "ef3c37d540014cd181ab0728645ae901": {
      "model_module": "@jupyter-widgets/base",
      "model_module_version": "2.0.0",
      "model_name": "LayoutModel",
      "state": {
       "flex": "2"
      }
     },
     "ef3f3d619bfe41be9f4493c93909b287": {
      "model_module": "@jupyter-widgets/controls",
      "model_module_version": "2.0.0",
      "model_name": "ProgressStyleModel",
      "state": {
       "description_width": ""
      }
     },
     "effbd025259d4a099058e577fec8b87d": {
      "model_module": "@jupyter-widgets/controls",
      "model_module_version": "2.0.0",
      "model_name": "FloatProgressModel",
      "state": {
       "layout": "IPY_MODEL_0bed464cf713497e89e6ad1d25500ade",
       "max": 62,
       "style": "IPY_MODEL_d268b1dee53345f3857d85d0601d40d4",
       "value": 62
      }
     },
     "f046ef06978b43f6adb65add8cf34fdd": {
      "model_module": "@jupyter-widgets/controls",
      "model_module_version": "2.0.0",
      "model_name": "ProgressStyleModel",
      "state": {
       "description_width": ""
      }
     },
     "f06decb67eed44648a600a9b3af5c59d": {
      "model_module": "@jupyter-widgets/controls",
      "model_module_version": "2.0.0",
      "model_name": "HTMLStyleModel",
      "state": {
       "description_width": "",
       "font_size": null,
       "text_color": null
      }
     },
     "f0b6468b511840bfae19ab8aedf0c9a9": {
      "model_module": "@jupyter-widgets/controls",
      "model_module_version": "2.0.0",
      "model_name": "FloatProgressModel",
      "state": {
       "bar_style": "success",
       "layout": "IPY_MODEL_4e5f2fdbd74d4c7aa192bbe04b2be7e8",
       "max": 62,
       "style": "IPY_MODEL_5a2a2d649d764dc9ae41f82aa2fc7b15",
       "value": 62
      }
     },
     "f0dcf31ee67441139b566f443ed614c2": {
      "model_module": "@jupyter-widgets/controls",
      "model_module_version": "2.0.0",
      "model_name": "FloatProgressModel",
      "state": {
       "layout": "IPY_MODEL_b12dcfc2395e41739156f99bc9f26f37",
       "max": 62,
       "style": "IPY_MODEL_e251fe17373c43298457a3f760bd8685",
       "value": 62
      }
     },
     "f100cbea301442d294caefefd6e52c3e": {
      "model_module": "@jupyter-widgets/base",
      "model_module_version": "2.0.0",
      "model_name": "LayoutModel",
      "state": {
       "flex": "2"
      }
     },
     "f10811ed8fef440181279f6953c37100": {
      "model_module": "@jupyter-widgets/controls",
      "model_module_version": "2.0.0",
      "model_name": "HTMLStyleModel",
      "state": {
       "description_width": "",
       "font_size": null,
       "text_color": null
      }
     },
     "f150f9bd8f3043e489979d71254684b0": {
      "model_module": "@jupyter-widgets/controls",
      "model_module_version": "2.0.0",
      "model_name": "HTMLModel",
      "state": {
       "layout": "IPY_MODEL_d7f8f979d86444fb86a4d5d69afef31a",
       "style": "IPY_MODEL_8bf9e20d72054596bf20eb9cda286b75",
       "value": "Validation DataLoader 0: 100%"
      }
     },
     "f18e15debdb64a9abc9d3a10e6f190ad": {
      "model_module": "@jupyter-widgets/base",
      "model_module_version": "2.0.0",
      "model_name": "LayoutModel",
      "state": {
       "display": "inline-flex",
       "flex_flow": "row wrap",
       "visibility": "hidden",
       "width": "100%"
      }
     },
     "f271b68a82314143a97ae7bd07991b69": {
      "model_module": "@jupyter-widgets/base",
      "model_module_version": "2.0.0",
      "model_name": "LayoutModel",
      "state": {}
     },
     "f2a6cca13828477db36cb5a5b4ab2322": {
      "model_module": "@jupyter-widgets/base",
      "model_module_version": "2.0.0",
      "model_name": "LayoutModel",
      "state": {}
     },
     "f2d485f177af43868192cddc60c50bf2": {
      "model_module": "@jupyter-widgets/base",
      "model_module_version": "2.0.0",
      "model_name": "LayoutModel",
      "state": {
       "display": "inline-flex",
       "flex_flow": "row wrap",
       "visibility": "hidden",
       "width": "100%"
      }
     },
     "f3b1c38d21814255acac11e6bf90730b": {
      "model_module": "@jupyter-widgets/base",
      "model_module_version": "2.0.0",
      "model_name": "LayoutModel",
      "state": {
       "display": "inline-flex",
       "flex_flow": "row wrap",
       "visibility": "hidden",
       "width": "100%"
      }
     },
     "f3d83d5f68974aa6bb824fed7f465c71": {
      "model_module": "@jupyter-widgets/controls",
      "model_module_version": "2.0.0",
      "model_name": "HTMLStyleModel",
      "state": {
       "description_width": "",
       "font_size": null,
       "text_color": null
      }
     },
     "f43fcc982b6e4655ab305ce3df6f723b": {
      "model_module": "@jupyter-widgets/base",
      "model_module_version": "2.0.0",
      "model_name": "LayoutModel",
      "state": {
       "display": "inline-flex",
       "flex_flow": "row wrap",
       "visibility": "hidden",
       "width": "100%"
      }
     },
     "f5607eb0a12143048668c6df031844ce": {
      "model_module": "@jupyter-widgets/controls",
      "model_module_version": "2.0.0",
      "model_name": "HTMLModel",
      "state": {
       "layout": "IPY_MODEL_2ed3326dfc1a4402aa78d7689fc13345",
       "style": "IPY_MODEL_39fed02d22f74ebbb848a5974d390229",
       "value": "Validation DataLoader 0: 100%"
      }
     },
     "f588d718291f4b05bb36b1a5e8f73df9": {
      "model_module": "@jupyter-widgets/base",
      "model_module_version": "2.0.0",
      "model_name": "LayoutModel",
      "state": {}
     },
     "f5a377cc223e4833989b1cf81e35cddd": {
      "model_module": "@jupyter-widgets/controls",
      "model_module_version": "2.0.0",
      "model_name": "FloatProgressModel",
      "state": {
       "layout": "IPY_MODEL_394885e8ac314ee8820b2080478419af",
       "max": 62,
       "style": "IPY_MODEL_b31f7a17334241b9afe9e0b47afb914b",
       "value": 62
      }
     },
     "f5af024bf9ad432faf78bac94e07180c": {
      "model_module": "@jupyter-widgets/controls",
      "model_module_version": "2.0.0",
      "model_name": "ProgressStyleModel",
      "state": {
       "description_width": ""
      }
     },
     "f609e4de0ec24b8d9092ea340893876f": {
      "model_module": "@jupyter-widgets/base",
      "model_module_version": "2.0.0",
      "model_name": "LayoutModel",
      "state": {
       "display": "inline-flex",
       "flex_flow": "row wrap",
       "visibility": "hidden",
       "width": "100%"
      }
     },
     "f60d08b1324e42cd8b45817b7251f445": {
      "model_module": "@jupyter-widgets/controls",
      "model_module_version": "2.0.0",
      "model_name": "FloatProgressModel",
      "state": {
       "layout": "IPY_MODEL_d737966d17c44ccead3a59768d4b17be",
       "max": 62,
       "style": "IPY_MODEL_f5af024bf9ad432faf78bac94e07180c",
       "value": 62
      }
     },
     "f68bd74d55ab4225b36506130fad4d61": {
      "model_module": "@jupyter-widgets/controls",
      "model_module_version": "2.0.0",
      "model_name": "FloatProgressModel",
      "state": {
       "layout": "IPY_MODEL_1071ba6f69d44baebd2a53130e863c07",
       "max": 62,
       "style": "IPY_MODEL_e6fb97cfba1342818fc0ac8b4675ae62",
       "value": 62
      }
     },
     "f697542fa65c407f89007dd0bfc3e25f": {
      "model_module": "@jupyter-widgets/controls",
      "model_module_version": "2.0.0",
      "model_name": "HTMLModel",
      "state": {
       "layout": "IPY_MODEL_bf888f92850e4fc39704d0b287326e5a",
       "style": "IPY_MODEL_9052ee3901fc41218804a413c825a1ca",
       "value": "Validation DataLoader 0: 100%"
      }
     },
     "f6ff7a343e504ddb960c346c249d6915": {
      "model_module": "@jupyter-widgets/base",
      "model_module_version": "2.0.0",
      "model_name": "LayoutModel",
      "state": {
       "flex": "2"
      }
     },
     "f7fba43f77154716b345cfb86c71df79": {
      "model_module": "@jupyter-widgets/controls",
      "model_module_version": "2.0.0",
      "model_name": "HTMLModel",
      "state": {
       "layout": "IPY_MODEL_38a70924ba6e4c1199ae5bde66cb3e64",
       "style": "IPY_MODEL_da8bd84e687048b3afd3e6976e46a266",
       "value": "Validation DataLoader 0: 100%"
      }
     },
     "f9bb2cbe3cc04ed2b4ae4888e527b115": {
      "model_module": "@jupyter-widgets/controls",
      "model_module_version": "2.0.0",
      "model_name": "HTMLStyleModel",
      "state": {
       "description_width": "",
       "font_size": null,
       "text_color": null
      }
     },
     "f9c435a252ab47a89f4b250373e9ab83": {
      "model_module": "@jupyter-widgets/controls",
      "model_module_version": "2.0.0",
      "model_name": "HTMLModel",
      "state": {
       "layout": "IPY_MODEL_58679883744840cebab6ab8ccc360f5c",
       "style": "IPY_MODEL_e4a7b017d9014b328227467b8336f81a",
       "value": "Validation DataLoader 0: 100%"
      }
     },
     "fa43898fa4234fd792361e4cee9ef5fa": {
      "model_module": "@jupyter-widgets/base",
      "model_module_version": "2.0.0",
      "model_name": "LayoutModel",
      "state": {}
     },
     "fa50890afa944a0b8676164632c9e51f": {
      "model_module": "@jupyter-widgets/base",
      "model_module_version": "2.0.0",
      "model_name": "LayoutModel",
      "state": {
       "flex": "2"
      }
     },
     "faa53bc43aee47b287e6273e6aa98d69": {
      "model_module": "@jupyter-widgets/base",
      "model_module_version": "2.0.0",
      "model_name": "LayoutModel",
      "state": {
       "flex": "2"
      }
     },
     "fab44ee489234b828c4c86c749902cf5": {
      "model_module": "@jupyter-widgets/controls",
      "model_module_version": "2.0.0",
      "model_name": "HTMLStyleModel",
      "state": {
       "description_width": "",
       "font_size": null,
       "text_color": null
      }
     },
     "fb086585d68449ac85004f030b8fa9a6": {
      "model_module": "@jupyter-widgets/controls",
      "model_module_version": "2.0.0",
      "model_name": "HTMLModel",
      "state": {
       "layout": "IPY_MODEL_b15f6616e28b44d3908cfeaddb7b7c3f",
       "style": "IPY_MODEL_8393ddb5ec7448b99c304c5da6954114",
       "value": "Validation DataLoader 0: 100%"
      }
     },
     "fb47ff2713574b368466ae66de95f2d2": {
      "model_module": "@jupyter-widgets/controls",
      "model_module_version": "2.0.0",
      "model_name": "ProgressStyleModel",
      "state": {
       "description_width": ""
      }
     },
     "fbdf20cce3cf41b2acac44ad9b478280": {
      "model_module": "@jupyter-widgets/controls",
      "model_module_version": "2.0.0",
      "model_name": "FloatProgressModel",
      "state": {
       "layout": "IPY_MODEL_e7a1160d8c3c4ba29ea59d14390d52a1",
       "max": 62,
       "style": "IPY_MODEL_02528c3b42414403be63bb8100898968",
       "value": 62
      }
     },
     "fc020a7450a14459a821bf278742df34": {
      "model_module": "@jupyter-widgets/controls",
      "model_module_version": "2.0.0",
      "model_name": "HTMLModel",
      "state": {
       "layout": "IPY_MODEL_4d2a7956671c4fb0acbc726626be7b3c",
       "style": "IPY_MODEL_36ab52dcc23241df992f331eeebbc772",
       "value": " 62/62 [00:01&lt;00:00, 31.07it/s]"
      }
     },
     "fc80efee7fb740c6875f0ebe537144c9": {
      "model_module": "@jupyter-widgets/base",
      "model_module_version": "2.0.0",
      "model_name": "LayoutModel",
      "state": {
       "display": "inline-flex",
       "flex_flow": "row wrap",
       "visibility": "hidden",
       "width": "100%"
      }
     },
     "fcaa17f72f504e808e1aba3814bba8f2": {
      "model_module": "@jupyter-widgets/base",
      "model_module_version": "2.0.0",
      "model_name": "LayoutModel",
      "state": {
       "flex": "2"
      }
     },
     "fd698b2cad134f05b88c79874f7cb073": {
      "model_module": "@jupyter-widgets/controls",
      "model_module_version": "2.0.0",
      "model_name": "HTMLStyleModel",
      "state": {
       "description_width": "",
       "font_size": null,
       "text_color": null
      }
     },
     "fd9725863839466487e9bbb81facfdd4": {
      "model_module": "@jupyter-widgets/base",
      "model_module_version": "2.0.0",
      "model_name": "LayoutModel",
      "state": {
       "display": "inline-flex",
       "flex_flow": "row wrap",
       "visibility": "hidden",
       "width": "100%"
      }
     },
     "fda8b3b0835f446fa6aa4bc079d38204": {
      "model_module": "@jupyter-widgets/base",
      "model_module_version": "2.0.0",
      "model_name": "LayoutModel",
      "state": {}
     },
     "fdfe1988abba4bf8a9b5fcb9f3cafb42": {
      "model_module": "@jupyter-widgets/base",
      "model_module_version": "2.0.0",
      "model_name": "LayoutModel",
      "state": {}
     },
     "fe4cfe6bcd954bb38beacc677f4b9c87": {
      "model_module": "@jupyter-widgets/controls",
      "model_module_version": "2.0.0",
      "model_name": "FloatProgressModel",
      "state": {
       "layout": "IPY_MODEL_992901f969eb4dabbe397e93bf7424d2",
       "max": 62,
       "style": "IPY_MODEL_1431685a736f4e279718279f4eaf0c95",
       "value": 62
      }
     },
     "fe6d64b7c50e440cba7d2d22e6072ee1": {
      "model_module": "@jupyter-widgets/base",
      "model_module_version": "2.0.0",
      "model_name": "LayoutModel",
      "state": {}
     },
     "feb6e32de0514bed9fb1d98852f83e9a": {
      "model_module": "@jupyter-widgets/controls",
      "model_module_version": "2.0.0",
      "model_name": "FloatProgressModel",
      "state": {
       "layout": "IPY_MODEL_236416bda35f4b0bafc6c8bea8d7d95d",
       "max": 62,
       "style": "IPY_MODEL_c3eee3afe8ff46e09bf0c7213c57a438",
       "value": 62
      }
     },
     "fee4eb85cf1946d79984c830f5479e1b": {
      "model_module": "@jupyter-widgets/controls",
      "model_module_version": "2.0.0",
      "model_name": "HTMLModel",
      "state": {
       "layout": "IPY_MODEL_824eedf3224c4db696937f62d6fd754b",
       "style": "IPY_MODEL_acba4f588a3741cab5416e278f42e3fe",
       "value": " 62/62 [00:01&lt;00:00, 33.28it/s]"
      }
     },
     "ff79d563a5734f97857ba7004321ec89": {
      "model_module": "@jupyter-widgets/controls",
      "model_module_version": "2.0.0",
      "model_name": "FloatProgressModel",
      "state": {
       "layout": "IPY_MODEL_2fb9e58e8ed844d0ba5dd244be722c5f",
       "max": 62,
       "style": "IPY_MODEL_41903d1b0e3346118bc37a43c57e1212",
       "value": 62
      }
     },
     "ff8ebe08eec64f3ab6c0e0ea80b5d2fe": {
      "model_module": "@jupyter-widgets/controls",
      "model_module_version": "2.0.0",
      "model_name": "FloatProgressModel",
      "state": {
       "bar_style": "success",
       "layout": "IPY_MODEL_56e0bc3f52e54e8394eff7d8a23f01b1",
       "max": 62,
       "style": "IPY_MODEL_adc5943f89d740c59d1ed9dd262c5b64",
       "value": 62
      }
     },
     "ff9f5f03036845d991208f8e31c483cb": {
      "model_module": "@jupyter-widgets/controls",
      "model_module_version": "2.0.0",
      "model_name": "HTMLStyleModel",
      "state": {
       "description_width": "",
       "font_size": null,
       "text_color": null
      }
     },
     "ffc45099500247b7884c248d8cdb07e4": {
      "model_module": "@jupyter-widgets/controls",
      "model_module_version": "2.0.0",
      "model_name": "HTMLModel",
      "state": {
       "layout": "IPY_MODEL_0e32259eabf74f2985f1f1267f1ad5d4",
       "style": "IPY_MODEL_267bfad665934f6f9735e15928c15733",
       "value": " 62/62 [00:01&lt;00:00, 32.77it/s]"
      }
     },
     "ffdda2bba47f4dfb82afbfb5b2d11399": {
      "model_module": "@jupyter-widgets/base",
      "model_module_version": "2.0.0",
      "model_name": "LayoutModel",
      "state": {
       "flex": "2"
      }
     }
    },
    "version_major": 2,
    "version_minor": 0
   }
  }
 },
 "nbformat": 4,
 "nbformat_minor": 5
}
