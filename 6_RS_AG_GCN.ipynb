{
 "cells": [
  {
   "cell_type": "code",
   "execution_count": 1,
   "id": "da06ae01-7103-4aea-9c0f-4ef08895d38c",
   "metadata": {},
   "outputs": [],
   "source": [
    "import os\n",
    "import torch\n",
    "import numpy as np\n",
    "import pytorch_lightning as pl\n",
    "from torch_geometric.datasets import Planetoid\n",
    "from torch_geometric.data import Data\n",
    "from pytorch_lightning.callbacks.early_stopping import EarlyStopping\n",
    "from lightning.pytorch import loggers as pl_loggers\n",
    "import torch_geometric.transforms as T\n",
    "import torch_geometric.data as geom_data\n",
    "from torch.utils.tensorboard import SummaryWriter\n",
    "\n",
    "%reload_ext autoreload\n",
    "%autoreload 2"
   ]
  },
  {
   "cell_type": "markdown",
   "id": "7eda1bfa-47a4-478a-82d1-f7fe1c588e73",
   "metadata": {},
   "source": [
    "#### Configure device"
   ]
  },
  {
   "cell_type": "code",
   "execution_count": 2,
   "id": "e824ef20-6156-49c3-bfa9-47eea7af9124",
   "metadata": {},
   "outputs": [
    {
     "data": {
      "text/plain": [
       "(device(type='cuda', index=0), 12)"
      ]
     },
     "execution_count": 2,
     "metadata": {},
     "output_type": "execute_result"
    }
   ],
   "source": [
    "device = torch.device(\"cuda:0\" if torch.cuda.is_available() else \"cpu\")\n",
    "if device != \"cpu\":\n",
    "    torch.set_float32_matmul_precision('high')\n",
    "    \n",
    "\n",
    "num_workers = os.cpu_count()\n",
    "device, num_workers"
   ]
  },
  {
   "cell_type": "code",
   "execution_count": 3,
   "id": "8922de0e-66dd-4251-a88c-7158dca4afed",
   "metadata": {},
   "outputs": [
    {
     "data": {
      "text/html": [
       "\n",
       "      <iframe id=\"tensorboard-frame-dbcd723435411505\" width=\"100%\" height=\"800\" frameborder=\"0\">\n",
       "      </iframe>\n",
       "      <script>\n",
       "        (function() {\n",
       "          const frame = document.getElementById(\"tensorboard-frame-dbcd723435411505\");\n",
       "          const url = new URL(\"/\", window.location);\n",
       "          const port = 6006;\n",
       "          if (port) {\n",
       "            url.port = port;\n",
       "          }\n",
       "          frame.src = url;\n",
       "        })();\n",
       "      </script>\n",
       "    "
      ],
      "text/plain": [
       "<IPython.core.display.HTML object>"
      ]
     },
     "metadata": {},
     "output_type": "display_data"
    }
   ],
   "source": [
    "%reload_ext tensorboard\n",
    "%tensorboard --logdir 'lightning_logs' "
   ]
  },
  {
   "cell_type": "markdown",
   "id": "645c2c2e-8187-428e-b409-9ac6359a233c",
   "metadata": {},
   "source": [
    "### Directory configuration and load data"
   ]
  },
  {
   "cell_type": "code",
   "execution_count": 4,
   "id": "8a1858ae",
   "metadata": {},
   "outputs": [
    {
     "name": "stdout",
     "output_type": "stream",
     "text": [
      "D:\\GitHub\\GNN-Cora-CUHKSZAG\\dataset\\CUHKSZ_AcademicGraph\\raw\\CUHKSZ_AcademicGraph_Rawdata.zip\n",
      "D:\\GitHub\\GNN-Cora-CUHKSZAG\\dataset\\CUHKSZ_AcademicGraph\\raw\\CUHKSZ_AcademicGraph-rawdata_released\n"
     ]
    }
   ],
   "source": [
    "cwd = os.getcwd()\n",
    "tb_logging_dir = os.path.join(cwd, \"lightning_logs\")\n",
    "exp_name = \"RS-AG-GCN\"\n",
    "exp_dir = os.path.join(tb_logging_dir, exp_name)\n",
    "dataset_dir = os.path.join(cwd, \"dataset\", \"CUHKSZ_AcademicGraph\")\n",
    "if not os.path.exists(dataset_dir):\n",
    "    os.makedirs(dataset_dir)\n",
    "    \n",
    "from utils.dataset.CUHKSZ_AcademicGraph import CUHKSZ_AcademicGraph\n",
    "AGDataset = CUHKSZ_AcademicGraph(dataset_dir, with_title=True, with_label=True)\n",
    "\n",
    "dataset = AGDataset"
   ]
  },
  {
   "cell_type": "markdown",
   "id": "dc552412-7d68-404d-8d68-4072f75afb9b",
   "metadata": {
    "tags": []
   },
   "source": [
    "#### Note that if numebr of epoch is large, the kernel will stuck after training! Need to load the saved model mannually!"
   ]
  },
  {
   "cell_type": "code",
   "execution_count": 5,
   "id": "c9c82233-8b8f-4f99-8274-00828954d298",
   "metadata": {},
   "outputs": [
    {
     "name": "stderr",
     "output_type": "stream",
     "text": [
      "GPU available: True (cuda), used: True\n",
      "TPU available: False, using: 0 TPU cores\n",
      "IPU available: False, using: 0 IPUs\n",
      "HPU available: False, using: 0 HPUs\n",
      "Missing logger folder: D:\\GitHub\\GNN-Cora-CUHKSZAG\\lightning_logs\\AG-GCN\n"
     ]
    },
    {
     "name": "stdout",
     "output_type": "stream",
     "text": [
      "Saving checkpoints to D:\\GitHub\\GNN-Cora-CUHKSZAG\\lightning_logs\\AG-GCN\\version_0\\checkpoints\n"
     ]
    },
    {
     "name": "stderr",
     "output_type": "stream",
     "text": [
      "LOCAL_RANK: 0 - CUDA_VISIBLE_DEVICES: [0]\n",
      "\n",
      "  | Name  | Type    | Params\n",
      "----------------------------------\n",
      "0 | conv1 | GCNConv | 86.1 K\n",
      "1 | conv2 | GCNConv | 1.8 K \n",
      "----------------------------------\n",
      "87.9 K    Trainable params\n",
      "0         Non-trainable params\n",
      "87.9 K    Total params\n",
      "0.352     Total estimated model params size (MB)\n"
     ]
    },
    {
     "name": "stdout",
     "output_type": "stream",
     "text": [
      "Data Processing Done on: cuda:0\n"
     ]
    },
    {
     "data": {
      "application/vnd.jupyter.widget-view+json": {
       "model_id": "",
       "version_major": 2,
       "version_minor": 0
      },
      "text/plain": [
       "Sanity Checking: 0it [00:00, ?it/s]"
      ]
     },
     "metadata": {},
     "output_type": "display_data"
    },
    {
     "name": "stderr",
     "output_type": "stream",
     "text": [
      "D:\\Anaconda\\envs\\torchGNN\\lib\\site-packages\\pytorch_lightning\\trainer\\connectors\\data_connector.py:430: PossibleUserWarning: The dataloader, val_dataloader, does not have many workers which may be a bottleneck. Consider increasing the value of the `num_workers` argument` (try 12 which is the number of cpus on this machine) in the `DataLoader` init to improve performance.\n",
      "  rank_zero_warn(\n",
      "D:\\Anaconda\\envs\\torchGNN\\lib\\site-packages\\pytorch_lightning\\trainer\\connectors\\data_connector.py:430: PossibleUserWarning: The dataloader, train_dataloader, does not have many workers which may be a bottleneck. Consider increasing the value of the `num_workers` argument` (try 12 which is the number of cpus on this machine) in the `DataLoader` init to improve performance.\n",
      "  rank_zero_warn(\n"
     ]
    },
    {
     "data": {
      "application/vnd.jupyter.widget-view+json": {
       "model_id": "c1d28ae64f7d429884d65eee3afedd86",
       "version_major": 2,
       "version_minor": 0
      },
      "text/plain": [
       "Training: 0it [00:00, ?it/s]"
      ]
     },
     "metadata": {},
     "output_type": "display_data"
    },
    {
     "data": {
      "application/vnd.jupyter.widget-view+json": {
       "model_id": "",
       "version_major": 2,
       "version_minor": 0
      },
      "text/plain": [
       "Validation: 0it [00:00, ?it/s]"
      ]
     },
     "metadata": {},
     "output_type": "display_data"
    },
    {
     "data": {
      "application/vnd.jupyter.widget-view+json": {
       "model_id": "",
       "version_major": 2,
       "version_minor": 0
      },
      "text/plain": [
       "Validation: 0it [00:00, ?it/s]"
      ]
     },
     "metadata": {},
     "output_type": "display_data"
    },
    {
     "data": {
      "application/vnd.jupyter.widget-view+json": {
       "model_id": "",
       "version_major": 2,
       "version_minor": 0
      },
      "text/plain": [
       "Validation: 0it [00:00, ?it/s]"
      ]
     },
     "metadata": {},
     "output_type": "display_data"
    },
    {
     "data": {
      "application/vnd.jupyter.widget-view+json": {
       "model_id": "",
       "version_major": 2,
       "version_minor": 0
      },
      "text/plain": [
       "Validation: 0it [00:00, ?it/s]"
      ]
     },
     "metadata": {},
     "output_type": "display_data"
    },
    {
     "data": {
      "application/vnd.jupyter.widget-view+json": {
       "model_id": "",
       "version_major": 2,
       "version_minor": 0
      },
      "text/plain": [
       "Validation: 0it [00:00, ?it/s]"
      ]
     },
     "metadata": {},
     "output_type": "display_data"
    },
    {
     "data": {
      "application/vnd.jupyter.widget-view+json": {
       "model_id": "",
       "version_major": 2,
       "version_minor": 0
      },
      "text/plain": [
       "Validation: 0it [00:00, ?it/s]"
      ]
     },
     "metadata": {},
     "output_type": "display_data"
    },
    {
     "data": {
      "application/vnd.jupyter.widget-view+json": {
       "model_id": "",
       "version_major": 2,
       "version_minor": 0
      },
      "text/plain": [
       "Validation: 0it [00:00, ?it/s]"
      ]
     },
     "metadata": {},
     "output_type": "display_data"
    },
    {
     "data": {
      "application/vnd.jupyter.widget-view+json": {
       "model_id": "",
       "version_major": 2,
       "version_minor": 0
      },
      "text/plain": [
       "Validation: 0it [00:00, ?it/s]"
      ]
     },
     "metadata": {},
     "output_type": "display_data"
    },
    {
     "data": {
      "application/vnd.jupyter.widget-view+json": {
       "model_id": "",
       "version_major": 2,
       "version_minor": 0
      },
      "text/plain": [
       "Validation: 0it [00:00, ?it/s]"
      ]
     },
     "metadata": {},
     "output_type": "display_data"
    },
    {
     "data": {
      "application/vnd.jupyter.widget-view+json": {
       "model_id": "",
       "version_major": 2,
       "version_minor": 0
      },
      "text/plain": [
       "Validation: 0it [00:00, ?it/s]"
      ]
     },
     "metadata": {},
     "output_type": "display_data"
    },
    {
     "data": {
      "application/vnd.jupyter.widget-view+json": {
       "model_id": "",
       "version_major": 2,
       "version_minor": 0
      },
      "text/plain": [
       "Validation: 0it [00:00, ?it/s]"
      ]
     },
     "metadata": {},
     "output_type": "display_data"
    },
    {
     "data": {
      "application/vnd.jupyter.widget-view+json": {
       "model_id": "",
       "version_major": 2,
       "version_minor": 0
      },
      "text/plain": [
       "Validation: 0it [00:00, ?it/s]"
      ]
     },
     "metadata": {},
     "output_type": "display_data"
    },
    {
     "data": {
      "application/vnd.jupyter.widget-view+json": {
       "model_id": "",
       "version_major": 2,
       "version_minor": 0
      },
      "text/plain": [
       "Validation: 0it [00:00, ?it/s]"
      ]
     },
     "metadata": {},
     "output_type": "display_data"
    },
    {
     "data": {
      "application/vnd.jupyter.widget-view+json": {
       "model_id": "",
       "version_major": 2,
       "version_minor": 0
      },
      "text/plain": [
       "Validation: 0it [00:00, ?it/s]"
      ]
     },
     "metadata": {},
     "output_type": "display_data"
    },
    {
     "data": {
      "application/vnd.jupyter.widget-view+json": {
       "model_id": "",
       "version_major": 2,
       "version_minor": 0
      },
      "text/plain": [
       "Validation: 0it [00:00, ?it/s]"
      ]
     },
     "metadata": {},
     "output_type": "display_data"
    },
    {
     "data": {
      "application/vnd.jupyter.widget-view+json": {
       "model_id": "",
       "version_major": 2,
       "version_minor": 0
      },
      "text/plain": [
       "Validation: 0it [00:00, ?it/s]"
      ]
     },
     "metadata": {},
     "output_type": "display_data"
    },
    {
     "data": {
      "application/vnd.jupyter.widget-view+json": {
       "model_id": "",
       "version_major": 2,
       "version_minor": 0
      },
      "text/plain": [
       "Validation: 0it [00:00, ?it/s]"
      ]
     },
     "metadata": {},
     "output_type": "display_data"
    },
    {
     "name": "stderr",
     "output_type": "stream",
     "text": [
      "LOCAL_RANK: 0 - CUDA_VISIBLE_DEVICES: [0]\n",
      "D:\\Anaconda\\envs\\torchGNN\\lib\\site-packages\\pytorch_lightning\\trainer\\connectors\\data_connector.py:430: PossibleUserWarning: The dataloader, test_dataloader, does not have many workers which may be a bottleneck. Consider increasing the value of the `num_workers` argument` (try 12 which is the number of cpus on this machine) in the `DataLoader` init to improve performance.\n",
      "  rank_zero_warn(\n"
     ]
    },
    {
     "data": {
      "application/vnd.jupyter.widget-view+json": {
       "model_id": "16b3093c96e4412298ba83d68ad459b9",
       "version_major": 2,
       "version_minor": 0
      },
      "text/plain": [
       "Testing: 0it [00:00, ?it/s]"
      ]
     },
     "metadata": {},
     "output_type": "display_data"
    },
    {
     "data": {
      "text/html": [
       "<pre style=\"white-space:pre;overflow-x:auto;line-height:normal;font-family:Menlo,'DejaVu Sans Mono',consolas,'Courier New',monospace\">┏━━━━━━━━━━━━━━━━━━━━━━━━━━━┳━━━━━━━━━━━━━━━━━━━━━━━━━━━┓\n",
       "┃<span style=\"font-weight: bold\">        Test metric        </span>┃<span style=\"font-weight: bold\">       DataLoader 0        </span>┃\n",
       "┡━━━━━━━━━━━━━━━━━━━━━━━━━━━╇━━━━━━━━━━━━━━━━━━━━━━━━━━━┩\n",
       "│<span style=\"color: #008080; text-decoration-color: #008080\">         test_acc          </span>│<span style=\"color: #800080; text-decoration-color: #800080\">    0.9703965271164857     </span>│\n",
       "│<span style=\"color: #008080; text-decoration-color: #008080\">         test_loss         </span>│<span style=\"color: #800080; text-decoration-color: #800080\">    1.3938701152801514     </span>│\n",
       "└───────────────────────────┴───────────────────────────┘\n",
       "</pre>\n"
      ],
      "text/plain": [
       "┏━━━━━━━━━━━━━━━━━━━━━━━━━━━┳━━━━━━━━━━━━━━━━━━━━━━━━━━━┓\n",
       "┃\u001b[1m \u001b[0m\u001b[1m       Test metric       \u001b[0m\u001b[1m \u001b[0m┃\u001b[1m \u001b[0m\u001b[1m      DataLoader 0       \u001b[0m\u001b[1m \u001b[0m┃\n",
       "┡━━━━━━━━━━━━━━━━━━━━━━━━━━━╇━━━━━━━━━━━━━━━━━━━━━━━━━━━┩\n",
       "│\u001b[36m \u001b[0m\u001b[36m        test_acc         \u001b[0m\u001b[36m \u001b[0m│\u001b[35m \u001b[0m\u001b[35m   0.9703965271164857    \u001b[0m\u001b[35m \u001b[0m│\n",
       "│\u001b[36m \u001b[0m\u001b[36m        test_loss        \u001b[0m\u001b[36m \u001b[0m│\u001b[35m \u001b[0m\u001b[35m   1.3938701152801514    \u001b[0m\u001b[35m \u001b[0m│\n",
       "└───────────────────────────┴───────────────────────────┘\n"
      ]
     },
     "metadata": {},
     "output_type": "display_data"
    },
    {
     "data": {
      "text/plain": [
       "[{'test_loss': 1.3938701152801514, 'test_acc': 0.9703965271164857}]"
      ]
     },
     "execution_count": 5,
     "metadata": {},
     "output_type": "execute_result"
    }
   ],
   "source": [
    "from utils.model.RS_GCN import GCN\n",
    "\n",
    "dataset = AGDataset\n",
    "\n",
    "early_stop_callback = EarlyStopping(\n",
    "    monitor='val_loss',\n",
    "    min_delta=0.00,\n",
    "    patience=10,\n",
    "    verbose=False,\n",
    "    mode='min'\n",
    ")\n",
    "hparams = {\"DROUPOUT_RATE\": 0,  \n",
    "           \"BATCH_SIZE\": 64, \n",
    "           \"LEARNING_RATE\": 0.001,\n",
    "           \"NUM_NEIGHBORS\": [10, 10]\n",
    "           }  # The number of neighbors in each order of sampling\n",
    "\n",
    "tb_logger = pl_loggers.TensorBoardLogger(tb_logging_dir, name=exp_name)\n",
    " \n",
    "trainer = pl.Trainer(max_epochs=100,\n",
    "                     callbacks=[early_stop_callback],\n",
    "                     logger=tb_logger,\n",
    "                     log_every_n_steps=1,\n",
    "                     # accelerator=\"cpu\"\n",
    "                    # num_sanity_val_steps = 0\n",
    "                     )\n",
    "\n",
    "version_dir = os.path.join(\n",
    "    exp_dir, \"version_\"+str(trainer.logger.version))\n",
    "writer_acc = SummaryWriter(log_dir=version_dir)\n",
    "writer_loss = SummaryWriter(log_dir=version_dir)\n",
    "\n",
    "checkpoint_dir = os.path.join(version_dir, \"checkpoints\")\n",
    "print(\"Saving checkpoints to\", checkpoint_dir)\n",
    "\n",
    "GCNmodel = GCN(dataset=dataset, input_dim=dataset.num_features, hparams=hparams,\n",
    "                      writer_acc=writer_acc, writer_loss=writer_loss).to(device)\n",
    "GCNmodel.data_processing()\n",
    "\n",
    "trainer.fit(GCNmodel)\n",
    "trainer.test(GCNmodel)"
   ]
  },
  {
   "cell_type": "markdown",
   "id": "a4e4a00d-c101-48ad-889c-8181519488b2",
   "metadata": {},
   "source": [
    "#### Upload trained model"
   ]
  },
  {
   "cell_type": "code",
   "execution_count": 5,
   "id": "60d0639f",
   "metadata": {},
   "outputs": [
    {
     "name": "stdout",
     "output_type": "stream",
     "text": [
      "Data Processing Done on: cpu\n"
     ]
    }
   ],
   "source": [
    "from utils.model.RS_GCN import GCN\n",
    "hparams = {\"DROUPOUT_RATE\": 0,  \n",
    "           \"BATCH_SIZE\": 64, \n",
    "           \"LEARNING_RATE\": 0.001,\n",
    "           \"NUM_NEIGHBORS\": [10, 10]\n",
    "           } \n",
    "checkpoint_dir = \"lightning_logs\\\\RS_AG_GCN\\\\best\\\\checkpoints\"\n",
    "checkpoint_file = os.path.join(checkpoint_dir, os.listdir(checkpoint_dir)[0])\n",
    "Loaded_model = GCN.load_from_checkpoint(checkpoint_file, dataset=dataset, input_dim=dataset.num_features, hparams=hparams, log_dir=\"lightning_logs\")\n",
    "Loaded_model.data_processing()"
   ]
  },
  {
   "cell_type": "code",
   "execution_count": 6,
   "id": "6a349b03-9324-4aeb-8377-c9768fb0f0d6",
   "metadata": {},
   "outputs": [],
   "source": [
    "# Loaded_model = GCNmodel"
   ]
  },
  {
   "cell_type": "markdown",
   "id": "f28b709b-a5eb-4ac0-98de-1d4093db3267",
   "metadata": {},
   "source": [
    "#### To see the mini-batch's number of negative edges:"
   ]
  },
  {
   "cell_type": "code",
   "execution_count": 7,
   "id": "7d998bf9-3b62-4e04-af52-1492628ae4d0",
   "metadata": {},
   "outputs": [
    {
     "data": {
      "text/plain": [
       "Data(x=[4226, 768], edge_index=[2, 6690], edge_label=[6690], train_mask=[4226], n_id=[4226], e_id=[6690], input_id=[64], batch_size=64)"
      ]
     },
     "execution_count": 7,
     "metadata": {},
     "output_type": "execute_result"
    }
   ],
   "source": [
    "tmpLoader = Loaded_model.train_dataloader()\n",
    "sample = next(iter(tmpLoader))\n",
    "sample"
   ]
  },
  {
   "cell_type": "markdown",
   "id": "f923690e-2b70-4f5b-878d-632fa4882d3b",
   "metadata": {},
   "source": [
    "#### To see the number of training positive edges:"
   ]
  },
  {
   "cell_type": "code",
   "execution_count": 8,
   "id": "d79cc2c6-55c0-470d-acf2-b92ee5d5e869",
   "metadata": {},
   "outputs": [
    {
     "data": {
      "text/plain": [
       "Data(x=[6614, 768], edge_index=[2, 7397], edge_label=[7397], train_mask=[6614])"
      ]
     },
     "execution_count": 8,
     "metadata": {},
     "output_type": "execute_result"
    }
   ],
   "source": [
    "Loaded_model.pos_data[\"train\"]"
   ]
  },
  {
   "cell_type": "markdown",
   "id": "1b0ba76f-9f6e-4111-85dd-d0723e678252",
   "metadata": {},
   "source": [
    "#### Recommendation for a given node"
   ]
  },
  {
   "cell_type": "code",
   "execution_count": 10,
   "id": "cb44d638",
   "metadata": {},
   "outputs": [
    {
     "name": "stdout",
     "output_type": "stream",
     "text": [
      "Recommendation for node 1370 with title Non-linear matrix completion\n",
      "2167 0.999921441078186 On the Equivalence of Nonnegative Matrix Factorization and Spectral Clustering\n",
      "761 0.9999121427536011 Efficient and Robust Feature Selection via Joint ℓ2, 1-Norms Minimization\n",
      "2994 0.9998934268951416 A min-max cut algorithm for graph partitioning and data clustering\n",
      "2740 0.9998052716255188 Large-Scale Subspace Clustering via k-Factorization\n",
      "1145 0.999622106552124 Functional principal components analysis via penalized rank one approximation\n",
      "6157 0.9995869994163513 Orthogonal nonnegative matrix t-factorizations for clustering\n",
      "3142 0.9995637536048889 Modular Community Detection in Networks\n",
      "119 0.9995593428611755 R1-PCA: rotational invariant L1-norm principal component analysis for robust subspace factorization\n",
      "3587 0.999541163444519 A simple statistical model for depicting the cdc-15 synchronized yeast cell cycle-regulated gene expression data\n",
      "1067 0.9994924068450928 Revealing network communities with a nonlinear programming method\n"
     ]
    }
   ],
   "source": [
    "import torch.nn.functional as F\n",
    "def recommendation_by_transductive_model(A, model):\n",
    "    ## Return recommedation for A in the given graph\n",
    "    neg_graph = model.neg_data[\"all\"]\n",
    "    candidate = torch.zeros(neg_graph.num_edges)\n",
    "\n",
    "    candidate = neg_graph.edge_index[1, (neg_graph.edge_index[0] == A)].cpu()\n",
    "    candidate.sort()\n",
    "    num_candidates = len(candidate) \n",
    "    u = torch.ones(num_candidates, dtype=torch.int) * A\n",
    "    v = torch.Tensor(candidate)\n",
    "    candidate_link = torch.stack((u, v))\n",
    "\n",
    "    embedding = model.forward(model.pos_data[\"train\"].x.cpu(), model.pos_data[\"train\"].edge_index.cpu())\n",
    "\n",
    "    scores = np.zeros(candidate.max()+1) - 1e8\n",
    "    \n",
    "    scores[v] = F.sigmoid((embedding[u] * embedding[v]).sum(dim=1)).detach().numpy()\n",
    "\n",
    "    rank_idx = np.argsort(scores)[::-1]\n",
    "    \n",
    "    pos_graph = model.pos_data[\"all\"]\n",
    "    print(\"Recommendation for node\", A, \"with title\", pos_graph.title[A])\n",
    "    for k in range(10):\n",
    "        print(rank_idx[k], scores[rank_idx[k]], pos_graph.title[rank_idx[k]])\n",
    "        \n",
    "recommendation_by_transductive_model(1370, Loaded_model)"
   ]
  },
  {
   "cell_type": "code",
   "execution_count": 11,
   "id": "6ea09b41-f1b8-407f-bd6b-0325be983f6d",
   "metadata": {},
   "outputs": [
    {
     "name": "stdout",
     "output_type": "stream",
     "text": [
      "Recommendation for node 1676 with title A Semismooth Newton Stochastic Proximal Point Algorithm with Variance Reduction\n",
      "6356 0.9995259046554565 On the convergence of the coordinate descent method for convex differentiable minimization\n",
      "6603 0.9988107681274414 Error Bound and Convergence Analysis of Matrix Splitting Algorithms for the Affine Variational Inequality Problem\n",
      "267 0.9986629486083984 On the linear convergence of descent methods for convex essentially smooth minimization\n",
      "3640 0.9976385831832886 On the linear convergence of the alternating direction method of multipliers\n",
      "6029 0.9964507818222046 Minimization of agreeably weighted variance in single machine systems\n",
      "1389 0.9964467883110046 Error bounds and convergence analysis of feasible descent methods: a general approach\n",
      "6219 0.9963799118995667 A Unified Convergence Analysis of Block Successive Minimization Methods for Nonsmooth Optimization\n",
      "125 0.995690643787384 Error bounds for analytic systems and their applications\n",
      "814 0.9949754476547241 Complexity Analysis of an Interior Cutting Plane Method for Convex Feasibility Problems\n",
      "5541 0.994892954826355 A Proximal Alternating Direction Method of Multiplier for Linearly Constrained Nonconvex Minimization\n"
     ]
    }
   ],
   "source": [
    "recommendation_by_transductive_model(1676, Loaded_model)"
   ]
  },
  {
   "cell_type": "code",
   "execution_count": null,
   "id": "6936db71-c505-4c61-bd8c-6e301523e4d9",
   "metadata": {},
   "outputs": [],
   "source": []
  }
 ],
 "metadata": {
  "kernelspec": {
   "display_name": "Python 3 (ipykernel)",
   "language": "python",
   "name": "python3"
  },
  "language_info": {
   "codemirror_mode": {
    "name": "ipython",
    "version": 3
   },
   "file_extension": ".py",
   "mimetype": "text/x-python",
   "name": "python",
   "nbconvert_exporter": "python",
   "pygments_lexer": "ipython3",
   "version": "3.10.9"
  },
  "widgets": {
   "application/vnd.jupyter.widget-state+json": {
    "state": {
     "02dff50d3e0c414aa4934e759854e903": {
      "model_module": "@jupyter-widgets/controls",
      "model_module_version": "2.0.0",
      "model_name": "HTMLModel",
      "state": {
       "layout": "IPY_MODEL_c898c3104e3d43b296456e81b199218c",
       "style": "IPY_MODEL_a395411b8906412188fd86e048f92c7d",
       "value": "Validation DataLoader 0: 100%"
      }
     },
     "058f9cb05ec045558bd1bc032e127748": {
      "model_module": "@jupyter-widgets/controls",
      "model_module_version": "2.0.0",
      "model_name": "HTMLStyleModel",
      "state": {
       "description_width": "",
       "font_size": null,
       "text_color": null
      }
     },
     "075114fc81634320a928bd7e36b57016": {
      "model_module": "@jupyter-widgets/controls",
      "model_module_version": "2.0.0",
      "model_name": "ProgressStyleModel",
      "state": {
       "description_width": ""
      }
     },
     "07f20ecc8283440ba65bc8fc0b06bf9d": {
      "model_module": "@jupyter-widgets/controls",
      "model_module_version": "2.0.0",
      "model_name": "HTMLStyleModel",
      "state": {
       "description_width": "",
       "font_size": null,
       "text_color": null
      }
     },
     "08f24fcea33d4243be9b24189ba093e4": {
      "model_module": "@jupyter-widgets/base",
      "model_module_version": "2.0.0",
      "model_name": "LayoutModel",
      "state": {
       "display": "inline-flex",
       "flex_flow": "row wrap",
       "visibility": "hidden",
       "width": "100%"
      }
     },
     "091eb312fea94162b0678315e42c2fa3": {
      "model_module": "@jupyter-widgets/base",
      "model_module_version": "2.0.0",
      "model_name": "LayoutModel",
      "state": {}
     },
     "09902cc3501b484ea7a20d32719f7d4a": {
      "model_module": "@jupyter-widgets/controls",
      "model_module_version": "2.0.0",
      "model_name": "HTMLStyleModel",
      "state": {
       "description_width": "",
       "font_size": null,
       "text_color": null
      }
     },
     "0a03bfe72bd4417a8327384afb45f6eb": {
      "model_module": "@jupyter-widgets/base",
      "model_module_version": "2.0.0",
      "model_name": "LayoutModel",
      "state": {
       "display": "inline-flex",
       "flex_flow": "row wrap",
       "width": "100%"
      }
     },
     "0bfbc00d6d7148428142b7821f07edf0": {
      "model_module": "@jupyter-widgets/controls",
      "model_module_version": "2.0.0",
      "model_name": "HTMLModel",
      "state": {
       "layout": "IPY_MODEL_d29a5ed4299344d1b94f40964144328d",
       "style": "IPY_MODEL_f5f3e02973c24e9e84cf6876cda1743f",
       "value": " 62/62 [00:02&lt;00:00, 29.76it/s]"
      }
     },
     "0fac2ab311ce4159b335ddba92b39f72": {
      "model_module": "@jupyter-widgets/base",
      "model_module_version": "2.0.0",
      "model_name": "LayoutModel",
      "state": {
       "flex": "2"
      }
     },
     "10b2c59d15174b46801c55fbd1b24d74": {
      "model_module": "@jupyter-widgets/controls",
      "model_module_version": "2.0.0",
      "model_name": "FloatProgressModel",
      "state": {
       "layout": "IPY_MODEL_37a3e12a352d4378b1cdd2b391d25537",
       "max": 62,
       "style": "IPY_MODEL_a4bab071776f469391e9edc2e8d1c041",
       "value": 62
      }
     },
     "10e7f687cbcb40089d7c9fe98c09ad72": {
      "model_module": "@jupyter-widgets/controls",
      "model_module_version": "2.0.0",
      "model_name": "FloatProgressModel",
      "state": {
       "layout": "IPY_MODEL_75855e2cd5744038ad3be0466417eba9",
       "max": 62,
       "style": "IPY_MODEL_b3a7577f9c0d444084a5edaa2bcddf27",
       "value": 62
      }
     },
     "1240dee8548049ef8b1237e8fa2eb5c6": {
      "model_module": "@jupyter-widgets/base",
      "model_module_version": "2.0.0",
      "model_name": "LayoutModel",
      "state": {
       "display": "inline-flex",
       "flex_flow": "row wrap",
       "visibility": "hidden",
       "width": "100%"
      }
     },
     "15024e1390834392b7b4fc9fbf0270c3": {
      "model_module": "@jupyter-widgets/controls",
      "model_module_version": "2.0.0",
      "model_name": "HTMLStyleModel",
      "state": {
       "description_width": "",
       "font_size": null,
       "text_color": null
      }
     },
     "16721ce290de4a54982f946ac7d613b0": {
      "model_module": "@jupyter-widgets/base",
      "model_module_version": "2.0.0",
      "model_name": "LayoutModel",
      "state": {
       "display": "inline-flex",
       "flex_flow": "row wrap",
       "visibility": "hidden",
       "width": "100%"
      }
     },
     "16b3093c96e4412298ba83d68ad459b9": {
      "model_module": "@jupyter-widgets/controls",
      "model_module_version": "2.0.0",
      "model_name": "HBoxModel",
      "state": {
       "children": [
        "IPY_MODEL_332383160b6b44e698fa7e0ee199afaf",
        "IPY_MODEL_c0cfcdd4ac2641f9a308353cbce3191c",
        "IPY_MODEL_fead9375c0db4b66b6ad46b20c85cb3d"
       ],
       "layout": "IPY_MODEL_0a03bfe72bd4417a8327384afb45f6eb"
      }
     },
     "17ab7da68d7c4d918e6ebb94d6ba4971": {
      "model_module": "@jupyter-widgets/controls",
      "model_module_version": "2.0.0",
      "model_name": "HTMLModel",
      "state": {
       "layout": "IPY_MODEL_c7c704e755e943d9bdb4b1bdb3517809",
       "style": "IPY_MODEL_797e03d3d0364a6e9526c47996adec92",
       "value": " 62/62 [00:01&lt;00:00, 32.53it/s]"
      }
     },
     "17b8c4f5f9a24297a40cbb7cb55c6807": {
      "model_module": "@jupyter-widgets/base",
      "model_module_version": "2.0.0",
      "model_name": "LayoutModel",
      "state": {}
     },
     "185797d4d7184d438fc315e9f4ffc4bb": {
      "model_module": "@jupyter-widgets/controls",
      "model_module_version": "2.0.0",
      "model_name": "HTMLStyleModel",
      "state": {
       "description_width": "",
       "font_size": null,
       "text_color": null
      }
     },
     "19b4b069b92041d9b50db877a2769a24": {
      "model_module": "@jupyter-widgets/controls",
      "model_module_version": "2.0.0",
      "model_name": "HTMLStyleModel",
      "state": {
       "description_width": "",
       "font_size": null,
       "text_color": null
      }
     },
     "1a488f4083c54ff1b8f2df8a2f350393": {
      "model_module": "@jupyter-widgets/base",
      "model_module_version": "2.0.0",
      "model_name": "LayoutModel",
      "state": {
       "display": "inline-flex",
       "flex_flow": "row wrap",
       "visibility": "hidden",
       "width": "100%"
      }
     },
     "1aa5cf059bd640b2b902a139c688eb52": {
      "model_module": "@jupyter-widgets/controls",
      "model_module_version": "2.0.0",
      "model_name": "HTMLModel",
      "state": {
       "layout": "IPY_MODEL_ed399d3bcc634b61a883a6afc192188d",
       "style": "IPY_MODEL_2a68154a35414d2583fa3759ec9ddcf0",
       "value": " 62/62 [00:01&lt;00:00, 31.53it/s]"
      }
     },
     "1b98137840574dcd81319983ac4cf0da": {
      "model_module": "@jupyter-widgets/controls",
      "model_module_version": "2.0.0",
      "model_name": "HTMLModel",
      "state": {
       "layout": "IPY_MODEL_17b8c4f5f9a24297a40cbb7cb55c6807",
       "style": "IPY_MODEL_b70c37a93eb64a66b1d859b59f6e6156",
       "value": "Validation DataLoader 0: 100%"
      }
     },
     "1c3818edbbc84bb2a88a4cbab173bdae": {
      "model_module": "@jupyter-widgets/base",
      "model_module_version": "2.0.0",
      "model_name": "LayoutModel",
      "state": {
       "display": "inline-flex",
       "flex_flow": "row wrap",
       "visibility": "hidden",
       "width": "100%"
      }
     },
     "1cf3a5a16ebe4d54aa1450bfeb4835ac": {
      "model_module": "@jupyter-widgets/base",
      "model_module_version": "2.0.0",
      "model_name": "LayoutModel",
      "state": {}
     },
     "1d1650c94d3d474197eb59bbf2515283": {
      "model_module": "@jupyter-widgets/controls",
      "model_module_version": "2.0.0",
      "model_name": "HTMLStyleModel",
      "state": {
       "description_width": "",
       "font_size": null,
       "text_color": null
      }
     },
     "1e113a2db2ce4259acf803b8a8647ee7": {
      "model_module": "@jupyter-widgets/controls",
      "model_module_version": "2.0.0",
      "model_name": "HTMLModel",
      "state": {
       "layout": "IPY_MODEL_8dfbfdf1a6c840c8ad79681c649b3891",
       "style": "IPY_MODEL_6fd78556e41645d18d29cde14097c983",
       "value": " 2/2 [00:00&lt;00:00,  2.34it/s]"
      }
     },
     "209afa524f2e49498342d0b4118c1fa6": {
      "model_module": "@jupyter-widgets/base",
      "model_module_version": "2.0.0",
      "model_name": "LayoutModel",
      "state": {
       "display": "inline-flex",
       "flex_flow": "row wrap",
       "visibility": "hidden",
       "width": "100%"
      }
     },
     "21d6af46474a46df816a6fb8be825e37": {
      "model_module": "@jupyter-widgets/controls",
      "model_module_version": "2.0.0",
      "model_name": "HTMLModel",
      "state": {
       "layout": "IPY_MODEL_c3ae6d39b5544888b0723b0936d308e6",
       "style": "IPY_MODEL_09902cc3501b484ea7a20d32719f7d4a",
       "value": "Validation DataLoader 0: 100%"
      }
     },
     "2232e986a4434778acaea550be64aaf9": {
      "model_module": "@jupyter-widgets/base",
      "model_module_version": "2.0.0",
      "model_name": "LayoutModel",
      "state": {
       "flex": "2"
      }
     },
     "24b7a191f9fb48ea94e6a2c21d8b556d": {
      "model_module": "@jupyter-widgets/controls",
      "model_module_version": "2.0.0",
      "model_name": "HTMLStyleModel",
      "state": {
       "description_width": "",
       "font_size": null,
       "text_color": null
      }
     },
     "25a0da37607e4ff7a740f8ab01009f26": {
      "model_module": "@jupyter-widgets/controls",
      "model_module_version": "2.0.0",
      "model_name": "FloatProgressModel",
      "state": {
       "layout": "IPY_MODEL_2c7a3f53b1a54ad1b1de7f8c32c83a2e",
       "max": 2,
       "style": "IPY_MODEL_62112165ecbf450c832ea8cc59a8feeb",
       "value": 2
      }
     },
     "26ba83241a844d829630680e70d0d504": {
      "model_module": "@jupyter-widgets/controls",
      "model_module_version": "2.0.0",
      "model_name": "HTMLStyleModel",
      "state": {
       "description_width": "",
       "font_size": null,
       "text_color": null
      }
     },
     "294c8eb9ed834d899e43d7ca96ac24eb": {
      "model_module": "@jupyter-widgets/controls",
      "model_module_version": "2.0.0",
      "model_name": "ProgressStyleModel",
      "state": {
       "description_width": ""
      }
     },
     "29a415d0712e40ae87e2c95b86507a70": {
      "model_module": "@jupyter-widgets/controls",
      "model_module_version": "2.0.0",
      "model_name": "HTMLModel",
      "state": {
       "layout": "IPY_MODEL_9a00461670994f20a390b1ec7f979e94",
       "style": "IPY_MODEL_07f20ecc8283440ba65bc8fc0b06bf9d",
       "value": "Validation DataLoader 0: 100%"
      }
     },
     "2a68154a35414d2583fa3759ec9ddcf0": {
      "model_module": "@jupyter-widgets/controls",
      "model_module_version": "2.0.0",
      "model_name": "HTMLStyleModel",
      "state": {
       "description_width": "",
       "font_size": null,
       "text_color": null
      }
     },
     "2c049e6943da4153bc5470cb0dd3254b": {
      "model_module": "@jupyter-widgets/controls",
      "model_module_version": "2.0.0",
      "model_name": "HTMLStyleModel",
      "state": {
       "description_width": "",
       "font_size": null,
       "text_color": null
      }
     },
     "2c7a3f53b1a54ad1b1de7f8c32c83a2e": {
      "model_module": "@jupyter-widgets/base",
      "model_module_version": "2.0.0",
      "model_name": "LayoutModel",
      "state": {
       "flex": "2"
      }
     },
     "2e43ec80f01a4907bdb9170aa5884e51": {
      "model_module": "@jupyter-widgets/controls",
      "model_module_version": "2.0.0",
      "model_name": "HTMLModel",
      "state": {
       "layout": "IPY_MODEL_4be54a14fd8e4f9c8e87d820beeb571f",
       "style": "IPY_MODEL_699ac4161eec4482a802371c95e63b9d",
       "value": "Validation DataLoader 0: 100%"
      }
     },
     "303e1715dbef47bfa04a285a2da5ac11": {
      "model_module": "@jupyter-widgets/base",
      "model_module_version": "2.0.0",
      "model_name": "LayoutModel",
      "state": {
       "display": "inline-flex",
       "flex_flow": "row wrap",
       "visibility": "hidden",
       "width": "100%"
      }
     },
     "3173f63cb8c84b7b90a918446383c4ff": {
      "model_module": "@jupyter-widgets/controls",
      "model_module_version": "2.0.0",
      "model_name": "HTMLModel",
      "state": {
       "layout": "IPY_MODEL_9d53acd4ae70407898aad1c5c9e53293",
       "style": "IPY_MODEL_ed80a21734d64f58999acbe8abe45b26",
       "value": " 62/62 [00:01&lt;00:00, 32.16it/s]"
      }
     },
     "3224aeac288742a9857b98248a282864": {
      "model_module": "@jupyter-widgets/controls",
      "model_module_version": "2.0.0",
      "model_name": "HTMLModel",
      "state": {
       "layout": "IPY_MODEL_5f03e56a2afe44a9a8f24ce2ee6f8dd9",
       "style": "IPY_MODEL_c84ac60e85c247bb83b1e21088eebc89",
       "value": "Validation DataLoader 0: 100%"
      }
     },
     "332383160b6b44e698fa7e0ee199afaf": {
      "model_module": "@jupyter-widgets/controls",
      "model_module_version": "2.0.0",
      "model_name": "HTMLModel",
      "state": {
       "layout": "IPY_MODEL_95f494f8e7194734a24550799e863f33",
       "style": "IPY_MODEL_15024e1390834392b7b4fc9fbf0270c3",
       "value": "Testing DataLoader 0: 100%"
      }
     },
     "3354e17be2aa41729fdd4879dc81e6d8": {
      "model_module": "@jupyter-widgets/base",
      "model_module_version": "2.0.0",
      "model_name": "LayoutModel",
      "state": {
       "display": "inline-flex",
       "flex_flow": "row wrap",
       "width": "100%"
      }
     },
     "3449f9ed658a458cab528d554a73257d": {
      "model_module": "@jupyter-widgets/controls",
      "model_module_version": "2.0.0",
      "model_name": "ProgressStyleModel",
      "state": {
       "description_width": ""
      }
     },
     "34773944bf094df3bcb1ed51fe69e2c0": {
      "model_module": "@jupyter-widgets/base",
      "model_module_version": "2.0.0",
      "model_name": "LayoutModel",
      "state": {}
     },
     "34f0b13b74b34faba7587f15e15effc2": {
      "model_module": "@jupyter-widgets/controls",
      "model_module_version": "2.0.0",
      "model_name": "FloatProgressModel",
      "state": {
       "layout": "IPY_MODEL_4849b3073b3e431ab2a4be684eac7519",
       "max": 62,
       "style": "IPY_MODEL_3449f9ed658a458cab528d554a73257d",
       "value": 62
      }
     },
     "352746d80be643a783ac6526c5a859ab": {
      "model_module": "@jupyter-widgets/controls",
      "model_module_version": "2.0.0",
      "model_name": "FloatProgressModel",
      "state": {
       "layout": "IPY_MODEL_dd0ecf80195a4c17b41cdc9104dd45ba",
       "max": 62,
       "style": "IPY_MODEL_7c928580027e4132a34477be6c2c77e1",
       "value": 62
      }
     },
     "35f4727c268840ad9e8c7d8ca6b2888d": {
      "model_module": "@jupyter-widgets/base",
      "model_module_version": "2.0.0",
      "model_name": "LayoutModel",
      "state": {
       "flex": "2"
      }
     },
     "3752988c8157497c872691633c795a9f": {
      "model_module": "@jupyter-widgets/base",
      "model_module_version": "2.0.0",
      "model_name": "LayoutModel",
      "state": {
       "flex": "2"
      }
     },
     "37a3e12a352d4378b1cdd2b391d25537": {
      "model_module": "@jupyter-widgets/base",
      "model_module_version": "2.0.0",
      "model_name": "LayoutModel",
      "state": {
       "flex": "2"
      }
     },
     "3964a4cf885f4be6b4f2bac6c82170df": {
      "model_module": "@jupyter-widgets/base",
      "model_module_version": "2.0.0",
      "model_name": "LayoutModel",
      "state": {
       "display": "inline-flex",
       "flex_flow": "row wrap",
       "visibility": "hidden",
       "width": "100%"
      }
     },
     "39780cbac5f64a0ebf6582e23245d052": {
      "model_module": "@jupyter-widgets/base",
      "model_module_version": "2.0.0",
      "model_name": "LayoutModel",
      "state": {
       "flex": "2"
      }
     },
     "3b68f810d2c74648aea5c69f9e8a0237": {
      "model_module": "@jupyter-widgets/base",
      "model_module_version": "2.0.0",
      "model_name": "LayoutModel",
      "state": {}
     },
     "3f39dc231f624221840d644749417e41": {
      "model_module": "@jupyter-widgets/controls",
      "model_module_version": "2.0.0",
      "model_name": "HTMLModel",
      "state": {
       "layout": "IPY_MODEL_ab3a635376b348e1a5f9e6f9bd16bb25",
       "style": "IPY_MODEL_7495e499a73d4dda9ed0541b5b8f484d",
       "value": "Validation DataLoader 0: 100%"
      }
     },
     "3ffdf69f2f7e402799785c18f0a17511": {
      "model_module": "@jupyter-widgets/controls",
      "model_module_version": "2.0.0",
      "model_name": "FloatProgressModel",
      "state": {
       "layout": "IPY_MODEL_0fac2ab311ce4159b335ddba92b39f72",
       "max": 62,
       "style": "IPY_MODEL_7af7b6df3e2d4daf96df4521413dbdcf",
       "value": 62
      }
     },
     "424b014c56f644308ab1e1d45792a454": {
      "model_module": "@jupyter-widgets/controls",
      "model_module_version": "2.0.0",
      "model_name": "FloatProgressModel",
      "state": {
       "layout": "IPY_MODEL_544eeffcd1bd47eeaf5fd63f3a528b53",
       "max": 62,
       "style": "IPY_MODEL_f842e9a09c8b42aaa0248b2bc600fe2d",
       "value": 62
      }
     },
     "43fae873d074436c9b4eeaf9b64fca3b": {
      "model_module": "@jupyter-widgets/controls",
      "model_module_version": "2.0.0",
      "model_name": "HTMLModel",
      "state": {
       "layout": "IPY_MODEL_c2ff77d532794ee6a4b7d86455871955",
       "style": "IPY_MODEL_c5a74a69d9df4ec7ae57b49966f2df87",
       "value": "Sanity Checking DataLoader 0: 100%"
      }
     },
     "451624a66f584cd59c9e8ea91e8c3753": {
      "model_module": "@jupyter-widgets/controls",
      "model_module_version": "2.0.0",
      "model_name": "HTMLModel",
      "state": {
       "layout": "IPY_MODEL_f98d55516a1e4eff947630e14f7a0a15",
       "style": "IPY_MODEL_c4ad4fc8805045bc858ff337b926fa85",
       "value": "Validation DataLoader 0: 100%"
      }
     },
     "4849b3073b3e431ab2a4be684eac7519": {
      "model_module": "@jupyter-widgets/base",
      "model_module_version": "2.0.0",
      "model_name": "LayoutModel",
      "state": {
       "flex": "2"
      }
     },
     "49fce6fa5add4a119434553faeaa42a2": {
      "model_module": "@jupyter-widgets/controls",
      "model_module_version": "2.0.0",
      "model_name": "ProgressStyleModel",
      "state": {
       "description_width": ""
      }
     },
     "4a4e3d9e0f874b60a9c0608f4f191c58": {
      "model_module": "@jupyter-widgets/controls",
      "model_module_version": "2.0.0",
      "model_name": "HTMLModel",
      "state": {
       "layout": "IPY_MODEL_cc92e05c67d84f4480f9129a743289f2",
       "style": "IPY_MODEL_53f35030a8b1461c890fbca9b8d8e9e9",
       "value": " 62/62 [00:01&lt;00:00, 31.15it/s]"
      }
     },
     "4be54a14fd8e4f9c8e87d820beeb571f": {
      "model_module": "@jupyter-widgets/base",
      "model_module_version": "2.0.0",
      "model_name": "LayoutModel",
      "state": {}
     },
     "4c57ebb7092a43c1ae90f53188a04d17": {
      "model_module": "@jupyter-widgets/controls",
      "model_module_version": "2.0.0",
      "model_name": "ProgressStyleModel",
      "state": {
       "description_width": ""
      }
     },
     "4cc9a6eb60074f02be14cec42477c0fe": {
      "model_module": "@jupyter-widgets/controls",
      "model_module_version": "2.0.0",
      "model_name": "HTMLStyleModel",
      "state": {
       "description_width": "",
       "font_size": null,
       "text_color": null
      }
     },
     "5217469fbfbe47c484696cd832b28b0d": {
      "model_module": "@jupyter-widgets/base",
      "model_module_version": "2.0.0",
      "model_name": "LayoutModel",
      "state": {
       "display": "inline-flex",
       "flex_flow": "row wrap",
       "visibility": "hidden",
       "width": "100%"
      }
     },
     "53f35030a8b1461c890fbca9b8d8e9e9": {
      "model_module": "@jupyter-widgets/controls",
      "model_module_version": "2.0.0",
      "model_name": "HTMLStyleModel",
      "state": {
       "description_width": "",
       "font_size": null,
       "text_color": null
      }
     },
     "54271934a0274d96a582395138d9aa82": {
      "model_module": "@jupyter-widgets/base",
      "model_module_version": "2.0.0",
      "model_name": "LayoutModel",
      "state": {
       "flex": "2"
      }
     },
     "544eeffcd1bd47eeaf5fd63f3a528b53": {
      "model_module": "@jupyter-widgets/base",
      "model_module_version": "2.0.0",
      "model_name": "LayoutModel",
      "state": {
       "flex": "2"
      }
     },
     "58e65d4f8c74409e9c519bad4eb264d2": {
      "model_module": "@jupyter-widgets/controls",
      "model_module_version": "2.0.0",
      "model_name": "HTMLStyleModel",
      "state": {
       "description_width": "",
       "font_size": null,
       "text_color": null
      }
     },
     "5af4f986e379499db96d4df19cb0a08e": {
      "model_module": "@jupyter-widgets/base",
      "model_module_version": "2.0.0",
      "model_name": "LayoutModel",
      "state": {}
     },
     "5db31a3895c24df1b79f19572020cbac": {
      "model_module": "@jupyter-widgets/controls",
      "model_module_version": "2.0.0",
      "model_name": "FloatProgressModel",
      "state": {
       "layout": "IPY_MODEL_3752988c8157497c872691633c795a9f",
       "max": 62,
       "style": "IPY_MODEL_fe7b5aaec70b469aa7e96b34746c032e",
       "value": 62
      }
     },
     "5f03e56a2afe44a9a8f24ce2ee6f8dd9": {
      "model_module": "@jupyter-widgets/base",
      "model_module_version": "2.0.0",
      "model_name": "LayoutModel",
      "state": {}
     },
     "62112165ecbf450c832ea8cc59a8feeb": {
      "model_module": "@jupyter-widgets/controls",
      "model_module_version": "2.0.0",
      "model_name": "ProgressStyleModel",
      "state": {
       "description_width": ""
      }
     },
     "631d8ddf80014e2fbf86ba7aa88a8e8e": {
      "model_module": "@jupyter-widgets/controls",
      "model_module_version": "2.0.0",
      "model_name": "HTMLModel",
      "state": {
       "layout": "IPY_MODEL_c30276d71c3b488cbac2d236281e6a7b",
       "style": "IPY_MODEL_058f9cb05ec045558bd1bc032e127748",
       "value": " 62/62 [00:01&lt;00:00, 37.83it/s]"
      }
     },
     "63a141cb7d27495bace689b07f5987ac": {
      "model_module": "@jupyter-widgets/controls",
      "model_module_version": "2.0.0",
      "model_name": "HTMLModel",
      "state": {
       "layout": "IPY_MODEL_1cf3a5a16ebe4d54aa1450bfeb4835ac",
       "style": "IPY_MODEL_6963211ed0f040169ae3f5f4cafd4049",
       "value": "Epoch 16: 100%"
      }
     },
     "64027d84007c41f1bda7e0667d69a8e0": {
      "model_module": "@jupyter-widgets/base",
      "model_module_version": "2.0.0",
      "model_name": "LayoutModel",
      "state": {
       "display": "inline-flex",
       "flex_flow": "row wrap",
       "visibility": "hidden",
       "width": "100%"
      }
     },
     "64d4b0a0b3f747dd9ae788d1028d0a4a": {
      "model_module": "@jupyter-widgets/controls",
      "model_module_version": "2.0.0",
      "model_name": "HTMLStyleModel",
      "state": {
       "description_width": "",
       "font_size": null,
       "text_color": null
      }
     },
     "6963211ed0f040169ae3f5f4cafd4049": {
      "model_module": "@jupyter-widgets/controls",
      "model_module_version": "2.0.0",
      "model_name": "HTMLStyleModel",
      "state": {
       "description_width": "",
       "font_size": null,
       "text_color": null
      }
     },
     "699ac4161eec4482a802371c95e63b9d": {
      "model_module": "@jupyter-widgets/controls",
      "model_module_version": "2.0.0",
      "model_name": "HTMLStyleModel",
      "state": {
       "description_width": "",
       "font_size": null,
       "text_color": null
      }
     },
     "6d0d020a24bf4d64b38f9f6ced8318b3": {
      "model_module": "@jupyter-widgets/controls",
      "model_module_version": "2.0.0",
      "model_name": "HTMLModel",
      "state": {
       "layout": "IPY_MODEL_3b68f810d2c74648aea5c69f9e8a0237",
       "style": "IPY_MODEL_b16406875d9a48ada2f1f68dbd9cea72",
       "value": " 62/62 [00:01&lt;00:00, 31.81it/s]"
      }
     },
     "6d782dc10b89404f916236fd459a40c8": {
      "model_module": "@jupyter-widgets/base",
      "model_module_version": "2.0.0",
      "model_name": "LayoutModel",
      "state": {}
     },
     "6fd78556e41645d18d29cde14097c983": {
      "model_module": "@jupyter-widgets/controls",
      "model_module_version": "2.0.0",
      "model_name": "HTMLStyleModel",
      "state": {
       "description_width": "",
       "font_size": null,
       "text_color": null
      }
     },
     "71f8c824faf8475eac48588c60ef2531": {
      "model_module": "@jupyter-widgets/controls",
      "model_module_version": "2.0.0",
      "model_name": "FloatProgressModel",
      "state": {
       "layout": "IPY_MODEL_94d7b81b5ffa49bd902a7aa1ad38dda8",
       "max": 62,
       "style": "IPY_MODEL_075114fc81634320a928bd7e36b57016",
       "value": 62
      }
     },
     "746757af3a9444d7a2f90254cfeeac65": {
      "model_module": "@jupyter-widgets/base",
      "model_module_version": "2.0.0",
      "model_name": "LayoutModel",
      "state": {}
     },
     "7495e499a73d4dda9ed0541b5b8f484d": {
      "model_module": "@jupyter-widgets/controls",
      "model_module_version": "2.0.0",
      "model_name": "HTMLStyleModel",
      "state": {
       "description_width": "",
       "font_size": null,
       "text_color": null
      }
     },
     "7531ceaee32d4b3e935862d9ba26b9d5": {
      "model_module": "@jupyter-widgets/controls",
      "model_module_version": "2.0.0",
      "model_name": "HTMLStyleModel",
      "state": {
       "description_width": "",
       "font_size": null,
       "text_color": null
      }
     },
     "75855e2cd5744038ad3be0466417eba9": {
      "model_module": "@jupyter-widgets/base",
      "model_module_version": "2.0.0",
      "model_name": "LayoutModel",
      "state": {
       "flex": "2"
      }
     },
     "77d1116fe73848869bfa100eb249b92d": {
      "model_module": "@jupyter-widgets/base",
      "model_module_version": "2.0.0",
      "model_name": "LayoutModel",
      "state": {}
     },
     "797e03d3d0364a6e9526c47996adec92": {
      "model_module": "@jupyter-widgets/controls",
      "model_module_version": "2.0.0",
      "model_name": "HTMLStyleModel",
      "state": {
       "description_width": "",
       "font_size": null,
       "text_color": null
      }
     },
     "79a34431f3774c2887956f1474022cdd": {
      "model_module": "@jupyter-widgets/controls",
      "model_module_version": "2.0.0",
      "model_name": "HTMLStyleModel",
      "state": {
       "description_width": "",
       "font_size": null,
       "text_color": null
      }
     },
     "7acab30e08644f99acc90807cacefd2b": {
      "model_module": "@jupyter-widgets/controls",
      "model_module_version": "2.0.0",
      "model_name": "HTMLModel",
      "state": {
       "layout": "IPY_MODEL_8c6f73bcd04f450ea2e53ccd41b4522e",
       "style": "IPY_MODEL_dda3545ad23e4c9285ac19982518bb48",
       "value": " 62/62 [00:02&lt;00:00, 30.27it/s]"
      }
     },
     "7af7b6df3e2d4daf96df4521413dbdcf": {
      "model_module": "@jupyter-widgets/controls",
      "model_module_version": "2.0.0",
      "model_name": "ProgressStyleModel",
      "state": {
       "description_width": ""
      }
     },
     "7c928580027e4132a34477be6c2c77e1": {
      "model_module": "@jupyter-widgets/controls",
      "model_module_version": "2.0.0",
      "model_name": "ProgressStyleModel",
      "state": {
       "description_width": ""
      }
     },
     "81445abde0bf4eac82113d3f803cfbcf": {
      "model_module": "@jupyter-widgets/base",
      "model_module_version": "2.0.0",
      "model_name": "LayoutModel",
      "state": {}
     },
     "81f23de48ea94234b9f998e3b8ca83d0": {
      "model_module": "@jupyter-widgets/controls",
      "model_module_version": "2.0.0",
      "model_name": "HTMLStyleModel",
      "state": {
       "description_width": "",
       "font_size": null,
       "text_color": null
      }
     },
     "8544f9b3546746f9960e3467a1526c7e": {
      "model_module": "@jupyter-widgets/controls",
      "model_module_version": "2.0.0",
      "model_name": "HTMLStyleModel",
      "state": {
       "description_width": "",
       "font_size": null,
       "text_color": null
      }
     },
     "892acc567a7c47488116e403e74f0d8e": {
      "model_module": "@jupyter-widgets/controls",
      "model_module_version": "2.0.0",
      "model_name": "ProgressStyleModel",
      "state": {
       "description_width": ""
      }
     },
     "89822848a4644edd8aa14075a5f811aa": {
      "model_module": "@jupyter-widgets/controls",
      "model_module_version": "2.0.0",
      "model_name": "HTMLModel",
      "state": {
       "layout": "IPY_MODEL_b94154e6f19c44a1886458c76a9011c5",
       "style": "IPY_MODEL_dd48d0ea8caf4ceaa0fb45715f8df9f8",
       "value": "Validation DataLoader 0: 100%"
      }
     },
     "8ba252dfb99a4a92822aa2f0787ea47c": {
      "model_module": "@jupyter-widgets/base",
      "model_module_version": "2.0.0",
      "model_name": "LayoutModel",
      "state": {
       "flex": "2"
      }
     },
     "8c6f73bcd04f450ea2e53ccd41b4522e": {
      "model_module": "@jupyter-widgets/base",
      "model_module_version": "2.0.0",
      "model_name": "LayoutModel",
      "state": {}
     },
     "8cb98d94d2694199aa24a407cab6579a": {
      "model_module": "@jupyter-widgets/controls",
      "model_module_version": "2.0.0",
      "model_name": "ProgressStyleModel",
      "state": {
       "description_width": ""
      }
     },
     "8d41aa36143540b2b64340b9bb7f767a": {
      "model_module": "@jupyter-widgets/base",
      "model_module_version": "2.0.0",
      "model_name": "LayoutModel",
      "state": {
       "flex": "2"
      }
     },
     "8dcab4c5a54c483d8dbfa5a749b396dd": {
      "model_module": "@jupyter-widgets/base",
      "model_module_version": "2.0.0",
      "model_name": "LayoutModel",
      "state": {
       "display": "inline-flex",
       "flex_flow": "row wrap",
       "visibility": "hidden",
       "width": "100%"
      }
     },
     "8dfbfdf1a6c840c8ad79681c649b3891": {
      "model_module": "@jupyter-widgets/base",
      "model_module_version": "2.0.0",
      "model_name": "LayoutModel",
      "state": {}
     },
     "8e876dca1b50440ba0de936327b742b2": {
      "model_module": "@jupyter-widgets/controls",
      "model_module_version": "2.0.0",
      "model_name": "HTMLModel",
      "state": {
       "layout": "IPY_MODEL_9e40a4cfb3484d0fbb2d0099ba442582",
       "style": "IPY_MODEL_7531ceaee32d4b3e935862d9ba26b9d5",
       "value": "Validation DataLoader 0: 100%"
      }
     },
     "90f485fe417a444b9601ecf1ab08f0f4": {
      "model_module": "@jupyter-widgets/controls",
      "model_module_version": "2.0.0",
      "model_name": "FloatProgressModel",
      "state": {
       "layout": "IPY_MODEL_8d41aa36143540b2b64340b9bb7f767a",
       "max": 62,
       "style": "IPY_MODEL_b46b51c8830c4fe98ff6ac4180324404",
       "value": 62
      }
     },
     "92e6d7ba9a114e10b6ae431597c169a2": {
      "model_module": "@jupyter-widgets/base",
      "model_module_version": "2.0.0",
      "model_name": "LayoutModel",
      "state": {}
     },
     "942abd05cc9d4945a5b1521ed1be8988": {
      "model_module": "@jupyter-widgets/controls",
      "model_module_version": "2.0.0",
      "model_name": "HTMLStyleModel",
      "state": {
       "description_width": "",
       "font_size": null,
       "text_color": null
      }
     },
     "94d7b81b5ffa49bd902a7aa1ad38dda8": {
      "model_module": "@jupyter-widgets/base",
      "model_module_version": "2.0.0",
      "model_name": "LayoutModel",
      "state": {
       "flex": "2"
      }
     },
     "95a027272e7e47ff8e9f8a7ef99b545f": {
      "model_module": "@jupyter-widgets/controls",
      "model_module_version": "2.0.0",
      "model_name": "HTMLModel",
      "state": {
       "layout": "IPY_MODEL_77d1116fe73848869bfa100eb249b92d",
       "style": "IPY_MODEL_26ba83241a844d829630680e70d0d504",
       "value": "Validation DataLoader 0: 100%"
      }
     },
     "95f494f8e7194734a24550799e863f33": {
      "model_module": "@jupyter-widgets/base",
      "model_module_version": "2.0.0",
      "model_name": "LayoutModel",
      "state": {}
     },
     "97ba26636ced4cb1ad69ccf1d34c6bd0": {
      "model_module": "@jupyter-widgets/controls",
      "model_module_version": "2.0.0",
      "model_name": "ProgressStyleModel",
      "state": {
       "description_width": ""
      }
     },
     "99098f245b8e4cf1ab9a2dad0ba4edd2": {
      "model_module": "@jupyter-widgets/controls",
      "model_module_version": "2.0.0",
      "model_name": "ProgressStyleModel",
      "state": {
       "description_width": ""
      }
     },
     "9a00461670994f20a390b1ec7f979e94": {
      "model_module": "@jupyter-widgets/base",
      "model_module_version": "2.0.0",
      "model_name": "LayoutModel",
      "state": {}
     },
     "9b6da55075194732b1beedc748962811": {
      "model_module": "@jupyter-widgets/base",
      "model_module_version": "2.0.0",
      "model_name": "LayoutModel",
      "state": {}
     },
     "9ca78f05c5f246c7922f2c55f723a0c3": {
      "model_module": "@jupyter-widgets/controls",
      "model_module_version": "2.0.0",
      "model_name": "FloatProgressModel",
      "state": {
       "layout": "IPY_MODEL_d22b8d7f9e81419991045f645f4afb43",
       "max": 62,
       "style": "IPY_MODEL_8cb98d94d2694199aa24a407cab6579a",
       "value": 62
      }
     },
     "9d53acd4ae70407898aad1c5c9e53293": {
      "model_module": "@jupyter-widgets/base",
      "model_module_version": "2.0.0",
      "model_name": "LayoutModel",
      "state": {}
     },
     "9e40a4cfb3484d0fbb2d0099ba442582": {
      "model_module": "@jupyter-widgets/base",
      "model_module_version": "2.0.0",
      "model_name": "LayoutModel",
      "state": {}
     },
     "a2cbe9d324ba4ae6a9ce0c899693a78d": {
      "model_module": "@jupyter-widgets/controls",
      "model_module_version": "2.0.0",
      "model_name": "ProgressStyleModel",
      "state": {
       "description_width": ""
      }
     },
     "a395411b8906412188fd86e048f92c7d": {
      "model_module": "@jupyter-widgets/controls",
      "model_module_version": "2.0.0",
      "model_name": "HTMLStyleModel",
      "state": {
       "description_width": "",
       "font_size": null,
       "text_color": null
      }
     },
     "a417416f308a424288c5951fab29e220": {
      "model_module": "@jupyter-widgets/base",
      "model_module_version": "2.0.0",
      "model_name": "LayoutModel",
      "state": {
       "display": "inline-flex",
       "flex_flow": "row wrap",
       "visibility": "hidden",
       "width": "100%"
      }
     },
     "a4bab071776f469391e9edc2e8d1c041": {
      "model_module": "@jupyter-widgets/controls",
      "model_module_version": "2.0.0",
      "model_name": "ProgressStyleModel",
      "state": {
       "description_width": ""
      }
     },
     "a657224ac8474693acc3d1d92f158525": {
      "model_module": "@jupyter-widgets/base",
      "model_module_version": "2.0.0",
      "model_name": "LayoutModel",
      "state": {}
     },
     "a65f1eb5855e4190b5391a21df35ecd1": {
      "model_module": "@jupyter-widgets/controls",
      "model_module_version": "2.0.0",
      "model_name": "HTMLModel",
      "state": {
       "layout": "IPY_MODEL_091eb312fea94162b0678315e42c2fa3",
       "style": "IPY_MODEL_d52b56d27c2e4ad2a4bdf1fc5e7a7646",
       "value": " 62/62 [00:01&lt;00:00, 32.26it/s]"
      }
     },
     "a7dafd8f434c4564992e0c0566af2e16": {
      "model_module": "@jupyter-widgets/controls",
      "model_module_version": "2.0.0",
      "model_name": "HTMLModel",
      "state": {
       "layout": "IPY_MODEL_5af4f986e379499db96d4df19cb0a08e",
       "style": "IPY_MODEL_942abd05cc9d4945a5b1521ed1be8988",
       "value": " 62/62 [00:02&lt;00:00, 29.54it/s]"
      }
     },
     "ab3a635376b348e1a5f9e6f9bd16bb25": {
      "model_module": "@jupyter-widgets/base",
      "model_module_version": "2.0.0",
      "model_name": "LayoutModel",
      "state": {}
     },
     "ac824b9cef2d45e4a77dc533362fd741": {
      "model_module": "@jupyter-widgets/base",
      "model_module_version": "2.0.0",
      "model_name": "LayoutModel",
      "state": {
       "flex": "2"
      }
     },
     "ae1f382fecbd491e8030a70311e0f470": {
      "model_module": "@jupyter-widgets/controls",
      "model_module_version": "2.0.0",
      "model_name": "HTMLModel",
      "state": {
       "layout": "IPY_MODEL_d52f27aa428848b998e91deae6ffb6a0",
       "style": "IPY_MODEL_8544f9b3546746f9960e3467a1526c7e",
       "value": "Validation DataLoader 0: 100%"
      }
     },
     "b16406875d9a48ada2f1f68dbd9cea72": {
      "model_module": "@jupyter-widgets/controls",
      "model_module_version": "2.0.0",
      "model_name": "HTMLStyleModel",
      "state": {
       "description_width": "",
       "font_size": null,
       "text_color": null
      }
     },
     "b17dcd2376224383b8863cb9763b4f15": {
      "model_module": "@jupyter-widgets/controls",
      "model_module_version": "2.0.0",
      "model_name": "HTMLStyleModel",
      "state": {
       "description_width": "",
       "font_size": null,
       "text_color": null
      }
     },
     "b3a7577f9c0d444084a5edaa2bcddf27": {
      "model_module": "@jupyter-widgets/controls",
      "model_module_version": "2.0.0",
      "model_name": "ProgressStyleModel",
      "state": {
       "description_width": ""
      }
     },
     "b46b51c8830c4fe98ff6ac4180324404": {
      "model_module": "@jupyter-widgets/controls",
      "model_module_version": "2.0.0",
      "model_name": "ProgressStyleModel",
      "state": {
       "description_width": ""
      }
     },
     "b481519d2c644601af749e07da45dbfa": {
      "model_module": "@jupyter-widgets/controls",
      "model_module_version": "2.0.0",
      "model_name": "HTMLModel",
      "state": {
       "layout": "IPY_MODEL_dd56ee4dfc6a491eb4c3605134dd77ba",
       "style": "IPY_MODEL_1d1650c94d3d474197eb59bbf2515283",
       "value": " 62/62 [00:04&lt;00:00, 14.19it/s, v_num=0, train_acc=0.984, val_loss=1.410, val_acc=0.970]"
      }
     },
     "b70c37a93eb64a66b1d859b59f6e6156": {
      "model_module": "@jupyter-widgets/controls",
      "model_module_version": "2.0.0",
      "model_name": "HTMLStyleModel",
      "state": {
       "description_width": "",
       "font_size": null,
       "text_color": null
      }
     },
     "b94154e6f19c44a1886458c76a9011c5": {
      "model_module": "@jupyter-widgets/base",
      "model_module_version": "2.0.0",
      "model_name": "LayoutModel",
      "state": {}
     },
     "bcd9104b44304700b5dc003f43a1f289": {
      "model_module": "@jupyter-widgets/base",
      "model_module_version": "2.0.0",
      "model_name": "LayoutModel",
      "state": {}
     },
     "bcec463cb62140b08acfe73169003987": {
      "model_module": "@jupyter-widgets/base",
      "model_module_version": "2.0.0",
      "model_name": "LayoutModel",
      "state": {}
     },
     "bd813b4e3d2c4ab2aa4575f01c8ff233": {
      "model_module": "@jupyter-widgets/base",
      "model_module_version": "2.0.0",
      "model_name": "LayoutModel",
      "state": {}
     },
     "be4bcf41fda04841943fa4346597fd92": {
      "model_module": "@jupyter-widgets/controls",
      "model_module_version": "2.0.0",
      "model_name": "HTMLStyleModel",
      "state": {
       "description_width": "",
       "font_size": null,
       "text_color": null
      }
     },
     "be6e23255107495a94845ea478004e38": {
      "model_module": "@jupyter-widgets/controls",
      "model_module_version": "2.0.0",
      "model_name": "FloatProgressModel",
      "state": {
       "layout": "IPY_MODEL_ac824b9cef2d45e4a77dc533362fd741",
       "max": 62,
       "style": "IPY_MODEL_4c57ebb7092a43c1ae90f53188a04d17",
       "value": 62
      }
     },
     "bfc85996812641ba86e5c732270cc6fb": {
      "model_module": "@jupyter-widgets/base",
      "model_module_version": "2.0.0",
      "model_name": "LayoutModel",
      "state": {}
     },
     "c086bac86dde402ca56a5a315fad2159": {
      "model_module": "@jupyter-widgets/controls",
      "model_module_version": "2.0.0",
      "model_name": "HTMLModel",
      "state": {
       "layout": "IPY_MODEL_9b6da55075194732b1beedc748962811",
       "style": "IPY_MODEL_f19d83933619455fb46327a90c02972b",
       "value": " 62/62 [00:02&lt;00:00, 30.64it/s]"
      }
     },
     "c0cfcdd4ac2641f9a308353cbce3191c": {
      "model_module": "@jupyter-widgets/controls",
      "model_module_version": "2.0.0",
      "model_name": "FloatProgressModel",
      "state": {
       "bar_style": "success",
       "layout": "IPY_MODEL_ed0da5a0628549c985f6d3277fdec7f1",
       "max": 62,
       "style": "IPY_MODEL_a2cbe9d324ba4ae6a9ce0c899693a78d",
       "value": 62
      }
     },
     "c1d28ae64f7d429884d65eee3afedd86": {
      "model_module": "@jupyter-widgets/controls",
      "model_module_version": "2.0.0",
      "model_name": "HBoxModel",
      "state": {
       "children": [
        "IPY_MODEL_63a141cb7d27495bace689b07f5987ac",
        "IPY_MODEL_ed03af80ab9b4222bc81e459764bbd36",
        "IPY_MODEL_b481519d2c644601af749e07da45dbfa"
       ],
       "layout": "IPY_MODEL_3354e17be2aa41729fdd4879dc81e6d8"
      }
     },
     "c1f8386fe633438ba82ab13cf216be28": {
      "model_module": "@jupyter-widgets/controls",
      "model_module_version": "2.0.0",
      "model_name": "HTMLModel",
      "state": {
       "layout": "IPY_MODEL_a657224ac8474693acc3d1d92f158525",
       "style": "IPY_MODEL_2c049e6943da4153bc5470cb0dd3254b",
       "value": " 62/62 [00:02&lt;00:00, 30.22it/s]"
      }
     },
     "c2ff77d532794ee6a4b7d86455871955": {
      "model_module": "@jupyter-widgets/base",
      "model_module_version": "2.0.0",
      "model_name": "LayoutModel",
      "state": {}
     },
     "c30276d71c3b488cbac2d236281e6a7b": {
      "model_module": "@jupyter-widgets/base",
      "model_module_version": "2.0.0",
      "model_name": "LayoutModel",
      "state": {}
     },
     "c37813dca0f143909dca3ee8383c30df": {
      "model_module": "@jupyter-widgets/controls",
      "model_module_version": "2.0.0",
      "model_name": "ProgressStyleModel",
      "state": {
       "description_width": ""
      }
     },
     "c3ae6d39b5544888b0723b0936d308e6": {
      "model_module": "@jupyter-widgets/base",
      "model_module_version": "2.0.0",
      "model_name": "LayoutModel",
      "state": {}
     },
     "c4ad4fc8805045bc858ff337b926fa85": {
      "model_module": "@jupyter-widgets/controls",
      "model_module_version": "2.0.0",
      "model_name": "HTMLStyleModel",
      "state": {
       "description_width": "",
       "font_size": null,
       "text_color": null
      }
     },
     "c5a74a69d9df4ec7ae57b49966f2df87": {
      "model_module": "@jupyter-widgets/controls",
      "model_module_version": "2.0.0",
      "model_name": "HTMLStyleModel",
      "state": {
       "description_width": "",
       "font_size": null,
       "text_color": null
      }
     },
     "c66c194b0dd545508b03ab095ca9e365": {
      "model_module": "@jupyter-widgets/controls",
      "model_module_version": "2.0.0",
      "model_name": "HTMLModel",
      "state": {
       "layout": "IPY_MODEL_bcd9104b44304700b5dc003f43a1f289",
       "style": "IPY_MODEL_64d4b0a0b3f747dd9ae788d1028d0a4a",
       "value": "Validation DataLoader 0: 100%"
      }
     },
     "c7c704e755e943d9bdb4b1bdb3517809": {
      "model_module": "@jupyter-widgets/base",
      "model_module_version": "2.0.0",
      "model_name": "LayoutModel",
      "state": {}
     },
     "c84ac60e85c247bb83b1e21088eebc89": {
      "model_module": "@jupyter-widgets/controls",
      "model_module_version": "2.0.0",
      "model_name": "HTMLStyleModel",
      "state": {
       "description_width": "",
       "font_size": null,
       "text_color": null
      }
     },
     "c898c3104e3d43b296456e81b199218c": {
      "model_module": "@jupyter-widgets/base",
      "model_module_version": "2.0.0",
      "model_name": "LayoutModel",
      "state": {}
     },
     "cc374671f791440d907d243afc01b7c7": {
      "model_module": "@jupyter-widgets/base",
      "model_module_version": "2.0.0",
      "model_name": "LayoutModel",
      "state": {
       "display": "inline-flex",
       "flex_flow": "row wrap",
       "visibility": "hidden",
       "width": "100%"
      }
     },
     "cc92e05c67d84f4480f9129a743289f2": {
      "model_module": "@jupyter-widgets/base",
      "model_module_version": "2.0.0",
      "model_name": "LayoutModel",
      "state": {}
     },
     "cec4b2070efb49338f877f5ccccbf3fe": {
      "model_module": "@jupyter-widgets/controls",
      "model_module_version": "2.0.0",
      "model_name": "HTMLModel",
      "state": {
       "layout": "IPY_MODEL_6d782dc10b89404f916236fd459a40c8",
       "style": "IPY_MODEL_19b4b069b92041d9b50db877a2769a24",
       "value": "Validation DataLoader 0: 100%"
      }
     },
     "cfb1384b5dc040bfbbbd7f4c15cc9dc8": {
      "model_module": "@jupyter-widgets/base",
      "model_module_version": "2.0.0",
      "model_name": "LayoutModel",
      "state": {
       "display": "inline-flex",
       "flex_flow": "row wrap",
       "visibility": "hidden",
       "width": "100%"
      }
     },
     "d22b8d7f9e81419991045f645f4afb43": {
      "model_module": "@jupyter-widgets/base",
      "model_module_version": "2.0.0",
      "model_name": "LayoutModel",
      "state": {
       "flex": "2"
      }
     },
     "d29a5ed4299344d1b94f40964144328d": {
      "model_module": "@jupyter-widgets/base",
      "model_module_version": "2.0.0",
      "model_name": "LayoutModel",
      "state": {}
     },
     "d52b56d27c2e4ad2a4bdf1fc5e7a7646": {
      "model_module": "@jupyter-widgets/controls",
      "model_module_version": "2.0.0",
      "model_name": "HTMLStyleModel",
      "state": {
       "description_width": "",
       "font_size": null,
       "text_color": null
      }
     },
     "d52f27aa428848b998e91deae6ffb6a0": {
      "model_module": "@jupyter-widgets/base",
      "model_module_version": "2.0.0",
      "model_name": "LayoutModel",
      "state": {}
     },
     "d6bbd95cd43c45838e22c349f80a3ba9": {
      "model_module": "@jupyter-widgets/controls",
      "model_module_version": "2.0.0",
      "model_name": "ProgressStyleModel",
      "state": {
       "description_width": ""
      }
     },
     "d6c72e474f64435683ab5b07ea0b56bb": {
      "model_module": "@jupyter-widgets/controls",
      "model_module_version": "2.0.0",
      "model_name": "FloatProgressModel",
      "state": {
       "layout": "IPY_MODEL_2232e986a4434778acaea550be64aaf9",
       "max": 62,
       "style": "IPY_MODEL_49fce6fa5add4a119434553faeaa42a2",
       "value": 62
      }
     },
     "d8c1a3403bae4ecbb2b4e2b6cb13e16b": {
      "model_module": "@jupyter-widgets/base",
      "model_module_version": "2.0.0",
      "model_name": "LayoutModel",
      "state": {
       "display": "inline-flex",
       "flex_flow": "row wrap",
       "visibility": "hidden",
       "width": "100%"
      }
     },
     "da1e14500cfc4c1eb7e1aff0db5ace0d": {
      "model_module": "@jupyter-widgets/base",
      "model_module_version": "2.0.0",
      "model_name": "LayoutModel",
      "state": {
       "display": "inline-flex",
       "flex_flow": "row wrap",
       "visibility": "hidden",
       "width": "100%"
      }
     },
     "dcb89434b28c4f7a9be0640b695af371": {
      "model_module": "@jupyter-widgets/controls",
      "model_module_version": "2.0.0",
      "model_name": "HTMLModel",
      "state": {
       "layout": "IPY_MODEL_92e6d7ba9a114e10b6ae431597c169a2",
       "style": "IPY_MODEL_4cc9a6eb60074f02be14cec42477c0fe",
       "value": "Validation DataLoader 0: 100%"
      }
     },
     "dd0ecf80195a4c17b41cdc9104dd45ba": {
      "model_module": "@jupyter-widgets/base",
      "model_module_version": "2.0.0",
      "model_name": "LayoutModel",
      "state": {
       "flex": "2"
      }
     },
     "dd48d0ea8caf4ceaa0fb45715f8df9f8": {
      "model_module": "@jupyter-widgets/controls",
      "model_module_version": "2.0.0",
      "model_name": "HTMLStyleModel",
      "state": {
       "description_width": "",
       "font_size": null,
       "text_color": null
      }
     },
     "dd56ee4dfc6a491eb4c3605134dd77ba": {
      "model_module": "@jupyter-widgets/base",
      "model_module_version": "2.0.0",
      "model_name": "LayoutModel",
      "state": {}
     },
     "dda3545ad23e4c9285ac19982518bb48": {
      "model_module": "@jupyter-widgets/controls",
      "model_module_version": "2.0.0",
      "model_name": "HTMLStyleModel",
      "state": {
       "description_width": "",
       "font_size": null,
       "text_color": null
      }
     },
     "e144251849754a9786b862b64b845dce": {
      "model_module": "@jupyter-widgets/controls",
      "model_module_version": "2.0.0",
      "model_name": "HTMLModel",
      "state": {
       "layout": "IPY_MODEL_bfc85996812641ba86e5c732270cc6fb",
       "style": "IPY_MODEL_b17dcd2376224383b8863cb9763b4f15",
       "value": " 62/62 [00:01&lt;00:00, 35.07it/s]"
      }
     },
     "e5473fcf28fd4346ba109d4923bd1885": {
      "model_module": "@jupyter-widgets/base",
      "model_module_version": "2.0.0",
      "model_name": "LayoutModel",
      "state": {}
     },
     "e56d38c08cfa4f9291d1992e0bfdcdf0": {
      "model_module": "@jupyter-widgets/base",
      "model_module_version": "2.0.0",
      "model_name": "LayoutModel",
      "state": {}
     },
     "e594a096356b40869978242619d7161e": {
      "model_module": "@jupyter-widgets/controls",
      "model_module_version": "2.0.0",
      "model_name": "FloatProgressModel",
      "state": {
       "layout": "IPY_MODEL_8ba252dfb99a4a92822aa2f0787ea47c",
       "max": 62,
       "style": "IPY_MODEL_892acc567a7c47488116e403e74f0d8e",
       "value": 62
      }
     },
     "e63314d89e5948a58f82d7b9ddd14d1f": {
      "model_module": "@jupyter-widgets/controls",
      "model_module_version": "2.0.0",
      "model_name": "FloatProgressModel",
      "state": {
       "layout": "IPY_MODEL_35f4727c268840ad9e8c7d8ca6b2888d",
       "max": 62,
       "style": "IPY_MODEL_c37813dca0f143909dca3ee8383c30df",
       "value": 62
      }
     },
     "e6bdc251e21440c7a77ca6b725b9da5a": {
      "model_module": "@jupyter-widgets/controls",
      "model_module_version": "2.0.0",
      "model_name": "HTMLModel",
      "state": {
       "layout": "IPY_MODEL_746757af3a9444d7a2f90254cfeeac65",
       "style": "IPY_MODEL_185797d4d7184d438fc315e9f4ffc4bb",
       "value": "Validation DataLoader 0: 100%"
      }
     },
     "e8e07217714d4fd9a7e08f61c3dc0207": {
      "model_module": "@jupyter-widgets/base",
      "model_module_version": "2.0.0",
      "model_name": "LayoutModel",
      "state": {
       "flex": "2"
      }
     },
     "e93b5fb1014f42748c793f9ace67033d": {
      "model_module": "@jupyter-widgets/controls",
      "model_module_version": "2.0.0",
      "model_name": "FloatProgressModel",
      "state": {
       "layout": "IPY_MODEL_e8e07217714d4fd9a7e08f61c3dc0207",
       "max": 62,
       "style": "IPY_MODEL_294c8eb9ed834d899e43d7ca96ac24eb",
       "value": 62
      }
     },
     "e949d4b35134491ab12212b44b86a177": {
      "model_module": "@jupyter-widgets/controls",
      "model_module_version": "2.0.0",
      "model_name": "HTMLModel",
      "state": {
       "layout": "IPY_MODEL_e5473fcf28fd4346ba109d4923bd1885",
       "style": "IPY_MODEL_58e65d4f8c74409e9c519bad4eb264d2",
       "value": " 62/62 [00:01&lt;00:00, 32.46it/s]"
      }
     },
     "e98ba653b39244a19761c6270225fc71": {
      "model_module": "@jupyter-widgets/controls",
      "model_module_version": "2.0.0",
      "model_name": "FloatProgressModel",
      "state": {
       "layout": "IPY_MODEL_54271934a0274d96a582395138d9aa82",
       "max": 62,
       "style": "IPY_MODEL_d6bbd95cd43c45838e22c349f80a3ba9",
       "value": 62
      }
     },
     "e9c2a09af4b649fab0266991a072b213": {
      "model_module": "@jupyter-widgets/controls",
      "model_module_version": "2.0.0",
      "model_name": "HTMLModel",
      "state": {
       "layout": "IPY_MODEL_e56d38c08cfa4f9291d1992e0bfdcdf0",
       "style": "IPY_MODEL_81f23de48ea94234b9f998e3b8ca83d0",
       "value": "Validation DataLoader 0: 100%"
      }
     },
     "ed03af80ab9b4222bc81e459764bbd36": {
      "model_module": "@jupyter-widgets/controls",
      "model_module_version": "2.0.0",
      "model_name": "FloatProgressModel",
      "state": {
       "bar_style": "success",
       "layout": "IPY_MODEL_fb1b6a3d00bb4a6783f411b1adc0df60",
       "max": 62,
       "style": "IPY_MODEL_99098f245b8e4cf1ab9a2dad0ba4edd2",
       "value": 62
      }
     },
     "ed0da5a0628549c985f6d3277fdec7f1": {
      "model_module": "@jupyter-widgets/base",
      "model_module_version": "2.0.0",
      "model_name": "LayoutModel",
      "state": {
       "flex": "2"
      }
     },
     "ed399d3bcc634b61a883a6afc192188d": {
      "model_module": "@jupyter-widgets/base",
      "model_module_version": "2.0.0",
      "model_name": "LayoutModel",
      "state": {}
     },
     "ed80a21734d64f58999acbe8abe45b26": {
      "model_module": "@jupyter-widgets/controls",
      "model_module_version": "2.0.0",
      "model_name": "HTMLStyleModel",
      "state": {
       "description_width": "",
       "font_size": null,
       "text_color": null
      }
     },
     "edf2dbb2cbb74217bba907216e402440": {
      "model_module": "@jupyter-widgets/controls",
      "model_module_version": "2.0.0",
      "model_name": "HTMLModel",
      "state": {
       "layout": "IPY_MODEL_81445abde0bf4eac82113d3f803cfbcf",
       "style": "IPY_MODEL_24b7a191f9fb48ea94e6a2c21d8b556d",
       "value": " 62/62 [00:01&lt;00:00, 33.13it/s]"
      }
     },
     "ef0ee8456dfa4b868f00b519e02b78af": {
      "model_module": "@jupyter-widgets/controls",
      "model_module_version": "2.0.0",
      "model_name": "FloatProgressModel",
      "state": {
       "layout": "IPY_MODEL_39780cbac5f64a0ebf6582e23245d052",
       "max": 62,
       "style": "IPY_MODEL_97ba26636ced4cb1ad69ccf1d34c6bd0",
       "value": 62
      }
     },
     "f05280375a514d4bb3bbd87f3007d79e": {
      "model_module": "@jupyter-widgets/base",
      "model_module_version": "2.0.0",
      "model_name": "LayoutModel",
      "state": {
       "display": "inline-flex",
       "flex_flow": "row wrap",
       "visibility": "hidden",
       "width": "100%"
      }
     },
     "f19d83933619455fb46327a90c02972b": {
      "model_module": "@jupyter-widgets/controls",
      "model_module_version": "2.0.0",
      "model_name": "HTMLStyleModel",
      "state": {
       "description_width": "",
       "font_size": null,
       "text_color": null
      }
     },
     "f43b5a960020427ebbb0df14d8b54bbf": {
      "model_module": "@jupyter-widgets/controls",
      "model_module_version": "2.0.0",
      "model_name": "HTMLModel",
      "state": {
       "layout": "IPY_MODEL_bd813b4e3d2c4ab2aa4575f01c8ff233",
       "style": "IPY_MODEL_f860506c586947a0b5db338f0bf6960f",
       "value": " 62/62 [00:01&lt;00:00, 39.45it/s]"
      }
     },
     "f5f3e02973c24e9e84cf6876cda1743f": {
      "model_module": "@jupyter-widgets/controls",
      "model_module_version": "2.0.0",
      "model_name": "HTMLStyleModel",
      "state": {
       "description_width": "",
       "font_size": null,
       "text_color": null
      }
     },
     "f842e9a09c8b42aaa0248b2bc600fe2d": {
      "model_module": "@jupyter-widgets/controls",
      "model_module_version": "2.0.0",
      "model_name": "ProgressStyleModel",
      "state": {
       "description_width": ""
      }
     },
     "f860506c586947a0b5db338f0bf6960f": {
      "model_module": "@jupyter-widgets/controls",
      "model_module_version": "2.0.0",
      "model_name": "HTMLStyleModel",
      "state": {
       "description_width": "",
       "font_size": null,
       "text_color": null
      }
     },
     "f942fd04d5bc40209b39f143350628fd": {
      "model_module": "@jupyter-widgets/base",
      "model_module_version": "2.0.0",
      "model_name": "LayoutModel",
      "state": {
       "display": "inline-flex",
       "flex_flow": "row wrap",
       "visibility": "hidden",
       "width": "100%"
      }
     },
     "f98d55516a1e4eff947630e14f7a0a15": {
      "model_module": "@jupyter-widgets/base",
      "model_module_version": "2.0.0",
      "model_name": "LayoutModel",
      "state": {}
     },
     "fb1b6a3d00bb4a6783f411b1adc0df60": {
      "model_module": "@jupyter-widgets/base",
      "model_module_version": "2.0.0",
      "model_name": "LayoutModel",
      "state": {
       "flex": "2"
      }
     },
     "fe7b5aaec70b469aa7e96b34746c032e": {
      "model_module": "@jupyter-widgets/controls",
      "model_module_version": "2.0.0",
      "model_name": "ProgressStyleModel",
      "state": {
       "description_width": ""
      }
     },
     "fead9375c0db4b66b6ad46b20c85cb3d": {
      "model_module": "@jupyter-widgets/controls",
      "model_module_version": "2.0.0",
      "model_name": "HTMLModel",
      "state": {
       "layout": "IPY_MODEL_bcec463cb62140b08acfe73169003987",
       "style": "IPY_MODEL_be4bcf41fda04841943fa4346597fd92",
       "value": " 62/62 [00:02&lt;00:00, 28.63it/s]"
      }
     },
     "ff4376d2fab142de9cbe3b71bdd7442a": {
      "model_module": "@jupyter-widgets/controls",
      "model_module_version": "2.0.0",
      "model_name": "HTMLModel",
      "state": {
       "layout": "IPY_MODEL_34773944bf094df3bcb1ed51fe69e2c0",
       "style": "IPY_MODEL_79a34431f3774c2887956f1474022cdd",
       "value": " 62/62 [00:01&lt;00:00, 31.54it/s]"
      }
     }
    },
    "version_major": 2,
    "version_minor": 0
   }
  }
 },
 "nbformat": 4,
 "nbformat_minor": 5
}
