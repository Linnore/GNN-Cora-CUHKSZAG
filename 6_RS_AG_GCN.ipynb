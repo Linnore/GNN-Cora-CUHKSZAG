{
 "cells": [
  {
   "cell_type": "code",
   "execution_count": 13,
   "id": "da06ae01-7103-4aea-9c0f-4ef08895d38c",
   "metadata": {},
   "outputs": [],
   "source": [
    "import os\n",
    "import torch\n",
    "import numpy as np\n",
    "import pytorch_lightning as pl\n",
    "from torch_geometric.datasets import Planetoid\n",
    "from torch_geometric.data import Data\n",
    "from pytorch_lightning.callbacks.early_stopping import EarlyStopping\n",
    "from lightning.pytorch import loggers as pl_loggers\n",
    "import torch_geometric.transforms as T\n",
    "import torch_geometric.data as geom_data\n",
    "from torch.utils.tensorboard import SummaryWriter\n",
    "\n",
    "%reload_ext autoreload\n",
    "%autoreload 2"
   ]
  },
  {
   "attachments": {},
   "cell_type": "markdown",
   "id": "7eda1bfa-47a4-478a-82d1-f7fe1c588e73",
   "metadata": {},
   "source": [
    "#### Configure device"
   ]
  },
  {
   "cell_type": "code",
   "execution_count": 2,
   "id": "e824ef20-6156-49c3-bfa9-47eea7af9124",
   "metadata": {},
   "outputs": [
    {
     "data": {
      "text/plain": [
       "(device(type='cuda', index=0), 12)"
      ]
     },
     "execution_count": 2,
     "metadata": {},
     "output_type": "execute_result"
    }
   ],
   "source": [
    "device = torch.device(\"cuda:0\" if torch.cuda.is_available() else \"cpu\")\n",
    "if device != \"cpu\":\n",
    "    torch.set_float32_matmul_precision('high')\n",
    "    \n",
    "\n",
    "num_workers = os.cpu_count()\n",
    "device, num_workers"
   ]
  },
  {
   "cell_type": "code",
   "execution_count": 14,
   "id": "8922de0e-66dd-4251-a88c-7158dca4afed",
   "metadata": {},
   "outputs": [
    {
     "data": {
      "text/html": [
       "\n",
       "      <iframe id=\"tensorboard-frame-fce2c7b479f2a4b5\" width=\"100%\" height=\"800\" frameborder=\"0\">\n",
       "      </iframe>\n",
       "      <script>\n",
       "        (function() {\n",
       "          const frame = document.getElementById(\"tensorboard-frame-fce2c7b479f2a4b5\");\n",
       "          const url = new URL(\"/\", window.location);\n",
       "          const port = 6003;\n",
       "          if (port) {\n",
       "            url.port = port;\n",
       "          }\n",
       "          frame.src = url;\n",
       "        })();\n",
       "      </script>\n",
       "    "
      ],
      "text/plain": [
       "<IPython.core.display.HTML object>"
      ]
     },
     "metadata": {},
     "output_type": "display_data"
    }
   ],
   "source": [
    "%reload_ext tensorboard\n",
    "%tensorboard --logdir '..\\\\lightning_logs' --port 6003 --host=10.23.115.20"
   ]
  },
  {
   "attachments": {},
   "cell_type": "markdown",
   "id": "645c2c2e-8187-428e-b409-9ac6359a233c",
   "metadata": {},
   "source": [
    "### Directory configuration and load data"
   ]
  },
  {
   "cell_type": "code",
   "execution_count": 3,
   "id": "8a1858ae",
   "metadata": {},
   "outputs": [
    {
     "name": "stdout",
     "output_type": "stream",
     "text": [
      "D:\\GitHub\\aml-project\\GNN\\zyq\\utils\\dataset\\CUHKSZ_AcademicGraph\\raw\\CUHKSZ_AcademicGraph_Rawdata.zip\n",
      "D:\\GitHub\\aml-project\\GNN\\zyq\\utils\\dataset\\CUHKSZ_AcademicGraph\\raw\\CUHKSZ_AcademicGraph-rawdata_released\n"
     ]
    }
   ],
   "source": [
    "cwd = os.getcwd()\n",
    "tb_logging_dir = os.path.join(cwd, \"lightning_logs\")\n",
    "exp_name = \"AG-GCN\"\n",
    "exp_dir = os.path.join(tb_logging_dir, exp_name)\n",
    "dataset_dir = os.path.join(cwd, \"utils/dataset\", \"CUHKSZ_AcademicGraph\")\n",
    "if not os.path.exists(dataset_dir):\n",
    "    os.makedirs(dataset_dir)\n",
    "    \n",
    "from utils.dataset.CUHKSZ_AcademicGraph import CUHKSZ_AcademicGraph\n",
    "AGDataset = CUHKSZ_AcademicGraph(dataset_dir, with_title=True, with_label=True)\n",
    "\n",
    "dataset = AGDataset"
   ]
  },
  {
   "attachments": {},
   "cell_type": "markdown",
   "id": "dc552412-7d68-404d-8d68-4072f75afb9b",
   "metadata": {
    "tags": []
   },
   "source": [
    "#### Note that if numebr of epoch is large, the kernel will stuck after training! Need to load the saved model mannually!"
   ]
  },
  {
   "cell_type": "code",
   "execution_count": 15,
   "id": "c9c82233-8b8f-4f99-8274-00828954d298",
   "metadata": {},
   "outputs": [
    {
     "name": "stderr",
     "output_type": "stream",
     "text": [
      "GPU available: True (cuda), used: True\n",
      "TPU available: False, using: 0 TPU cores\n",
      "IPU available: False, using: 0 IPUs\n",
      "HPU available: False, using: 0 HPUs\n"
     ]
    },
    {
     "name": "stdout",
     "output_type": "stream",
     "text": [
      "Saving checkpoints to D:\\GitHub\\aml-project\\GNN\\zyq\\lightning_logs\\AG-GCN\\version_7\\checkpoints\n"
     ]
    },
    {
     "name": "stderr",
     "output_type": "stream",
     "text": [
      "LOCAL_RANK: 0 - CUDA_VISIBLE_DEVICES: [0]\n",
      "\n",
      "  | Name  | Type    | Params\n",
      "----------------------------------\n",
      "0 | conv1 | GCNConv | 86.1 K\n",
      "1 | conv2 | GCNConv | 1.8 K \n",
      "----------------------------------\n",
      "87.9 K    Trainable params\n",
      "0         Non-trainable params\n",
      "87.9 K    Total params\n",
      "0.352     Total estimated model params size (MB)\n"
     ]
    },
    {
     "name": "stdout",
     "output_type": "stream",
     "text": [
      "Data Processing Done on: cuda:0\n"
     ]
    },
    {
     "data": {
      "application/vnd.jupyter.widget-view+json": {
       "model_id": "",
       "version_major": 2,
       "version_minor": 0
      },
      "text/plain": [
       "Sanity Checking: 0it [00:00, ?it/s]"
      ]
     },
     "metadata": {},
     "output_type": "display_data"
    },
    {
     "name": "stderr",
     "output_type": "stream",
     "text": [
      "D:\\Anaconda\\envs\\torchGNN\\lib\\site-packages\\pytorch_lightning\\trainer\\connectors\\data_connector.py:430: PossibleUserWarning: The dataloader, val_dataloader, does not have many workers which may be a bottleneck. Consider increasing the value of the `num_workers` argument` (try 12 which is the number of cpus on this machine) in the `DataLoader` init to improve performance.\n",
      "  rank_zero_warn(\n",
      "D:\\Anaconda\\envs\\torchGNN\\lib\\site-packages\\pytorch_lightning\\trainer\\connectors\\data_connector.py:430: PossibleUserWarning: The dataloader, train_dataloader, does not have many workers which may be a bottleneck. Consider increasing the value of the `num_workers` argument` (try 12 which is the number of cpus on this machine) in the `DataLoader` init to improve performance.\n",
      "  rank_zero_warn(\n"
     ]
    },
    {
     "data": {
      "application/vnd.jupyter.widget-view+json": {
       "model_id": "c6eeba4c29cb4497b13debc26c2ffedf",
       "version_major": 2,
       "version_minor": 0
      },
      "text/plain": [
       "Training: 0it [00:00, ?it/s]"
      ]
     },
     "metadata": {},
     "output_type": "display_data"
    },
    {
     "data": {
      "application/vnd.jupyter.widget-view+json": {
       "model_id": "",
       "version_major": 2,
       "version_minor": 0
      },
      "text/plain": [
       "Validation: 0it [00:00, ?it/s]"
      ]
     },
     "metadata": {},
     "output_type": "display_data"
    },
    {
     "data": {
      "application/vnd.jupyter.widget-view+json": {
       "model_id": "",
       "version_major": 2,
       "version_minor": 0
      },
      "text/plain": [
       "Validation: 0it [00:00, ?it/s]"
      ]
     },
     "metadata": {},
     "output_type": "display_data"
    },
    {
     "data": {
      "application/vnd.jupyter.widget-view+json": {
       "model_id": "",
       "version_major": 2,
       "version_minor": 0
      },
      "text/plain": [
       "Validation: 0it [00:00, ?it/s]"
      ]
     },
     "metadata": {},
     "output_type": "display_data"
    },
    {
     "data": {
      "application/vnd.jupyter.widget-view+json": {
       "model_id": "",
       "version_major": 2,
       "version_minor": 0
      },
      "text/plain": [
       "Validation: 0it [00:00, ?it/s]"
      ]
     },
     "metadata": {},
     "output_type": "display_data"
    },
    {
     "data": {
      "application/vnd.jupyter.widget-view+json": {
       "model_id": "",
       "version_major": 2,
       "version_minor": 0
      },
      "text/plain": [
       "Validation: 0it [00:00, ?it/s]"
      ]
     },
     "metadata": {},
     "output_type": "display_data"
    },
    {
     "data": {
      "application/vnd.jupyter.widget-view+json": {
       "model_id": "",
       "version_major": 2,
       "version_minor": 0
      },
      "text/plain": [
       "Validation: 0it [00:00, ?it/s]"
      ]
     },
     "metadata": {},
     "output_type": "display_data"
    },
    {
     "data": {
      "application/vnd.jupyter.widget-view+json": {
       "model_id": "",
       "version_major": 2,
       "version_minor": 0
      },
      "text/plain": [
       "Validation: 0it [00:00, ?it/s]"
      ]
     },
     "metadata": {},
     "output_type": "display_data"
    },
    {
     "data": {
      "application/vnd.jupyter.widget-view+json": {
       "model_id": "",
       "version_major": 2,
       "version_minor": 0
      },
      "text/plain": [
       "Validation: 0it [00:00, ?it/s]"
      ]
     },
     "metadata": {},
     "output_type": "display_data"
    },
    {
     "data": {
      "application/vnd.jupyter.widget-view+json": {
       "model_id": "",
       "version_major": 2,
       "version_minor": 0
      },
      "text/plain": [
       "Validation: 0it [00:00, ?it/s]"
      ]
     },
     "metadata": {},
     "output_type": "display_data"
    },
    {
     "data": {
      "application/vnd.jupyter.widget-view+json": {
       "model_id": "",
       "version_major": 2,
       "version_minor": 0
      },
      "text/plain": [
       "Validation: 0it [00:00, ?it/s]"
      ]
     },
     "metadata": {},
     "output_type": "display_data"
    },
    {
     "data": {
      "application/vnd.jupyter.widget-view+json": {
       "model_id": "",
       "version_major": 2,
       "version_minor": 0
      },
      "text/plain": [
       "Validation: 0it [00:00, ?it/s]"
      ]
     },
     "metadata": {},
     "output_type": "display_data"
    },
    {
     "data": {
      "application/vnd.jupyter.widget-view+json": {
       "model_id": "",
       "version_major": 2,
       "version_minor": 0
      },
      "text/plain": [
       "Validation: 0it [00:00, ?it/s]"
      ]
     },
     "metadata": {},
     "output_type": "display_data"
    },
    {
     "data": {
      "application/vnd.jupyter.widget-view+json": {
       "model_id": "",
       "version_major": 2,
       "version_minor": 0
      },
      "text/plain": [
       "Validation: 0it [00:00, ?it/s]"
      ]
     },
     "metadata": {},
     "output_type": "display_data"
    },
    {
     "data": {
      "application/vnd.jupyter.widget-view+json": {
       "model_id": "",
       "version_major": 2,
       "version_minor": 0
      },
      "text/plain": [
       "Validation: 0it [00:00, ?it/s]"
      ]
     },
     "metadata": {},
     "output_type": "display_data"
    },
    {
     "data": {
      "application/vnd.jupyter.widget-view+json": {
       "model_id": "",
       "version_major": 2,
       "version_minor": 0
      },
      "text/plain": [
       "Validation: 0it [00:00, ?it/s]"
      ]
     },
     "metadata": {},
     "output_type": "display_data"
    },
    {
     "data": {
      "application/vnd.jupyter.widget-view+json": {
       "model_id": "",
       "version_major": 2,
       "version_minor": 0
      },
      "text/plain": [
       "Validation: 0it [00:00, ?it/s]"
      ]
     },
     "metadata": {},
     "output_type": "display_data"
    },
    {
     "data": {
      "application/vnd.jupyter.widget-view+json": {
       "model_id": "",
       "version_major": 2,
       "version_minor": 0
      },
      "text/plain": [
       "Validation: 0it [00:00, ?it/s]"
      ]
     },
     "metadata": {},
     "output_type": "display_data"
    },
    {
     "data": {
      "application/vnd.jupyter.widget-view+json": {
       "model_id": "",
       "version_major": 2,
       "version_minor": 0
      },
      "text/plain": [
       "Validation: 0it [00:00, ?it/s]"
      ]
     },
     "metadata": {},
     "output_type": "display_data"
    },
    {
     "data": {
      "application/vnd.jupyter.widget-view+json": {
       "model_id": "",
       "version_major": 2,
       "version_minor": 0
      },
      "text/plain": [
       "Validation: 0it [00:00, ?it/s]"
      ]
     },
     "metadata": {},
     "output_type": "display_data"
    },
    {
     "data": {
      "application/vnd.jupyter.widget-view+json": {
       "model_id": "",
       "version_major": 2,
       "version_minor": 0
      },
      "text/plain": [
       "Validation: 0it [00:00, ?it/s]"
      ]
     },
     "metadata": {},
     "output_type": "display_data"
    },
    {
     "data": {
      "application/vnd.jupyter.widget-view+json": {
       "model_id": "",
       "version_major": 2,
       "version_minor": 0
      },
      "text/plain": [
       "Validation: 0it [00:00, ?it/s]"
      ]
     },
     "metadata": {},
     "output_type": "display_data"
    },
    {
     "data": {
      "application/vnd.jupyter.widget-view+json": {
       "model_id": "",
       "version_major": 2,
       "version_minor": 0
      },
      "text/plain": [
       "Validation: 0it [00:00, ?it/s]"
      ]
     },
     "metadata": {},
     "output_type": "display_data"
    },
    {
     "data": {
      "application/vnd.jupyter.widget-view+json": {
       "model_id": "",
       "version_major": 2,
       "version_minor": 0
      },
      "text/plain": [
       "Validation: 0it [00:00, ?it/s]"
      ]
     },
     "metadata": {},
     "output_type": "display_data"
    },
    {
     "data": {
      "application/vnd.jupyter.widget-view+json": {
       "model_id": "",
       "version_major": 2,
       "version_minor": 0
      },
      "text/plain": [
       "Validation: 0it [00:00, ?it/s]"
      ]
     },
     "metadata": {},
     "output_type": "display_data"
    },
    {
     "data": {
      "application/vnd.jupyter.widget-view+json": {
       "model_id": "",
       "version_major": 2,
       "version_minor": 0
      },
      "text/plain": [
       "Validation: 0it [00:00, ?it/s]"
      ]
     },
     "metadata": {},
     "output_type": "display_data"
    },
    {
     "data": {
      "application/vnd.jupyter.widget-view+json": {
       "model_id": "",
       "version_major": 2,
       "version_minor": 0
      },
      "text/plain": [
       "Validation: 0it [00:00, ?it/s]"
      ]
     },
     "metadata": {},
     "output_type": "display_data"
    },
    {
     "data": {
      "application/vnd.jupyter.widget-view+json": {
       "model_id": "",
       "version_major": 2,
       "version_minor": 0
      },
      "text/plain": [
       "Validation: 0it [00:00, ?it/s]"
      ]
     },
     "metadata": {},
     "output_type": "display_data"
    },
    {
     "data": {
      "application/vnd.jupyter.widget-view+json": {
       "model_id": "",
       "version_major": 2,
       "version_minor": 0
      },
      "text/plain": [
       "Validation: 0it [00:00, ?it/s]"
      ]
     },
     "metadata": {},
     "output_type": "display_data"
    },
    {
     "data": {
      "application/vnd.jupyter.widget-view+json": {
       "model_id": "",
       "version_major": 2,
       "version_minor": 0
      },
      "text/plain": [
       "Validation: 0it [00:00, ?it/s]"
      ]
     },
     "metadata": {},
     "output_type": "display_data"
    },
    {
     "data": {
      "application/vnd.jupyter.widget-view+json": {
       "model_id": "",
       "version_major": 2,
       "version_minor": 0
      },
      "text/plain": [
       "Validation: 0it [00:00, ?it/s]"
      ]
     },
     "metadata": {},
     "output_type": "display_data"
    },
    {
     "data": {
      "application/vnd.jupyter.widget-view+json": {
       "model_id": "",
       "version_major": 2,
       "version_minor": 0
      },
      "text/plain": [
       "Validation: 0it [00:00, ?it/s]"
      ]
     },
     "metadata": {},
     "output_type": "display_data"
    },
    {
     "data": {
      "application/vnd.jupyter.widget-view+json": {
       "model_id": "",
       "version_major": 2,
       "version_minor": 0
      },
      "text/plain": [
       "Validation: 0it [00:00, ?it/s]"
      ]
     },
     "metadata": {},
     "output_type": "display_data"
    },
    {
     "data": {
      "application/vnd.jupyter.widget-view+json": {
       "model_id": "",
       "version_major": 2,
       "version_minor": 0
      },
      "text/plain": [
       "Validation: 0it [00:00, ?it/s]"
      ]
     },
     "metadata": {},
     "output_type": "display_data"
    },
    {
     "data": {
      "application/vnd.jupyter.widget-view+json": {
       "model_id": "",
       "version_major": 2,
       "version_minor": 0
      },
      "text/plain": [
       "Validation: 0it [00:00, ?it/s]"
      ]
     },
     "metadata": {},
     "output_type": "display_data"
    },
    {
     "data": {
      "application/vnd.jupyter.widget-view+json": {
       "model_id": "",
       "version_major": 2,
       "version_minor": 0
      },
      "text/plain": [
       "Validation: 0it [00:00, ?it/s]"
      ]
     },
     "metadata": {},
     "output_type": "display_data"
    },
    {
     "data": {
      "application/vnd.jupyter.widget-view+json": {
       "model_id": "",
       "version_major": 2,
       "version_minor": 0
      },
      "text/plain": [
       "Validation: 0it [00:00, ?it/s]"
      ]
     },
     "metadata": {},
     "output_type": "display_data"
    },
    {
     "data": {
      "application/vnd.jupyter.widget-view+json": {
       "model_id": "",
       "version_major": 2,
       "version_minor": 0
      },
      "text/plain": [
       "Validation: 0it [00:00, ?it/s]"
      ]
     },
     "metadata": {},
     "output_type": "display_data"
    },
    {
     "data": {
      "application/vnd.jupyter.widget-view+json": {
       "model_id": "",
       "version_major": 2,
       "version_minor": 0
      },
      "text/plain": [
       "Validation: 0it [00:00, ?it/s]"
      ]
     },
     "metadata": {},
     "output_type": "display_data"
    },
    {
     "data": {
      "application/vnd.jupyter.widget-view+json": {
       "model_id": "",
       "version_major": 2,
       "version_minor": 0
      },
      "text/plain": [
       "Validation: 0it [00:00, ?it/s]"
      ]
     },
     "metadata": {},
     "output_type": "display_data"
    },
    {
     "data": {
      "application/vnd.jupyter.widget-view+json": {
       "model_id": "",
       "version_major": 2,
       "version_minor": 0
      },
      "text/plain": [
       "Validation: 0it [00:00, ?it/s]"
      ]
     },
     "metadata": {},
     "output_type": "display_data"
    },
    {
     "data": {
      "application/vnd.jupyter.widget-view+json": {
       "model_id": "",
       "version_major": 2,
       "version_minor": 0
      },
      "text/plain": [
       "Validation: 0it [00:00, ?it/s]"
      ]
     },
     "metadata": {},
     "output_type": "display_data"
    },
    {
     "data": {
      "application/vnd.jupyter.widget-view+json": {
       "model_id": "",
       "version_major": 2,
       "version_minor": 0
      },
      "text/plain": [
       "Validation: 0it [00:00, ?it/s]"
      ]
     },
     "metadata": {},
     "output_type": "display_data"
    },
    {
     "data": {
      "application/vnd.jupyter.widget-view+json": {
       "model_id": "",
       "version_major": 2,
       "version_minor": 0
      },
      "text/plain": [
       "Validation: 0it [00:00, ?it/s]"
      ]
     },
     "metadata": {},
     "output_type": "display_data"
    },
    {
     "data": {
      "application/vnd.jupyter.widget-view+json": {
       "model_id": "413b285ee15f4f89ba09c126a71bc66c",
       "version_major": 2,
       "version_minor": 0
      },
      "text/plain": [
       "Validation: 0it [00:00, ?it/s]"
      ]
     },
     "metadata": {},
     "output_type": "display_data"
    },
    {
     "name": "stderr",
     "output_type": "stream",
     "text": [
      "LOCAL_RANK: 0 - CUDA_VISIBLE_DEVICES: [0]\n",
      "D:\\Anaconda\\envs\\torchGNN\\lib\\site-packages\\pytorch_lightning\\trainer\\connectors\\data_connector.py:430: PossibleUserWarning: The dataloader, test_dataloader, does not have many workers which may be a bottleneck. Consider increasing the value of the `num_workers` argument` (try 12 which is the number of cpus on this machine) in the `DataLoader` init to improve performance.\n",
      "  rank_zero_warn(\n"
     ]
    },
    {
     "data": {
      "application/vnd.jupyter.widget-view+json": {
       "model_id": "ee71d89e394a49a3af43d326ade01100",
       "version_major": 2,
       "version_minor": 0
      },
      "text/plain": [
       "Testing: 0it [00:00, ?it/s]"
      ]
     },
     "metadata": {},
     "output_type": "display_data"
    },
    {
     "data": {
      "text/html": [
       "<pre style=\"white-space:pre;overflow-x:auto;line-height:normal;font-family:Menlo,'DejaVu Sans Mono',consolas,'Courier New',monospace\">┏━━━━━━━━━━━━━━━━━━━━━━━━━━━┳━━━━━━━━━━━━━━━━━━━━━━━━━━━┓\n",
       "┃<span style=\"font-weight: bold\">        Test metric        </span>┃<span style=\"font-weight: bold\">       DataLoader 0        </span>┃\n",
       "┡━━━━━━━━━━━━━━━━━━━━━━━━━━━╇━━━━━━━━━━━━━━━━━━━━━━━━━━━┩\n",
       "│<span style=\"color: #008080; text-decoration-color: #008080\">         test_acc          </span>│<span style=\"color: #800080; text-decoration-color: #800080\">    0.9754328338637099     </span>│\n",
       "│<span style=\"color: #008080; text-decoration-color: #008080\">         test_loss         </span>│<span style=\"color: #800080; text-decoration-color: #800080\">    0.5566018223762512     </span>│\n",
       "└───────────────────────────┴───────────────────────────┘\n",
       "</pre>\n"
      ],
      "text/plain": [
       "┏━━━━━━━━━━━━━━━━━━━━━━━━━━━┳━━━━━━━━━━━━━━━━━━━━━━━━━━━┓\n",
       "┃\u001b[1m \u001b[0m\u001b[1m       Test metric       \u001b[0m\u001b[1m \u001b[0m┃\u001b[1m \u001b[0m\u001b[1m      DataLoader 0       \u001b[0m\u001b[1m \u001b[0m┃\n",
       "┡━━━━━━━━━━━━━━━━━━━━━━━━━━━╇━━━━━━━━━━━━━━━━━━━━━━━━━━━┩\n",
       "│\u001b[36m \u001b[0m\u001b[36m        test_acc         \u001b[0m\u001b[36m \u001b[0m│\u001b[35m \u001b[0m\u001b[35m   0.9754328338637099    \u001b[0m\u001b[35m \u001b[0m│\n",
       "│\u001b[36m \u001b[0m\u001b[36m        test_loss        \u001b[0m\u001b[36m \u001b[0m│\u001b[35m \u001b[0m\u001b[35m   0.5566018223762512    \u001b[0m\u001b[35m \u001b[0m│\n",
       "└───────────────────────────┴───────────────────────────┘\n"
      ]
     },
     "metadata": {},
     "output_type": "display_data"
    },
    {
     "data": {
      "text/plain": [
       "[{'test_loss': 0.5566018223762512, 'test_acc': 0.9754328338637099}]"
      ]
     },
     "execution_count": 15,
     "metadata": {},
     "output_type": "execute_result"
    }
   ],
   "source": [
    "from utils.model.RS_GCN import GCN\n",
    "\n",
    "dataset = AGDataset\n",
    "\n",
    "early_stop_callback = EarlyStopping(\n",
    "    monitor='val_loss',\n",
    "    min_delta=0.00,\n",
    "    patience=10,\n",
    "    verbose=False,\n",
    "    mode='min'\n",
    ")\n",
    "hparams = {\"DROUPOUT_RATE\": 0,  \n",
    "           \"BATCH_SIZE\": 64, \n",
    "           \"LEARNING_RATE\": 0.001,\n",
    "           \"NUM_NEIGHBORS\": [10, 10]\n",
    "           }  # The number of neighbors in each order of sampling\n",
    "\n",
    "tb_logger = pl_loggers.TensorBoardLogger(tb_logging_dir, name=exp_name)\n",
    " \n",
    "trainer = pl.Trainer(max_epochs=100,\n",
    "                     callbacks=[early_stop_callback],\n",
    "                     logger=tb_logger,\n",
    "                     log_every_n_steps=1,\n",
    "                     # accelerator=\"cpu\"\n",
    "                    # num_sanity_val_steps = 0\n",
    "                     )\n",
    "\n",
    "version_dir = os.path.join(\n",
    "    exp_dir, \"version_\"+str(trainer.logger.version))\n",
    "writer_acc = SummaryWriter(log_dir=version_dir)\n",
    "writer_loss = SummaryWriter(log_dir=version_dir)\n",
    "\n",
    "checkpoint_dir = os.path.join(version_dir, \"checkpoints\")\n",
    "print(\"Saving checkpoints to\", checkpoint_dir)\n",
    "\n",
    "GCNmodel = GCN(dataset=dataset, input_dim=dataset.num_features, hparams=hparams,\n",
    "                      writer_acc=writer_acc, writer_loss=writer_loss).to(device)\n",
    "GCNmodel.data_processing()\n",
    "\n",
    "trainer.fit(GCNmodel)\n",
    "trainer.test(GCNmodel)"
   ]
  },
  {
   "attachments": {},
   "cell_type": "markdown",
   "id": "a4e4a00d-c101-48ad-889c-8181519488b2",
   "metadata": {},
   "source": [
    "#### Upload trained model"
   ]
  },
  {
   "cell_type": "code",
   "execution_count": 4,
   "id": "60d0639f",
   "metadata": {},
   "outputs": [
    {
     "name": "stdout",
     "output_type": "stream",
     "text": [
      "Data Processing Done on: cpu\n"
     ]
    }
   ],
   "source": [
    "from utils.model.RS_GCN import GCN\n",
    "hparams = {\"DROUPOUT_RATE\": 0,  \n",
    "           \"BATCH_SIZE\": 64, \n",
    "           \"LEARNING_RATE\": 0.001,\n",
    "           \"NUM_NEIGHBORS\": [10, 10]\n",
    "           } \n",
    "checkpoint_dir = \"lightning_logs\\\\RS_AG_GCN\\\\best\\\\checkpoints\"\n",
    "checkpoint_file = os.path.join(checkpoint_dir, os.listdir(checkpoint_dir)[0])\n",
    "Loaded_model = GCN.load_from_checkpoint(checkpoint_file, dataset=dataset, input_dim=dataset.num_features, hparams=hparams, log_dir=\"lightning_logs\")\n",
    "Loaded_model.data_processing()"
   ]
  },
  {
   "cell_type": "code",
   "execution_count": 7,
   "id": "f0cee17e-b255-477a-b072-7dbdabcf38cc",
   "metadata": {},
   "outputs": [
    {
     "data": {
      "text/plain": [
       "tensor(False)"
      ]
     },
     "execution_count": 7,
     "metadata": {},
     "output_type": "execute_result"
    }
   ],
   "source": [
    "data = dataset[0]\n",
    "data.train_mask[1370]"
   ]
  },
  {
   "attachments": {},
   "cell_type": "markdown",
   "id": "f28b709b-a5eb-4ac0-98de-1d4093db3267",
   "metadata": {},
   "source": [
    "#### To see the mini-batch's number of negative edges:"
   ]
  },
  {
   "cell_type": "code",
   "execution_count": 8,
   "id": "7d998bf9-3b62-4e04-af52-1492628ae4d0",
   "metadata": {},
   "outputs": [
    {
     "data": {
      "text/plain": [
       "Data(x=[4207, 768], edge_index=[2, 6640], edge_label=[6640], train_mask=[4207], n_id=[4207], e_id=[6640], input_id=[64], batch_size=64)"
      ]
     },
     "execution_count": 8,
     "metadata": {},
     "output_type": "execute_result"
    }
   ],
   "source": [
    "tmpLoader = Loaded_model.train_dataloader()\n",
    "sample = next(iter(tmpLoader))\n",
    "sample"
   ]
  },
  {
   "cell_type": "code",
   "execution_count": 12,
   "id": "9b34dcda-7df4-475a-9d14-487aaf229521",
   "metadata": {},
   "outputs": [
    {
     "data": {
      "text/plain": [
       "tensor(True)"
      ]
     },
     "execution_count": 12,
     "metadata": {},
     "output_type": "execute_result"
    }
   ],
   "source": [
    "# data = dataset[0]\n",
    "sample.train_mask[1676]\n",
    "# sample.val_mask[1370]"
   ]
  },
  {
   "attachments": {},
   "cell_type": "markdown",
   "id": "f923690e-2b70-4f5b-878d-632fa4882d3b",
   "metadata": {},
   "source": [
    "#### To see the number of training positive edges:"
   ]
  },
  {
   "cell_type": "code",
   "execution_count": 8,
   "id": "d79cc2c6-55c0-470d-acf2-b92ee5d5e869",
   "metadata": {},
   "outputs": [
    {
     "data": {
      "text/plain": [
       "Data(x=[6614, 768], edge_index=[2, 7397], edge_label=[7397], train_mask=[6614])"
      ]
     },
     "execution_count": 8,
     "metadata": {},
     "output_type": "execute_result"
    }
   ],
   "source": [
    "Loaded_model.pos_data[\"train\"]"
   ]
  },
  {
   "attachments": {},
   "cell_type": "markdown",
   "id": "1b0ba76f-9f6e-4111-85dd-d0723e678252",
   "metadata": {},
   "source": [
    "#### Recommendation for a given node"
   ]
  },
  {
   "cell_type": "code",
   "execution_count": 5,
   "id": "cb44d638",
   "metadata": {},
   "outputs": [
    {
     "name": "stdout",
     "output_type": "stream",
     "text": [
      "Recommendation for node 1370 with title Non-linear matrix completion\n",
      "119 0.9999980926513672 R1-PCA: rotational invariant L1-norm principal component analysis for robust subspace factorization\n",
      "2914 0.9999758005142212 Two-dimensional PCA: a new approach to appearance-based face representation and recognition\n",
      "824 0.999971866607666 Convex and Semi-Nonnegative Matrix Factorizations\n",
      "761 0.9999206066131592 Efficient and Robust Feature Selection via Joint ℓ2, 1-Norms Minimization\n",
      "922 0.9998273849487305 Factor Group-Sparse Regularization for Efficient Low-Rank Matrix Recovery\n",
      "6157 0.9998210072517395 Orthogonal nonnegative matrix t-factorizations for clustering\n",
      "2167 0.999815046787262 On the Equivalence of Nonnegative Matrix Factorization and Spectral Clustering\n",
      "3879 0.9996364116668701 Robust nonnegative matrix factorization using L21-norm\n",
      "417 0.9995802044868469 Matrix Completion via Sparse Factorization Solved by Accelerated Proximal Alternating Linearized Minimization\n",
      "1886 0.999402642250061 RSP-Based Analysis for Sparsest and Least $\\ell_1$-Norm Solutions to Underdetermined Linear Systems\n"
     ]
    }
   ],
   "source": [
    "import torch.nn.functional as F\n",
    "def recommendation_by_transductive_model(A, model):\n",
    "    ## Return recommedation for A in the given graph\n",
    "    neg_graph = model.neg_data[\"all\"]\n",
    "    candidate = torch.zeros(neg_graph.num_edges)\n",
    "\n",
    "    candidate = neg_graph.edge_index[1, (neg_graph.edge_index[0] == A)].cpu()\n",
    "    candidate.sort()\n",
    "    num_candidates = len(candidate) \n",
    "    u = torch.ones(num_candidates, dtype=torch.int) * A\n",
    "    v = torch.Tensor(candidate)\n",
    "    candidate_link = torch.stack((u, v))\n",
    "\n",
    "    embedding = model.forward(model.pos_data[\"train\"].x, model.pos_data[\"train\"].edge_index)\n",
    "\n",
    "    scores = np.zeros(candidate.max()+1) - 1e8\n",
    "    \n",
    "    scores[v] = F.sigmoid((embedding[u] * embedding[v]).sum(dim=1)).detach().numpy()\n",
    "\n",
    "    rank_idx = np.argsort(scores)[::-1]\n",
    "    \n",
    "    pos_graph = model.pos_data[\"all\"]\n",
    "    print(\"Recommendation for node\", A, \"with title\", pos_graph.title[A])\n",
    "    for k in range(10):\n",
    "        print(rank_idx[k], scores[rank_idx[k]], pos_graph.title[rank_idx[k]])\n",
    "        \n",
    "recommendation_by_transductive_model(1370, Loaded_model)"
   ]
  },
  {
   "cell_type": "code",
   "execution_count": 6,
   "id": "6ea09b41-f1b8-407f-bd6b-0325be983f6d",
   "metadata": {},
   "outputs": [
    {
     "name": "stdout",
     "output_type": "stream",
     "text": [
      "Recommendation for node 1676 with title A Semismooth Newton Stochastic Proximal Point Algorithm with Variance Reduction\n",
      "6603 0.9996970891952515 Error Bound and Convergence Analysis of Matrix Splitting Algorithms for the Affine Variational Inequality Problem\n",
      "6356 0.9996414184570312 On the convergence of the coordinate descent method for convex differentiable minimization\n",
      "5541 0.9995827078819275 A Proximal Alternating Direction Method of Multiplier for Linearly Constrained Nonconvex Minimization\n",
      "267 0.9994171857833862 On the linear convergence of descent methods for convex essentially smooth minimization\n",
      "6519 0.9989262223243713 Quasi-maximum-likelihood multiuser detection using semi-definite relaxation with application to synchronous CDMA\n",
      "5699 0.9986081719398499 Dynamic Spectrum Management: Complexity and Duality\n",
      "6330 0.9983186721801758 Approximation Bounds for Quadratic Optimization with Homogeneous Quadratic Constraints\n",
      "1389 0.9982872605323792 Error bounds and convergence analysis of feasible descent methods: a general approach\n",
      "3640 0.9981445074081421 On the linear convergence of the alternating direction method of multipliers\n",
      "3575 0.9980852603912354 Transmit beamforming for physical-layer multicasting\n"
     ]
    }
   ],
   "source": [
    "recommendation_by_transductive_model(1676, Loaded_model)"
   ]
  },
  {
   "attachments": {},
   "cell_type": "markdown",
   "id": "e9883aa6-0b41-4118-9893-4bd21b8b77c6",
   "metadata": {},
   "source": [
    "#### Tensorboard"
   ]
  },
  {
   "cell_type": "code",
   "execution_count": null,
   "id": "af16183d",
   "metadata": {},
   "outputs": [],
   "source": [
    "# %reload_ext tensorboard\n",
    "# %tensorboard --logdir \"./lightning_logs\" --port 6005 --host=10.23.115.20"
   ]
  }
 ],
 "metadata": {
  "kernelspec": {
   "display_name": "Python 3 (ipykernel)",
   "language": "python",
   "name": "python3"
  },
  "language_info": {
   "codemirror_mode": {
    "name": "ipython",
    "version": 3
   },
   "file_extension": ".py",
   "mimetype": "text/x-python",
   "name": "python",
   "nbconvert_exporter": "python",
   "pygments_lexer": "ipython3",
   "version": "3.10.9"
  },
  "widgets": {
   "application/vnd.jupyter.widget-state+json": {
    "state": {
     "000435ba3a2d41278f149de4b64f6d53": {
      "model_module": "@jupyter-widgets/controls",
      "model_module_version": "2.0.0",
      "model_name": "FloatProgressModel",
      "state": {
       "layout": "IPY_MODEL_8bed8a7e9ca040679365371c0330a23b",
       "max": 62,
       "style": "IPY_MODEL_230563188a04472eb3d09dee837bf569",
       "value": 62
      }
     },
     "00461adb414344adbc23298949ca8334": {
      "model_module": "@jupyter-widgets/base",
      "model_module_version": "2.0.0",
      "model_name": "LayoutModel",
      "state": {}
     },
     "00494f1a6d304ee098221bf76ce50151": {
      "model_module": "@jupyter-widgets/base",
      "model_module_version": "2.0.0",
      "model_name": "LayoutModel",
      "state": {
       "display": "inline-flex",
       "flex_flow": "row wrap",
       "visibility": "hidden",
       "width": "100%"
      }
     },
     "0065c27b121e49868c9656a86166100e": {
      "model_module": "@jupyter-widgets/base",
      "model_module_version": "2.0.0",
      "model_name": "LayoutModel",
      "state": {}
     },
     "00b46ae45c9b4a20b9e51111464da4a5": {
      "model_module": "@jupyter-widgets/base",
      "model_module_version": "2.0.0",
      "model_name": "LayoutModel",
      "state": {
       "flex": "2"
      }
     },
     "020ea37aeb50479ca92c1e4471f9b7cb": {
      "model_module": "@jupyter-widgets/base",
      "model_module_version": "2.0.0",
      "model_name": "LayoutModel",
      "state": {}
     },
     "02a87a00a8b146f7a7fb8cc0066324f9": {
      "model_module": "@jupyter-widgets/base",
      "model_module_version": "2.0.0",
      "model_name": "LayoutModel",
      "state": {}
     },
     "03507fb3de8b45e2a6bd0120ffaeedb0": {
      "model_module": "@jupyter-widgets/base",
      "model_module_version": "2.0.0",
      "model_name": "LayoutModel",
      "state": {}
     },
     "03e7034117d4473299239a9c2ca14d31": {
      "model_module": "@jupyter-widgets/controls",
      "model_module_version": "2.0.0",
      "model_name": "HTMLStyleModel",
      "state": {
       "description_width": "",
       "font_size": null,
       "text_color": null
      }
     },
     "03fa486148154b7ca29ddc30ab97b3ff": {
      "model_module": "@jupyter-widgets/base",
      "model_module_version": "2.0.0",
      "model_name": "LayoutModel",
      "state": {}
     },
     "04168fd27da64153a40cff9912c923c3": {
      "model_module": "@jupyter-widgets/controls",
      "model_module_version": "2.0.0",
      "model_name": "FloatProgressModel",
      "state": {
       "layout": "IPY_MODEL_b29fd902feca4575b10c2172c0243f4c",
       "max": 62,
       "style": "IPY_MODEL_a041071b4fc84cb382db2245848e3e83",
       "value": 62
      }
     },
     "04dab5a48b454c279838b3db90e46a0d": {
      "model_module": "@jupyter-widgets/base",
      "model_module_version": "2.0.0",
      "model_name": "LayoutModel",
      "state": {
       "display": "inline-flex",
       "flex_flow": "row wrap",
       "visibility": "hidden",
       "width": "100%"
      }
     },
     "05a29c064c4b4364bad146d7946f4430": {
      "model_module": "@jupyter-widgets/controls",
      "model_module_version": "2.0.0",
      "model_name": "HTMLModel",
      "state": {
       "layout": "IPY_MODEL_71b8f0a9e6d647ceb1bd32dec3471131",
       "style": "IPY_MODEL_ede7f7721c7f496cb8635f0786b0537a",
       "value": " 62/62 [00:01&lt;00:00, 32.32it/s]"
      }
     },
     "07c45bff39954619babdf40af657171f": {
      "model_module": "@jupyter-widgets/controls",
      "model_module_version": "2.0.0",
      "model_name": "HTMLModel",
      "state": {
       "layout": "IPY_MODEL_500f947c0c684a9081378e407f2814cb",
       "style": "IPY_MODEL_3060892565f74846958722e85021b065",
       "value": " 62/62 [00:01&lt;00:00, 35.25it/s]"
      }
     },
     "07e2c1b69d654448a397612a782bbfa2": {
      "model_module": "@jupyter-widgets/base",
      "model_module_version": "2.0.0",
      "model_name": "LayoutModel",
      "state": {
       "display": "inline-flex",
       "flex_flow": "row wrap",
       "visibility": "hidden",
       "width": "100%"
      }
     },
     "0844ff2948c14252b9ba1ed86157e341": {
      "model_module": "@jupyter-widgets/controls",
      "model_module_version": "2.0.0",
      "model_name": "HTMLStyleModel",
      "state": {
       "description_width": "",
       "font_size": null,
       "text_color": null
      }
     },
     "0862d2e6977448fb9672a98f6e1dee04": {
      "model_module": "@jupyter-widgets/controls",
      "model_module_version": "2.0.0",
      "model_name": "HTMLStyleModel",
      "state": {
       "description_width": "",
       "font_size": null,
       "text_color": null
      }
     },
     "096ea894ef4246698e5968240f320065": {
      "model_module": "@jupyter-widgets/base",
      "model_module_version": "2.0.0",
      "model_name": "LayoutModel",
      "state": {
       "flex": "2"
      }
     },
     "0a3f7566060440a18bcdedfb13a34e46": {
      "model_module": "@jupyter-widgets/controls",
      "model_module_version": "2.0.0",
      "model_name": "HTMLModel",
      "state": {
       "layout": "IPY_MODEL_2263fa3ebe7245d6a2658d5aef30bdbf",
       "style": "IPY_MODEL_50d0b52b8ac54ec2ae91bcc280570de5",
       "value": " 62/62 [00:04&lt;00:00, 14.26it/s, v_num=7, train_acc=0.994, val_loss=0.557, val_acc=0.975]"
      }
     },
     "0aeed6d538ce4eed8a7e6bfab140ca94": {
      "model_module": "@jupyter-widgets/base",
      "model_module_version": "2.0.0",
      "model_name": "LayoutModel",
      "state": {
       "display": "inline-flex",
       "flex_flow": "row wrap",
       "visibility": "hidden",
       "width": "100%"
      }
     },
     "0beadb089bae424e956b9198a1f73959": {
      "model_module": "@jupyter-widgets/base",
      "model_module_version": "2.0.0",
      "model_name": "LayoutModel",
      "state": {}
     },
     "0cc99171c620400bbc0a7948dacfaf24": {
      "model_module": "@jupyter-widgets/base",
      "model_module_version": "2.0.0",
      "model_name": "LayoutModel",
      "state": {}
     },
     "0ce54cbaaeae4d3a8e6c225f3de949b7": {
      "model_module": "@jupyter-widgets/base",
      "model_module_version": "2.0.0",
      "model_name": "LayoutModel",
      "state": {
       "flex": "2"
      }
     },
     "0cfcbac1eebd4b199bcd17850dcbf759": {
      "model_module": "@jupyter-widgets/controls",
      "model_module_version": "2.0.0",
      "model_name": "HTMLStyleModel",
      "state": {
       "description_width": "",
       "font_size": null,
       "text_color": null
      }
     },
     "0d2b58e8028145ddba4298d236218990": {
      "model_module": "@jupyter-widgets/controls",
      "model_module_version": "2.0.0",
      "model_name": "HTMLStyleModel",
      "state": {
       "description_width": "",
       "font_size": null,
       "text_color": null
      }
     },
     "0d6e276a460f40839b03659855ecf89a": {
      "model_module": "@jupyter-widgets/controls",
      "model_module_version": "2.0.0",
      "model_name": "HTMLStyleModel",
      "state": {
       "description_width": "",
       "font_size": null,
       "text_color": null
      }
     },
     "0d74bff0061e4fe7baf2dfb90ae06c1f": {
      "model_module": "@jupyter-widgets/base",
      "model_module_version": "2.0.0",
      "model_name": "LayoutModel",
      "state": {
       "display": "inline-flex",
       "flex_flow": "row wrap",
       "visibility": "hidden",
       "width": "100%"
      }
     },
     "0daa66cd62c647d0b099edc8b5294e4d": {
      "model_module": "@jupyter-widgets/controls",
      "model_module_version": "2.0.0",
      "model_name": "HTMLModel",
      "state": {
       "layout": "IPY_MODEL_ee0b1fcb625045bfa2ea4b94b9e57349",
       "style": "IPY_MODEL_8af60933a9564691975cd7110fe55f58",
       "value": "Validation DataLoader 0: 100%"
      }
     },
     "0dbde5d2661749eb840b770754da81cb": {
      "model_module": "@jupyter-widgets/controls",
      "model_module_version": "2.0.0",
      "model_name": "FloatProgressModel",
      "state": {
       "layout": "IPY_MODEL_0ce54cbaaeae4d3a8e6c225f3de949b7",
       "max": 62,
       "style": "IPY_MODEL_48a5936c76f443e892d0e2e530d015ab",
       "value": 62
      }
     },
     "0ed88fcbf9934b07b87a79654a08edd4": {
      "model_module": "@jupyter-widgets/base",
      "model_module_version": "2.0.0",
      "model_name": "LayoutModel",
      "state": {
       "flex": "2"
      }
     },
     "0ede18eb33b34801afd509f53ba6b1aa": {
      "model_module": "@jupyter-widgets/base",
      "model_module_version": "2.0.0",
      "model_name": "LayoutModel",
      "state": {}
     },
     "0ee97bc45af64581a0453de6c5477f1b": {
      "model_module": "@jupyter-widgets/base",
      "model_module_version": "2.0.0",
      "model_name": "LayoutModel",
      "state": {}
     },
     "0eeed5202ac04e5082ce551164007605": {
      "model_module": "@jupyter-widgets/controls",
      "model_module_version": "2.0.0",
      "model_name": "HTMLModel",
      "state": {
       "layout": "IPY_MODEL_4802c9b7e0274b15bb532971c58dca48",
       "style": "IPY_MODEL_b99d0bb8b5de4f398d7da0ad802cb975",
       "value": " 62/62 [00:01&lt;00:00, 35.77it/s]"
      }
     },
     "0f5b4b3fce33432ab032fdc000ef854c": {
      "model_module": "@jupyter-widgets/controls",
      "model_module_version": "2.0.0",
      "model_name": "FloatProgressModel",
      "state": {
       "layout": "IPY_MODEL_147a8bcf74ab4a8a895a19537dcfc7dc",
       "max": 62,
       "style": "IPY_MODEL_aad0f2ae3b5d417f952d9c5856d11cf4",
       "value": 62
      }
     },
     "0fbe5eef53ec43ff8c187d9b7aff61dd": {
      "model_module": "@jupyter-widgets/base",
      "model_module_version": "2.0.0",
      "model_name": "LayoutModel",
      "state": {}
     },
     "100e64b5246840b9aaff0554389fc13e": {
      "model_module": "@jupyter-widgets/base",
      "model_module_version": "2.0.0",
      "model_name": "LayoutModel",
      "state": {}
     },
     "1049d0939a6f46f2b09ca07e25a96cbd": {
      "model_module": "@jupyter-widgets/base",
      "model_module_version": "2.0.0",
      "model_name": "LayoutModel",
      "state": {
       "display": "inline-flex",
       "flex_flow": "row wrap",
       "visibility": "hidden",
       "width": "100%"
      }
     },
     "10f9c39ab6364a1fad56c9fd3747e0f5": {
      "model_module": "@jupyter-widgets/base",
      "model_module_version": "2.0.0",
      "model_name": "LayoutModel",
      "state": {
       "flex": "2"
      }
     },
     "1112bd4d8ecc4c8d869dcee113abea54": {
      "model_module": "@jupyter-widgets/base",
      "model_module_version": "2.0.0",
      "model_name": "LayoutModel",
      "state": {
       "display": "inline-flex",
       "flex_flow": "row wrap",
       "visibility": "hidden",
       "width": "100%"
      }
     },
     "113ac0d03107443b90ed74ad9e35f245": {
      "model_module": "@jupyter-widgets/controls",
      "model_module_version": "2.0.0",
      "model_name": "HTMLStyleModel",
      "state": {
       "description_width": "",
       "font_size": null,
       "text_color": null
      }
     },
     "11950a9e45f7465b99a55f313fb952cc": {
      "model_module": "@jupyter-widgets/controls",
      "model_module_version": "2.0.0",
      "model_name": "HTMLModel",
      "state": {
       "layout": "IPY_MODEL_9c6efc30b8e7443194ae5d9f1a8915e8",
       "style": "IPY_MODEL_6db139fef1464433a6b01b383c345f8a",
       "value": "Validation DataLoader 0: 100%"
      }
     },
     "11efcd3cac1747069d13bcc07c1130ee": {
      "model_module": "@jupyter-widgets/base",
      "model_module_version": "2.0.0",
      "model_name": "LayoutModel",
      "state": {}
     },
     "1273f7686ebd4fb48eb578bfec4e4dae": {
      "model_module": "@jupyter-widgets/controls",
      "model_module_version": "2.0.0",
      "model_name": "HTMLModel",
      "state": {
       "layout": "IPY_MODEL_80c3a3f8ca4149ce912a57a15241f7b5",
       "style": "IPY_MODEL_ca64f8cb0d974a72a8666672b489ceee",
       "value": "Validation DataLoader 0: 100%"
      }
     },
     "1299cd72076546a5af1c5582541ad128": {
      "model_module": "@jupyter-widgets/controls",
      "model_module_version": "2.0.0",
      "model_name": "HTMLStyleModel",
      "state": {
       "description_width": "",
       "font_size": null,
       "text_color": null
      }
     },
     "12a9ef45ffaf45869280664a823f0897": {
      "model_module": "@jupyter-widgets/controls",
      "model_module_version": "2.0.0",
      "model_name": "HTMLModel",
      "state": {
       "layout": "IPY_MODEL_9f5456d587744af29ee913c4d10be7be",
       "style": "IPY_MODEL_ff895b17869c46fc9c0116e418fcddce",
       "value": "Validation DataLoader 0: 100%"
      }
     },
     "1358f121ae894e68b86d2469d375b84c": {
      "model_module": "@jupyter-widgets/base",
      "model_module_version": "2.0.0",
      "model_name": "LayoutModel",
      "state": {}
     },
     "13b62ffe32e9488fa6c94851eba74d06": {
      "model_module": "@jupyter-widgets/controls",
      "model_module_version": "2.0.0",
      "model_name": "FloatProgressModel",
      "state": {
       "layout": "IPY_MODEL_de2eb9ee7b1a4f2080be978d92bc245a",
       "max": 62,
       "style": "IPY_MODEL_312d2e8bae56409fad5fa5664e7baf86",
       "value": 62
      }
     },
     "142aad64daaa4bdeb53e99b6fb89ad70": {
      "model_module": "@jupyter-widgets/controls",
      "model_module_version": "2.0.0",
      "model_name": "HTMLStyleModel",
      "state": {
       "description_width": "",
       "font_size": null,
       "text_color": null
      }
     },
     "147a8bcf74ab4a8a895a19537dcfc7dc": {
      "model_module": "@jupyter-widgets/base",
      "model_module_version": "2.0.0",
      "model_name": "LayoutModel",
      "state": {
       "flex": "2"
      }
     },
     "14883922abe14f96ac3f29659ed67fa8": {
      "model_module": "@jupyter-widgets/controls",
      "model_module_version": "2.0.0",
      "model_name": "ProgressStyleModel",
      "state": {
       "description_width": ""
      }
     },
     "14f656f2eb22477da11321e0fcc4051b": {
      "model_module": "@jupyter-widgets/base",
      "model_module_version": "2.0.0",
      "model_name": "LayoutModel",
      "state": {
       "display": "inline-flex",
       "flex_flow": "row wrap",
       "visibility": "hidden",
       "width": "100%"
      }
     },
     "155e20fdac2a4c09bea2486fe422de41": {
      "model_module": "@jupyter-widgets/base",
      "model_module_version": "2.0.0",
      "model_name": "LayoutModel",
      "state": {}
     },
     "15668d0adfa143ca97c0e6fcf34bb733": {
      "model_module": "@jupyter-widgets/controls",
      "model_module_version": "2.0.0",
      "model_name": "ProgressStyleModel",
      "state": {
       "description_width": ""
      }
     },
     "15a19a7fcde041698852e1599282f264": {
      "model_module": "@jupyter-widgets/controls",
      "model_module_version": "2.0.0",
      "model_name": "FloatProgressModel",
      "state": {
       "layout": "IPY_MODEL_cf2784cfffb74ea4ae5eaec589742161",
       "max": 62,
       "style": "IPY_MODEL_8b48318cf3a04677b9e0158107d2bccb",
       "value": 62
      }
     },
     "15e69771b9b343c2829c93fd2177f3fb": {
      "model_module": "@jupyter-widgets/base",
      "model_module_version": "2.0.0",
      "model_name": "LayoutModel",
      "state": {
       "display": "inline-flex",
       "flex_flow": "row wrap",
       "visibility": "hidden",
       "width": "100%"
      }
     },
     "15f4bd2f344c4c3d9a1026ce0e61f5a2": {
      "model_module": "@jupyter-widgets/base",
      "model_module_version": "2.0.0",
      "model_name": "LayoutModel",
      "state": {}
     },
     "160b4612103e4fedbf6437664176dff3": {
      "model_module": "@jupyter-widgets/base",
      "model_module_version": "2.0.0",
      "model_name": "LayoutModel",
      "state": {
       "display": "inline-flex",
       "flex_flow": "row wrap",
       "visibility": "hidden",
       "width": "100%"
      }
     },
     "177a0956e5694546ba7bd1aab65bc436": {
      "model_module": "@jupyter-widgets/base",
      "model_module_version": "2.0.0",
      "model_name": "LayoutModel",
      "state": {
       "display": "inline-flex",
       "flex_flow": "row wrap",
       "width": "100%"
      }
     },
     "194b1db8050742f9a8d958695ba70448": {
      "model_module": "@jupyter-widgets/controls",
      "model_module_version": "2.0.0",
      "model_name": "ProgressStyleModel",
      "state": {
       "description_width": ""
      }
     },
     "19a59d0e795844b989eae2ea176b7dee": {
      "model_module": "@jupyter-widgets/controls",
      "model_module_version": "2.0.0",
      "model_name": "HTMLModel",
      "state": {
       "layout": "IPY_MODEL_9936f3ad7d6040d79d3251abf6ec21dd",
       "style": "IPY_MODEL_88c489c2099149b188f92d2ce31bfc9d",
       "value": "Validation DataLoader 0: 100%"
      }
     },
     "1ac595d4daf644c3acbace9ae68fdc76": {
      "model_module": "@jupyter-widgets/base",
      "model_module_version": "2.0.0",
      "model_name": "LayoutModel",
      "state": {}
     },
     "1afe275a5d814facb1311f2457ba5e4e": {
      "model_module": "@jupyter-widgets/controls",
      "model_module_version": "2.0.0",
      "model_name": "HTMLModel",
      "state": {
       "layout": "IPY_MODEL_6b65dfccebf04536a9d28f93275e86d1",
       "style": "IPY_MODEL_c487365f346d4900b7387086edd21870",
       "value": "Validation DataLoader 0: 100%"
      }
     },
     "1b277b18fb42499f8069ed0b859a6566": {
      "model_module": "@jupyter-widgets/controls",
      "model_module_version": "2.0.0",
      "model_name": "HTMLModel",
      "state": {
       "layout": "IPY_MODEL_ba8bbf72214a456db89cb4d03ab7a6ec",
       "style": "IPY_MODEL_56a3d58cd97e4cb596d726bf3a3fd7c9",
       "value": "Validation DataLoader 0: 100%"
      }
     },
     "1bd8fa3666fb467995de995fd1daea18": {
      "model_module": "@jupyter-widgets/controls",
      "model_module_version": "2.0.0",
      "model_name": "HTMLStyleModel",
      "state": {
       "description_width": "",
       "font_size": null,
       "text_color": null
      }
     },
     "1e060969de0b4ba5990fb330f4ce6d53": {
      "model_module": "@jupyter-widgets/base",
      "model_module_version": "2.0.0",
      "model_name": "LayoutModel",
      "state": {}
     },
     "1fa920e9072d4390b55336b5b0d273b7": {
      "model_module": "@jupyter-widgets/controls",
      "model_module_version": "2.0.0",
      "model_name": "HTMLModel",
      "state": {
       "layout": "IPY_MODEL_9cce73efceec4adba60a8cbf1c2feb0a",
       "style": "IPY_MODEL_c9f7aea5080b46298a4191fbaab595a5",
       "value": " 62/62 [00:01&lt;00:00, 31.01it/s]"
      }
     },
     "2042bf8ed68142f98942e8001193e963": {
      "model_module": "@jupyter-widgets/base",
      "model_module_version": "2.0.0",
      "model_name": "LayoutModel",
      "state": {}
     },
     "20bf077361f2402196a7931892eca3f3": {
      "model_module": "@jupyter-widgets/base",
      "model_module_version": "2.0.0",
      "model_name": "LayoutModel",
      "state": {
       "display": "inline-flex",
       "flex_flow": "row wrap",
       "visibility": "hidden",
       "width": "100%"
      }
     },
     "215b12b255ae41779f6e1f2d770643c9": {
      "model_module": "@jupyter-widgets/controls",
      "model_module_version": "2.0.0",
      "model_name": "HTMLModel",
      "state": {
       "layout": "IPY_MODEL_1ac595d4daf644c3acbace9ae68fdc76",
       "style": "IPY_MODEL_4ef1aaf9f2b44b178c890e878a6a9be9",
       "value": " 62/62 [00:01&lt;00:00, 35.47it/s]"
      }
     },
     "2263fa3ebe7245d6a2658d5aef30bdbf": {
      "model_module": "@jupyter-widgets/base",
      "model_module_version": "2.0.0",
      "model_name": "LayoutModel",
      "state": {}
     },
     "22cc759af4164af18ea7da0b2c0b47f4": {
      "model_module": "@jupyter-widgets/controls",
      "model_module_version": "2.0.0",
      "model_name": "HTMLStyleModel",
      "state": {
       "description_width": "",
       "font_size": null,
       "text_color": null
      }
     },
     "22e4bcafc6d34739aee1d9bdc7044f32": {
      "model_module": "@jupyter-widgets/controls",
      "model_module_version": "2.0.0",
      "model_name": "HTMLStyleModel",
      "state": {
       "description_width": "",
       "font_size": null,
       "text_color": null
      }
     },
     "22e82db5f4e74253a15bfdded786543c": {
      "model_module": "@jupyter-widgets/base",
      "model_module_version": "2.0.0",
      "model_name": "LayoutModel",
      "state": {}
     },
     "230563188a04472eb3d09dee837bf569": {
      "model_module": "@jupyter-widgets/controls",
      "model_module_version": "2.0.0",
      "model_name": "ProgressStyleModel",
      "state": {
       "description_width": ""
      }
     },
     "23442939895443598be76e97b8de89d9": {
      "model_module": "@jupyter-widgets/controls",
      "model_module_version": "2.0.0",
      "model_name": "ProgressStyleModel",
      "state": {
       "description_width": ""
      }
     },
     "23d4eca02aaf4bf390ae29b4768ae6c6": {
      "model_module": "@jupyter-widgets/base",
      "model_module_version": "2.0.0",
      "model_name": "LayoutModel",
      "state": {}
     },
     "2451452241ce4e0ab81892f4a2c98782": {
      "model_module": "@jupyter-widgets/controls",
      "model_module_version": "2.0.0",
      "model_name": "HTMLModel",
      "state": {
       "layout": "IPY_MODEL_abc8d54d9605436aa7c37e9ba55f74cc",
       "style": "IPY_MODEL_9ad20079b09d4268843aeb0b85c537ee",
       "value": " 62/62 [00:01&lt;00:00, 35.14it/s]"
      }
     },
     "250b18d46c6442a3a1f765b8ac75a33e": {
      "model_module": "@jupyter-widgets/controls",
      "model_module_version": "2.0.0",
      "model_name": "ProgressStyleModel",
      "state": {
       "description_width": ""
      }
     },
     "2595b0f3cad5443492a9532b4d067442": {
      "model_module": "@jupyter-widgets/base",
      "model_module_version": "2.0.0",
      "model_name": "LayoutModel",
      "state": {
       "flex": "2"
      }
     },
     "266c3beadeca4a4eb22420277ace36de": {
      "model_module": "@jupyter-widgets/base",
      "model_module_version": "2.0.0",
      "model_name": "LayoutModel",
      "state": {
       "flex": "2"
      }
     },
     "278c86c2dd1d43f191d3770c2d0e2f7a": {
      "model_module": "@jupyter-widgets/base",
      "model_module_version": "2.0.0",
      "model_name": "LayoutModel",
      "state": {
       "flex": "2"
      }
     },
     "27e07a8ac43a4b9680457a76de3627e0": {
      "model_module": "@jupyter-widgets/controls",
      "model_module_version": "2.0.0",
      "model_name": "HTMLStyleModel",
      "state": {
       "description_width": "",
       "font_size": null,
       "text_color": null
      }
     },
     "28e25001602946e8ad3dc5e2257e3fa9": {
      "model_module": "@jupyter-widgets/controls",
      "model_module_version": "2.0.0",
      "model_name": "ProgressStyleModel",
      "state": {
       "description_width": ""
      }
     },
     "292033f5eac2444d867b06add37afb95": {
      "model_module": "@jupyter-widgets/controls",
      "model_module_version": "2.0.0",
      "model_name": "HTMLModel",
      "state": {
       "layout": "IPY_MODEL_8015aa85e2dc4095b3dbaf71dfa92d5b",
       "style": "IPY_MODEL_b81eea623a884f01a999664dd7d19bbe",
       "value": " 62/62 [00:01&lt;00:00, 34.22it/s]"
      }
     },
     "299f33aabf6b44889cd6d0a5599ccc62": {
      "model_module": "@jupyter-widgets/base",
      "model_module_version": "2.0.0",
      "model_name": "LayoutModel",
      "state": {}
     },
     "2a505aba8df54d449fc20d7a45f6cae0": {
      "model_module": "@jupyter-widgets/controls",
      "model_module_version": "2.0.0",
      "model_name": "ProgressStyleModel",
      "state": {
       "description_width": ""
      }
     },
     "2a9aa34f3c604720a41275422205b68c": {
      "model_module": "@jupyter-widgets/controls",
      "model_module_version": "2.0.0",
      "model_name": "HTMLStyleModel",
      "state": {
       "description_width": "",
       "font_size": null,
       "text_color": null
      }
     },
     "2aae57d084e54f378dce83c274017e46": {
      "model_module": "@jupyter-widgets/controls",
      "model_module_version": "2.0.0",
      "model_name": "HTMLModel",
      "state": {
       "layout": "IPY_MODEL_eef2103ef3a545c0923a5d96aecb4f0d",
       "style": "IPY_MODEL_22e4bcafc6d34739aee1d9bdc7044f32",
       "value": " 62/62 [00:01&lt;00:00, 35.13it/s]"
      }
     },
     "2cbd04973a994aaca5046081cb599c77": {
      "model_module": "@jupyter-widgets/base",
      "model_module_version": "2.0.0",
      "model_name": "LayoutModel",
      "state": {
       "flex": "2"
      }
     },
     "2e7770f98ae54f9aafbd43a8c1c07f4e": {
      "model_module": "@jupyter-widgets/controls",
      "model_module_version": "2.0.0",
      "model_name": "HTMLModel",
      "state": {
       "layout": "IPY_MODEL_79362ea5267b4a49b52c83ffee06f7ed",
       "style": "IPY_MODEL_f358f5e4d1a0437db39bda9ba24112de",
       "value": "Validation DataLoader 0: 100%"
      }
     },
     "2ed5b7f5966e48939e43d2746ab925a1": {
      "model_module": "@jupyter-widgets/base",
      "model_module_version": "2.0.0",
      "model_name": "LayoutModel",
      "state": {
       "display": "inline-flex",
       "flex_flow": "row wrap",
       "visibility": "hidden",
       "width": "100%"
      }
     },
     "2edd9532f34044a8b287518ef7d1cedb": {
      "model_module": "@jupyter-widgets/base",
      "model_module_version": "2.0.0",
      "model_name": "LayoutModel",
      "state": {
       "flex": "2"
      }
     },
     "2f02f8533fb945dbac07802072fae92e": {
      "model_module": "@jupyter-widgets/controls",
      "model_module_version": "2.0.0",
      "model_name": "HTMLModel",
      "state": {
       "layout": "IPY_MODEL_92662fb4938a4e4ba7aea94b79338ea6",
       "style": "IPY_MODEL_625a2668b15240d8b3f509f161fb7783",
       "value": " 62/62 [00:01&lt;00:00, 35.66it/s]"
      }
     },
     "2f0c57ed286f4267beb7e18a1fd11444": {
      "model_module": "@jupyter-widgets/base",
      "model_module_version": "2.0.0",
      "model_name": "LayoutModel",
      "state": {
       "flex": "2"
      }
     },
     "2f520c1a36ae445aa2963628dc8797bc": {
      "model_module": "@jupyter-widgets/controls",
      "model_module_version": "2.0.0",
      "model_name": "FloatProgressModel",
      "state": {
       "layout": "IPY_MODEL_c28baab2fdba4efd963381989761d0c1",
       "max": 62,
       "style": "IPY_MODEL_d9de9c7730044db79abc392a4bfe2192",
       "value": 62
      }
     },
     "2f98bf01d8384f2faecc26944a05efd4": {
      "model_module": "@jupyter-widgets/base",
      "model_module_version": "2.0.0",
      "model_name": "LayoutModel",
      "state": {}
     },
     "30062f23cdfa415a8d9316c755b97574": {
      "model_module": "@jupyter-widgets/controls",
      "model_module_version": "2.0.0",
      "model_name": "HTMLModel",
      "state": {
       "layout": "IPY_MODEL_0cc99171c620400bbc0a7948dacfaf24",
       "style": "IPY_MODEL_1bd8fa3666fb467995de995fd1daea18",
       "value": "Validation DataLoader 0: 100%"
      }
     },
     "302aa81fa7c04b00bf2fe9b180ca1fb5": {
      "model_module": "@jupyter-widgets/controls",
      "model_module_version": "2.0.0",
      "model_name": "FloatProgressModel",
      "state": {
       "layout": "IPY_MODEL_a9068bf153f64b53a8c5b44416838fd3",
       "max": 62,
       "style": "IPY_MODEL_a58d1702238f418db9da185a985ec4d4",
       "value": 62
      }
     },
     "3060892565f74846958722e85021b065": {
      "model_module": "@jupyter-widgets/controls",
      "model_module_version": "2.0.0",
      "model_name": "HTMLStyleModel",
      "state": {
       "description_width": "",
       "font_size": null,
       "text_color": null
      }
     },
     "312d2e8bae56409fad5fa5664e7baf86": {
      "model_module": "@jupyter-widgets/controls",
      "model_module_version": "2.0.0",
      "model_name": "ProgressStyleModel",
      "state": {
       "description_width": ""
      }
     },
     "32a094dec38c462c8b00302921a9f0d8": {
      "model_module": "@jupyter-widgets/controls",
      "model_module_version": "2.0.0",
      "model_name": "FloatProgressModel",
      "state": {
       "layout": "IPY_MODEL_e7e0794c72e64c82b8c6c624fb86c991",
       "max": 62,
       "style": "IPY_MODEL_4b8516c8f3cb43448b21744a5ca62313",
       "value": 62
      }
     },
     "32e3d1bac298430ea458b02814a94ca6": {
      "model_module": "@jupyter-widgets/controls",
      "model_module_version": "2.0.0",
      "model_name": "HTMLModel",
      "state": {
       "layout": "IPY_MODEL_00461adb414344adbc23298949ca8334",
       "style": "IPY_MODEL_ea4a3dc76a264d41829fbea0cdbf5222",
       "value": " 62/62 [00:01&lt;00:00, 35.13it/s]"
      }
     },
     "3435cb95874240ac8b4b91718a98534f": {
      "model_module": "@jupyter-widgets/controls",
      "model_module_version": "2.0.0",
      "model_name": "HTMLModel",
      "state": {
       "layout": "IPY_MODEL_ae640fa5c35e4355978169ec878cd822",
       "style": "IPY_MODEL_5f6f07018df949ddaff8f25f2141ebcb",
       "value": " 62/62 [00:02&lt;00:00, 30.54it/s]"
      }
     },
     "346fa5149bb64221a3c7924ce3b6036e": {
      "model_module": "@jupyter-widgets/controls",
      "model_module_version": "2.0.0",
      "model_name": "HTMLStyleModel",
      "state": {
       "description_width": "",
       "font_size": null,
       "text_color": null
      }
     },
     "34fb2f01bfe9439b894ae8881133c2e1": {
      "model_module": "@jupyter-widgets/base",
      "model_module_version": "2.0.0",
      "model_name": "LayoutModel",
      "state": {
       "display": "inline-flex",
       "flex_flow": "row wrap",
       "visibility": "hidden",
       "width": "100%"
      }
     },
     "35581a272aef4111afcbd02b825a14b6": {
      "model_module": "@jupyter-widgets/base",
      "model_module_version": "2.0.0",
      "model_name": "LayoutModel",
      "state": {}
     },
     "3628b3ca2ba542bbb549c184d9dfc368": {
      "model_module": "@jupyter-widgets/base",
      "model_module_version": "2.0.0",
      "model_name": "LayoutModel",
      "state": {}
     },
     "36a493ac84304164b3da83758675bc6b": {
      "model_module": "@jupyter-widgets/controls",
      "model_module_version": "2.0.0",
      "model_name": "ProgressStyleModel",
      "state": {
       "description_width": ""
      }
     },
     "36dce950b88345b8bcecec9838e20caf": {
      "model_module": "@jupyter-widgets/controls",
      "model_module_version": "2.0.0",
      "model_name": "HTMLStyleModel",
      "state": {
       "description_width": "",
       "font_size": null,
       "text_color": null
      }
     },
     "36e6795fd34348a29e85e70e7c14c8c5": {
      "model_module": "@jupyter-widgets/controls",
      "model_module_version": "2.0.0",
      "model_name": "HTMLStyleModel",
      "state": {
       "description_width": "",
       "font_size": null,
       "text_color": null
      }
     },
     "370a80c5a8bd441ea8dd83b3f35a571c": {
      "model_module": "@jupyter-widgets/controls",
      "model_module_version": "2.0.0",
      "model_name": "HTMLModel",
      "state": {
       "layout": "IPY_MODEL_e1a565047ee94efa9203e0c8e0111e05",
       "style": "IPY_MODEL_27e07a8ac43a4b9680457a76de3627e0",
       "value": " 62/62 [00:01&lt;00:00, 32.78it/s]"
      }
     },
     "376ce2e649a542abaac1e8a47f9e1131": {
      "model_module": "@jupyter-widgets/base",
      "model_module_version": "2.0.0",
      "model_name": "LayoutModel",
      "state": {}
     },
     "3916777517674894a206223f916e6689": {
      "model_module": "@jupyter-widgets/controls",
      "model_module_version": "2.0.0",
      "model_name": "HTMLStyleModel",
      "state": {
       "description_width": "",
       "font_size": null,
       "text_color": null
      }
     },
     "39ad4deecdf8466f930f460419f49eb2": {
      "model_module": "@jupyter-widgets/base",
      "model_module_version": "2.0.0",
      "model_name": "LayoutModel",
      "state": {
       "flex": "2"
      }
     },
     "39d197a0ee6448fcafbd5e1dfe2748ce": {
      "model_module": "@jupyter-widgets/controls",
      "model_module_version": "2.0.0",
      "model_name": "HTMLStyleModel",
      "state": {
       "description_width": "",
       "font_size": null,
       "text_color": null
      }
     },
     "39f2b9d4a75346ae822d080d20746ec6": {
      "model_module": "@jupyter-widgets/controls",
      "model_module_version": "2.0.0",
      "model_name": "HTMLStyleModel",
      "state": {
       "description_width": "",
       "font_size": null,
       "text_color": null
      }
     },
     "3a70bcd031624f3a8bd232e11a51e903": {
      "model_module": "@jupyter-widgets/controls",
      "model_module_version": "2.0.0",
      "model_name": "FloatProgressModel",
      "state": {
       "layout": "IPY_MODEL_10f9c39ab6364a1fad56c9fd3747e0f5",
       "max": 62,
       "style": "IPY_MODEL_7ed037a330c74a538dc2e49fb498fd96",
       "value": 62
      }
     },
     "3ac3dc5682bd418186a52131bdfdcc3f": {
      "model_module": "@jupyter-widgets/controls",
      "model_module_version": "2.0.0",
      "model_name": "ProgressStyleModel",
      "state": {
       "description_width": ""
      }
     },
     "3b584277aec742908b5b3b06837c3203": {
      "model_module": "@jupyter-widgets/controls",
      "model_module_version": "2.0.0",
      "model_name": "ProgressStyleModel",
      "state": {
       "description_width": ""
      }
     },
     "3c4e24189b644150ae5fd9aa4e6bc2eb": {
      "model_module": "@jupyter-widgets/base",
      "model_module_version": "2.0.0",
      "model_name": "LayoutModel",
      "state": {
       "display": "inline-flex",
       "flex_flow": "row wrap",
       "visibility": "hidden",
       "width": "100%"
      }
     },
     "3cc99563daea41ada2617c33fb31e4ca": {
      "model_module": "@jupyter-widgets/base",
      "model_module_version": "2.0.0",
      "model_name": "LayoutModel",
      "state": {}
     },
     "3d1ffd8a7fd84b0f883f247612083586": {
      "model_module": "@jupyter-widgets/controls",
      "model_module_version": "2.0.0",
      "model_name": "HTMLStyleModel",
      "state": {
       "description_width": "",
       "font_size": null,
       "text_color": null
      }
     },
     "3e36f216ba6c407da0fe867d70339e69": {
      "model_module": "@jupyter-widgets/base",
      "model_module_version": "2.0.0",
      "model_name": "LayoutModel",
      "state": {
       "flex": "2"
      }
     },
     "3f791fc35f21419da74e569555c66073": {
      "model_module": "@jupyter-widgets/controls",
      "model_module_version": "2.0.0",
      "model_name": "FloatProgressModel",
      "state": {
       "layout": "IPY_MODEL_4edb801067194634a0a403a61cd72b3e",
       "max": 62,
       "style": "IPY_MODEL_b21cd8bf42424326a9bb384b2be1d644",
       "value": 62
      }
     },
     "3ffb2af939294d299d0a7b70dd997efb": {
      "model_module": "@jupyter-widgets/controls",
      "model_module_version": "2.0.0",
      "model_name": "HTMLStyleModel",
      "state": {
       "description_width": "",
       "font_size": null,
       "text_color": null
      }
     },
     "40a3efd4fb10452cba06e58d206ec036": {
      "model_module": "@jupyter-widgets/base",
      "model_module_version": "2.0.0",
      "model_name": "LayoutModel",
      "state": {
       "flex": "2"
      }
     },
     "413f0f7bafdd4c41b68249202e09f7e3": {
      "model_module": "@jupyter-widgets/controls",
      "model_module_version": "2.0.0",
      "model_name": "HTMLStyleModel",
      "state": {
       "description_width": "",
       "font_size": null,
       "text_color": null
      }
     },
     "418ed40b231c44459ce815835dd4d1ff": {
      "model_module": "@jupyter-widgets/controls",
      "model_module_version": "2.0.0",
      "model_name": "HTMLStyleModel",
      "state": {
       "description_width": "",
       "font_size": null,
       "text_color": null
      }
     },
     "41c60d5d11264111b5a955fd58cbd0ee": {
      "model_module": "@jupyter-widgets/controls",
      "model_module_version": "2.0.0",
      "model_name": "FloatProgressModel",
      "state": {
       "layout": "IPY_MODEL_ba1eccc42b3b48e7a9b104445f782123",
       "max": 62,
       "style": "IPY_MODEL_c3866e51f2f34577ba2ae98488f76286",
       "value": 62
      }
     },
     "42fab14c7c944a2d8ec87a3a2c12f7aa": {
      "model_module": "@jupyter-widgets/controls",
      "model_module_version": "2.0.0",
      "model_name": "HTMLStyleModel",
      "state": {
       "description_width": "",
       "font_size": null,
       "text_color": null
      }
     },
     "43014b2f2d034afa8d5a28c72e167506": {
      "model_module": "@jupyter-widgets/controls",
      "model_module_version": "2.0.0",
      "model_name": "ProgressStyleModel",
      "state": {
       "description_width": ""
      }
     },
     "45940e080e8f42db8f786dfa30d8e6fa": {
      "model_module": "@jupyter-widgets/base",
      "model_module_version": "2.0.0",
      "model_name": "LayoutModel",
      "state": {
       "flex": "2"
      }
     },
     "45ae0ce563c04d3192c49eb8478c8cff": {
      "model_module": "@jupyter-widgets/controls",
      "model_module_version": "2.0.0",
      "model_name": "FloatProgressModel",
      "state": {
       "layout": "IPY_MODEL_90e746539be24ceab06c08f67325829e",
       "max": 62,
       "style": "IPY_MODEL_a05870e01c924b2f9a800f25e18a05f5",
       "value": 62
      }
     },
     "461c9184cb1e4221bc8def8112e9090f": {
      "model_module": "@jupyter-widgets/controls",
      "model_module_version": "2.0.0",
      "model_name": "FloatProgressModel",
      "state": {
       "layout": "IPY_MODEL_97e3bfd184e9482b86871dfe64147892",
       "max": 62,
       "style": "IPY_MODEL_d1ade62c15c64ed9b10c2c6c5c6567e2",
       "value": 62
      }
     },
     "46667af7a3e345a9965f47c144c6d931": {
      "model_module": "@jupyter-widgets/controls",
      "model_module_version": "2.0.0",
      "model_name": "ProgressStyleModel",
      "state": {
       "description_width": ""
      }
     },
     "4674889be2304c5cb880e15e5dbab9f6": {
      "model_module": "@jupyter-widgets/controls",
      "model_module_version": "2.0.0",
      "model_name": "HTMLModel",
      "state": {
       "layout": "IPY_MODEL_0ede18eb33b34801afd509f53ba6b1aa",
       "style": "IPY_MODEL_d6714d16ef6c4947874edbcdd7263e83",
       "value": " 62/62 [00:01&lt;00:00, 32.30it/s]"
      }
     },
     "479e9dc027cd416a8167512fcfdb8b10": {
      "model_module": "@jupyter-widgets/controls",
      "model_module_version": "2.0.0",
      "model_name": "ProgressStyleModel",
      "state": {
       "description_width": ""
      }
     },
     "47a87e77435a49d19c6fb4a81fa31af2": {
      "model_module": "@jupyter-widgets/controls",
      "model_module_version": "2.0.0",
      "model_name": "FloatProgressModel",
      "state": {
       "layout": "IPY_MODEL_2595b0f3cad5443492a9532b4d067442",
       "max": 62,
       "style": "IPY_MODEL_d9192f6f6ea94d8c9658e0fb6e1c7f23",
       "value": 62
      }
     },
     "47a8f896db6a4293a6efe9bae45319c4": {
      "model_module": "@jupyter-widgets/controls",
      "model_module_version": "2.0.0",
      "model_name": "ProgressStyleModel",
      "state": {
       "description_width": ""
      }
     },
     "4802c9b7e0274b15bb532971c58dca48": {
      "model_module": "@jupyter-widgets/base",
      "model_module_version": "2.0.0",
      "model_name": "LayoutModel",
      "state": {}
     },
     "480afa54d20c49d6b98cbcd3e73368ff": {
      "model_module": "@jupyter-widgets/base",
      "model_module_version": "2.0.0",
      "model_name": "LayoutModel",
      "state": {}
     },
     "486a4cedc13b4d65bbd6c81c958e4d58": {
      "model_module": "@jupyter-widgets/controls",
      "model_module_version": "2.0.0",
      "model_name": "ProgressStyleModel",
      "state": {
       "description_width": ""
      }
     },
     "48a5936c76f443e892d0e2e530d015ab": {
      "model_module": "@jupyter-widgets/controls",
      "model_module_version": "2.0.0",
      "model_name": "ProgressStyleModel",
      "state": {
       "description_width": ""
      }
     },
     "48b131b8301040439eba5c714661c328": {
      "model_module": "@jupyter-widgets/controls",
      "model_module_version": "2.0.0",
      "model_name": "HTMLStyleModel",
      "state": {
       "description_width": "",
       "font_size": null,
       "text_color": null
      }
     },
     "48d892c2adc8437bba2f5f3af3a1ae2f": {
      "model_module": "@jupyter-widgets/base",
      "model_module_version": "2.0.0",
      "model_name": "LayoutModel",
      "state": {
       "flex": "2"
      }
     },
     "495001310b344e948c98c888dfddfc2b": {
      "model_module": "@jupyter-widgets/base",
      "model_module_version": "2.0.0",
      "model_name": "LayoutModel",
      "state": {}
     },
     "4a2a4dff2c70424db4bfb92090934bb7": {
      "model_module": "@jupyter-widgets/controls",
      "model_module_version": "2.0.0",
      "model_name": "ProgressStyleModel",
      "state": {
       "description_width": ""
      }
     },
     "4a36a222769d486f8cc952f7dc015e41": {
      "model_module": "@jupyter-widgets/controls",
      "model_module_version": "2.0.0",
      "model_name": "HTMLModel",
      "state": {
       "layout": "IPY_MODEL_4d3a27bd79b247aca216648dde337e4b",
       "style": "IPY_MODEL_8d958806844c4c908408e44db6d532e5",
       "value": "Validation DataLoader 0: 100%"
      }
     },
     "4afdd86953ad4e4e86da700c501de21f": {
      "model_module": "@jupyter-widgets/controls",
      "model_module_version": "2.0.0",
      "model_name": "HTMLStyleModel",
      "state": {
       "description_width": "",
       "font_size": null,
       "text_color": null
      }
     },
     "4b8516c8f3cb43448b21744a5ca62313": {
      "model_module": "@jupyter-widgets/controls",
      "model_module_version": "2.0.0",
      "model_name": "ProgressStyleModel",
      "state": {
       "description_width": ""
      }
     },
     "4b85aa06d7704fd0871f260ff65cee33": {
      "model_module": "@jupyter-widgets/base",
      "model_module_version": "2.0.0",
      "model_name": "LayoutModel",
      "state": {
       "display": "inline-flex",
       "flex_flow": "row wrap",
       "visibility": "hidden",
       "width": "100%"
      }
     },
     "4d2f2670f967471195355de764346ed5": {
      "model_module": "@jupyter-widgets/controls",
      "model_module_version": "2.0.0",
      "model_name": "HTMLModel",
      "state": {
       "layout": "IPY_MODEL_3628b3ca2ba542bbb549c184d9dfc368",
       "style": "IPY_MODEL_60a377ffecd649c9ba631a3a62b1df75",
       "value": "Validation DataLoader 0: 100%"
      }
     },
     "4d3a27bd79b247aca216648dde337e4b": {
      "model_module": "@jupyter-widgets/base",
      "model_module_version": "2.0.0",
      "model_name": "LayoutModel",
      "state": {}
     },
     "4d535e709d8743219a2cac677ab41e72": {
      "model_module": "@jupyter-widgets/controls",
      "model_module_version": "2.0.0",
      "model_name": "HTMLModel",
      "state": {
       "layout": "IPY_MODEL_23d4eca02aaf4bf390ae29b4768ae6c6",
       "style": "IPY_MODEL_418ed40b231c44459ce815835dd4d1ff",
       "value": " 62/62 [00:02&lt;00:00, 30.29it/s]"
      }
     },
     "4d98d70761c148f89c1ab3a951330f06": {
      "model_module": "@jupyter-widgets/controls",
      "model_module_version": "2.0.0",
      "model_name": "ProgressStyleModel",
      "state": {
       "description_width": ""
      }
     },
     "4edb801067194634a0a403a61cd72b3e": {
      "model_module": "@jupyter-widgets/base",
      "model_module_version": "2.0.0",
      "model_name": "LayoutModel",
      "state": {
       "flex": "2"
      }
     },
     "4ef1aaf9f2b44b178c890e878a6a9be9": {
      "model_module": "@jupyter-widgets/controls",
      "model_module_version": "2.0.0",
      "model_name": "HTMLStyleModel",
      "state": {
       "description_width": "",
       "font_size": null,
       "text_color": null
      }
     },
     "500f947c0c684a9081378e407f2814cb": {
      "model_module": "@jupyter-widgets/base",
      "model_module_version": "2.0.0",
      "model_name": "LayoutModel",
      "state": {}
     },
     "50c05012bd2d415f83ec43bd985df0a7": {
      "model_module": "@jupyter-widgets/controls",
      "model_module_version": "2.0.0",
      "model_name": "FloatProgressModel",
      "state": {
       "bar_style": "success",
       "layout": "IPY_MODEL_2f0c57ed286f4267beb7e18a1fd11444",
       "max": 62,
       "style": "IPY_MODEL_15668d0adfa143ca97c0e6fcf34bb733",
       "value": 62
      }
     },
     "50d0b52b8ac54ec2ae91bcc280570de5": {
      "model_module": "@jupyter-widgets/controls",
      "model_module_version": "2.0.0",
      "model_name": "HTMLStyleModel",
      "state": {
       "description_width": "",
       "font_size": null,
       "text_color": null
      }
     },
     "512db8e5353b4801abc06e6d4490e715": {
      "model_module": "@jupyter-widgets/base",
      "model_module_version": "2.0.0",
      "model_name": "LayoutModel",
      "state": {}
     },
     "51d9bace35694b5c9532ee0eb1009519": {
      "model_module": "@jupyter-widgets/controls",
      "model_module_version": "2.0.0",
      "model_name": "HTMLModel",
      "state": {
       "layout": "IPY_MODEL_e677854ab3cb4dfea2772e88e3754816",
       "style": "IPY_MODEL_0d2b58e8028145ddba4298d236218990",
       "value": " 62/62 [00:01&lt;00:00, 36.42it/s]"
      }
     },
     "51fcdb5952fb4dadb49f5f35dd2d3b9c": {
      "model_module": "@jupyter-widgets/controls",
      "model_module_version": "2.0.0",
      "model_name": "HTMLModel",
      "state": {
       "layout": "IPY_MODEL_512db8e5353b4801abc06e6d4490e715",
       "style": "IPY_MODEL_c1c3ead269fe4cb0879602494cec446b",
       "value": " 62/62 [00:01&lt;00:00, 35.43it/s]"
      }
     },
     "523f16c03f9e488b860f2d74442e0ccf": {
      "model_module": "@jupyter-widgets/controls",
      "model_module_version": "2.0.0",
      "model_name": "HTMLModel",
      "state": {
       "layout": "IPY_MODEL_89480472750e436aa72c3508e03b547d",
       "style": "IPY_MODEL_824817f8ed9a4a9f8a84da8aa9a9ff90",
       "value": " 62/62 [00:01&lt;00:00, 31.51it/s]"
      }
     },
     "52778abad2b04c789d20da5e059c01a1": {
      "model_module": "@jupyter-widgets/base",
      "model_module_version": "2.0.0",
      "model_name": "LayoutModel",
      "state": {}
     },
     "5301ce907007415a8556948fe34e3e90": {
      "model_module": "@jupyter-widgets/controls",
      "model_module_version": "2.0.0",
      "model_name": "HTMLStyleModel",
      "state": {
       "description_width": "",
       "font_size": null,
       "text_color": null
      }
     },
     "536f5fca10a84e65a1c4e2f8ad1abb48": {
      "model_module": "@jupyter-widgets/controls",
      "model_module_version": "2.0.0",
      "model_name": "HTMLModel",
      "state": {
       "layout": "IPY_MODEL_22e82db5f4e74253a15bfdded786543c",
       "style": "IPY_MODEL_ac62d1151d9548f1a4b1d05646001099",
       "value": "Validation DataLoader 0: 100%"
      }
     },
     "5596e5961ab642a3822f446327d9263c": {
      "model_module": "@jupyter-widgets/base",
      "model_module_version": "2.0.0",
      "model_name": "LayoutModel",
      "state": {}
     },
     "56a3d58cd97e4cb596d726bf3a3fd7c9": {
      "model_module": "@jupyter-widgets/controls",
      "model_module_version": "2.0.0",
      "model_name": "HTMLStyleModel",
      "state": {
       "description_width": "",
       "font_size": null,
       "text_color": null
      }
     },
     "56c0d778aac4497c874db47f62bb1a0d": {
      "model_module": "@jupyter-widgets/controls",
      "model_module_version": "2.0.0",
      "model_name": "HTMLStyleModel",
      "state": {
       "description_width": "",
       "font_size": null,
       "text_color": null
      }
     },
     "5735b17290244866be8b6a5d67c382e0": {
      "model_module": "@jupyter-widgets/base",
      "model_module_version": "2.0.0",
      "model_name": "LayoutModel",
      "state": {
       "display": "inline-flex",
       "flex_flow": "row wrap",
       "visibility": "hidden",
       "width": "100%"
      }
     },
     "579f0e7072c443edb78527c5a4fe002c": {
      "model_module": "@jupyter-widgets/controls",
      "model_module_version": "2.0.0",
      "model_name": "HTMLModel",
      "state": {
       "layout": "IPY_MODEL_f5561c7921254963a377e42eb2f91f83",
       "style": "IPY_MODEL_39d197a0ee6448fcafbd5e1dfe2748ce",
       "value": "Validation DataLoader 0: 100%"
      }
     },
     "57a756cf76ab44a78351d64d738239f7": {
      "model_module": "@jupyter-widgets/controls",
      "model_module_version": "2.0.0",
      "model_name": "HTMLModel",
      "state": {
       "layout": "IPY_MODEL_64f849a4c6b24a1e8aa202952e58c345",
       "style": "IPY_MODEL_3916777517674894a206223f916e6689",
       "value": " 62/62 [00:01&lt;00:00, 34.85it/s]"
      }
     },
     "580ccf8ce77e44aa8f77820b36cb63fb": {
      "model_module": "@jupyter-widgets/base",
      "model_module_version": "2.0.0",
      "model_name": "LayoutModel",
      "state": {}
     },
     "58944b99269f45dd96c061f74bf02e8e": {
      "model_module": "@jupyter-widgets/base",
      "model_module_version": "2.0.0",
      "model_name": "LayoutModel",
      "state": {}
     },
     "59b76f66e50c4830a551c5bfd1da788c": {
      "model_module": "@jupyter-widgets/base",
      "model_module_version": "2.0.0",
      "model_name": "LayoutModel",
      "state": {}
     },
     "5a73e115ba5347258dc7cf1d55734c18": {
      "model_module": "@jupyter-widgets/base",
      "model_module_version": "2.0.0",
      "model_name": "LayoutModel",
      "state": {
       "flex": "2"
      }
     },
     "5abef86f2c244cdab6974ddf04e995d0": {
      "model_module": "@jupyter-widgets/base",
      "model_module_version": "2.0.0",
      "model_name": "LayoutModel",
      "state": {
       "flex": "2"
      }
     },
     "5b5ee962917f4651bcc37ba4a15ec570": {
      "model_module": "@jupyter-widgets/controls",
      "model_module_version": "2.0.0",
      "model_name": "HTMLStyleModel",
      "state": {
       "description_width": "",
       "font_size": null,
       "text_color": null
      }
     },
     "5b8fb6187e2e4f658a9b2c3effa5ee50": {
      "model_module": "@jupyter-widgets/base",
      "model_module_version": "2.0.0",
      "model_name": "LayoutModel",
      "state": {
       "flex": "2"
      }
     },
     "5bf3300038c4433886df7fb607d7d64b": {
      "model_module": "@jupyter-widgets/controls",
      "model_module_version": "2.0.0",
      "model_name": "HTMLModel",
      "state": {
       "layout": "IPY_MODEL_7884ca5b2748486186070618194be9b6",
       "style": "IPY_MODEL_962fbef48a584c03bb481303008894e4",
       "value": "Validation DataLoader 0: 100%"
      }
     },
     "5cdbf38cc74447f285601b634567ee89": {
      "model_module": "@jupyter-widgets/controls",
      "model_module_version": "2.0.0",
      "model_name": "FloatProgressModel",
      "state": {
       "layout": "IPY_MODEL_5b8fb6187e2e4f658a9b2c3effa5ee50",
       "max": 62,
       "style": "IPY_MODEL_66408e3cd2004ca5892948bf6c5537b8",
       "value": 62
      }
     },
     "5d4c055e49ea43beb4ddde8a5c191b74": {
      "model_module": "@jupyter-widgets/base",
      "model_module_version": "2.0.0",
      "model_name": "LayoutModel",
      "state": {
       "display": "inline-flex",
       "flex_flow": "row wrap",
       "visibility": "hidden",
       "width": "100%"
      }
     },
     "5d7379caedd44d5baefeb915d96a44b2": {
      "model_module": "@jupyter-widgets/controls",
      "model_module_version": "2.0.0",
      "model_name": "HTMLModel",
      "state": {
       "layout": "IPY_MODEL_580ccf8ce77e44aa8f77820b36cb63fb",
       "style": "IPY_MODEL_a277912d29424a7d8c220f88c04984b0",
       "value": " 62/62 [00:01&lt;00:00, 31.22it/s]"
      }
     },
     "5de0b7e787524a9394593e7cb9d19c5a": {
      "model_module": "@jupyter-widgets/base",
      "model_module_version": "2.0.0",
      "model_name": "LayoutModel",
      "state": {
       "display": "inline-flex",
       "flex_flow": "row wrap",
       "visibility": "hidden",
       "width": "100%"
      }
     },
     "5ea731e2c6fb409bacfbc603e40716d2": {
      "model_module": "@jupyter-widgets/controls",
      "model_module_version": "2.0.0",
      "model_name": "HTMLModel",
      "state": {
       "layout": "IPY_MODEL_1e060969de0b4ba5990fb330f4ce6d53",
       "style": "IPY_MODEL_a77e705c337c4ae4a1727166f022ab32",
       "value": " 62/62 [00:01&lt;00:00, 35.82it/s]"
      }
     },
     "5f28dc2286304dd9bd11fa97a36d5db9": {
      "model_module": "@jupyter-widgets/controls",
      "model_module_version": "2.0.0",
      "model_name": "HTMLModel",
      "state": {
       "layout": "IPY_MODEL_d6db4dff24f34997a8c9ee0cfc8f9b07",
       "style": "IPY_MODEL_91ae4e9ced7742158fde7d2697732ec3",
       "value": "Validation DataLoader 0: 100%"
      }
     },
     "5f6f07018df949ddaff8f25f2141ebcb": {
      "model_module": "@jupyter-widgets/controls",
      "model_module_version": "2.0.0",
      "model_name": "HTMLStyleModel",
      "state": {
       "description_width": "",
       "font_size": null,
       "text_color": null
      }
     },
     "5fce144e96c64089b8a4faae17a1e6c9": {
      "model_module": "@jupyter-widgets/base",
      "model_module_version": "2.0.0",
      "model_name": "LayoutModel",
      "state": {}
     },
     "60049350cf624673bb41bfec3f5e3879": {
      "model_module": "@jupyter-widgets/base",
      "model_module_version": "2.0.0",
      "model_name": "LayoutModel",
      "state": {
       "display": "inline-flex",
       "flex_flow": "row wrap",
       "visibility": "hidden",
       "width": "100%"
      }
     },
     "60077c8add3a487191d7b243f62df7b1": {
      "model_module": "@jupyter-widgets/controls",
      "model_module_version": "2.0.0",
      "model_name": "FloatProgressModel",
      "state": {
       "layout": "IPY_MODEL_00b46ae45c9b4a20b9e51111464da4a5",
       "max": 2,
       "style": "IPY_MODEL_b2ded9bb06434bb89164d32bf45f3005",
       "value": 2
      }
     },
     "60a377ffecd649c9ba631a3a62b1df75": {
      "model_module": "@jupyter-widgets/controls",
      "model_module_version": "2.0.0",
      "model_name": "HTMLStyleModel",
      "state": {
       "description_width": "",
       "font_size": null,
       "text_color": null
      }
     },
     "61b2870b6cce4b7e80cac3f2206b7324": {
      "model_module": "@jupyter-widgets/base",
      "model_module_version": "2.0.0",
      "model_name": "LayoutModel",
      "state": {
       "display": "inline-flex",
       "flex_flow": "row wrap",
       "visibility": "hidden",
       "width": "100%"
      }
     },
     "625a2668b15240d8b3f509f161fb7783": {
      "model_module": "@jupyter-widgets/controls",
      "model_module_version": "2.0.0",
      "model_name": "HTMLStyleModel",
      "state": {
       "description_width": "",
       "font_size": null,
       "text_color": null
      }
     },
     "626060e61e8646caacc60da1d065368a": {
      "model_module": "@jupyter-widgets/controls",
      "model_module_version": "2.0.0",
      "model_name": "HTMLStyleModel",
      "state": {
       "description_width": "",
       "font_size": null,
       "text_color": null
      }
     },
     "62e26fa90da54547b83caf4ef05fad47": {
      "model_module": "@jupyter-widgets/base",
      "model_module_version": "2.0.0",
      "model_name": "LayoutModel",
      "state": {}
     },
     "63029281cd1c4298b3b4f4f464ea1a35": {
      "model_module": "@jupyter-widgets/controls",
      "model_module_version": "2.0.0",
      "model_name": "FloatProgressModel",
      "state": {
       "layout": "IPY_MODEL_39ad4deecdf8466f930f460419f49eb2",
       "max": 62,
       "style": "IPY_MODEL_c33888368fea40e48b1073db1ad6c85a",
       "value": 62
      }
     },
     "633e3acb2453459ab26d684a9f5e7367": {
      "model_module": "@jupyter-widgets/controls",
      "model_module_version": "2.0.0",
      "model_name": "HTMLModel",
      "state": {
       "layout": "IPY_MODEL_52778abad2b04c789d20da5e059c01a1",
       "style": "IPY_MODEL_626060e61e8646caacc60da1d065368a",
       "value": "Validation DataLoader 0: 100%"
      }
     },
     "640af0d18c604b5d88d4f822a1c1b2c2": {
      "model_module": "@jupyter-widgets/controls",
      "model_module_version": "2.0.0",
      "model_name": "ProgressStyleModel",
      "state": {
       "description_width": ""
      }
     },
     "64b37a1b73784e72b892dcb776eaaf6e": {
      "model_module": "@jupyter-widgets/controls",
      "model_module_version": "2.0.0",
      "model_name": "HTMLModel",
      "state": {
       "layout": "IPY_MODEL_a496656752d448bfb789daf500b48a06",
       "style": "IPY_MODEL_69be3ed7e1da490e80ecf6c4dfde2f40",
       "value": " 62/62 [00:01&lt;00:00, 35.16it/s]"
      }
     },
     "64f849a4c6b24a1e8aa202952e58c345": {
      "model_module": "@jupyter-widgets/base",
      "model_module_version": "2.0.0",
      "model_name": "LayoutModel",
      "state": {}
     },
     "66408e3cd2004ca5892948bf6c5537b8": {
      "model_module": "@jupyter-widgets/controls",
      "model_module_version": "2.0.0",
      "model_name": "ProgressStyleModel",
      "state": {
       "description_width": ""
      }
     },
     "67064241451743adb1cd3cf3ef9296fa": {
      "model_module": "@jupyter-widgets/controls",
      "model_module_version": "2.0.0",
      "model_name": "HTMLStyleModel",
      "state": {
       "description_width": "",
       "font_size": null,
       "text_color": null
      }
     },
     "67ed3dae7d7a43a3bfd681c2ca0e6069": {
      "model_module": "@jupyter-widgets/base",
      "model_module_version": "2.0.0",
      "model_name": "LayoutModel",
      "state": {}
     },
     "68156ac158414f6da7798cf2a26e074a": {
      "model_module": "@jupyter-widgets/base",
      "model_module_version": "2.0.0",
      "model_name": "LayoutModel",
      "state": {
       "display": "inline-flex",
       "flex_flow": "row wrap",
       "visibility": "hidden",
       "width": "100%"
      }
     },
     "684758e8c04e47ab9dabfad50465d9f7": {
      "model_module": "@jupyter-widgets/controls",
      "model_module_version": "2.0.0",
      "model_name": "HTMLModel",
      "state": {
       "layout": "IPY_MODEL_e2cad243d59a4b1f89b243df847ec40f",
       "style": "IPY_MODEL_8e4fbbdb436b44a2b60157501cb136c0",
       "value": "Validation DataLoader 0: 100%"
      }
     },
     "694b7421a2ee4f32827b2d4f299133d3": {
      "model_module": "@jupyter-widgets/controls",
      "model_module_version": "2.0.0",
      "model_name": "HTMLModel",
      "state": {
       "layout": "IPY_MODEL_7717c862e96c4414b41830b662dacae8",
       "style": "IPY_MODEL_94412f9eb08940848f07f2b41765656f",
       "value": " 62/62 [00:01&lt;00:00, 35.16it/s]"
      }
     },
     "6963ac78b401404d823da7558796c423": {
      "model_module": "@jupyter-widgets/controls",
      "model_module_version": "2.0.0",
      "model_name": "HTMLModel",
      "state": {
       "layout": "IPY_MODEL_6c166344936740e38f411e6ac29fbe0d",
       "style": "IPY_MODEL_fc18f11da6c14f6686cdfae6b9ee5a86",
       "value": " 62/62 [00:01&lt;00:00, 32.80it/s]"
      }
     },
     "69be3ed7e1da490e80ecf6c4dfde2f40": {
      "model_module": "@jupyter-widgets/controls",
      "model_module_version": "2.0.0",
      "model_name": "HTMLStyleModel",
      "state": {
       "description_width": "",
       "font_size": null,
       "text_color": null
      }
     },
     "6ad41b6ca2ff46c285291162e82d4fdf": {
      "model_module": "@jupyter-widgets/controls",
      "model_module_version": "2.0.0",
      "model_name": "HTMLModel",
      "state": {
       "layout": "IPY_MODEL_876d0b1fc75347c2a49a3795d7806c90",
       "style": "IPY_MODEL_6d274bb004bc4dc3bebc2be3077eb244",
       "value": "Validation DataLoader 0: 100%"
      }
     },
     "6b65dfccebf04536a9d28f93275e86d1": {
      "model_module": "@jupyter-widgets/base",
      "model_module_version": "2.0.0",
      "model_name": "LayoutModel",
      "state": {}
     },
     "6bc351b27c764f3f97971dee2fbf7919": {
      "model_module": "@jupyter-widgets/base",
      "model_module_version": "2.0.0",
      "model_name": "LayoutModel",
      "state": {}
     },
     "6bc5837422b5407584c7f74882bad053": {
      "model_module": "@jupyter-widgets/controls",
      "model_module_version": "2.0.0",
      "model_name": "HTMLModel",
      "state": {
       "layout": "IPY_MODEL_beea3d7850eb4188b58648f3cac4384e",
       "style": "IPY_MODEL_2a9aa34f3c604720a41275422205b68c",
       "value": " 62/62 [00:01&lt;00:00, 34.20it/s]"
      }
     },
     "6c166344936740e38f411e6ac29fbe0d": {
      "model_module": "@jupyter-widgets/base",
      "model_module_version": "2.0.0",
      "model_name": "LayoutModel",
      "state": {}
     },
     "6c692b5ef3244f8e840d05999788f922": {
      "model_module": "@jupyter-widgets/base",
      "model_module_version": "2.0.0",
      "model_name": "LayoutModel",
      "state": {
       "flex": "2"
      }
     },
     "6ca3b6f534ed426db1211cdb5cc45e8c": {
      "model_module": "@jupyter-widgets/base",
      "model_module_version": "2.0.0",
      "model_name": "LayoutModel",
      "state": {
       "flex": "2"
      }
     },
     "6cd63abbd415462287848a0190914fdc": {
      "model_module": "@jupyter-widgets/base",
      "model_module_version": "2.0.0",
      "model_name": "LayoutModel",
      "state": {}
     },
     "6d0f762af9284b288c8340bd56888f71": {
      "model_module": "@jupyter-widgets/controls",
      "model_module_version": "2.0.0",
      "model_name": "HTMLStyleModel",
      "state": {
       "description_width": "",
       "font_size": null,
       "text_color": null
      }
     },
     "6d274bb004bc4dc3bebc2be3077eb244": {
      "model_module": "@jupyter-widgets/controls",
      "model_module_version": "2.0.0",
      "model_name": "HTMLStyleModel",
      "state": {
       "description_width": "",
       "font_size": null,
       "text_color": null
      }
     },
     "6db139fef1464433a6b01b383c345f8a": {
      "model_module": "@jupyter-widgets/controls",
      "model_module_version": "2.0.0",
      "model_name": "HTMLStyleModel",
      "state": {
       "description_width": "",
       "font_size": null,
       "text_color": null
      }
     },
     "6de6655440654acaa0083137006e670f": {
      "model_module": "@jupyter-widgets/controls",
      "model_module_version": "2.0.0",
      "model_name": "ProgressStyleModel",
      "state": {
       "description_width": ""
      }
     },
     "6df679bbf62a4328868ee5b07fa01724": {
      "model_module": "@jupyter-widgets/base",
      "model_module_version": "2.0.0",
      "model_name": "LayoutModel",
      "state": {
       "display": "inline-flex",
       "flex_flow": "row wrap",
       "visibility": "hidden",
       "width": "100%"
      }
     },
     "6e87a2af19054cc3a518df834c75cd5d": {
      "model_module": "@jupyter-widgets/controls",
      "model_module_version": "2.0.0",
      "model_name": "HTMLStyleModel",
      "state": {
       "description_width": "",
       "font_size": null,
       "text_color": null
      }
     },
     "6f14ca944bfb406d9d9e85ac3c258934": {
      "model_module": "@jupyter-widgets/controls",
      "model_module_version": "2.0.0",
      "model_name": "HTMLModel",
      "state": {
       "layout": "IPY_MODEL_376ce2e649a542abaac1e8a47f9e1131",
       "style": "IPY_MODEL_113ac0d03107443b90ed74ad9e35f245",
       "value": "Validation DataLoader 0: 100%"
      }
     },
     "6f9a07d2ce194257b99dee676ec69d40": {
      "model_module": "@jupyter-widgets/controls",
      "model_module_version": "2.0.0",
      "model_name": "HTMLModel",
      "state": {
       "layout": "IPY_MODEL_62e26fa90da54547b83caf4ef05fad47",
       "style": "IPY_MODEL_0862d2e6977448fb9672a98f6e1dee04",
       "value": "Validation DataLoader 0: 100%"
      }
     },
     "709e8ccd5c314569b27308cf5dc95840": {
      "model_module": "@jupyter-widgets/controls",
      "model_module_version": "2.0.0",
      "model_name": "HTMLModel",
      "state": {
       "layout": "IPY_MODEL_03507fb3de8b45e2a6bd0120ffaeedb0",
       "style": "IPY_MODEL_7a7bb561f69949a599656573dca5bf3a",
       "value": "Validation DataLoader 0: 100%"
      }
     },
     "70d8c743f790491da1418c188815e690": {
      "model_module": "@jupyter-widgets/controls",
      "model_module_version": "2.0.0",
      "model_name": "ProgressStyleModel",
      "state": {
       "description_width": ""
      }
     },
     "718cfa62858a4475b41d8a425634840e": {
      "model_module": "@jupyter-widgets/base",
      "model_module_version": "2.0.0",
      "model_name": "LayoutModel",
      "state": {
       "display": "inline-flex",
       "flex_flow": "row wrap",
       "visibility": "hidden",
       "width": "100%"
      }
     },
     "71b8f0a9e6d647ceb1bd32dec3471131": {
      "model_module": "@jupyter-widgets/base",
      "model_module_version": "2.0.0",
      "model_name": "LayoutModel",
      "state": {}
     },
     "71d77aebde324e89a163ce90c69e47b6": {
      "model_module": "@jupyter-widgets/base",
      "model_module_version": "2.0.0",
      "model_name": "LayoutModel",
      "state": {}
     },
     "729b6fa6f6dd41b88da5103335c7fd50": {
      "model_module": "@jupyter-widgets/controls",
      "model_module_version": "2.0.0",
      "model_name": "FloatProgressModel",
      "state": {
       "layout": "IPY_MODEL_97485853653345a49d379d5d77a7d7bd",
       "max": 62,
       "style": "IPY_MODEL_4a2a4dff2c70424db4bfb92090934bb7",
       "value": 62
      }
     },
     "72d672472c1e4122aa8c9285355643d7": {
      "model_module": "@jupyter-widgets/controls",
      "model_module_version": "2.0.0",
      "model_name": "HTMLStyleModel",
      "state": {
       "description_width": "",
       "font_size": null,
       "text_color": null
      }
     },
     "72f583801689496987da1a82b3f5a761": {
      "model_module": "@jupyter-widgets/controls",
      "model_module_version": "2.0.0",
      "model_name": "ProgressStyleModel",
      "state": {
       "description_width": ""
      }
     },
     "74e293b4672c4d2191a3cda54a98e167": {
      "model_module": "@jupyter-widgets/controls",
      "model_module_version": "2.0.0",
      "model_name": "FloatProgressModel",
      "state": {
       "layout": "IPY_MODEL_3e36f216ba6c407da0fe867d70339e69",
       "max": 62,
       "style": "IPY_MODEL_14883922abe14f96ac3f29659ed67fa8",
       "value": 62
      }
     },
     "7509c51e5a594c73bb64234178723155": {
      "model_module": "@jupyter-widgets/base",
      "model_module_version": "2.0.0",
      "model_name": "LayoutModel",
      "state": {}
     },
     "750bbdd96c91491aa12fe83f84ed94f5": {
      "model_module": "@jupyter-widgets/controls",
      "model_module_version": "2.0.0",
      "model_name": "HTMLModel",
      "state": {
       "layout": "IPY_MODEL_cfeac07879144b399dd78a77d22bf5bf",
       "style": "IPY_MODEL_beb0114fe3fc43bb8ee21f999aba2309",
       "value": "Validation DataLoader 0: 100%"
      }
     },
     "75c0f14c915a43e8bf3e557d704fc7da": {
      "model_module": "@jupyter-widgets/base",
      "model_module_version": "2.0.0",
      "model_name": "LayoutModel",
      "state": {
       "flex": "2"
      }
     },
     "7610d4d5f1af434ba5e362cd743d7d6d": {
      "model_module": "@jupyter-widgets/base",
      "model_module_version": "2.0.0",
      "model_name": "LayoutModel",
      "state": {
       "flex": "2"
      }
     },
     "7717c862e96c4414b41830b662dacae8": {
      "model_module": "@jupyter-widgets/base",
      "model_module_version": "2.0.0",
      "model_name": "LayoutModel",
      "state": {}
     },
     "77d5b42fdb55424f90bb744d82afb615": {
      "model_module": "@jupyter-widgets/base",
      "model_module_version": "2.0.0",
      "model_name": "LayoutModel",
      "state": {}
     },
     "7884ca5b2748486186070618194be9b6": {
      "model_module": "@jupyter-widgets/base",
      "model_module_version": "2.0.0",
      "model_name": "LayoutModel",
      "state": {}
     },
     "79362ea5267b4a49b52c83ffee06f7ed": {
      "model_module": "@jupyter-widgets/base",
      "model_module_version": "2.0.0",
      "model_name": "LayoutModel",
      "state": {}
     },
     "79bc4b6423e148efb00f8a2b02506507": {
      "model_module": "@jupyter-widgets/controls",
      "model_module_version": "2.0.0",
      "model_name": "FloatProgressModel",
      "state": {
       "layout": "IPY_MODEL_266c3beadeca4a4eb22420277ace36de",
       "max": 62,
       "style": "IPY_MODEL_3b584277aec742908b5b3b06837c3203",
       "value": 62
      }
     },
     "7a5793034fae42b09c4fd9f9bb387284": {
      "model_module": "@jupyter-widgets/controls",
      "model_module_version": "2.0.0",
      "model_name": "HTMLModel",
      "state": {
       "layout": "IPY_MODEL_c3de2833c87d42888f4f3b8e74729250",
       "style": "IPY_MODEL_5b5ee962917f4651bcc37ba4a15ec570",
       "value": "Validation DataLoader 0: 100%"
      }
     },
     "7a7bb561f69949a599656573dca5bf3a": {
      "model_module": "@jupyter-widgets/controls",
      "model_module_version": "2.0.0",
      "model_name": "HTMLStyleModel",
      "state": {
       "description_width": "",
       "font_size": null,
       "text_color": null
      }
     },
     "7b1791920d204794bd60b5a6e88cd0be": {
      "model_module": "@jupyter-widgets/controls",
      "model_module_version": "2.0.0",
      "model_name": "HTMLModel",
      "state": {
       "layout": "IPY_MODEL_299f33aabf6b44889cd6d0a5599ccc62",
       "style": "IPY_MODEL_48b131b8301040439eba5c714661c328",
       "value": " 62/62 [00:02&lt;00:00, 30.95it/s]"
      }
     },
     "7b31fc242b27480d8cc4126660c39e0a": {
      "model_module": "@jupyter-widgets/base",
      "model_module_version": "2.0.0",
      "model_name": "LayoutModel",
      "state": {
       "display": "inline-flex",
       "flex_flow": "row wrap",
       "visibility": "hidden",
       "width": "100%"
      }
     },
     "7b784be2d8d64dbf95092a29927ff16e": {
      "model_module": "@jupyter-widgets/base",
      "model_module_version": "2.0.0",
      "model_name": "LayoutModel",
      "state": {
       "display": "inline-flex",
       "flex_flow": "row wrap",
       "visibility": "hidden",
       "width": "100%"
      }
     },
     "7bc2694c98db47aeaedb967c59042f0d": {
      "model_module": "@jupyter-widgets/controls",
      "model_module_version": "2.0.0",
      "model_name": "FloatProgressModel",
      "state": {
       "layout": "IPY_MODEL_f8f27891c7ec4d7586ebed8e2ce73dd2",
       "max": 62,
       "style": "IPY_MODEL_28e25001602946e8ad3dc5e2257e3fa9",
       "value": 62
      }
     },
     "7ed037a330c74a538dc2e49fb498fd96": {
      "model_module": "@jupyter-widgets/controls",
      "model_module_version": "2.0.0",
      "model_name": "ProgressStyleModel",
      "state": {
       "description_width": ""
      }
     },
     "7ef4670bb85047e3ae448eb4eceb254a": {
      "model_module": "@jupyter-widgets/controls",
      "model_module_version": "2.0.0",
      "model_name": "HTMLModel",
      "state": {
       "layout": "IPY_MODEL_f8ee276b778a4b8b8bfc2705713fdb24",
       "style": "IPY_MODEL_a5ffde4707434f57898d84a97afe7033",
       "value": "Validation DataLoader 0: 100%"
      }
     },
     "8015aa85e2dc4095b3dbaf71dfa92d5b": {
      "model_module": "@jupyter-widgets/base",
      "model_module_version": "2.0.0",
      "model_name": "LayoutModel",
      "state": {}
     },
     "80c3a3f8ca4149ce912a57a15241f7b5": {
      "model_module": "@jupyter-widgets/base",
      "model_module_version": "2.0.0",
      "model_name": "LayoutModel",
      "state": {}
     },
     "81a6df8b40624be384a04316cfc79900": {
      "model_module": "@jupyter-widgets/base",
      "model_module_version": "2.0.0",
      "model_name": "LayoutModel",
      "state": {}
     },
     "81c8355525db4f0f95a4571b2c5cd604": {
      "model_module": "@jupyter-widgets/base",
      "model_module_version": "2.0.0",
      "model_name": "LayoutModel",
      "state": {
       "display": "inline-flex",
       "flex_flow": "row wrap",
       "visibility": "hidden",
       "width": "100%"
      }
     },
     "824817f8ed9a4a9f8a84da8aa9a9ff90": {
      "model_module": "@jupyter-widgets/controls",
      "model_module_version": "2.0.0",
      "model_name": "HTMLStyleModel",
      "state": {
       "description_width": "",
       "font_size": null,
       "text_color": null
      }
     },
     "838f61e14840450f8f3d15254695b5ae": {
      "model_module": "@jupyter-widgets/base",
      "model_module_version": "2.0.0",
      "model_name": "LayoutModel",
      "state": {
       "display": "inline-flex",
       "flex_flow": "row wrap",
       "visibility": "hidden",
       "width": "100%"
      }
     },
     "856e2ee2153e4bd0b469e9755cf7fa1a": {
      "model_module": "@jupyter-widgets/controls",
      "model_module_version": "2.0.0",
      "model_name": "HTMLModel",
      "state": {
       "layout": "IPY_MODEL_ea4b624718c84a4c8a574de58757099a",
       "style": "IPY_MODEL_ff0975c134514b5ba195a437d9370cd0",
       "value": "Validation DataLoader 0: 100%"
      }
     },
     "85cf89af2d1447d88997fc884a89d1a4": {
      "model_module": "@jupyter-widgets/base",
      "model_module_version": "2.0.0",
      "model_name": "LayoutModel",
      "state": {}
     },
     "87254f1a415949ffb712d6b53a56d2bc": {
      "model_module": "@jupyter-widgets/controls",
      "model_module_version": "2.0.0",
      "model_name": "HTMLStyleModel",
      "state": {
       "description_width": "",
       "font_size": null,
       "text_color": null
      }
     },
     "876d0b1fc75347c2a49a3795d7806c90": {
      "model_module": "@jupyter-widgets/base",
      "model_module_version": "2.0.0",
      "model_name": "LayoutModel",
      "state": {}
     },
     "88c489c2099149b188f92d2ce31bfc9d": {
      "model_module": "@jupyter-widgets/controls",
      "model_module_version": "2.0.0",
      "model_name": "HTMLStyleModel",
      "state": {
       "description_width": "",
       "font_size": null,
       "text_color": null
      }
     },
     "89480472750e436aa72c3508e03b547d": {
      "model_module": "@jupyter-widgets/base",
      "model_module_version": "2.0.0",
      "model_name": "LayoutModel",
      "state": {}
     },
     "89bc220d27c1407c8a3587822eda3e74": {
      "model_module": "@jupyter-widgets/controls",
      "model_module_version": "2.0.0",
      "model_name": "HTMLStyleModel",
      "state": {
       "description_width": "",
       "font_size": null,
       "text_color": null
      }
     },
     "89f27688fd51482ab47c4d839f8bafd5": {
      "model_module": "@jupyter-widgets/controls",
      "model_module_version": "2.0.0",
      "model_name": "HTMLModel",
      "state": {
       "layout": "IPY_MODEL_03fa486148154b7ca29ddc30ab97b3ff",
       "style": "IPY_MODEL_4afdd86953ad4e4e86da700c501de21f",
       "value": "Validation DataLoader 0: 100%"
      }
     },
     "8ab91261d6d54d67aa64d76ef73f8285": {
      "model_module": "@jupyter-widgets/controls",
      "model_module_version": "2.0.0",
      "model_name": "FloatProgressModel",
      "state": {
       "layout": "IPY_MODEL_278c86c2dd1d43f191d3770c2d0e2f7a",
       "max": 62,
       "style": "IPY_MODEL_3ac3dc5682bd418186a52131bdfdcc3f",
       "value": 62
      }
     },
     "8acc13be7b9843b5a35157dedf2ecb70": {
      "model_module": "@jupyter-widgets/controls",
      "model_module_version": "2.0.0",
      "model_name": "ProgressStyleModel",
      "state": {
       "description_width": ""
      }
     },
     "8af60933a9564691975cd7110fe55f58": {
      "model_module": "@jupyter-widgets/controls",
      "model_module_version": "2.0.0",
      "model_name": "HTMLStyleModel",
      "state": {
       "description_width": "",
       "font_size": null,
       "text_color": null
      }
     },
     "8b0bc6799c59403a925e444e320eeeda": {
      "model_module": "@jupyter-widgets/controls",
      "model_module_version": "2.0.0",
      "model_name": "HTMLModel",
      "state": {
       "layout": "IPY_MODEL_7509c51e5a594c73bb64234178723155",
       "style": "IPY_MODEL_a530e207ef07446d9a274bd9b94115f1",
       "value": " 62/62 [00:01&lt;00:00, 35.16it/s]"
      }
     },
     "8b48318cf3a04677b9e0158107d2bccb": {
      "model_module": "@jupyter-widgets/controls",
      "model_module_version": "2.0.0",
      "model_name": "ProgressStyleModel",
      "state": {
       "description_width": ""
      }
     },
     "8b60c86c748149eb8c8e9d6aaadd996d": {
      "model_module": "@jupyter-widgets/controls",
      "model_module_version": "2.0.0",
      "model_name": "HTMLStyleModel",
      "state": {
       "description_width": "",
       "font_size": null,
       "text_color": null
      }
     },
     "8bce09de395d4e48b11018c8762ea421": {
      "model_module": "@jupyter-widgets/controls",
      "model_module_version": "2.0.0",
      "model_name": "ProgressStyleModel",
      "state": {
       "description_width": ""
      }
     },
     "8bed8a7e9ca040679365371c0330a23b": {
      "model_module": "@jupyter-widgets/base",
      "model_module_version": "2.0.0",
      "model_name": "LayoutModel",
      "state": {
       "flex": "2"
      }
     },
     "8c20913c965a425985265e1ec1ccaa27": {
      "model_module": "@jupyter-widgets/base",
      "model_module_version": "2.0.0",
      "model_name": "LayoutModel",
      "state": {}
     },
     "8c543d5f50434b21beeaf851368264f2": {
      "model_module": "@jupyter-widgets/controls",
      "model_module_version": "2.0.0",
      "model_name": "FloatProgressModel",
      "state": {
       "layout": "IPY_MODEL_40a3efd4fb10452cba06e58d206ec036",
       "max": 62,
       "style": "IPY_MODEL_6de6655440654acaa0083137006e670f",
       "value": 62
      }
     },
     "8cf94e6cdf514d459c76aa06d92ab242": {
      "model_module": "@jupyter-widgets/controls",
      "model_module_version": "2.0.0",
      "model_name": "FloatProgressModel",
      "state": {
       "layout": "IPY_MODEL_ccf6956decc0496bb8d6cd32f170a0dc",
       "max": 62,
       "style": "IPY_MODEL_640af0d18c604b5d88d4f822a1c1b2c2",
       "value": 62
      }
     },
     "8d88ec0dd61149bd83d7059c069f4217": {
      "model_module": "@jupyter-widgets/base",
      "model_module_version": "2.0.0",
      "model_name": "LayoutModel",
      "state": {
       "display": "inline-flex",
       "flex_flow": "row wrap",
       "visibility": "hidden",
       "width": "100%"
      }
     },
     "8d958806844c4c908408e44db6d532e5": {
      "model_module": "@jupyter-widgets/controls",
      "model_module_version": "2.0.0",
      "model_name": "HTMLStyleModel",
      "state": {
       "description_width": "",
       "font_size": null,
       "text_color": null
      }
     },
     "8e4fbbdb436b44a2b60157501cb136c0": {
      "model_module": "@jupyter-widgets/controls",
      "model_module_version": "2.0.0",
      "model_name": "HTMLStyleModel",
      "state": {
       "description_width": "",
       "font_size": null,
       "text_color": null
      }
     },
     "8f63d444086d4bb18c1d3f7d9721a6db": {
      "model_module": "@jupyter-widgets/base",
      "model_module_version": "2.0.0",
      "model_name": "LayoutModel",
      "state": {}
     },
     "8f8ce4b8b9914714988d0513a9c4c3f6": {
      "model_module": "@jupyter-widgets/controls",
      "model_module_version": "2.0.0",
      "model_name": "HTMLStyleModel",
      "state": {
       "description_width": "",
       "font_size": null,
       "text_color": null
      }
     },
     "90334a7c4bfb4843904d44060d6a8550": {
      "model_module": "@jupyter-widgets/controls",
      "model_module_version": "2.0.0",
      "model_name": "HTMLModel",
      "state": {
       "layout": "IPY_MODEL_6cd63abbd415462287848a0190914fdc",
       "style": "IPY_MODEL_c88ac1381f1f46479fdf5c78cd1b022b",
       "value": " 62/62 [00:01&lt;00:00, 35.44it/s]"
      }
     },
     "90dcc58246b04681ade431c86a0ddba3": {
      "model_module": "@jupyter-widgets/base",
      "model_module_version": "2.0.0",
      "model_name": "LayoutModel",
      "state": {
       "flex": "2"
      }
     },
     "90e746539be24ceab06c08f67325829e": {
      "model_module": "@jupyter-widgets/base",
      "model_module_version": "2.0.0",
      "model_name": "LayoutModel",
      "state": {
       "flex": "2"
      }
     },
     "91ae4e9ced7742158fde7d2697732ec3": {
      "model_module": "@jupyter-widgets/controls",
      "model_module_version": "2.0.0",
      "model_name": "HTMLStyleModel",
      "state": {
       "description_width": "",
       "font_size": null,
       "text_color": null
      }
     },
     "92662fb4938a4e4ba7aea94b79338ea6": {
      "model_module": "@jupyter-widgets/base",
      "model_module_version": "2.0.0",
      "model_name": "LayoutModel",
      "state": {}
     },
     "93145d5d5dd74ba5946d80609039751b": {
      "model_module": "@jupyter-widgets/controls",
      "model_module_version": "2.0.0",
      "model_name": "HTMLStyleModel",
      "state": {
       "description_width": "",
       "font_size": null,
       "text_color": null
      }
     },
     "94412f9eb08940848f07f2b41765656f": {
      "model_module": "@jupyter-widgets/controls",
      "model_module_version": "2.0.0",
      "model_name": "HTMLStyleModel",
      "state": {
       "description_width": "",
       "font_size": null,
       "text_color": null
      }
     },
     "956ddc3f98da46f98674cffb59f89a5b": {
      "model_module": "@jupyter-widgets/controls",
      "model_module_version": "2.0.0",
      "model_name": "HTMLModel",
      "state": {
       "layout": "IPY_MODEL_0065c27b121e49868c9656a86166100e",
       "style": "IPY_MODEL_e77b793e9df64f2aa4841eaef9a1872b",
       "value": " 62/62 [00:01&lt;00:00, 34.81it/s]"
      }
     },
     "962fbef48a584c03bb481303008894e4": {
      "model_module": "@jupyter-widgets/controls",
      "model_module_version": "2.0.0",
      "model_name": "HTMLStyleModel",
      "state": {
       "description_width": "",
       "font_size": null,
       "text_color": null
      }
     },
     "970ff73f7ec6483387444f080d876c6f": {
      "model_module": "@jupyter-widgets/controls",
      "model_module_version": "2.0.0",
      "model_name": "HTMLStyleModel",
      "state": {
       "description_width": "",
       "font_size": null,
       "text_color": null
      }
     },
     "97485853653345a49d379d5d77a7d7bd": {
      "model_module": "@jupyter-widgets/base",
      "model_module_version": "2.0.0",
      "model_name": "LayoutModel",
      "state": {
       "flex": "2"
      }
     },
     "97dd4fa698a045e099d99719e5c6d7eb": {
      "model_module": "@jupyter-widgets/base",
      "model_module_version": "2.0.0",
      "model_name": "LayoutModel",
      "state": {
       "display": "inline-flex",
       "flex_flow": "row wrap",
       "visibility": "hidden",
       "width": "100%"
      }
     },
     "97e3bfd184e9482b86871dfe64147892": {
      "model_module": "@jupyter-widgets/base",
      "model_module_version": "2.0.0",
      "model_name": "LayoutModel",
      "state": {
       "flex": "2"
      }
     },
     "985c30510bfb475eb1c5fcb4afe32af4": {
      "model_module": "@jupyter-widgets/base",
      "model_module_version": "2.0.0",
      "model_name": "LayoutModel",
      "state": {
       "display": "inline-flex",
       "flex_flow": "row wrap",
       "width": "100%"
      }
     },
     "987909fb3181432a9e1a314d266e804d": {
      "model_module": "@jupyter-widgets/controls",
      "model_module_version": "2.0.0",
      "model_name": "HTMLModel",
      "state": {
       "layout": "IPY_MODEL_59b76f66e50c4830a551c5bfd1da788c",
       "style": "IPY_MODEL_5301ce907007415a8556948fe34e3e90",
       "value": "Validation DataLoader 0: 100%"
      }
     },
     "98c0acda62f4405d831342a196242796": {
      "model_module": "@jupyter-widgets/controls",
      "model_module_version": "2.0.0",
      "model_name": "HTMLModel",
      "state": {
       "layout": "IPY_MODEL_ffba2b8dd1f5404ab494f37bde5e5c8e",
       "style": "IPY_MODEL_8b60c86c748149eb8c8e9d6aaadd996d",
       "value": " 62/62 [00:01&lt;00:00, 34.48it/s]"
      }
     },
     "9936f3ad7d6040d79d3251abf6ec21dd": {
      "model_module": "@jupyter-widgets/base",
      "model_module_version": "2.0.0",
      "model_name": "LayoutModel",
      "state": {}
     },
     "9a2f3931b58d4a03a40b8a1d0ffaa770": {
      "model_module": "@jupyter-widgets/controls",
      "model_module_version": "2.0.0",
      "model_name": "FloatProgressModel",
      "state": {
       "layout": "IPY_MODEL_ea8959ff12d945a29f4d361273862361",
       "max": 62,
       "style": "IPY_MODEL_8acc13be7b9843b5a35157dedf2ecb70",
       "value": 62
      }
     },
     "9a3da74ae2a04586abd39b68276b3df4": {
      "model_module": "@jupyter-widgets/controls",
      "model_module_version": "2.0.0",
      "model_name": "HTMLModel",
      "state": {
       "layout": "IPY_MODEL_480afa54d20c49d6b98cbcd3e73368ff",
       "style": "IPY_MODEL_22cc759af4164af18ea7da0b2c0b47f4",
       "value": "Validation DataLoader 0: 100%"
      }
     },
     "9ab4d9a410c44e45940e5535860e8e5b": {
      "model_module": "@jupyter-widgets/base",
      "model_module_version": "2.0.0",
      "model_name": "LayoutModel",
      "state": {
       "flex": "2"
      }
     },
     "9ac49f9cf79a4d619cf38d345c6b2431": {
      "model_module": "@jupyter-widgets/controls",
      "model_module_version": "2.0.0",
      "model_name": "HTMLStyleModel",
      "state": {
       "description_width": "",
       "font_size": null,
       "text_color": null
      }
     },
     "9ad20079b09d4268843aeb0b85c537ee": {
      "model_module": "@jupyter-widgets/controls",
      "model_module_version": "2.0.0",
      "model_name": "HTMLStyleModel",
      "state": {
       "description_width": "",
       "font_size": null,
       "text_color": null
      }
     },
     "9ad63a62d6c34bfbabe38880e5c2722c": {
      "model_module": "@jupyter-widgets/controls",
      "model_module_version": "2.0.0",
      "model_name": "HTMLModel",
      "state": {
       "layout": "IPY_MODEL_b4338d815ec243d3978d5044690e6a4b",
       "style": "IPY_MODEL_346fa5149bb64221a3c7924ce3b6036e",
       "value": "Validation DataLoader 0: 100%"
      }
     },
     "9b43d5858e7a4091ba69bc9b4a1a02cb": {
      "model_module": "@jupyter-widgets/base",
      "model_module_version": "2.0.0",
      "model_name": "LayoutModel",
      "state": {
       "display": "inline-flex",
       "flex_flow": "row wrap",
       "visibility": "hidden",
       "width": "100%"
      }
     },
     "9b97208213294f7981ee6b126ee173f4": {
      "model_module": "@jupyter-widgets/controls",
      "model_module_version": "2.0.0",
      "model_name": "HTMLStyleModel",
      "state": {
       "description_width": "",
       "font_size": null,
       "text_color": null
      }
     },
     "9bea62d6ebc54ed081700430b88d2349": {
      "model_module": "@jupyter-widgets/controls",
      "model_module_version": "2.0.0",
      "model_name": "FloatProgressModel",
      "state": {
       "layout": "IPY_MODEL_7610d4d5f1af434ba5e362cd743d7d6d",
       "max": 62,
       "style": "IPY_MODEL_250b18d46c6442a3a1f765b8ac75a33e",
       "value": 62
      }
     },
     "9c0868798f18477c9e484f02af8e5797": {
      "model_module": "@jupyter-widgets/base",
      "model_module_version": "2.0.0",
      "model_name": "LayoutModel",
      "state": {
       "flex": "2"
      }
     },
     "9c6efc30b8e7443194ae5d9f1a8915e8": {
      "model_module": "@jupyter-widgets/base",
      "model_module_version": "2.0.0",
      "model_name": "LayoutModel",
      "state": {}
     },
     "9cce73efceec4adba60a8cbf1c2feb0a": {
      "model_module": "@jupyter-widgets/base",
      "model_module_version": "2.0.0",
      "model_name": "LayoutModel",
      "state": {}
     },
     "9cd1128aaee84b7b92a0aba0cf3209a5": {
      "model_module": "@jupyter-widgets/controls",
      "model_module_version": "2.0.0",
      "model_name": "FloatProgressModel",
      "state": {
       "layout": "IPY_MODEL_9c0868798f18477c9e484f02af8e5797",
       "max": 62,
       "style": "IPY_MODEL_72f583801689496987da1a82b3f5a761",
       "value": 62
      }
     },
     "9dd25f4187e44901896fcd1248853bcf": {
      "model_module": "@jupyter-widgets/base",
      "model_module_version": "2.0.0",
      "model_name": "LayoutModel",
      "state": {
       "display": "inline-flex",
       "flex_flow": "row wrap",
       "visibility": "hidden",
       "width": "100%"
      }
     },
     "9e8e1cc87dae4f1b945f5765b5cc36d4": {
      "model_module": "@jupyter-widgets/base",
      "model_module_version": "2.0.0",
      "model_name": "LayoutModel",
      "state": {
       "display": "inline-flex",
       "flex_flow": "row wrap",
       "visibility": "hidden",
       "width": "100%"
      }
     },
     "9ef1a317cd9c4047bcfa782f006d8069": {
      "model_module": "@jupyter-widgets/controls",
      "model_module_version": "2.0.0",
      "model_name": "HTMLModel",
      "state": {
       "layout": "IPY_MODEL_dbb252bce26443dc9eaf522e89c00401",
       "style": "IPY_MODEL_6d0f762af9284b288c8340bd56888f71",
       "value": "Validation DataLoader 0: 100%"
      }
     },
     "9f5456d587744af29ee913c4d10be7be": {
      "model_module": "@jupyter-widgets/base",
      "model_module_version": "2.0.0",
      "model_name": "LayoutModel",
      "state": {}
     },
     "9f61ca9d36ca4b3697063c1add2fb6b5": {
      "model_module": "@jupyter-widgets/controls",
      "model_module_version": "2.0.0",
      "model_name": "FloatProgressModel",
      "state": {
       "layout": "IPY_MODEL_6ca3b6f534ed426db1211cdb5cc45e8c",
       "max": 62,
       "style": "IPY_MODEL_47a8f896db6a4293a6efe9bae45319c4",
       "value": 62
      }
     },
     "9f93c7a9aed840cc876908f31bd0d605": {
      "model_module": "@jupyter-widgets/controls",
      "model_module_version": "2.0.0",
      "model_name": "HTMLStyleModel",
      "state": {
       "description_width": "",
       "font_size": null,
       "text_color": null
      }
     },
     "a041071b4fc84cb382db2245848e3e83": {
      "model_module": "@jupyter-widgets/controls",
      "model_module_version": "2.0.0",
      "model_name": "ProgressStyleModel",
      "state": {
       "description_width": ""
      }
     },
     "a05870e01c924b2f9a800f25e18a05f5": {
      "model_module": "@jupyter-widgets/controls",
      "model_module_version": "2.0.0",
      "model_name": "ProgressStyleModel",
      "state": {
       "description_width": ""
      }
     },
     "a1919e1c2b564878916b38e8e81fa8b6": {
      "model_module": "@jupyter-widgets/base",
      "model_module_version": "2.0.0",
      "model_name": "LayoutModel",
      "state": {
       "display": "inline-flex",
       "flex_flow": "row wrap",
       "visibility": "hidden",
       "width": "100%"
      }
     },
     "a1c02a0091ba4496b8b5293d18b6a27c": {
      "model_module": "@jupyter-widgets/controls",
      "model_module_version": "2.0.0",
      "model_name": "HTMLModel",
      "state": {
       "layout": "IPY_MODEL_81a6df8b40624be384a04316cfc79900",
       "style": "IPY_MODEL_89bc220d27c1407c8a3587822eda3e74",
       "value": " 62/62 [00:01&lt;00:00, 35.50it/s]"
      }
     },
     "a277912d29424a7d8c220f88c04984b0": {
      "model_module": "@jupyter-widgets/controls",
      "model_module_version": "2.0.0",
      "model_name": "HTMLStyleModel",
      "state": {
       "description_width": "",
       "font_size": null,
       "text_color": null
      }
     },
     "a2b2925396ed44d7929c5c241737fd58": {
      "model_module": "@jupyter-widgets/controls",
      "model_module_version": "2.0.0",
      "model_name": "HTMLModel",
      "state": {
       "layout": "IPY_MODEL_77d5b42fdb55424f90bb744d82afb615",
       "style": "IPY_MODEL_93145d5d5dd74ba5946d80609039751b",
       "value": " 62/62 [00:01&lt;00:00, 35.15it/s]"
      }
     },
     "a473db22c14a4cbdbd68fd58299891f9": {
      "model_module": "@jupyter-widgets/base",
      "model_module_version": "2.0.0",
      "model_name": "LayoutModel",
      "state": {}
     },
     "a496656752d448bfb789daf500b48a06": {
      "model_module": "@jupyter-widgets/base",
      "model_module_version": "2.0.0",
      "model_name": "LayoutModel",
      "state": {}
     },
     "a530e207ef07446d9a274bd9b94115f1": {
      "model_module": "@jupyter-widgets/controls",
      "model_module_version": "2.0.0",
      "model_name": "HTMLStyleModel",
      "state": {
       "description_width": "",
       "font_size": null,
       "text_color": null
      }
     },
     "a58d1702238f418db9da185a985ec4d4": {
      "model_module": "@jupyter-widgets/controls",
      "model_module_version": "2.0.0",
      "model_name": "ProgressStyleModel",
      "state": {
       "description_width": ""
      }
     },
     "a59872d1e8434604baee9c4884d9d896": {
      "model_module": "@jupyter-widgets/controls",
      "model_module_version": "2.0.0",
      "model_name": "HTMLStyleModel",
      "state": {
       "description_width": "",
       "font_size": null,
       "text_color": null
      }
     },
     "a5ffde4707434f57898d84a97afe7033": {
      "model_module": "@jupyter-widgets/controls",
      "model_module_version": "2.0.0",
      "model_name": "HTMLStyleModel",
      "state": {
       "description_width": "",
       "font_size": null,
       "text_color": null
      }
     },
     "a642d6b92ccf44ba84d644e1042cfe63": {
      "model_module": "@jupyter-widgets/controls",
      "model_module_version": "2.0.0",
      "model_name": "HTMLModel",
      "state": {
       "layout": "IPY_MODEL_d3d440ce71954856ac85532e3b26ae71",
       "style": "IPY_MODEL_9ac49f9cf79a4d619cf38d345c6b2431",
       "value": "Validation DataLoader 0: 100%"
      }
     },
     "a6bac881ec344fd99a7858b9c4fbf8c4": {
      "model_module": "@jupyter-widgets/controls",
      "model_module_version": "2.0.0",
      "model_name": "HTMLModel",
      "state": {
       "layout": "IPY_MODEL_15f4bd2f344c4c3d9a1026ce0e61f5a2",
       "style": "IPY_MODEL_d3eec59f6d0d464cbefdd70bd9b884fe",
       "value": "Validation DataLoader 0: 100%"
      }
     },
     "a77e705c337c4ae4a1727166f022ab32": {
      "model_module": "@jupyter-widgets/controls",
      "model_module_version": "2.0.0",
      "model_name": "HTMLStyleModel",
      "state": {
       "description_width": "",
       "font_size": null,
       "text_color": null
      }
     },
     "a9068bf153f64b53a8c5b44416838fd3": {
      "model_module": "@jupyter-widgets/base",
      "model_module_version": "2.0.0",
      "model_name": "LayoutModel",
      "state": {
       "flex": "2"
      }
     },
     "a92de3983c964bd2bd5022cc12ca094f": {
      "model_module": "@jupyter-widgets/controls",
      "model_module_version": "2.0.0",
      "model_name": "ProgressStyleModel",
      "state": {
       "description_width": ""
      }
     },
     "aad0f2ae3b5d417f952d9c5856d11cf4": {
      "model_module": "@jupyter-widgets/controls",
      "model_module_version": "2.0.0",
      "model_name": "ProgressStyleModel",
      "state": {
       "description_width": ""
      }
     },
     "ab95d564b07c4aefb8bc85a18699afbd": {
      "model_module": "@jupyter-widgets/base",
      "model_module_version": "2.0.0",
      "model_name": "LayoutModel",
      "state": {}
     },
     "abc8d54d9605436aa7c37e9ba55f74cc": {
      "model_module": "@jupyter-widgets/base",
      "model_module_version": "2.0.0",
      "model_name": "LayoutModel",
      "state": {}
     },
     "ac575a39b557444ab60e7879e8aeefb9": {
      "model_module": "@jupyter-widgets/base",
      "model_module_version": "2.0.0",
      "model_name": "LayoutModel",
      "state": {
       "flex": "2"
      }
     },
     "ac62d1151d9548f1a4b1d05646001099": {
      "model_module": "@jupyter-widgets/controls",
      "model_module_version": "2.0.0",
      "model_name": "HTMLStyleModel",
      "state": {
       "description_width": "",
       "font_size": null,
       "text_color": null
      }
     },
     "acfa68b3af73431db065976b749d4e2a": {
      "model_module": "@jupyter-widgets/base",
      "model_module_version": "2.0.0",
      "model_name": "LayoutModel",
      "state": {
       "flex": "2"
      }
     },
     "ae640fa5c35e4355978169ec878cd822": {
      "model_module": "@jupyter-widgets/base",
      "model_module_version": "2.0.0",
      "model_name": "LayoutModel",
      "state": {}
     },
     "aeaee854e9fe43beb06b3fd9fd08f465": {
      "model_module": "@jupyter-widgets/controls",
      "model_module_version": "2.0.0",
      "model_name": "HTMLStyleModel",
      "state": {
       "description_width": "",
       "font_size": null,
       "text_color": null
      }
     },
     "af19262b19f34f75b1e937072c166211": {
      "model_module": "@jupyter-widgets/base",
      "model_module_version": "2.0.0",
      "model_name": "LayoutModel",
      "state": {
       "flex": "2"
      }
     },
     "af7283b6718447b18e7a9d1ba91f1d96": {
      "model_module": "@jupyter-widgets/controls",
      "model_module_version": "2.0.0",
      "model_name": "HTMLModel",
      "state": {
       "layout": "IPY_MODEL_0beadb089bae424e956b9198a1f73959",
       "style": "IPY_MODEL_36e6795fd34348a29e85e70e7c14c8c5",
       "value": " 62/62 [00:01&lt;00:00, 36.43it/s]"
      }
     },
     "af7f696954214aa689847032c00a7b0c": {
      "model_module": "@jupyter-widgets/controls",
      "model_module_version": "2.0.0",
      "model_name": "FloatProgressModel",
      "state": {
       "layout": "IPY_MODEL_6c692b5ef3244f8e840d05999788f922",
       "max": 62,
       "style": "IPY_MODEL_e657f44b112943ee87a81bcd3a5b5bb2",
       "value": 62
      }
     },
     "b21cd8bf42424326a9bb384b2be1d644": {
      "model_module": "@jupyter-widgets/controls",
      "model_module_version": "2.0.0",
      "model_name": "ProgressStyleModel",
      "state": {
       "description_width": ""
      }
     },
     "b29fd902feca4575b10c2172c0243f4c": {
      "model_module": "@jupyter-widgets/base",
      "model_module_version": "2.0.0",
      "model_name": "LayoutModel",
      "state": {
       "flex": "2"
      }
     },
     "b2ded9bb06434bb89164d32bf45f3005": {
      "model_module": "@jupyter-widgets/controls",
      "model_module_version": "2.0.0",
      "model_name": "ProgressStyleModel",
      "state": {
       "description_width": ""
      }
     },
     "b4338d815ec243d3978d5044690e6a4b": {
      "model_module": "@jupyter-widgets/base",
      "model_module_version": "2.0.0",
      "model_name": "LayoutModel",
      "state": {}
     },
     "b4d82c59d3824211852393e51f9852b4": {
      "model_module": "@jupyter-widgets/controls",
      "model_module_version": "2.0.0",
      "model_name": "HTMLStyleModel",
      "state": {
       "description_width": "",
       "font_size": null,
       "text_color": null
      }
     },
     "b6df1359181e400aafeb2239204751e5": {
      "model_module": "@jupyter-widgets/controls",
      "model_module_version": "2.0.0",
      "model_name": "HTMLModel",
      "state": {
       "layout": "IPY_MODEL_e7d84d4510ed4e2b9882ef1481f47192",
       "style": "IPY_MODEL_9f93c7a9aed840cc876908f31bd0d605",
       "value": "Sanity Checking DataLoader 0: 100%"
      }
     },
     "b7f03bbcd7a946d08376b755a17aa07c": {
      "model_module": "@jupyter-widgets/controls",
      "model_module_version": "2.0.0",
      "model_name": "HTMLModel",
      "state": {
       "layout": "IPY_MODEL_155e20fdac2a4c09bea2486fe422de41",
       "style": "IPY_MODEL_c598378123844fcfb295916fccd482cb",
       "value": " 62/62 [00:01&lt;00:00, 34.53it/s]"
      }
     },
     "b81eea623a884f01a999664dd7d19bbe": {
      "model_module": "@jupyter-widgets/controls",
      "model_module_version": "2.0.0",
      "model_name": "HTMLStyleModel",
      "state": {
       "description_width": "",
       "font_size": null,
       "text_color": null
      }
     },
     "b8ddef47871e41f6a96d5280d9c64366": {
      "model_module": "@jupyter-widgets/base",
      "model_module_version": "2.0.0",
      "model_name": "LayoutModel",
      "state": {
       "display": "inline-flex",
       "flex_flow": "row wrap",
       "visibility": "hidden",
       "width": "100%"
      }
     },
     "b8e79c65217e4c31a81f31d8c0a467ad": {
      "model_module": "@jupyter-widgets/controls",
      "model_module_version": "2.0.0",
      "model_name": "FloatProgressModel",
      "state": {
       "layout": "IPY_MODEL_2cbd04973a994aaca5046081cb599c77",
       "max": 62,
       "style": "IPY_MODEL_da78383dc7ca4955a076551e47d3312a",
       "value": 62
      }
     },
     "b911cffdefdf46c8aba049a5576ba110": {
      "model_module": "@jupyter-widgets/controls",
      "model_module_version": "2.0.0",
      "model_name": "HTMLModel",
      "state": {
       "layout": "IPY_MODEL_100e64b5246840b9aaff0554389fc13e",
       "style": "IPY_MODEL_aeaee854e9fe43beb06b3fd9fd08f465",
       "value": "Validation DataLoader 0: 100%"
      }
     },
     "b94f2b5d206c40f2b941ee8366cb71c4": {
      "model_module": "@jupyter-widgets/controls",
      "model_module_version": "2.0.0",
      "model_name": "HTMLModel",
      "state": {
       "layout": "IPY_MODEL_ca989ba8775e4ddca7e82370affe0246",
       "style": "IPY_MODEL_42fab14c7c944a2d8ec87a3a2c12f7aa",
       "value": "Validation DataLoader 0: 100%"
      }
     },
     "b99d0bb8b5de4f398d7da0ad802cb975": {
      "model_module": "@jupyter-widgets/controls",
      "model_module_version": "2.0.0",
      "model_name": "HTMLStyleModel",
      "state": {
       "description_width": "",
       "font_size": null,
       "text_color": null
      }
     },
     "ba1eccc42b3b48e7a9b104445f782123": {
      "model_module": "@jupyter-widgets/base",
      "model_module_version": "2.0.0",
      "model_name": "LayoutModel",
      "state": {
       "flex": "2"
      }
     },
     "ba8bbf72214a456db89cb4d03ab7a6ec": {
      "model_module": "@jupyter-widgets/base",
      "model_module_version": "2.0.0",
      "model_name": "LayoutModel",
      "state": {}
     },
     "bb80b802bfd844b69cc7b7aaf85d994e": {
      "model_module": "@jupyter-widgets/base",
      "model_module_version": "2.0.0",
      "model_name": "LayoutModel",
      "state": {
       "display": "inline-flex",
       "flex_flow": "row wrap",
       "visibility": "hidden",
       "width": "100%"
      }
     },
     "bc0afa9f41d741d2a10bd3b58b2a02ff": {
      "model_module": "@jupyter-widgets/controls",
      "model_module_version": "2.0.0",
      "model_name": "HTMLModel",
      "state": {
       "layout": "IPY_MODEL_2042bf8ed68142f98942e8001193e963",
       "style": "IPY_MODEL_3d1ffd8a7fd84b0f883f247612083586",
       "value": " 62/62 [00:01&lt;00:00, 37.12it/s]"
      }
     },
     "bc7e89435c2f4206a6907a57d3685c46": {
      "model_module": "@jupyter-widgets/controls",
      "model_module_version": "2.0.0",
      "model_name": "HTMLModel",
      "state": {
       "layout": "IPY_MODEL_0ee97bc45af64581a0453de6c5477f1b",
       "style": "IPY_MODEL_d73647be8d5d4dc29faf1384878847f0",
       "value": " 62/62 [00:01&lt;00:00, 33.64it/s]"
      }
     },
     "beb0114fe3fc43bb8ee21f999aba2309": {
      "model_module": "@jupyter-widgets/controls",
      "model_module_version": "2.0.0",
      "model_name": "HTMLStyleModel",
      "state": {
       "description_width": "",
       "font_size": null,
       "text_color": null
      }
     },
     "beea3d7850eb4188b58648f3cac4384e": {
      "model_module": "@jupyter-widgets/base",
      "model_module_version": "2.0.0",
      "model_name": "LayoutModel",
      "state": {}
     },
     "c054568caed54609baf335ee8bfb1724": {
      "model_module": "@jupyter-widgets/controls",
      "model_module_version": "2.0.0",
      "model_name": "FloatProgressModel",
      "state": {
       "layout": "IPY_MODEL_2edd9532f34044a8b287518ef7d1cedb",
       "max": 62,
       "style": "IPY_MODEL_dbd081ac292a4323adfa57c9eb3f41db",
       "value": 62
      }
     },
     "c05659544eaa4c79839e163fffaf1aab": {
      "model_module": "@jupyter-widgets/controls",
      "model_module_version": "2.0.0",
      "model_name": "FloatProgressModel",
      "state": {
       "layout": "IPY_MODEL_5a73e115ba5347258dc7cf1d55734c18",
       "max": 62,
       "style": "IPY_MODEL_e2e5c0edcc0d4ffaac5ae817a886efb8",
       "value": 62
      }
     },
     "c05a3fb5f8c24fd296d3c37be996da7e": {
      "model_module": "@jupyter-widgets/controls",
      "model_module_version": "2.0.0",
      "model_name": "HTMLStyleModel",
      "state": {
       "description_width": "",
       "font_size": null,
       "text_color": null
      }
     },
     "c0d0f8dec90a4a9f9c39f4ba1d3f906c": {
      "model_module": "@jupyter-widgets/controls",
      "model_module_version": "2.0.0",
      "model_name": "HTMLModel",
      "state": {
       "layout": "IPY_MODEL_02a87a00a8b146f7a7fb8cc0066324f9",
       "style": "IPY_MODEL_ce13da840c7c4f14b0049cec22cd8ece",
       "value": " 62/62 [00:02&lt;00:00, 30.99it/s]"
      }
     },
     "c1c3ead269fe4cb0879602494cec446b": {
      "model_module": "@jupyter-widgets/controls",
      "model_module_version": "2.0.0",
      "model_name": "HTMLStyleModel",
      "state": {
       "description_width": "",
       "font_size": null,
       "text_color": null
      }
     },
     "c206ce0cb8bf4eb1b2ab6133d2713c26": {
      "model_module": "@jupyter-widgets/base",
      "model_module_version": "2.0.0",
      "model_name": "LayoutModel",
      "state": {
       "display": "inline-flex",
       "flex_flow": "row wrap",
       "visibility": "hidden",
       "width": "100%"
      }
     },
     "c28baab2fdba4efd963381989761d0c1": {
      "model_module": "@jupyter-widgets/base",
      "model_module_version": "2.0.0",
      "model_name": "LayoutModel",
      "state": {
       "flex": "2"
      }
     },
     "c2973fb2b5e342169c4b3ccaa57128c1": {
      "model_module": "@jupyter-widgets/controls",
      "model_module_version": "2.0.0",
      "model_name": "HTMLStyleModel",
      "state": {
       "description_width": "",
       "font_size": null,
       "text_color": null
      }
     },
     "c2eb72ec574b42edbea8a177113a0586": {
      "model_module": "@jupyter-widgets/controls",
      "model_module_version": "2.0.0",
      "model_name": "FloatProgressModel",
      "state": {
       "layout": "IPY_MODEL_096ea894ef4246698e5968240f320065",
       "max": 62,
       "style": "IPY_MODEL_70d8c743f790491da1418c188815e690",
       "value": 62
      }
     },
     "c33888368fea40e48b1073db1ad6c85a": {
      "model_module": "@jupyter-widgets/controls",
      "model_module_version": "2.0.0",
      "model_name": "ProgressStyleModel",
      "state": {
       "description_width": ""
      }
     },
     "c3866e51f2f34577ba2ae98488f76286": {
      "model_module": "@jupyter-widgets/controls",
      "model_module_version": "2.0.0",
      "model_name": "ProgressStyleModel",
      "state": {
       "description_width": ""
      }
     },
     "c3ad987e89c14e539b9810b2b958114a": {
      "model_module": "@jupyter-widgets/controls",
      "model_module_version": "2.0.0",
      "model_name": "HTMLModel",
      "state": {
       "layout": "IPY_MODEL_3cc99563daea41ada2617c33fb31e4ca",
       "style": "IPY_MODEL_56c0d778aac4497c874db47f62bb1a0d",
       "value": " 62/62 [00:01&lt;00:00, 31.44it/s]"
      }
     },
     "c3de2833c87d42888f4f3b8e74729250": {
      "model_module": "@jupyter-widgets/base",
      "model_module_version": "2.0.0",
      "model_name": "LayoutModel",
      "state": {}
     },
     "c436addfb3644c4aa24b261be0850acf": {
      "model_module": "@jupyter-widgets/controls",
      "model_module_version": "2.0.0",
      "model_name": "HTMLModel",
      "state": {
       "layout": "IPY_MODEL_0fbe5eef53ec43ff8c187d9b7aff61dd",
       "style": "IPY_MODEL_36dce950b88345b8bcecec9838e20caf",
       "value": "Validation DataLoader 0: 100%"
      }
     },
     "c487365f346d4900b7387086edd21870": {
      "model_module": "@jupyter-widgets/controls",
      "model_module_version": "2.0.0",
      "model_name": "HTMLStyleModel",
      "state": {
       "description_width": "",
       "font_size": null,
       "text_color": null
      }
     },
     "c4b22bef2eec469fb352cdc38c418736": {
      "model_module": "@jupyter-widgets/base",
      "model_module_version": "2.0.0",
      "model_name": "LayoutModel",
      "state": {
       "display": "inline-flex",
       "flex_flow": "row wrap",
       "visibility": "hidden",
       "width": "100%"
      }
     },
     "c57776dd062c4be7a443863cbdfd529f": {
      "model_module": "@jupyter-widgets/controls",
      "model_module_version": "2.0.0",
      "model_name": "ProgressStyleModel",
      "state": {
       "description_width": ""
      }
     },
     "c598378123844fcfb295916fccd482cb": {
      "model_module": "@jupyter-widgets/controls",
      "model_module_version": "2.0.0",
      "model_name": "HTMLStyleModel",
      "state": {
       "description_width": "",
       "font_size": null,
       "text_color": null
      }
     },
     "c6eeba4c29cb4497b13debc26c2ffedf": {
      "model_module": "@jupyter-widgets/controls",
      "model_module_version": "2.0.0",
      "model_name": "HBoxModel",
      "state": {
       "children": [
        "IPY_MODEL_e2e213fa650d45d783b3459da62f330f",
        "IPY_MODEL_50c05012bd2d415f83ec43bd985df0a7",
        "IPY_MODEL_0a3f7566060440a18bcdedfb13a34e46"
       ],
       "layout": "IPY_MODEL_985c30510bfb475eb1c5fcb4afe32af4"
      }
     },
     "c78b2c77e7fa470986bf5ea56f9093df": {
      "model_module": "@jupyter-widgets/controls",
      "model_module_version": "2.0.0",
      "model_name": "HTMLModel",
      "state": {
       "layout": "IPY_MODEL_a473db22c14a4cbdbd68fd58299891f9",
       "style": "IPY_MODEL_67064241451743adb1cd3cf3ef9296fa",
       "value": " 62/62 [00:01&lt;00:00, 32.55it/s]"
      }
     },
     "c88ac1381f1f46479fdf5c78cd1b022b": {
      "model_module": "@jupyter-widgets/controls",
      "model_module_version": "2.0.0",
      "model_name": "HTMLStyleModel",
      "state": {
       "description_width": "",
       "font_size": null,
       "text_color": null
      }
     },
     "c89cdb9331a941e4b55ad3da4ab15544": {
      "model_module": "@jupyter-widgets/base",
      "model_module_version": "2.0.0",
      "model_name": "LayoutModel",
      "state": {
       "display": "inline-flex",
       "flex_flow": "row wrap",
       "visibility": "hidden",
       "width": "100%"
      }
     },
     "c93ab14fa8bc4b5c925ba49870547574": {
      "model_module": "@jupyter-widgets/base",
      "model_module_version": "2.0.0",
      "model_name": "LayoutModel",
      "state": {
       "display": "inline-flex",
       "flex_flow": "row wrap",
       "visibility": "hidden",
       "width": "100%"
      }
     },
     "c9ac494a36dc45479513d9074f4c36fa": {
      "model_module": "@jupyter-widgets/base",
      "model_module_version": "2.0.0",
      "model_name": "LayoutModel",
      "state": {
       "flex": "2"
      }
     },
     "c9f7aea5080b46298a4191fbaab595a5": {
      "model_module": "@jupyter-widgets/controls",
      "model_module_version": "2.0.0",
      "model_name": "HTMLStyleModel",
      "state": {
       "description_width": "",
       "font_size": null,
       "text_color": null
      }
     },
     "ca15e56ede584f8fb6243b3b314575ec": {
      "model_module": "@jupyter-widgets/controls",
      "model_module_version": "2.0.0",
      "model_name": "HTMLModel",
      "state": {
       "layout": "IPY_MODEL_71d77aebde324e89a163ce90c69e47b6",
       "style": "IPY_MODEL_87254f1a415949ffb712d6b53a56d2bc",
       "value": " 62/62 [00:01&lt;00:00, 36.10it/s]"
      }
     },
     "ca64f8cb0d974a72a8666672b489ceee": {
      "model_module": "@jupyter-widgets/controls",
      "model_module_version": "2.0.0",
      "model_name": "HTMLStyleModel",
      "state": {
       "description_width": "",
       "font_size": null,
       "text_color": null
      }
     },
     "ca989ba8775e4ddca7e82370affe0246": {
      "model_module": "@jupyter-widgets/base",
      "model_module_version": "2.0.0",
      "model_name": "LayoutModel",
      "state": {}
     },
     "cb70a9908cf94b0a9e89938fff13fd4e": {
      "model_module": "@jupyter-widgets/base",
      "model_module_version": "2.0.0",
      "model_name": "LayoutModel",
      "state": {}
     },
     "cbc9599bdbea47e88c92672cd27bcdf3": {
      "model_module": "@jupyter-widgets/base",
      "model_module_version": "2.0.0",
      "model_name": "LayoutModel",
      "state": {
       "display": "inline-flex",
       "flex_flow": "row wrap",
       "visibility": "hidden",
       "width": "100%"
      }
     },
     "cccb3ff2558a481aa5c0d0d350730702": {
      "model_module": "@jupyter-widgets/controls",
      "model_module_version": "2.0.0",
      "model_name": "HTMLModel",
      "state": {
       "layout": "IPY_MODEL_8f63d444086d4bb18c1d3f7d9721a6db",
       "style": "IPY_MODEL_72d672472c1e4122aa8c9285355643d7",
       "value": " 62/62 [00:01&lt;00:00, 31.96it/s]"
      }
     },
     "ccf6956decc0496bb8d6cd32f170a0dc": {
      "model_module": "@jupyter-widgets/base",
      "model_module_version": "2.0.0",
      "model_name": "LayoutModel",
      "state": {
       "flex": "2"
      }
     },
     "cd5527bf831e4beab11b102508398a5b": {
      "model_module": "@jupyter-widgets/controls",
      "model_module_version": "2.0.0",
      "model_name": "HTMLModel",
      "state": {
       "layout": "IPY_MODEL_d2ecb4b25baf44e0ac4c6dae351831af",
       "style": "IPY_MODEL_8f8ce4b8b9914714988d0513a9c4c3f6",
       "value": "Validation DataLoader 0: 100%"
      }
     },
     "ce13da840c7c4f14b0049cec22cd8ece": {
      "model_module": "@jupyter-widgets/controls",
      "model_module_version": "2.0.0",
      "model_name": "HTMLStyleModel",
      "state": {
       "description_width": "",
       "font_size": null,
       "text_color": null
      }
     },
     "ce2fd331b1424b7896c96fc87ec3ca02": {
      "model_module": "@jupyter-widgets/controls",
      "model_module_version": "2.0.0",
      "model_name": "HTMLModel",
      "state": {
       "layout": "IPY_MODEL_85cf89af2d1447d88997fc884a89d1a4",
       "style": "IPY_MODEL_39f2b9d4a75346ae822d080d20746ec6",
       "value": "Validation DataLoader 0: 100%"
      }
     },
     "ce7b33d17ec24a42a83c179a700a9276": {
      "model_module": "@jupyter-widgets/base",
      "model_module_version": "2.0.0",
      "model_name": "LayoutModel",
      "state": {
       "flex": "2"
      }
     },
     "cf2784cfffb74ea4ae5eaec589742161": {
      "model_module": "@jupyter-widgets/base",
      "model_module_version": "2.0.0",
      "model_name": "LayoutModel",
      "state": {
       "flex": "2"
      }
     },
     "cfeac07879144b399dd78a77d22bf5bf": {
      "model_module": "@jupyter-widgets/base",
      "model_module_version": "2.0.0",
      "model_name": "LayoutModel",
      "state": {}
     },
     "d1ade62c15c64ed9b10c2c6c5c6567e2": {
      "model_module": "@jupyter-widgets/controls",
      "model_module_version": "2.0.0",
      "model_name": "ProgressStyleModel",
      "state": {
       "description_width": ""
      }
     },
     "d2ecb4b25baf44e0ac4c6dae351831af": {
      "model_module": "@jupyter-widgets/base",
      "model_module_version": "2.0.0",
      "model_name": "LayoutModel",
      "state": {}
     },
     "d3d440ce71954856ac85532e3b26ae71": {
      "model_module": "@jupyter-widgets/base",
      "model_module_version": "2.0.0",
      "model_name": "LayoutModel",
      "state": {}
     },
     "d3eec59f6d0d464cbefdd70bd9b884fe": {
      "model_module": "@jupyter-widgets/controls",
      "model_module_version": "2.0.0",
      "model_name": "HTMLStyleModel",
      "state": {
       "description_width": "",
       "font_size": null,
       "text_color": null
      }
     },
     "d49ffd1c775e4d6a92969ad8978d9612": {
      "model_module": "@jupyter-widgets/controls",
      "model_module_version": "2.0.0",
      "model_name": "FloatProgressModel",
      "state": {
       "layout": "IPY_MODEL_ac575a39b557444ab60e7879e8aeefb9",
       "max": 62,
       "style": "IPY_MODEL_23442939895443598be76e97b8de89d9",
       "value": 62
      }
     },
     "d571374e470d4dc6ba04719089ad8a5d": {
      "model_module": "@jupyter-widgets/controls",
      "model_module_version": "2.0.0",
      "model_name": "HTMLModel",
      "state": {
       "layout": "IPY_MODEL_5fce144e96c64089b8a4faae17a1e6c9",
       "style": "IPY_MODEL_413f0f7bafdd4c41b68249202e09f7e3",
       "value": " 62/62 [00:01&lt;00:00, 36.49it/s]"
      }
     },
     "d59ca782c8d54555b7b0bb907accf228": {
      "model_module": "@jupyter-widgets/controls",
      "model_module_version": "2.0.0",
      "model_name": "HTMLModel",
      "state": {
       "layout": "IPY_MODEL_cb70a9908cf94b0a9e89938fff13fd4e",
       "style": "IPY_MODEL_6e87a2af19054cc3a518df834c75cd5d",
       "value": "Validation DataLoader 0: 100%"
      }
     },
     "d5a4698c99884895a81fbd9afbc3841c": {
      "model_module": "@jupyter-widgets/base",
      "model_module_version": "2.0.0",
      "model_name": "LayoutModel",
      "state": {
       "display": "inline-flex",
       "flex_flow": "row wrap",
       "visibility": "hidden",
       "width": "100%"
      }
     },
     "d6714d16ef6c4947874edbcdd7263e83": {
      "model_module": "@jupyter-widgets/controls",
      "model_module_version": "2.0.0",
      "model_name": "HTMLStyleModel",
      "state": {
       "description_width": "",
       "font_size": null,
       "text_color": null
      }
     },
     "d6db4dff24f34997a8c9ee0cfc8f9b07": {
      "model_module": "@jupyter-widgets/base",
      "model_module_version": "2.0.0",
      "model_name": "LayoutModel",
      "state": {}
     },
     "d73647be8d5d4dc29faf1384878847f0": {
      "model_module": "@jupyter-widgets/controls",
      "model_module_version": "2.0.0",
      "model_name": "HTMLStyleModel",
      "state": {
       "description_width": "",
       "font_size": null,
       "text_color": null
      }
     },
     "d88323b111ae494c85220dc70d529bdf": {
      "model_module": "@jupyter-widgets/controls",
      "model_module_version": "2.0.0",
      "model_name": "HTMLModel",
      "state": {
       "layout": "IPY_MODEL_2f98bf01d8384f2faecc26944a05efd4",
       "style": "IPY_MODEL_b4d82c59d3824211852393e51f9852b4",
       "value": "Validation DataLoader 0: 100%"
      }
     },
     "d9192f6f6ea94d8c9658e0fb6e1c7f23": {
      "model_module": "@jupyter-widgets/controls",
      "model_module_version": "2.0.0",
      "model_name": "ProgressStyleModel",
      "state": {
       "description_width": ""
      }
     },
     "d9de9c7730044db79abc392a4bfe2192": {
      "model_module": "@jupyter-widgets/controls",
      "model_module_version": "2.0.0",
      "model_name": "ProgressStyleModel",
      "state": {
       "description_width": ""
      }
     },
     "da316382386f47efb2be4bd3ee8adb11": {
      "model_module": "@jupyter-widgets/controls",
      "model_module_version": "2.0.0",
      "model_name": "HTMLModel",
      "state": {
       "layout": "IPY_MODEL_35581a272aef4111afcbd02b825a14b6",
       "style": "IPY_MODEL_3ffb2af939294d299d0a7b70dd997efb",
       "value": "Testing DataLoader 0: 100%"
      }
     },
     "da78383dc7ca4955a076551e47d3312a": {
      "model_module": "@jupyter-widgets/controls",
      "model_module_version": "2.0.0",
      "model_name": "ProgressStyleModel",
      "state": {
       "description_width": ""
      }
     },
     "dbb252bce26443dc9eaf522e89c00401": {
      "model_module": "@jupyter-widgets/base",
      "model_module_version": "2.0.0",
      "model_name": "LayoutModel",
      "state": {}
     },
     "dbd081ac292a4323adfa57c9eb3f41db": {
      "model_module": "@jupyter-widgets/controls",
      "model_module_version": "2.0.0",
      "model_name": "ProgressStyleModel",
      "state": {
       "description_width": ""
      }
     },
     "dbf0fc8f010744889012f7be56c50050": {
      "model_module": "@jupyter-widgets/controls",
      "model_module_version": "2.0.0",
      "model_name": "HTMLModel",
      "state": {
       "layout": "IPY_MODEL_11efcd3cac1747069d13bcc07c1130ee",
       "style": "IPY_MODEL_03e7034117d4473299239a9c2ca14d31",
       "value": " 62/62 [00:01&lt;00:00, 33.16it/s]"
      }
     },
     "dde9c81d94b44f56b0604470e4f30357": {
      "model_module": "@jupyter-widgets/controls",
      "model_module_version": "2.0.0",
      "model_name": "HTMLModel",
      "state": {
       "layout": "IPY_MODEL_ea3b1ba1ff58445ea7cda65917364455",
       "style": "IPY_MODEL_9b97208213294f7981ee6b126ee173f4",
       "value": " 62/62 [00:02&lt;00:00, 30.67it/s]"
      }
     },
     "de2ae8a64fac4b438a07736c9d7a6c7c": {
      "model_module": "@jupyter-widgets/controls",
      "model_module_version": "2.0.0",
      "model_name": "FloatProgressModel",
      "state": {
       "layout": "IPY_MODEL_9ab4d9a410c44e45940e5535860e8e5b",
       "max": 62,
       "style": "IPY_MODEL_43014b2f2d034afa8d5a28c72e167506",
       "value": 62
      }
     },
     "de2eb9ee7b1a4f2080be978d92bc245a": {
      "model_module": "@jupyter-widgets/base",
      "model_module_version": "2.0.0",
      "model_name": "LayoutModel",
      "state": {
       "flex": "2"
      }
     },
     "de31f352d9db453d9e328548d9a2d18d": {
      "model_module": "@jupyter-widgets/controls",
      "model_module_version": "2.0.0",
      "model_name": "HTMLModel",
      "state": {
       "layout": "IPY_MODEL_ab95d564b07c4aefb8bc85a18699afbd",
       "style": "IPY_MODEL_0cfcbac1eebd4b199bcd17850dcbf759",
       "value": " 62/62 [00:01&lt;00:00, 34.43it/s]"
      }
     },
     "dedf3564b0714f42a2421e8bc7e9b2d2": {
      "model_module": "@jupyter-widgets/controls",
      "model_module_version": "2.0.0",
      "model_name": "HTMLModel",
      "state": {
       "layout": "IPY_MODEL_67ed3dae7d7a43a3bfd681c2ca0e6069",
       "style": "IPY_MODEL_c05a3fb5f8c24fd296d3c37be996da7e",
       "value": " 62/62 [00:01&lt;00:00, 31.74it/s]"
      }
     },
     "df57e58e54a54f38b69ef169c229406b": {
      "model_module": "@jupyter-widgets/controls",
      "model_module_version": "2.0.0",
      "model_name": "FloatProgressModel",
      "state": {
       "layout": "IPY_MODEL_90dcc58246b04681ade431c86a0ddba3",
       "max": 62,
       "style": "IPY_MODEL_46667af7a3e345a9965f47c144c6d931",
       "value": 62
      }
     },
     "e1a565047ee94efa9203e0c8e0111e05": {
      "model_module": "@jupyter-widgets/base",
      "model_module_version": "2.0.0",
      "model_name": "LayoutModel",
      "state": {}
     },
     "e1b1c144bd9a4a478ec35cf8519cf2aa": {
      "model_module": "@jupyter-widgets/controls",
      "model_module_version": "2.0.0",
      "model_name": "FloatProgressModel",
      "state": {
       "layout": "IPY_MODEL_45940e080e8f42db8f786dfa30d8e6fa",
       "max": 62,
       "style": "IPY_MODEL_194b1db8050742f9a8d958695ba70448",
       "value": 62
      }
     },
     "e238d71c98cc4bcca856a8a5a67f6c41": {
      "model_module": "@jupyter-widgets/base",
      "model_module_version": "2.0.0",
      "model_name": "LayoutModel",
      "state": {
       "display": "inline-flex",
       "flex_flow": "row wrap",
       "visibility": "hidden",
       "width": "100%"
      }
     },
     "e2cad243d59a4b1f89b243df847ec40f": {
      "model_module": "@jupyter-widgets/base",
      "model_module_version": "2.0.0",
      "model_name": "LayoutModel",
      "state": {}
     },
     "e2e213fa650d45d783b3459da62f330f": {
      "model_module": "@jupyter-widgets/controls",
      "model_module_version": "2.0.0",
      "model_name": "HTMLModel",
      "state": {
       "layout": "IPY_MODEL_020ea37aeb50479ca92c1e4471f9b7cb",
       "style": "IPY_MODEL_0d6e276a460f40839b03659855ecf89a",
       "value": "Epoch 43: 100%"
      }
     },
     "e2e5c0edcc0d4ffaac5ae817a886efb8": {
      "model_module": "@jupyter-widgets/controls",
      "model_module_version": "2.0.0",
      "model_name": "ProgressStyleModel",
      "state": {
       "description_width": ""
      }
     },
     "e657f44b112943ee87a81bcd3a5b5bb2": {
      "model_module": "@jupyter-widgets/controls",
      "model_module_version": "2.0.0",
      "model_name": "ProgressStyleModel",
      "state": {
       "description_width": ""
      }
     },
     "e677854ab3cb4dfea2772e88e3754816": {
      "model_module": "@jupyter-widgets/base",
      "model_module_version": "2.0.0",
      "model_name": "LayoutModel",
      "state": {}
     },
     "e76b879652544e5ba8a33a4521a6b479": {
      "model_module": "@jupyter-widgets/base",
      "model_module_version": "2.0.0",
      "model_name": "LayoutModel",
      "state": {
       "display": "inline-flex",
       "flex_flow": "row wrap",
       "visibility": "hidden",
       "width": "100%"
      }
     },
     "e77b793e9df64f2aa4841eaef9a1872b": {
      "model_module": "@jupyter-widgets/controls",
      "model_module_version": "2.0.0",
      "model_name": "HTMLStyleModel",
      "state": {
       "description_width": "",
       "font_size": null,
       "text_color": null
      }
     },
     "e7d84d4510ed4e2b9882ef1481f47192": {
      "model_module": "@jupyter-widgets/base",
      "model_module_version": "2.0.0",
      "model_name": "LayoutModel",
      "state": {}
     },
     "e7e0794c72e64c82b8c6c624fb86c991": {
      "model_module": "@jupyter-widgets/base",
      "model_module_version": "2.0.0",
      "model_name": "LayoutModel",
      "state": {
       "flex": "2"
      }
     },
     "e7e4068ca39a432d8c05191a4f31eeb4": {
      "model_module": "@jupyter-widgets/controls",
      "model_module_version": "2.0.0",
      "model_name": "FloatProgressModel",
      "state": {
       "layout": "IPY_MODEL_ce7b33d17ec24a42a83c179a700a9276",
       "max": 62,
       "style": "IPY_MODEL_479e9dc027cd416a8167512fcfdb8b10",
       "value": 62
      }
     },
     "e886dac72db84b6aac7e094d12fb48e8": {
      "model_module": "@jupyter-widgets/controls",
      "model_module_version": "2.0.0",
      "model_name": "FloatProgressModel",
      "state": {
       "layout": "IPY_MODEL_acfa68b3af73431db065976b749d4e2a",
       "max": 62,
       "style": "IPY_MODEL_a92de3983c964bd2bd5022cc12ca094f",
       "value": 62
      }
     },
     "e8bb36e4a9c74ba8839157063a655b50": {
      "model_module": "@jupyter-widgets/controls",
      "model_module_version": "2.0.0",
      "model_name": "FloatProgressModel",
      "state": {
       "layout": "IPY_MODEL_75c0f14c915a43e8bf3e557d704fc7da",
       "max": 62,
       "style": "IPY_MODEL_2a505aba8df54d449fc20d7a45f6cae0",
       "value": 62
      }
     },
     "e8e8f94b63454f48ae9fb06607323a31": {
      "model_module": "@jupyter-widgets/controls",
      "model_module_version": "2.0.0",
      "model_name": "FloatProgressModel",
      "state": {
       "layout": "IPY_MODEL_af19262b19f34f75b1e937072c166211",
       "max": 62,
       "style": "IPY_MODEL_c57776dd062c4be7a443863cbdfd529f",
       "value": 62
      }
     },
     "ea3b1ba1ff58445ea7cda65917364455": {
      "model_module": "@jupyter-widgets/base",
      "model_module_version": "2.0.0",
      "model_name": "LayoutModel",
      "state": {}
     },
     "ea4a3dc76a264d41829fbea0cdbf5222": {
      "model_module": "@jupyter-widgets/controls",
      "model_module_version": "2.0.0",
      "model_name": "HTMLStyleModel",
      "state": {
       "description_width": "",
       "font_size": null,
       "text_color": null
      }
     },
     "ea4b624718c84a4c8a574de58757099a": {
      "model_module": "@jupyter-widgets/base",
      "model_module_version": "2.0.0",
      "model_name": "LayoutModel",
      "state": {}
     },
     "ea6761e4ba4f45dda3e27c723fb0c87f": {
      "model_module": "@jupyter-widgets/controls",
      "model_module_version": "2.0.0",
      "model_name": "FloatProgressModel",
      "state": {
       "layout": "IPY_MODEL_0ed88fcbf9934b07b87a79654a08edd4",
       "max": 62,
       "style": "IPY_MODEL_486a4cedc13b4d65bbd6c81c958e4d58",
       "value": 62
      }
     },
     "ea8959ff12d945a29f4d361273862361": {
      "model_module": "@jupyter-widgets/base",
      "model_module_version": "2.0.0",
      "model_name": "LayoutModel",
      "state": {
       "flex": "2"
      }
     },
     "eb62c53d909f45a187e90590edd51d83": {
      "model_module": "@jupyter-widgets/base",
      "model_module_version": "2.0.0",
      "model_name": "LayoutModel",
      "state": {
       "display": "inline-flex",
       "flex_flow": "row wrap",
       "visibility": "hidden",
       "width": "100%"
      }
     },
     "eba1a813540a4770ab08e6b97a60ed93": {
      "model_module": "@jupyter-widgets/controls",
      "model_module_version": "2.0.0",
      "model_name": "HTMLModel",
      "state": {
       "layout": "IPY_MODEL_495001310b344e948c98c888dfddfc2b",
       "style": "IPY_MODEL_c2973fb2b5e342169c4b3ccaa57128c1",
       "value": "Validation DataLoader 0: 100%"
      }
     },
     "edbac292a28a4358b37c08013ac452eb": {
      "model_module": "@jupyter-widgets/controls",
      "model_module_version": "2.0.0",
      "model_name": "HTMLModel",
      "state": {
       "layout": "IPY_MODEL_58944b99269f45dd96c061f74bf02e8e",
       "style": "IPY_MODEL_1299cd72076546a5af1c5582541ad128",
       "value": " 2/2 [00:00&lt;00:00,  2.15it/s]"
      }
     },
     "ede7f7721c7f496cb8635f0786b0537a": {
      "model_module": "@jupyter-widgets/controls",
      "model_module_version": "2.0.0",
      "model_name": "HTMLStyleModel",
      "state": {
       "description_width": "",
       "font_size": null,
       "text_color": null
      }
     },
     "ee0b1fcb625045bfa2ea4b94b9e57349": {
      "model_module": "@jupyter-widgets/base",
      "model_module_version": "2.0.0",
      "model_name": "LayoutModel",
      "state": {}
     },
     "ee71d89e394a49a3af43d326ade01100": {
      "model_module": "@jupyter-widgets/controls",
      "model_module_version": "2.0.0",
      "model_name": "HBoxModel",
      "state": {
       "children": [
        "IPY_MODEL_da316382386f47efb2be4bd3ee8adb11",
        "IPY_MODEL_f898cd0651d142eab051e9cf6c192789",
        "IPY_MODEL_7b1791920d204794bd60b5a6e88cd0be"
       ],
       "layout": "IPY_MODEL_177a0956e5694546ba7bd1aab65bc436"
      }
     },
     "eef2103ef3a545c0923a5d96aecb4f0d": {
      "model_module": "@jupyter-widgets/base",
      "model_module_version": "2.0.0",
      "model_name": "LayoutModel",
      "state": {}
     },
     "f26f206dd1d34b32a6a0455172b4f376": {
      "model_module": "@jupyter-widgets/controls",
      "model_module_version": "2.0.0",
      "model_name": "FloatProgressModel",
      "state": {
       "layout": "IPY_MODEL_48d892c2adc8437bba2f5f3af3a1ae2f",
       "max": 62,
       "style": "IPY_MODEL_8bce09de395d4e48b11018c8762ea421",
       "value": 62
      }
     },
     "f358f5e4d1a0437db39bda9ba24112de": {
      "model_module": "@jupyter-widgets/controls",
      "model_module_version": "2.0.0",
      "model_name": "HTMLStyleModel",
      "state": {
       "description_width": "",
       "font_size": null,
       "text_color": null
      }
     },
     "f377963af7a74460b978a115142a9ebf": {
      "model_module": "@jupyter-widgets/controls",
      "model_module_version": "2.0.0",
      "model_name": "HTMLModel",
      "state": {
       "layout": "IPY_MODEL_1358f121ae894e68b86d2469d375b84c",
       "style": "IPY_MODEL_970ff73f7ec6483387444f080d876c6f",
       "value": "Validation DataLoader 0: 100%"
      }
     },
     "f40d64f35a4346c7973c014d5b03d9e7": {
      "model_module": "@jupyter-widgets/controls",
      "model_module_version": "2.0.0",
      "model_name": "FloatProgressModel",
      "state": {
       "layout": "IPY_MODEL_5abef86f2c244cdab6974ddf04e995d0",
       "max": 62,
       "style": "IPY_MODEL_4d98d70761c148f89c1ab3a951330f06",
       "value": 62
      }
     },
     "f46a1dfc5735479697c4d0176e4c3c77": {
      "model_module": "@jupyter-widgets/controls",
      "model_module_version": "2.0.0",
      "model_name": "HTMLModel",
      "state": {
       "layout": "IPY_MODEL_5596e5961ab642a3822f446327d9263c",
       "style": "IPY_MODEL_142aad64daaa4bdeb53e99b6fb89ad70",
       "value": "Validation DataLoader 0: 100%"
      }
     },
     "f5561c7921254963a377e42eb2f91f83": {
      "model_module": "@jupyter-widgets/base",
      "model_module_version": "2.0.0",
      "model_name": "LayoutModel",
      "state": {}
     },
     "f5f998995e8a44da9a78a29cc5b52926": {
      "model_module": "@jupyter-widgets/controls",
      "model_module_version": "2.0.0",
      "model_name": "HTMLModel",
      "state": {
       "layout": "IPY_MODEL_8c20913c965a425985265e1ec1ccaa27",
       "style": "IPY_MODEL_a59872d1e8434604baee9c4884d9d896",
       "value": "Validation DataLoader 0: 100%"
      }
     },
     "f724d4b38b444a19b5f25a6d15f28071": {
      "model_module": "@jupyter-widgets/controls",
      "model_module_version": "2.0.0",
      "model_name": "HTMLModel",
      "state": {
       "layout": "IPY_MODEL_6bc351b27c764f3f97971dee2fbf7919",
       "style": "IPY_MODEL_0844ff2948c14252b9ba1ed86157e341",
       "value": "Validation DataLoader 0: 100%"
      }
     },
     "f898cd0651d142eab051e9cf6c192789": {
      "model_module": "@jupyter-widgets/controls",
      "model_module_version": "2.0.0",
      "model_name": "FloatProgressModel",
      "state": {
       "bar_style": "success",
       "layout": "IPY_MODEL_c9ac494a36dc45479513d9074f4c36fa",
       "max": 62,
       "style": "IPY_MODEL_36a493ac84304164b3da83758675bc6b",
       "value": 62
      }
     },
     "f8ee276b778a4b8b8bfc2705713fdb24": {
      "model_module": "@jupyter-widgets/base",
      "model_module_version": "2.0.0",
      "model_name": "LayoutModel",
      "state": {}
     },
     "f8f27891c7ec4d7586ebed8e2ce73dd2": {
      "model_module": "@jupyter-widgets/base",
      "model_module_version": "2.0.0",
      "model_name": "LayoutModel",
      "state": {
       "flex": "2"
      }
     },
     "fac7182d33094aa9979ffc66568bddc9": {
      "model_module": "@jupyter-widgets/base",
      "model_module_version": "2.0.0",
      "model_name": "LayoutModel",
      "state": {
       "display": "inline-flex",
       "flex_flow": "row wrap",
       "visibility": "hidden",
       "width": "100%"
      }
     },
     "fc18f11da6c14f6686cdfae6b9ee5a86": {
      "model_module": "@jupyter-widgets/controls",
      "model_module_version": "2.0.0",
      "model_name": "HTMLStyleModel",
      "state": {
       "description_width": "",
       "font_size": null,
       "text_color": null
      }
     },
     "ff0975c134514b5ba195a437d9370cd0": {
      "model_module": "@jupyter-widgets/controls",
      "model_module_version": "2.0.0",
      "model_name": "HTMLStyleModel",
      "state": {
       "description_width": "",
       "font_size": null,
       "text_color": null
      }
     },
     "ff895b17869c46fc9c0116e418fcddce": {
      "model_module": "@jupyter-widgets/controls",
      "model_module_version": "2.0.0",
      "model_name": "HTMLStyleModel",
      "state": {
       "description_width": "",
       "font_size": null,
       "text_color": null
      }
     },
     "ffba2b8dd1f5404ab494f37bde5e5c8e": {
      "model_module": "@jupyter-widgets/base",
      "model_module_version": "2.0.0",
      "model_name": "LayoutModel",
      "state": {}
     }
    },
    "version_major": 2,
    "version_minor": 0
   }
  }
 },
 "nbformat": 4,
 "nbformat_minor": 5
}
